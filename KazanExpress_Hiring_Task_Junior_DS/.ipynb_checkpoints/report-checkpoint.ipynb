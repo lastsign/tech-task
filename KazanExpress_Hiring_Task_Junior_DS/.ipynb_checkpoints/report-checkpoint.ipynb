{
 "cells": [
  {
   "cell_type": "code",
   "execution_count": null,
   "metadata": {
    "colab": {
     "base_uri": "https://localhost:8080/"
    },
    "id": "Il82jZKCOIKX",
    "outputId": "76f3ce42-460d-4177-8932-b1a017faae4d"
   },
   "outputs": [
    {
     "name": "stdout",
     "output_type": "stream",
     "text": [
      "Requirement already satisfied: catboost in /Users/dabannikov/opt/anaconda3/lib/python3.8/site-packages (0.26.1)\n",
      "Requirement already satisfied: numpy>=1.16.0 in /Users/dabannikov/opt/anaconda3/lib/python3.8/site-packages (from catboost) (1.20.1)\n",
      "Requirement already satisfied: graphviz in /Users/dabannikov/opt/anaconda3/lib/python3.8/site-packages (from catboost) (0.17)\n",
      "Requirement already satisfied: matplotlib in /Users/dabannikov/opt/anaconda3/lib/python3.8/site-packages (from catboost) (3.3.4)\n",
      "Requirement already satisfied: pandas>=0.24.0 in /Users/dabannikov/opt/anaconda3/lib/python3.8/site-packages (from catboost) (1.2.4)\n",
      "Requirement already satisfied: six in /Users/dabannikov/opt/anaconda3/lib/python3.8/site-packages (from catboost) (1.15.0)\n",
      "Requirement already satisfied: scipy in /Users/dabannikov/opt/anaconda3/lib/python3.8/site-packages (from catboost) (1.6.2)\n",
      "Requirement already satisfied: plotly in /Users/dabannikov/opt/anaconda3/lib/python3.8/site-packages (from catboost) (5.3.1)\n",
      "Requirement already satisfied: python-dateutil>=2.7.3 in /Users/dabannikov/opt/anaconda3/lib/python3.8/site-packages (from pandas>=0.24.0->catboost) (2.8.1)\n",
      "Requirement already satisfied: pytz>=2017.3 in /Users/dabannikov/opt/anaconda3/lib/python3.8/site-packages (from pandas>=0.24.0->catboost) (2021.1)\n",
      "Requirement already satisfied: cycler>=0.10 in /Users/dabannikov/opt/anaconda3/lib/python3.8/site-packages (from matplotlib->catboost) (0.10.0)\n",
      "Requirement already satisfied: pyparsing!=2.0.4,!=2.1.2,!=2.1.6,>=2.0.3 in /Users/dabannikov/opt/anaconda3/lib/python3.8/site-packages (from matplotlib->catboost) (2.4.7)\n",
      "Requirement already satisfied: pillow>=6.2.0 in /Users/dabannikov/opt/anaconda3/lib/python3.8/site-packages (from matplotlib->catboost) (8.2.0)\n",
      "Requirement already satisfied: kiwisolver>=1.0.1 in /Users/dabannikov/opt/anaconda3/lib/python3.8/site-packages (from matplotlib->catboost) (1.3.1)\n",
      "Requirement already satisfied: tenacity>=6.2.0 in /Users/dabannikov/opt/anaconda3/lib/python3.8/site-packages (from plotly->catboost) (8.0.1)\n"
     ]
    }
   ],
   "source": [
    "!pip install catboost"
   ]
  },
  {
   "cell_type": "code",
   "execution_count": null,
   "metadata": {
    "colab": {
     "base_uri": "https://localhost:8080/"
    },
    "id": "TO6NrLzFZJ28",
    "outputId": "356d90d9-281a-4d7d-9e0f-64f15d799fa0"
   },
   "outputs": [],
   "source": [
    "import pandas as pd\n",
    "import matplotlib.pyplot as plt\n",
    "import seaborn as sns\n",
    "import numpy as np\n",
    "from sklearn.linear_model import SGDClassifier\n",
    "from sklearn.model_selection import cross_validate, GridSearchCV\n",
    "from sklearn.ensemble import RandomForestClassifier\n",
    "from sklearn.preprocessing import StandardScaler\n",
    "from gensim.models import Word2Vec\n",
    "from catboost import CatBoostClassifier\n",
    "\n",
    "import nltk\n",
    "from nltk import word_tokenize\n",
    "nltk.download('stopwords')\n",
    "from nltk.tokenize import RegexpTokenizer\n",
    "from nltk.util import ngrams"
   ]
  },
  {
   "cell_type": "markdown",
   "metadata": {
    "id": "kL1j1RA9NT17"
   },
   "source": [
    "# Dataset"
   ]
  },
  {
   "cell_type": "code",
   "execution_count": null,
   "metadata": {
    "id": "bY-VChKRZNii"
   },
   "outputs": [],
   "source": [
    "cat = pd.read_csv('./data/categories.csv')"
   ]
  },
  {
   "cell_type": "code",
   "execution_count": null,
   "metadata": {
    "id": "7rrB_p3UNT19"
   },
   "outputs": [],
   "source": [
    "prod = pd.read_csv('./data/products.csv')"
   ]
  },
  {
   "cell_type": "markdown",
   "metadata": {
    "id": "4-HjQ7PWNT1-"
   },
   "source": [
    "## Validation"
   ]
  },
  {
   "cell_type": "code",
   "execution_count": null,
   "metadata": {
    "colab": {
     "base_uri": "https://localhost:8080/",
     "height": 204
    },
    "id": "Dqy2TtfJNT1-",
    "outputId": "fe45eb51-eee8-4d78-88ae-a0acb7a819ed"
   },
   "outputs": [],
   "source": [
    "cat.head()"
   ]
  },
  {
   "cell_type": "code",
   "execution_count": null,
   "metadata": {
    "colab": {
     "base_uri": "https://localhost:8080/",
     "height": 204
    },
    "id": "QulaSdHwNT1-",
    "outputId": "56e37955-2c1c-4244-e357-0316b771fcbf"
   },
   "outputs": [],
   "source": [
    "prod.head()"
   ]
  },
  {
   "cell_type": "code",
   "execution_count": null,
   "metadata": {
    "colab": {
     "base_uri": "https://localhost:8080/"
    },
    "id": "PzWSu4EvNT1_",
    "outputId": "632ca8c0-aa71-4527-ab4f-7ae35fc81ccb"
   },
   "outputs": [],
   "source": [
    "cat.shape, prod.shape"
   ]
  },
  {
   "cell_type": "code",
   "execution_count": null,
   "metadata": {
    "colab": {
     "base_uri": "https://localhost:8080/"
    },
    "id": "z7dGW5F8NT1_",
    "outputId": "f42111ea-0418-47f4-e5fb-1bcc9dbe88cb"
   },
   "outputs": [],
   "source": [
    "prod['row_number'].shape[0] - prod['row_number'].unique().shape[0]"
   ]
  },
  {
   "cell_type": "code",
   "execution_count": null,
   "metadata": {
    "colab": {
     "base_uri": "https://localhost:8080/"
    },
    "id": "Sizr1ZPgNT2A",
    "outputId": "74153945-bca6-41f1-d348-9daf35e0846e"
   },
   "outputs": [],
   "source": [
    "cat['category_id'].shape[0] - cat['category_id'].unique().shape[0]"
   ]
  },
  {
   "cell_type": "markdown",
   "metadata": {
    "id": "vNU8bUUvfc_l"
   },
   "source": [
    "## Feature Extraction"
   ]
  },
  {
   "cell_type": "markdown",
   "metadata": {
    "id": "2qhDSBUTfIQP"
   },
   "source": [
    "Количесво категорий - классов"
   ]
  },
  {
   "cell_type": "code",
   "execution_count": null,
   "metadata": {
    "colab": {
     "base_uri": "https://localhost:8080/"
    },
    "id": "H0S88TK9IluG",
    "outputId": "8b97a8c7-b382-40c6-f7f2-285e2efe58a5"
   },
   "outputs": [],
   "source": [
    "prod.category_id.unique().shape"
   ]
  },
  {
   "cell_type": "code",
   "execution_count": null,
   "metadata": {
    "id": "8i9hbgcZNT2B"
   },
   "outputs": [],
   "source": [
    "categories =  {row['category_id']:row['category_path'] for _, row in cat.iterrows()}"
   ]
  },
  {
   "cell_type": "code",
   "execution_count": null,
   "metadata": {
    "id": "wkmdWAuHK9Cs"
   },
   "outputs": [],
   "source": [
    "prod['full_category'] = prod['category_id'].apply(lambda cat_id: categories[cat_id])"
   ]
  },
  {
   "cell_type": "code",
   "execution_count": null,
   "metadata": {
    "id": "LcU1YTOTPMFd"
   },
   "outputs": [],
   "source": [
    "prod['category_0'] = prod['full_category'].apply(lambda full_cat: full_cat.split('.')[0])\n",
    "prod['category_1'] = prod['full_category'].apply(lambda full_cat: full_cat.split('.')[1])\n",
    "prod['category_2'] = prod['full_category'].apply(lambda full_cat: full_cat.split('.')[2])\n",
    "prod['category_3'] = prod['full_category'].apply(lambda full_cat: full_cat.split('.')[3])\n",
    "prod['category_4'] = prod['full_category'].apply(lambda full_cat: full_cat.split('.')[4] if len(full_cat.split('.')) > 4 else np.nan)\n",
    "cat['category_0'] = prod['category_0']\n",
    "cat['category_1'] = prod['category_1']\n",
    "cat['category_2'] = prod['category_2']\n",
    "cat['category_3'] = prod['category_3']\n",
    "cat['category_4'] = prod['category_4']"
   ]
  },
  {
   "cell_type": "code",
   "execution_count": null,
   "metadata": {
    "colab": {
     "base_uri": "https://localhost:8080/"
    },
    "id": "LEqpkAoNNT2C",
    "outputId": "b02baa56-924c-4a96-e401-ddd8afaea7fc"
   },
   "outputs": [],
   "source": [
    "prod['category_0'].unique().shape, prod['category_1'].unique().shape, prod['category_2'].unique().shape, prod['category_3'].unique().shape, prod['category_4'].unique().shape"
   ]
  },
  {
   "cell_type": "code",
   "execution_count": null,
   "metadata": {
    "colab": {
     "base_uri": "https://localhost:8080/",
     "height": 490
    },
    "id": "FPwiazK_NT2C",
    "outputId": "fb9b44c7-d592-497c-8ae8-256fa0ce8824"
   },
   "outputs": [],
   "source": [
    "prod.head(7)"
   ]
  },
  {
   "cell_type": "code",
   "execution_count": null,
   "metadata": {
    "colab": {
     "base_uri": "https://localhost:8080/"
    },
    "id": "DcXju-1gNT2C",
    "outputId": "25423d3e-511a-43fd-b7c3-3f2972e7e7ba"
   },
   "outputs": [],
   "source": [
    "prod.info()"
   ]
  },
  {
   "cell_type": "code",
   "execution_count": null,
   "metadata": {
    "id": "Kr2KUyLMdMR4"
   },
   "outputs": [],
   "source": [
    "def tokenize(text):\n",
    "    stopwords_rus = nltk.corpus.stopwords.words('russian')\n",
    "    tokeniser = RegexpTokenizer(\"[A-Za-zА-Яа-я]+\")\n",
    "    tokens = tokeniser.tokenize(text)\n",
    "    \n",
    "    tokens_lower = [t.lower() for t in tokens]\n",
    "    tokens_clean = [t for t in tokens_lower if t not in stopwords_rus]\n",
    "    return ' '.join(tokens_clean)"
   ]
  },
  {
   "cell_type": "code",
   "execution_count": null,
   "metadata": {
    "colab": {
     "base_uri": "https://localhost:8080/"
    },
    "id": "jiPJWU7mNT2D",
    "outputId": "384a72ef-8962-4e70-b61b-f658ffc4d9b8"
   },
   "outputs": [],
   "source": [
    "%%time\n",
    "prod['preproc'] = prod['product_title'].apply(tokenize)"
   ]
  },
  {
   "cell_type": "code",
   "execution_count": null,
   "metadata": {
    "colab": {
     "base_uri": "https://localhost:8080/",
     "height": 343
    },
    "id": "FForgl8hfqic",
    "outputId": "a5be1f1f-6281-42b7-f4ab-e61aba01dfc2"
   },
   "outputs": [],
   "source": [
    "prod.head()"
   ]
  },
  {
   "cell_type": "markdown",
   "metadata": {
    "id": "_eeQCszjgQ6-"
   },
   "source": [
    "На больших трех категориях объекты расположились практически хорошо."
   ]
  },
  {
   "cell_type": "code",
   "execution_count": null,
   "metadata": {
    "colab": {
     "base_uri": "https://localhost:8080/",
     "height": 298
    },
    "id": "tQGwImZ4NT2D",
    "outputId": "fb7e0e21-56e6-45d2-d4c9-5be4fdb86a16"
   },
   "outputs": [],
   "source": [
    "sns.histplot(prod['category_1'])"
   ]
  },
  {
   "cell_type": "markdown",
   "metadata": {
    "id": "7arek74Agipw"
   },
   "source": [
    "Вторая категория имеет больше трети малочисленных класса и один класс к которому относиться чуть меньше трети объектов."
   ]
  },
  {
   "cell_type": "code",
   "execution_count": null,
   "metadata": {
    "colab": {
     "base_uri": "https://localhost:8080/",
     "height": 298
    },
    "id": "dtCbxc1Hc-3j",
    "outputId": "1ab07b71-45e9-436b-b1e8-4f14b7db8837"
   },
   "outputs": [],
   "source": [
    "sns.histplot(prod['category_2'])"
   ]
  },
  {
   "cell_type": "markdown",
   "metadata": {
    "id": "sNzNnteENT2E"
   },
   "source": [
    "Классы этой группы категорий практически сбалансированные"
   ]
  },
  {
   "cell_type": "markdown",
   "metadata": {
    "id": "OVK7004ugLhb"
   },
   "source": [
    "## Feature generagion"
   ]
  },
  {
   "cell_type": "code",
   "execution_count": null,
   "metadata": {
    "colab": {
     "base_uri": "https://localhost:8080/"
    },
    "id": "7tXWcUHRXFqL",
    "outputId": "2bbf1c9d-57dd-49af-ebcd-092ccb212140",
    "scrolled": true
   },
   "outputs": [],
   "source": [
    "%%time\n",
    "w2v = Word2Vec(min_count=5, window=2, vector_size=50, sample=6e-5, alpha=0.03, min_alpha=0.0007, negative=10, seed=17)\n",
    "w2v.build_vocab(prod['preproc'].apply(lambda x: x.split()), progress_per=1000)\n",
    "w2v.train(prod['preproc'].apply(lambda x: x.split()), total_examples=w2v.corpus_count, epochs=60, report_delay=1)"
   ]
  },
  {
   "cell_type": "code",
   "execution_count": null,
   "metadata": {
    "id": "RHo3GsooOYrd"
   },
   "outputs": [],
   "source": []
  },
  {
   "cell_type": "markdown",
   "metadata": {
    "id": "5pSFZ1WhgZgL"
   },
   "source": [
    "Усредняем векторы word2veс и получаем вектор предожения"
   ]
  },
  {
   "cell_type": "code",
   "execution_count": null,
   "metadata": {
    "colab": {
     "base_uri": "https://localhost:8080/"
    },
    "id": "qfQBS-8qXRUR",
    "outputId": "54a4276a-9acf-491f-c769-4d69ccd62ccc"
   },
   "outputs": [],
   "source": [
    "%%time\n",
    "vect = prod['preproc'].apply(lambda text: np.mean([w2v.wv[w] for w in text.split() if w in w2v.wv], axis=0))"
   ]
  },
  {
   "cell_type": "code",
   "execution_count": null,
   "metadata": {
    "id": "hXuHWg-YNT2F"
   },
   "outputs": [],
   "source": [
    "y = prod['category_1'][vect.notna()]\n",
    "y_cat_2 = prod['category_2'][vect.notna()]\n",
    "y_cat_3 = prod['category_3'][vect.notna()]\n",
    "X = vect[vect.notna()]\n",
    "X = np.stack(X)"
   ]
  },
  {
   "cell_type": "code",
   "execution_count": null,
   "metadata": {
    "id": "2GxCK2kgjLYJ"
   },
   "outputs": [],
   "source": [
    "level1_categories = prod[vect.notna()]['category_1'].values"
   ]
  },
  {
   "cell_type": "code",
   "execution_count": null,
   "metadata": {
    "id": "mTpgQpZqjhsE"
   },
   "outputs": [],
   "source": [
    "level1_categories = level1_categories.reshape(-1, 1)"
   ]
  },
  {
   "cell_type": "code",
   "execution_count": null,
   "metadata": {
    "id": "KLDNsJiFi-rv"
   },
   "outputs": [],
   "source": [
    "extnd_X = np.hstack([X, level1_categories])"
   ]
  },
  {
   "cell_type": "code",
   "execution_count": null,
   "metadata": {
    "colab": {
     "base_uri": "https://localhost:8080/"
    },
    "id": "uo6sxQkdNT2F",
    "outputId": "1570395a-91b3-45cb-ed41-881cb49247c0"
   },
   "outputs": [],
   "source": [
    "extnd_X"
   ]
  },
  {
   "cell_type": "code",
   "execution_count": null,
   "metadata": {
    "colab": {
     "base_uri": "https://localhost:8080/"
    },
    "id": "_lSe62P7NT2G",
    "outputId": "cf3bef52-4178-4321-d06c-880f1c699218"
   },
   "outputs": [],
   "source": [
    "len(prod['category_2'].unique())"
   ]
  },
  {
   "cell_type": "markdown",
   "metadata": {
    "id": "viKbzuFYdTfR"
   },
   "source": [
    "### Кросс валидация на таргете с 3 большими категориями. Mean accuracy ~ 0.98, mean f1_micro ~ 0.98, mean f1_macro ~ 0.979"
   ]
  },
  {
   "cell_type": "code",
   "execution_count": null,
   "metadata": {
    "colab": {
     "base_uri": "https://localhost:8080/"
    },
    "id": "HgEekeY3NT2G",
    "outputId": "193a4693-01d5-4874-befe-9dd8135be1a7"
   },
   "outputs": [],
   "source": [
    "%%time\n",
    "model = CatBoostClassifier(random_seed=17, depth=6, learning_rate=0.5, thread_count=4, loss_function='MultiClass', custom_metric='TotalF1', eval_metric='TotalF1')\n",
    "result = pd.DataFrame(cross_validate(model, X, y, cv=4, \n",
    "    scoring=['accuracy', 'f1_micro', 'f1_macro', 'f1_weighted'], n_jobs=-1))\n",
    "mean = result.mean().rename('{}_mean'.format)\n",
    "std = result.std().rename('{}_std'.format)\n",
    "results = pd.concat([mean[2:], std[2:]], axis=0)"
   ]
  },
  {
   "cell_type": "code",
   "execution_count": null,
   "metadata": {
    "colab": {
     "base_uri": "https://localhost:8080/"
    },
    "id": "nE1EBTclNT2G",
    "outputId": "66e0e7dc-9a92-4ee4-dc5f-f6bae1d2613a"
   },
   "outputs": [],
   "source": [
    "results"
   ]
  },
  {
   "cell_type": "markdown",
   "metadata": {
    "id": "tcs1RvvEd_k4"
   },
   "source": [
    "### Кросс валидация на таргете с 37 категориями, без добавления в качестве признака таргет с прошлого уровня категорий (с 3 категориями). Mean accuracy ~ 0.826, mean f1_micro ~ 0.826, mean f1_macro ~ 0.618"
   ]
  },
  {
   "cell_type": "code",
   "execution_count": null,
   "metadata": {
    "id": "t6rSMaZjNT2G"
   },
   "outputs": [],
   "source": [
    "%%time\n",
    "model = CatBoostClassifier(random_seed=17, depth=6, learning_rate=0.5, thread_count=4, loss_function='MultiClass', custom_metric='TotalF1', eval_metric='TotalF1')\n",
    "result = pd.DataFrame(cross_validate(model, X, y_cat_2, cv=4, \n",
    "    scoring=['accuracy', 'f1_micro', 'f1_macro', 'f1_weighted'], n_jobs=-1))\n",
    "mean = result.mean().rename('{}_mean'.format)\n",
    "std = result.std().rename('{}_std'.format)\n",
    "results = pd.concat([mean[2:], std[2:]], axis=0)"
   ]
  },
  {
   "cell_type": "code",
   "execution_count": null,
   "metadata": {
    "id": "FRK0h-hSNT2H"
   },
   "outputs": [],
   "source": [
    "results"
   ]
  },
  {
   "cell_type": "markdown",
   "metadata": {
    "id": "RGrFTYldfOmE"
   },
   "source": [
    "### Кросс валидация на таргете с 37 категориями, c добавления в качестве признака таргет с прошлого уровня категорий (с 3 категориями). Mean accuracy ~ 0.827, mean f1_micro ~ 0.827, mean f1_macro ~ 0.617"
   ]
  },
  {
   "cell_type": "code",
   "execution_count": null,
   "metadata": {
    "id": "y_brvLsYNT2H"
   },
   "outputs": [],
   "source": [
    "%%time\n",
    "model = CatBoostClassifier(random_seed=17, depth=6, learning_rate=0.5, thread_count=4, loss_function='MultiClass', custom_metric='TotalF1', eval_metric='TotalF1')\n",
    "result = pd.DataFrame(cross_validate(model, StandardScaler().fit_transform(extnd_X), y_cat_2, cv=4, \n",
    "    scoring=['accuracy', 'f1_micro', 'f1_macro', 'f1_weighted'], n_jobs=-1))\n",
    "mean = result.mean().rename('{}_mean'.format)\n",
    "std = result.std().rename('{}_std'.format)\n",
    "results = pd.concat([mean[2:], std[2:]], axis=0)"
   ]
  },
  {
   "cell_type": "code",
   "execution_count": null,
   "metadata": {
    "id": "_f-9LrZINT2H"
   },
   "outputs": [],
   "source": [
    "results"
   ]
  },
  {
   "cell_type": "code",
   "execution_count": null,
   "metadata": {
    "id": "MSzqouMXNT2H"
   },
   "outputs": [],
   "source": [
    "# %%time\n",
    "# params = {'depth':[i for i in range(5, 10)],\n",
    "# 'learning_rate':np.linspace(0.01, 0.5, 10).tolist(),\n",
    "# 'l2_leaf_reg':[1, 3, 5, 7, 9]}\n",
    "# params\n",
    "# model = CatBoostClassifier(thread_count=4, loss_function='MultiClass', custom_metric='TotalF1', eval_metric='TotalF1')\n",
    "# result = model.grid_search(X=X, y=y, param_grid=params, cv=4, plot=True, partition_random_seed=17, calc_cv_statistics=True,\n",
    "#         search_by_train_test_split=True, refit=True, shuffle=True, stratified=None, train_size=0.8, verbose=True)"
   ]
  },
  {
   "cell_type": "code",
   "execution_count": null,
   "metadata": {
    "id": "I1XDR52liRox"
   },
   "outputs": [],
   "source": [
    "%%time\n",
    "model = CatBoostClassifier(random_seed=17, depth=6, learning_rate=0.5, thread_count=4, loss_function='MultiClass', custom_metric='TotalF1', eval_metric='TotalF1')\n",
    "result = pd.DataFrame(cross_validate(model, X, y_cat_3, cv=4, \n",
    "    scoring=['accuracy', 'f1_micro', 'f1_macro', 'f1_weighted'], n_jobs=-1))\n",
    "mean = result.mean().rename('{}_mean'.format)\n",
    "std = result.std().rename('{}_std'.format)\n",
    "results = pd.concat([mean[2:], std[2:]], axis=0)"
   ]
  },
  {
   "cell_type": "code",
   "execution_count": null,
   "metadata": {
    "id": "4qEdvLDriSSh"
   },
   "outputs": [],
   "source": [
    "results"
   ]
  },
  {
   "cell_type": "code",
   "execution_count": null,
   "metadata": {
    "id": "h7dRssS0NT2J"
   },
   "outputs": [],
   "source": [
    "%%time\n",
    "model = CatBoostClassifier(random_seed=17, depth=6, learning_rate=0.5, thread_count=4, loss_function='MultiClass', custom_metric='TotalF1', eval_metric='TotalF1')\n",
    "model.fit(StandardScaler().fit_transform(extnd_X), y_cat_2)"
   ]
  },
  {
   "cell_type": "markdown",
   "metadata": {
    "id": "u6jX8o1lg-St"
   },
   "source": [
    "Обучить после 2 уровня категорий классические модели машинного обучение очень затратно по времени и метрики получаются очень низкими. Даже SGD классификатор будет работать очень долго, потому что он строит для каждой пары двух категорий свой - бинарный классификатор и выполняется какого-то рода голосование."
   ]
  },
  {
   "cell_type": "markdown",
   "metadata": {
    "id": "I3NGP4uvQ7Ln"
   },
   "source": [
    "Можно попробовать\n",
    "\n",
    "\n",
    "1. Cгенерировать признаки например с помощью Bert или FastText и объеденить с признаками  Word2Vec. \n",
    "2. Использовать полученные результаты предсказаний высоких уровней для предсказания более низких, потому что это дает небольшой прирост к метрикам.\n",
    "3. Можно попробовать обратиться в глубокому обучению, где будет несколько слоев на каждый уровень категорий и теже самые метрики: accuracy, f1_micro, f1_macro, f1_weight\n",
    "ed.\n",
    "\n",
    "\n",
    "\n",
    "\n"
   ]
  },
  {
   "cell_type": "code",
   "execution_count": null,
   "metadata": {
    "id": "OFzmE6MfQ6Z2"
   },
   "outputs": [],
   "source": [
    "from sklearn.pipeline import Pipeline"
   ]
  },
  {
   "cell_type": "code",
   "execution_count": null,
   "metadata": {
    "id": "FbcVrKrqNT2K"
   },
   "outputs": [],
   "source": [
    "class Model():\n",
    "    def __init__(self, model, cat_df):\n",
    "        self.model = model\n",
    "        self.cat = cat_df\n",
    "        \n",
    "    def fit():\n",
    "        pass\n",
    "    \n",
    "    def predict(self, X):\n",
    "        category_id = self.model.predict(X)\n",
    "        print(self.cat[self.cat['category_2'] == category_id[0]]['category_title'].iloc[0])\n",
    "        category_title = self.cat[self.cat['category_2'] == category_id[0]]['category_title'].iloc[0]\n",
    "        return {'category_id' : category_id[0], 'category_title': category_title}"
   ]
  },
  {
   "cell_type": "code",
   "execution_count": null,
   "metadata": {
    "id": "Nm1bAo4NNT2L"
   },
   "outputs": [],
   "source": [
    "class NormolizeText():\n",
    "    def __init__(self, w2v):\n",
    "        self.w2v = w2v\n",
    "        \n",
    "    def fit():\n",
    "        pass\n",
    "\n",
    "    def preprocess_text(self, text):\n",
    "        stop_word_list = nltk.corpus.stopwords.words('russian')\n",
    "        tokeniser = RegexpTokenizer(\"[A-Za-zА-Яа-я]+\")\n",
    "        tokens = tokeniser.tokenize(text)\n",
    "        \n",
    "        tokens_lower = [t.lower() for t in tokens]\n",
    "        tokens_clean = [t for t in tokens_lower if t not in stop_word_list]\n",
    "        return ' '.join(tokens_clean)\n",
    "\n",
    "    def vectorize(self, text):\n",
    "        words = [self.w2v.wv[w] for w in text.split() if w in self.w2v.wv]\n",
    "        if len(words) > 0:\n",
    "            return np.mean(words, axis=0)\n",
    "        return np.zeros(51)\n",
    "        \n",
    "    def transform(self, x):\n",
    "        preprocessed = self.preprocess_text(x)\n",
    "        features_x = self.vectorize(preprocessed)\n",
    "        return features_x"
   ]
  },
  {
   "cell_type": "code",
   "execution_count": null,
   "metadata": {
    "id": "c6Rn355wNT2L"
   },
   "outputs": [],
   "source": [
    "steps = [('NormolizeText', NormolizeText(w2v)), ('model', Model(model, cat))]\n",
    "pipe = Pipeline(steps)\n",
    "pipe"
   ]
  },
  {
   "cell_type": "code",
   "execution_count": null,
   "metadata": {
    "id": "g8HryMkNNT2L"
   },
   "outputs": [],
   "source": [
    "pipe.predict('Зарядка')"
   ]
  },
  {
   "cell_type": "code",
   "execution_count": null,
   "metadata": {
    "id": "c7O1l8dUNT2M"
   },
   "outputs": [],
   "source": [
    "import joblib\n",
    "joblib.dump(pipe, 'model.joblib')"
   ]
  }
 ],
 "metadata": {
  "colab": {
   "collapsed_sections": [
    "NHbe3nBufPA4",
    "vNU8bUUvfc_l",
    "fE1DviJfgGrg",
    "wDB1pQd8P6Cx",
    "DktvQhP8hJ_Q",
    "GXEEXY_siQyJ",
    "WZ9RxyoZiu6N",
    "tcthuNDbEZ0R",
    "5MDlHsPbPi8Y",
    "IotnLNkdQ4jO"
   ],
   "name": "test.ipynb",
   "provenance": []
  },
  "kernelspec": {
   "display_name": "Python 3",
   "language": "python",
   "name": "python3"
  },
  "language_info": {
   "codemirror_mode": {
    "name": "ipython",
    "version": 3
   },
   "file_extension": ".py",
   "mimetype": "text/x-python",
   "name": "python",
   "nbconvert_exporter": "python",
   "pygments_lexer": "ipython3",
   "version": "3.8.8"
  }
 },
 "nbformat": 4,
 "nbformat_minor": 1
}
