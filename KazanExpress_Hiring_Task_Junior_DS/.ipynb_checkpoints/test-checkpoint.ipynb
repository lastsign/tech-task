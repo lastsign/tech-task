{
 "cells": [
  {
   "cell_type": "code",
   "execution_count": 171,
   "metadata": {
    "id": "TO6NrLzFZJ28"
   },
   "outputs": [
    {
     "name": "stderr",
     "output_type": "stream",
     "text": [
      "[nltk_data] Downloading package stopwords to\n",
      "[nltk_data]     /Users/dabannikov/nltk_data...\n",
      "[nltk_data]   Package stopwords is already up-to-date!\n"
     ]
    }
   ],
   "source": [
    "import pandas as pd\n",
    "import matplotlib.pyplot as plt\n",
    "import seaborn as sns\n",
    "import numpy as np\n",
    "from sklearn.linear_model import SGDClassifier\n",
    "from sklearn.model_selection import cross_validate, GridSearchCV\n",
    "from sklearn.ensemble import RandomForestClassifier\n",
    "from sklearn.preprocessing import StandardScaler\n",
    "from gensim.models import Word2Vec\n",
    "from catboost import CatBoostClassifier\n",
    "\n",
    "import nltk\n",
    "from nltk import word_tokenize\n",
    "nltk.download('stopwords')\n",
    "from nltk.tokenize import RegexpTokenizer\n",
    "from nltk.util import ngrams"
   ]
  },
  {
   "cell_type": "markdown",
   "metadata": {},
   "source": [
    "# Dataset"
   ]
  },
  {
   "cell_type": "code",
   "execution_count": 172,
   "metadata": {
    "id": "bY-VChKRZNii"
   },
   "outputs": [],
   "source": [
    "cat = pd.read_csv('./data/categories.csv')"
   ]
  },
  {
   "cell_type": "code",
   "execution_count": 173,
   "metadata": {
    "id": "bY-VChKRZNii"
   },
   "outputs": [],
   "source": [
    "prod = pd.read_csv('./data/products.csv')"
   ]
  },
  {
   "cell_type": "markdown",
   "metadata": {},
   "source": [
    "## Validation"
   ]
  },
  {
   "cell_type": "code",
   "execution_count": 174,
   "metadata": {},
   "outputs": [
    {
     "data": {
      "text/html": [
       "<div>\n",
       "<style scoped>\n",
       "    .dataframe tbody tr th:only-of-type {\n",
       "        vertical-align: middle;\n",
       "    }\n",
       "\n",
       "    .dataframe tbody tr th {\n",
       "        vertical-align: top;\n",
       "    }\n",
       "\n",
       "    .dataframe thead th {\n",
       "        text-align: right;\n",
       "    }\n",
       "</style>\n",
       "<table border=\"1\" class=\"dataframe\">\n",
       "  <thead>\n",
       "    <tr style=\"text-align: right;\">\n",
       "      <th></th>\n",
       "      <th>category_id</th>\n",
       "      <th>category_title</th>\n",
       "      <th>category_path</th>\n",
       "    </tr>\n",
       "  </thead>\n",
       "  <tbody>\n",
       "    <tr>\n",
       "      <th>0</th>\n",
       "      <td>13021</td>\n",
       "      <td>Базы и топы</td>\n",
       "      <td>1.10012.10113.13021</td>\n",
       "    </tr>\n",
       "    <tr>\n",
       "      <th>1</th>\n",
       "      <td>2740</td>\n",
       "      <td>Полки и подставки</td>\n",
       "      <td>1.10018.10110.12842.2740</td>\n",
       "    </tr>\n",
       "    <tr>\n",
       "      <th>2</th>\n",
       "      <td>13182</td>\n",
       "      <td>Салюты</td>\n",
       "      <td>1.10018.10118.10749.13182</td>\n",
       "    </tr>\n",
       "    <tr>\n",
       "      <th>3</th>\n",
       "      <td>2864</td>\n",
       "      <td>Ложки для обуви</td>\n",
       "      <td>1.10018.10110.12823.2864</td>\n",
       "    </tr>\n",
       "    <tr>\n",
       "      <th>4</th>\n",
       "      <td>14154</td>\n",
       "      <td>Аромабудильники и картриджи</td>\n",
       "      <td>1.10020.10227.14154</td>\n",
       "    </tr>\n",
       "  </tbody>\n",
       "</table>\n",
       "</div>"
      ],
      "text/plain": [
       "   category_id               category_title              category_path\n",
       "0        13021                  Базы и топы        1.10012.10113.13021\n",
       "1         2740            Полки и подставки   1.10018.10110.12842.2740\n",
       "2        13182                       Салюты  1.10018.10118.10749.13182\n",
       "3         2864              Ложки для обуви   1.10018.10110.12823.2864\n",
       "4        14154  Аромабудильники и картриджи        1.10020.10227.14154"
      ]
     },
     "execution_count": 174,
     "metadata": {},
     "output_type": "execute_result"
    }
   ],
   "source": [
    "cat.head()"
   ]
  },
  {
   "cell_type": "code",
   "execution_count": 175,
   "metadata": {},
   "outputs": [
    {
     "data": {
      "text/html": [
       "<div>\n",
       "<style scoped>\n",
       "    .dataframe tbody tr th:only-of-type {\n",
       "        vertical-align: middle;\n",
       "    }\n",
       "\n",
       "    .dataframe tbody tr th {\n",
       "        vertical-align: top;\n",
       "    }\n",
       "\n",
       "    .dataframe thead th {\n",
       "        text-align: right;\n",
       "    }\n",
       "</style>\n",
       "<table border=\"1\" class=\"dataframe\">\n",
       "  <thead>\n",
       "    <tr style=\"text-align: right;\">\n",
       "      <th></th>\n",
       "      <th>row_number</th>\n",
       "      <th>product_title</th>\n",
       "      <th>category_id</th>\n",
       "    </tr>\n",
       "  </thead>\n",
       "  <tbody>\n",
       "    <tr>\n",
       "      <th>0</th>\n",
       "      <td>1</td>\n",
       "      <td>Термокружка с животными 350/500 мл</td>\n",
       "      <td>12407</td>\n",
       "    </tr>\n",
       "    <tr>\n",
       "      <th>1</th>\n",
       "      <td>2</td>\n",
       "      <td>Пластиковая емкость для хранения круп</td>\n",
       "      <td>12667</td>\n",
       "    </tr>\n",
       "    <tr>\n",
       "      <th>2</th>\n",
       "      <td>3</td>\n",
       "      <td>Контейнер с дозатором для хранения круп</td>\n",
       "      <td>13901</td>\n",
       "    </tr>\n",
       "    <tr>\n",
       "      <th>3</th>\n",
       "      <td>4</td>\n",
       "      <td>Контейнер для хранения яиц</td>\n",
       "      <td>13674</td>\n",
       "    </tr>\n",
       "    <tr>\n",
       "      <th>4</th>\n",
       "      <td>5</td>\n",
       "      <td>Губкодержатель</td>\n",
       "      <td>13254</td>\n",
       "    </tr>\n",
       "  </tbody>\n",
       "</table>\n",
       "</div>"
      ],
      "text/plain": [
       "   row_number                            product_title  category_id\n",
       "0           1       Термокружка с животными 350/500 мл        12407\n",
       "1           2    Пластиковая емкость для хранения круп        12667\n",
       "2           3  Контейнер с дозатором для хранения круп        13901\n",
       "3           4               Контейнер для хранения яиц        13674\n",
       "4           5                           Губкодержатель        13254"
      ]
     },
     "execution_count": 175,
     "metadata": {},
     "output_type": "execute_result"
    }
   ],
   "source": [
    "prod.head()"
   ]
  },
  {
   "cell_type": "code",
   "execution_count": 176,
   "metadata": {},
   "outputs": [
    {
     "data": {
      "text/plain": [
       "((959, 3), (144082, 3))"
      ]
     },
     "execution_count": 176,
     "metadata": {},
     "output_type": "execute_result"
    }
   ],
   "source": [
    "cat.shape, prod.shape"
   ]
  },
  {
   "cell_type": "code",
   "execution_count": 177,
   "metadata": {},
   "outputs": [
    {
     "data": {
      "text/plain": [
       "0"
      ]
     },
     "execution_count": 177,
     "metadata": {},
     "output_type": "execute_result"
    }
   ],
   "source": [
    "prod['row_number'].shape[0] - prod['row_number'].unique().shape[0]"
   ]
  },
  {
   "cell_type": "code",
   "execution_count": 178,
   "metadata": {},
   "outputs": [
    {
     "data": {
      "text/plain": [
       "0"
      ]
     },
     "execution_count": 178,
     "metadata": {},
     "output_type": "execute_result"
    }
   ],
   "source": [
    "cat['category_id'].shape[0] - cat['category_id'].unique().shape[0]"
   ]
  },
  {
   "cell_type": "markdown",
   "metadata": {
    "id": "vNU8bUUvfc_l"
   },
   "source": [
    "## Feature Extraction"
   ]
  },
  {
   "cell_type": "markdown",
   "metadata": {
    "id": "2qhDSBUTfIQP"
   },
   "source": [
    "Количесво категорий - классов"
   ]
  },
  {
   "cell_type": "code",
   "execution_count": 179,
   "metadata": {
    "colab": {
     "base_uri": "https://localhost:8080/"
    },
    "id": "H0S88TK9IluG",
    "outputId": "bdc6e5ef-ab4a-43cf-af1a-361528a4b312"
   },
   "outputs": [
    {
     "data": {
      "text/plain": [
       "(787,)"
      ]
     },
     "execution_count": 179,
     "metadata": {},
     "output_type": "execute_result"
    }
   ],
   "source": [
    "prod.category_id.unique().shape"
   ]
  },
  {
   "cell_type": "code",
   "execution_count": 180,
   "metadata": {},
   "outputs": [],
   "source": [
    "categories =  {row['category_id']:row['category_path'] for _, row in cat.iterrows()}"
   ]
  },
  {
   "cell_type": "code",
   "execution_count": 181,
   "metadata": {
    "id": "wkmdWAuHK9Cs"
   },
   "outputs": [],
   "source": [
    "prod['full_category'] = prod['category_id'].apply(lambda cat_id: categories[cat_id])"
   ]
  },
  {
   "cell_type": "code",
   "execution_count": 182,
   "metadata": {
    "id": "LcU1YTOTPMFd"
   },
   "outputs": [],
   "source": [
    "prod['category_0'] = prod['full_category'].apply(lambda full_cat: full_cat.split('.')[0])\n",
    "prod['category_1'] = prod['full_category'].apply(lambda full_cat: full_cat.split('.')[1])\n",
    "prod['category_2'] = prod['full_category'].apply(lambda full_cat: full_cat.split('.')[2])\n",
    "prod['category_3'] = prod['full_category'].apply(lambda full_cat: full_cat.split('.')[3])\n",
    "prod['category_4'] = prod['full_category'].apply(lambda full_cat: full_cat.split('.')[4] if len(full_cat.split('.')) > 4 else np.nan)\n",
    "cat['category_0'] = prod['category_0']\n",
    "cat['category_1'] = prod['category_1']\n",
    "cat['category_2'] = prod['category_2']\n",
    "cat['category_3'] = prod['category_3']\n",
    "cat['category_4'] = prod['category_4']"
   ]
  },
  {
   "cell_type": "code",
   "execution_count": 183,
   "metadata": {},
   "outputs": [
    {
     "data": {
      "text/plain": [
       "((1,), (3,), (37,), (239,), (639,))"
      ]
     },
     "execution_count": 183,
     "metadata": {},
     "output_type": "execute_result"
    }
   ],
   "source": [
    "prod['category_0'].unique().shape, prod['category_1'].unique().shape, prod['category_2'].unique().shape, prod['category_3'].unique().shape, prod['category_4'].unique().shape"
   ]
  },
  {
   "cell_type": "code",
   "execution_count": 186,
   "metadata": {},
   "outputs": [
    {
     "data": {
      "text/html": [
       "<div>\n",
       "<style scoped>\n",
       "    .dataframe tbody tr th:only-of-type {\n",
       "        vertical-align: middle;\n",
       "    }\n",
       "\n",
       "    .dataframe tbody tr th {\n",
       "        vertical-align: top;\n",
       "    }\n",
       "\n",
       "    .dataframe thead th {\n",
       "        text-align: right;\n",
       "    }\n",
       "</style>\n",
       "<table border=\"1\" class=\"dataframe\">\n",
       "  <thead>\n",
       "    <tr style=\"text-align: right;\">\n",
       "      <th></th>\n",
       "      <th>row_number</th>\n",
       "      <th>product_title</th>\n",
       "      <th>category_id</th>\n",
       "      <th>full_category</th>\n",
       "      <th>category_0</th>\n",
       "      <th>category_1</th>\n",
       "      <th>category_2</th>\n",
       "      <th>category_3</th>\n",
       "      <th>category_4</th>\n",
       "    </tr>\n",
       "  </thead>\n",
       "  <tbody>\n",
       "    <tr>\n",
       "      <th>0</th>\n",
       "      <td>1</td>\n",
       "      <td>Термокружка с животными 350/500 мл</td>\n",
       "      <td>12407</td>\n",
       "      <td>1.10018.10115.10586.12407</td>\n",
       "      <td>1</td>\n",
       "      <td>10018</td>\n",
       "      <td>10115</td>\n",
       "      <td>10586</td>\n",
       "      <td>12407</td>\n",
       "    </tr>\n",
       "    <tr>\n",
       "      <th>1</th>\n",
       "      <td>2</td>\n",
       "      <td>Пластиковая емкость для хранения круп</td>\n",
       "      <td>12667</td>\n",
       "      <td>1.10018.10115.10992.12667</td>\n",
       "      <td>1</td>\n",
       "      <td>10018</td>\n",
       "      <td>10115</td>\n",
       "      <td>10992</td>\n",
       "      <td>12667</td>\n",
       "    </tr>\n",
       "    <tr>\n",
       "      <th>2</th>\n",
       "      <td>3</td>\n",
       "      <td>Контейнер с дозатором для хранения круп</td>\n",
       "      <td>13901</td>\n",
       "      <td>1.10018.10115.10992.13901</td>\n",
       "      <td>1</td>\n",
       "      <td>10018</td>\n",
       "      <td>10115</td>\n",
       "      <td>10992</td>\n",
       "      <td>13901</td>\n",
       "    </tr>\n",
       "    <tr>\n",
       "      <th>3</th>\n",
       "      <td>4</td>\n",
       "      <td>Контейнер для хранения яиц</td>\n",
       "      <td>13674</td>\n",
       "      <td>1.10018.10115.10992.13674</td>\n",
       "      <td>1</td>\n",
       "      <td>10018</td>\n",
       "      <td>10115</td>\n",
       "      <td>10992</td>\n",
       "      <td>13674</td>\n",
       "    </tr>\n",
       "    <tr>\n",
       "      <th>4</th>\n",
       "      <td>5</td>\n",
       "      <td>Губкодержатель</td>\n",
       "      <td>13254</td>\n",
       "      <td>1.10018.10115.10390.13254</td>\n",
       "      <td>1</td>\n",
       "      <td>10018</td>\n",
       "      <td>10115</td>\n",
       "      <td>10390</td>\n",
       "      <td>13254</td>\n",
       "    </tr>\n",
       "    <tr>\n",
       "      <th>5</th>\n",
       "      <td>6</td>\n",
       "      <td>Глубокая тарелка для овощей</td>\n",
       "      <td>11999</td>\n",
       "      <td>1.10018.10115.10377.11999</td>\n",
       "      <td>1</td>\n",
       "      <td>10018</td>\n",
       "      <td>10115</td>\n",
       "      <td>10377</td>\n",
       "      <td>11999</td>\n",
       "    </tr>\n",
       "    <tr>\n",
       "      <th>6</th>\n",
       "      <td>7</td>\n",
       "      <td>Держатель на кухонный гарнитур под отходы</td>\n",
       "      <td>14095</td>\n",
       "      <td>1.10018.10110.14095</td>\n",
       "      <td>1</td>\n",
       "      <td>10018</td>\n",
       "      <td>10110</td>\n",
       "      <td>14095</td>\n",
       "      <td>NaN</td>\n",
       "    </tr>\n",
       "  </tbody>\n",
       "</table>\n",
       "</div>"
      ],
      "text/plain": [
       "   row_number                              product_title  category_id  \\\n",
       "0           1         Термокружка с животными 350/500 мл        12407   \n",
       "1           2      Пластиковая емкость для хранения круп        12667   \n",
       "2           3    Контейнер с дозатором для хранения круп        13901   \n",
       "3           4                 Контейнер для хранения яиц        13674   \n",
       "4           5                             Губкодержатель        13254   \n",
       "5           6                Глубокая тарелка для овощей        11999   \n",
       "6           7  Держатель на кухонный гарнитур под отходы        14095   \n",
       "\n",
       "               full_category category_0 category_1 category_2 category_3  \\\n",
       "0  1.10018.10115.10586.12407          1      10018      10115      10586   \n",
       "1  1.10018.10115.10992.12667          1      10018      10115      10992   \n",
       "2  1.10018.10115.10992.13901          1      10018      10115      10992   \n",
       "3  1.10018.10115.10992.13674          1      10018      10115      10992   \n",
       "4  1.10018.10115.10390.13254          1      10018      10115      10390   \n",
       "5  1.10018.10115.10377.11999          1      10018      10115      10377   \n",
       "6        1.10018.10110.14095          1      10018      10110      14095   \n",
       "\n",
       "  category_4  \n",
       "0      12407  \n",
       "1      12667  \n",
       "2      13901  \n",
       "3      13674  \n",
       "4      13254  \n",
       "5      11999  \n",
       "6        NaN  "
      ]
     },
     "execution_count": 186,
     "metadata": {},
     "output_type": "execute_result"
    }
   ],
   "source": [
    "prod.head(7)"
   ]
  },
  {
   "cell_type": "code",
   "execution_count": 187,
   "metadata": {},
   "outputs": [
    {
     "name": "stdout",
     "output_type": "stream",
     "text": [
      "<class 'pandas.core.frame.DataFrame'>\n",
      "RangeIndex: 144082 entries, 0 to 144081\n",
      "Data columns (total 9 columns):\n",
      " #   Column         Non-Null Count   Dtype \n",
      "---  ------         --------------   ----- \n",
      " 0   row_number     144082 non-null  int64 \n",
      " 1   product_title  144082 non-null  object\n",
      " 2   category_id    144082 non-null  int64 \n",
      " 3   full_category  144082 non-null  object\n",
      " 4   category_0     144082 non-null  object\n",
      " 5   category_1     144082 non-null  object\n",
      " 6   category_2     144082 non-null  object\n",
      " 7   category_3     144082 non-null  object\n",
      " 8   category_4     116099 non-null  object\n",
      "dtypes: int64(2), object(7)\n",
      "memory usage: 9.9+ MB\n"
     ]
    }
   ],
   "source": [
    "prod.info()"
   ]
  },
  {
   "cell_type": "code",
   "execution_count": 188,
   "metadata": {
    "id": "Kr2KUyLMdMR4"
   },
   "outputs": [],
   "source": [
    "def tokenize(text):\n",
    "    stopwords_rus = nltk.corpus.stopwords.words('russian')\n",
    "    tokeniser = RegexpTokenizer(\"[A-Za-zА-Яа-я]+\")\n",
    "    tokens = tokeniser.tokenize(text)\n",
    "    \n",
    "    tokens_lower = [t.lower() for t in tokens]\n",
    "    tokens_clean = [t for t in tokens_lower if t not in stopwords_rus]\n",
    "    return ' '.join(tokens_clean)"
   ]
  },
  {
   "cell_type": "code",
   "execution_count": 189,
   "metadata": {},
   "outputs": [
    {
     "name": "stdout",
     "output_type": "stream",
     "text": [
      "CPU times: user 16 s, sys: 3.56 s, total: 19.5 s\n",
      "Wall time: 19.6 s\n"
     ]
    }
   ],
   "source": [
    "%%time\n",
    "prod['preprocessed'] = prod['product_title'].apply(tokenize)"
   ]
  },
  {
   "cell_type": "code",
   "execution_count": 190,
   "metadata": {
    "colab": {
     "base_uri": "https://localhost:8080/",
     "height": 0
    },
    "id": "FForgl8hfqic",
    "outputId": "29ba922b-5719-4a85-d738-afbb7228b26a"
   },
   "outputs": [
    {
     "data": {
      "text/html": [
       "<div>\n",
       "<style scoped>\n",
       "    .dataframe tbody tr th:only-of-type {\n",
       "        vertical-align: middle;\n",
       "    }\n",
       "\n",
       "    .dataframe tbody tr th {\n",
       "        vertical-align: top;\n",
       "    }\n",
       "\n",
       "    .dataframe thead th {\n",
       "        text-align: right;\n",
       "    }\n",
       "</style>\n",
       "<table border=\"1\" class=\"dataframe\">\n",
       "  <thead>\n",
       "    <tr style=\"text-align: right;\">\n",
       "      <th></th>\n",
       "      <th>row_number</th>\n",
       "      <th>product_title</th>\n",
       "      <th>category_id</th>\n",
       "      <th>full_category</th>\n",
       "      <th>category_0</th>\n",
       "      <th>category_1</th>\n",
       "      <th>category_2</th>\n",
       "      <th>category_3</th>\n",
       "      <th>category_4</th>\n",
       "      <th>preprocessed</th>\n",
       "    </tr>\n",
       "  </thead>\n",
       "  <tbody>\n",
       "    <tr>\n",
       "      <th>0</th>\n",
       "      <td>1</td>\n",
       "      <td>Термокружка с животными 350/500 мл</td>\n",
       "      <td>12407</td>\n",
       "      <td>1.10018.10115.10586.12407</td>\n",
       "      <td>1</td>\n",
       "      <td>10018</td>\n",
       "      <td>10115</td>\n",
       "      <td>10586</td>\n",
       "      <td>12407</td>\n",
       "      <td>термокружка животными мл</td>\n",
       "    </tr>\n",
       "    <tr>\n",
       "      <th>1</th>\n",
       "      <td>2</td>\n",
       "      <td>Пластиковая емкость для хранения круп</td>\n",
       "      <td>12667</td>\n",
       "      <td>1.10018.10115.10992.12667</td>\n",
       "      <td>1</td>\n",
       "      <td>10018</td>\n",
       "      <td>10115</td>\n",
       "      <td>10992</td>\n",
       "      <td>12667</td>\n",
       "      <td>пластиковая емкость хранения круп</td>\n",
       "    </tr>\n",
       "    <tr>\n",
       "      <th>2</th>\n",
       "      <td>3</td>\n",
       "      <td>Контейнер с дозатором для хранения круп</td>\n",
       "      <td>13901</td>\n",
       "      <td>1.10018.10115.10992.13901</td>\n",
       "      <td>1</td>\n",
       "      <td>10018</td>\n",
       "      <td>10115</td>\n",
       "      <td>10992</td>\n",
       "      <td>13901</td>\n",
       "      <td>контейнер дозатором хранения круп</td>\n",
       "    </tr>\n",
       "    <tr>\n",
       "      <th>3</th>\n",
       "      <td>4</td>\n",
       "      <td>Контейнер для хранения яиц</td>\n",
       "      <td>13674</td>\n",
       "      <td>1.10018.10115.10992.13674</td>\n",
       "      <td>1</td>\n",
       "      <td>10018</td>\n",
       "      <td>10115</td>\n",
       "      <td>10992</td>\n",
       "      <td>13674</td>\n",
       "      <td>контейнер хранения яиц</td>\n",
       "    </tr>\n",
       "    <tr>\n",
       "      <th>4</th>\n",
       "      <td>5</td>\n",
       "      <td>Губкодержатель</td>\n",
       "      <td>13254</td>\n",
       "      <td>1.10018.10115.10390.13254</td>\n",
       "      <td>1</td>\n",
       "      <td>10018</td>\n",
       "      <td>10115</td>\n",
       "      <td>10390</td>\n",
       "      <td>13254</td>\n",
       "      <td>губкодержатель</td>\n",
       "    </tr>\n",
       "  </tbody>\n",
       "</table>\n",
       "</div>"
      ],
      "text/plain": [
       "   row_number                            product_title  category_id  \\\n",
       "0           1       Термокружка с животными 350/500 мл        12407   \n",
       "1           2    Пластиковая емкость для хранения круп        12667   \n",
       "2           3  Контейнер с дозатором для хранения круп        13901   \n",
       "3           4               Контейнер для хранения яиц        13674   \n",
       "4           5                           Губкодержатель        13254   \n",
       "\n",
       "               full_category category_0 category_1 category_2 category_3  \\\n",
       "0  1.10018.10115.10586.12407          1      10018      10115      10586   \n",
       "1  1.10018.10115.10992.12667          1      10018      10115      10992   \n",
       "2  1.10018.10115.10992.13901          1      10018      10115      10992   \n",
       "3  1.10018.10115.10992.13674          1      10018      10115      10992   \n",
       "4  1.10018.10115.10390.13254          1      10018      10115      10390   \n",
       "\n",
       "  category_4                       preprocessed  \n",
       "0      12407           термокружка животными мл  \n",
       "1      12667  пластиковая емкость хранения круп  \n",
       "2      13901  контейнер дозатором хранения круп  \n",
       "3      13674             контейнер хранения яиц  \n",
       "4      13254                     губкодержатель  "
      ]
     },
     "execution_count": 190,
     "metadata": {},
     "output_type": "execute_result"
    }
   ],
   "source": [
    "prod.head()"
   ]
  },
  {
   "cell_type": "markdown",
   "metadata": {
    "id": "wDB1pQd8P6Cx"
   },
   "source": [
    "## Обучение на первых больших категориях"
   ]
  },
  {
   "cell_type": "code",
   "execution_count": 193,
   "metadata": {},
   "outputs": [
    {
     "data": {
      "text/plain": [
       "<AxesSubplot:xlabel='category_1', ylabel='Count'>"
      ]
     },
     "execution_count": 193,
     "metadata": {},
     "output_type": "execute_result"
    },
    {
     "data": {
      "image/png": "[encoded data removed]",
      "text/plain": [
       "<Figure size 432x288 with 1 Axes>"
      ]
     },
     "metadata": {
      "needs_background": "light"
     },
     "output_type": "display_data"
    }
   ],
   "source": [
    "sns.histplot(prod['category_1'])"
   ]
  },
  {
   "cell_type": "markdown",
   "metadata": {},
   "source": [
    "Классы этой группы категорий практически сбалансированные"
   ]
  },
  {
   "cell_type": "markdown",
   "metadata": {
    "id": "OVK7004ugLhb"
   },
   "source": [
    "## Feature generagion"
   ]
  },
  {
   "cell_type": "markdown",
   "metadata": {
    "id": "r8usUn5CgOAo"
   },
   "source": [
    "word to vec: dim 100"
   ]
  },
  {
   "cell_type": "code",
   "execution_count": 194,
   "metadata": {
    "colab": {
     "base_uri": "https://localhost:8080/"
    },
    "id": "7tXWcUHRXFqL",
    "outputId": "8807c2b7-5c68-4062-bc87-1bdb3c9f6c62",
    "scrolled": true
   },
   "outputs": [
    {
     "name": "stdout",
     "output_type": "stream",
     "text": [
      "CPU times: user 1min 4s, sys: 715 ms, total: 1min 5s\n",
      "Wall time: 23.8 s\n"
     ]
    },
    {
     "data": {
      "text/plain": [
       "[('сувенирная', 0.8339292407035828),\n",
       " ('ъуъ', 0.7980749607086182),\n",
       " ('горячо', 0.7630935311317444),\n",
       " ('кадерле', 0.7120961546897888),\n",
       " ('дайте', 0.7085484862327576),\n",
       " ('рюмка', 0.7085235118865967),\n",
       " ('энием', 0.7073407769203186),\n",
       " ('пивная', 0.6993929147720337),\n",
       " ('майнкрафт', 0.6948978304862976),\n",
       " ('старс', 0.6845418810844421)]"
      ]
     },
     "execution_count": 194,
     "metadata": {},
     "output_type": "execute_result"
    }
   ],
   "source": [
    "%%time\n",
    "w2v_model = Word2Vec(min_count=5, window=2, vector_size=50, sample=6e-5, alpha=0.03, min_alpha=0.0007, negative=10, seed=17)\n",
    "w2v_model.build_vocab(prod['preprocessed'].apply(lambda x: x.split()), progress_per=1000)\n",
    "w2v_model.train(prod['preprocessed'].apply(lambda x: x.split()), total_examples=w2v_model.corpus_count, epochs=60, report_delay=1)\n",
    "w2v_model.wv.most_similar(positive=[\"кружка\"])"
   ]
  },
  {
   "cell_type": "markdown",
   "metadata": {
    "id": "5pSFZ1WhgZgL"
   },
   "source": [
    "Усредняем векторы word2veс и получаем вектор предожения"
   ]
  },
  {
   "cell_type": "code",
   "execution_count": 195,
   "metadata": {
    "colab": {
     "base_uri": "https://localhost:8080/"
    },
    "id": "qfQBS-8qXRUR",
    "outputId": "d1230421-8f28-4e0d-f40c-62dc247c10dc"
   },
   "outputs": [
    {
     "name": "stderr",
     "output_type": "stream",
     "text": [
      "/Users/dabannikov/opt/anaconda3/lib/python3.8/site-packages/numpy/core/fromnumeric.py:3419: RuntimeWarning: Mean of empty slice.\n",
      "  return _methods._mean(a, axis=axis, dtype=dtype,\n"
     ]
    },
    {
     "name": "stdout",
     "output_type": "stream",
     "text": [
      "CPU times: user 4.78 s, sys: 129 ms, total: 4.91 s\n",
      "Wall time: 4.48 s\n"
     ]
    }
   ],
   "source": [
    "%%time\n",
    "vect = prod['preprocessed'].apply(lambda text: np.mean([w2v_model.wv[w] for w in text.split() if w in w2v_model.wv], axis=0))"
   ]
  },
  {
   "cell_type": "code",
   "execution_count": 196,
   "metadata": {
    "colab": {
     "base_uri": "https://localhost:8080/"
    },
    "id": "qfQBS-8qXRUR",
    "outputId": "d1230421-8f28-4e0d-f40c-62dc247c10dc"
   },
   "outputs": [],
   "source": [
    "y = prod['category_1'][vect.notna()]\n",
    "y_cat_2 = prod['category_2'][vect.notna()]\n",
    "X = vect[vect.notna()]\n",
    "X = np.stack(X)"
   ]
  },
  {
   "cell_type": "code",
   "execution_count": 212,
   "metadata": {
    "id": "2GxCK2kgjLYJ"
   },
   "outputs": [],
   "source": [
    "level1_categories = prod[vect.notna()]['category_1'].values"
   ]
  },
  {
   "cell_type": "code",
   "execution_count": 214,
   "metadata": {
    "id": "mTpgQpZqjhsE"
   },
   "outputs": [],
   "source": [
    "level1_categories = level1_categories.reshape(-1, 1)"
   ]
  },
  {
   "cell_type": "code",
   "execution_count": 215,
   "metadata": {
    "id": "KLDNsJiFi-rv"
   },
   "outputs": [],
   "source": [
    "extnd_X = np.hstack([X, level1_categories])"
   ]
  },
  {
   "cell_type": "code",
   "execution_count": 216,
   "metadata": {},
   "outputs": [
    {
     "data": {
      "text/plain": [
       "array([[0.6687955856323242, 0.44062185287475586, -0.15171365439891815,\n",
       "        ..., 0.5441108345985413, '10018', '10115'],\n",
       "       [0.09367270767688751, -0.6001201272010803, -0.5019417405128479,\n",
       "        ..., 1.3847991228103638, '10018', '10115'],\n",
       "       [0.20351405441761017, -0.8320298194885254, -0.7009686231613159,\n",
       "        ..., 0.8277028799057007, '10018', '10115'],\n",
       "       ...,\n",
       "       [-0.5379554033279419, -0.05089451000094414, -0.25230544805526733,\n",
       "        ..., 0.3156265616416931, '10020', '10044'],\n",
       "       [-1.1675618886947632, -1.6983312368392944, 0.2596346437931061,\n",
       "        ..., -0.3948718011379242, '10018', '10049'],\n",
       "       [0.18053968250751495, 0.3440428674221039, 0.24672289192676544,\n",
       "        ..., 0.5169088840484619, '10020', '10044']], dtype=object)"
      ]
     },
     "execution_count": 216,
     "metadata": {},
     "output_type": "execute_result"
    }
   ],
   "source": [
    "extnd_X"
   ]
  },
  {
   "cell_type": "code",
   "execution_count": 225,
   "metadata": {},
   "outputs": [
    {
     "data": {
      "text/plain": [
       "37"
      ]
     },
     "execution_count": 225,
     "metadata": {},
     "output_type": "execute_result"
    }
   ],
   "source": [
    "len(prod['category_2'].unique())"
   ]
  },
  {
   "cell_type": "code",
   "execution_count": 223,
   "metadata": {},
   "outputs": [
    {
     "name": "stdout",
     "output_type": "stream",
     "text": [
      "CPU times: user 391 ms, sys: 165 ms, total: 555 ms\n",
      "Wall time: 2min 10s\n"
     ]
    }
   ],
   "source": [
    "%%time\n",
    "model = CatBoostClassifier(random_seed=17, depth=6, learning_rate=0.5, thread_count=4, loss_function='MultiClass', custom_metric='TotalF1', eval_metric='TotalF1')\n",
    "result = pd.DataFrame(cross_validate(model, X, y, cv=4, \n",
    "    scoring=['accuracy', 'f1_micro', 'f1_macro', 'f1_weighted'], n_jobs=-1))\n",
    "mean = result.mean().rename('{}_mean'.format)\n",
    "std = result.std().rename('{}_std'.format)\n",
    "results = pd.concat([mean[2:], std[2:]], axis=0)"
   ]
  },
  {
   "cell_type": "code",
   "execution_count": 224,
   "metadata": {},
   "outputs": [
    {
     "data": {
      "text/plain": [
       "test_accuracy_mean       0.980603\n",
       "test_f1_micro_mean       0.980603\n",
       "test_f1_macro_mean       0.980018\n",
       "test_f1_weighted_mean    0.980609\n",
       "test_accuracy_std        0.002020\n",
       "test_f1_micro_std        0.002020\n",
       "test_f1_macro_std        0.001915\n",
       "test_f1_weighted_std     0.002020\n",
       "dtype: float64"
      ]
     },
     "execution_count": 224,
     "metadata": {},
     "output_type": "execute_result"
    }
   ],
   "source": [
    "results"
   ]
  },
  {
   "cell_type": "code",
   "execution_count": null,
   "metadata": {},
   "outputs": [],
   "source": [
    "%%time\n",
    "model = CatBoostClassifier(random_seed=17, depth=6, learning_rate=0.5, thread_count=4, loss_function='MultiClass', custom_metric='TotalF1', eval_metric='TotalF1')\n",
    "result = pd.DataFrame(cross_validate(model, X, y_cat_2, cv=4, \n",
    "    scoring=['accuracy', 'f1_micro', 'f1_macro', 'f1_weighted'], n_jobs=-1))\n",
    "mean = result.mean().rename('{}_mean'.format)\n",
    "std = result.std().rename('{}_std'.format)\n",
    "results = pd.concat([mean[2:], std[2:]], axis=0)"
   ]
  },
  {
   "cell_type": "code",
   "execution_count": null,
   "metadata": {},
   "outputs": [],
   "source": [
    "results"
   ]
  },
  {
   "cell_type": "code",
   "execution_count": null,
   "metadata": {},
   "outputs": [],
   "source": [
    "%%time\n",
    "model = CatBoostClassifier(random_seed=17, depth=6, learning_rate=0.5, thread_count=4, loss_function='MultiClass', custom_metric='TotalF1', eval_metric='TotalF1')\n",
    "result = pd.DataFrame(cross_validate(model, extnd_X, y_cat_2, cv=4, \n",
    "    scoring=['accuracy', 'f1_micro', 'f1_macro', 'f1_weighted'], n_jobs=-1))\n",
    "mean = result.mean().rename('{}_mean'.format)\n",
    "std = result.std().rename('{}_std'.format)\n",
    "results = pd.concat([mean[2:], std[2:]], axis=0)"
   ]
  },
  {
   "cell_type": "code",
   "execution_count": null,
   "metadata": {},
   "outputs": [],
   "source": [
    "results"
   ]
  },
  {
   "cell_type": "code",
   "execution_count": 199,
   "metadata": {},
   "outputs": [],
   "source": [
    "# %%time\n",
    "# params = {'depth':[i for i in range(5, 10)],\n",
    "# 'learning_rate':np.linspace(0.01, 0.5, 10).tolist(),\n",
    "# 'l2_leaf_reg':[1, 3, 5, 7, 9]}\n",
    "# params\n",
    "# model = CatBoostClassifier(thread_count=4, loss_function='MultiClass', custom_metric='TotalF1', eval_metric='TotalF1')\n",
    "# result = model.grid_search(X=X, y=y, param_grid=params, cv=4, plot=True, partition_random_seed=17, calc_cv_statistics=True,\n",
    "#         search_by_train_test_split=True, refit=True, shuffle=True, stratified=None, train_size=0.8, verbose=True)"
   ]
  },
  {
   "cell_type": "markdown",
   "metadata": {},
   "source": [
    "{'depth': 9, 'l2_leaf_reg': 5, 'learning_rate': 0.3911111111111111}\n",
    "\n",
    "CPU times: user 22h 10min 49s, sys: 1h 23min 19s, total: 23h 34min 9s\n",
    "Wall time: 6h 29min 45s"
   ]
  },
  {
   "cell_type": "markdown",
   "metadata": {
    "id": "4nG4mjh4PEJs"
   },
   "source": [
    "#### Попытка опредсказать категории 2 уровня в дерене категорий"
   ]
  },
  {
   "cell_type": "code",
   "execution_count": 202,
   "metadata": {
    "colab": {
     "base_uri": "https://localhost:8080/",
     "height": 0
    },
    "id": "4TbHyKGhgvBe",
    "outputId": "2b397914-6972-497d-cee8-374ddc5ca7e1"
   },
   "outputs": [
    {
     "data": {
      "text/plain": [
       "<AxesSubplot:xlabel='category_2', ylabel='Count'>"
      ]
     },
     "execution_count": 202,
     "metadata": {},
     "output_type": "execute_result"
    },
    {
     "data": {
      "image/png": "[encoded data removed]",
      "text/plain": [
       "<Figure size 432x288 with 1 Axes>"
      ]
     },
     "metadata": {
      "needs_background": "light"
     },
     "output_type": "display_data"
    }
   ],
   "source": [
    "sns.histplot(prod['category_2'])"
   ]
  },
  {
   "cell_type": "markdown",
   "metadata": {
    "id": "GXEEXY_siQyJ"
   },
   "source": [
    "## Средняя accuracy по кросс валидации ~ 0.86 & f1_weighted ~ 0.83"
   ]
  },
  {
   "cell_type": "code",
   "execution_count": 206,
   "metadata": {},
   "outputs": [],
   "source": [
    "from sklearn.model_selection import train_test_split"
   ]
  },
  {
   "cell_type": "code",
   "execution_count": 207,
   "metadata": {},
   "outputs": [],
   "source": [
    "train_X, test_X, train_y, test_y = train_test_split(X, y_cat_2, train_size=0.75)"
   ]
  },
  {
   "cell_type": "code",
   "execution_count": 208,
   "metadata": {},
   "outputs": [
    {
     "name": "stdout",
     "output_type": "stream",
     "text": [
      "0:\tlearn: 0.4488977\ttotal: 754ms\tremaining: 12m 33s\n",
      "1:\tlearn: 0.1050529\ttotal: 1.49s\tremaining: 12m 24s\n",
      "2:\tlearn: 0.4269770\ttotal: 2.22s\tremaining: 12m 18s\n",
      "3:\tlearn: 0.3471356\ttotal: 3s\tremaining: 12m 26s\n",
      "4:\tlearn: 0.3981466\ttotal: 3.82s\tremaining: 12m 39s\n",
      "5:\tlearn: 0.3806678\ttotal: 4.67s\tremaining: 12m 53s\n",
      "6:\tlearn: 0.4162973\ttotal: 5.51s\tremaining: 13m 2s\n",
      "7:\tlearn: 0.3914646\ttotal: 6.36s\tremaining: 13m 8s\n",
      "8:\tlearn: 0.4426868\ttotal: 7.19s\tremaining: 13m 12s\n",
      "9:\tlearn: 0.4751208\ttotal: 8.03s\tremaining: 13m 14s\n",
      "10:\tlearn: 0.4980464\ttotal: 8.87s\tremaining: 13m 17s\n",
      "11:\tlearn: 0.5065167\ttotal: 9.73s\tremaining: 13m 21s\n",
      "12:\tlearn: 0.5113232\ttotal: 10.6s\tremaining: 13m 22s\n",
      "13:\tlearn: 0.5313514\ttotal: 11.4s\tremaining: 13m 24s\n",
      "14:\tlearn: 0.5487049\ttotal: 12.3s\tremaining: 13m 26s\n",
      "15:\tlearn: 0.5625890\ttotal: 13.1s\tremaining: 13m 28s\n",
      "16:\tlearn: 0.5755798\ttotal: 14s\tremaining: 13m 27s\n",
      "17:\tlearn: 0.5865424\ttotal: 14.8s\tremaining: 13m 27s\n",
      "18:\tlearn: 0.5954286\ttotal: 15.6s\tremaining: 13m 27s\n",
      "19:\tlearn: 0.5968579\ttotal: 16.4s\tremaining: 13m 25s\n",
      "20:\tlearn: 0.6069423\ttotal: 17.3s\tremaining: 13m 25s\n",
      "21:\tlearn: 0.6180291\ttotal: 18.1s\tremaining: 13m 24s\n",
      "22:\tlearn: 0.6235287\ttotal: 18.9s\tremaining: 13m 23s\n",
      "23:\tlearn: 0.6293889\ttotal: 19.8s\tremaining: 13m 23s\n",
      "24:\tlearn: 0.6343005\ttotal: 20.6s\tremaining: 13m 22s\n",
      "25:\tlearn: 0.6399302\ttotal: 21.4s\tremaining: 13m 21s\n",
      "26:\tlearn: 0.6455686\ttotal: 22.2s\tremaining: 13m 20s\n",
      "27:\tlearn: 0.6498627\ttotal: 23.1s\tremaining: 13m 20s\n",
      "28:\tlearn: 0.6413718\ttotal: 23.9s\tremaining: 13m 19s\n",
      "29:\tlearn: 0.6572660\ttotal: 24.7s\tremaining: 13m 19s\n",
      "30:\tlearn: 0.6590099\ttotal: 25.6s\tremaining: 13m 18s\n",
      "31:\tlearn: 0.6665564\ttotal: 26.4s\tremaining: 13m 18s\n",
      "32:\tlearn: 0.6729244\ttotal: 27.2s\tremaining: 13m 17s\n",
      "33:\tlearn: 0.6790396\ttotal: 28.1s\tremaining: 13m 16s\n",
      "34:\tlearn: 0.6828744\ttotal: 28.9s\tremaining: 13m 15s\n",
      "35:\tlearn: 0.6876076\ttotal: 29.7s\tremaining: 13m 15s\n",
      "36:\tlearn: 0.6911297\ttotal: 30.5s\tremaining: 13m 14s\n",
      "37:\tlearn: 0.6907852\ttotal: 31.3s\tremaining: 13m 13s\n",
      "38:\tlearn: 0.6946756\ttotal: 32.2s\tremaining: 13m 12s\n",
      "39:\tlearn: 0.6999604\ttotal: 32.9s\tremaining: 13m 10s\n",
      "40:\tlearn: 0.7039052\ttotal: 33.7s\tremaining: 13m 9s\n",
      "41:\tlearn: 0.7058791\ttotal: 34.5s\tremaining: 13m 7s\n",
      "42:\tlearn: 0.7081904\ttotal: 35.3s\tremaining: 13m 6s\n",
      "43:\tlearn: 0.7103347\ttotal: 36.1s\tremaining: 13m 5s\n",
      "44:\tlearn: 0.7127238\ttotal: 37s\tremaining: 13m 4s\n",
      "45:\tlearn: 0.7163810\ttotal: 37.8s\tremaining: 13m 3s\n",
      "46:\tlearn: 0.7197096\ttotal: 38.6s\tremaining: 13m 2s\n",
      "47:\tlearn: 0.7223938\ttotal: 39.4s\tremaining: 13m 1s\n",
      "48:\tlearn: 0.7239652\ttotal: 40.2s\tremaining: 13m\n",
      "49:\tlearn: 0.7252684\ttotal: 41s\tremaining: 12m 59s\n",
      "50:\tlearn: 0.7278702\ttotal: 41.9s\tremaining: 12m 59s\n",
      "51:\tlearn: 0.7297633\ttotal: 42.9s\tremaining: 13m 1s\n",
      "52:\tlearn: 0.7312380\ttotal: 43.9s\tremaining: 13m 3s\n",
      "53:\tlearn: 0.7335698\ttotal: 44.7s\tremaining: 13m 3s\n",
      "54:\tlearn: 0.7352914\ttotal: 45.6s\tremaining: 13m 2s\n",
      "55:\tlearn: 0.7368462\ttotal: 46.4s\tremaining: 13m 2s\n",
      "56:\tlearn: 0.7395195\ttotal: 47.3s\tremaining: 13m 1s\n",
      "57:\tlearn: 0.7413709\ttotal: 48.1s\tremaining: 13m 1s\n",
      "58:\tlearn: 0.7421402\ttotal: 48.9s\tremaining: 13m\n",
      "59:\tlearn: 0.7434960\ttotal: 49.7s\tremaining: 12m 59s\n",
      "60:\tlearn: 0.7446131\ttotal: 50.6s\tremaining: 12m 58s\n",
      "61:\tlearn: 0.7456779\ttotal: 51.4s\tremaining: 12m 57s\n",
      "62:\tlearn: 0.7464650\ttotal: 52.2s\tremaining: 12m 56s\n",
      "63:\tlearn: 0.7481703\ttotal: 53s\tremaining: 12m 55s\n",
      "64:\tlearn: 0.7509401\ttotal: 53.8s\tremaining: 12m 54s\n",
      "65:\tlearn: 0.7527395\ttotal: 54.6s\tremaining: 12m 52s\n",
      "66:\tlearn: 0.7545785\ttotal: 55.4s\tremaining: 12m 51s\n",
      "67:\tlearn: 0.7567748\ttotal: 56.2s\tremaining: 12m 50s\n",
      "68:\tlearn: 0.7576120\ttotal: 57.1s\tremaining: 12m 50s\n",
      "69:\tlearn: 0.7564027\ttotal: 57.9s\tremaining: 12m 49s\n",
      "70:\tlearn: 0.7579310\ttotal: 58.8s\tremaining: 12m 48s\n",
      "71:\tlearn: 0.7589755\ttotal: 59.6s\tremaining: 12m 47s\n",
      "72:\tlearn: 0.7599552\ttotal: 1m\tremaining: 12m 47s\n",
      "73:\tlearn: 0.7611189\ttotal: 1m 1s\tremaining: 12m 46s\n",
      "74:\tlearn: 0.7621960\ttotal: 1m 2s\tremaining: 12m 44s\n",
      "75:\tlearn: 0.7637414\ttotal: 1m 2s\tremaining: 12m 43s\n",
      "76:\tlearn: 0.7643928\ttotal: 1m 3s\tremaining: 12m 43s\n",
      "77:\tlearn: 0.7666184\ttotal: 1m 4s\tremaining: 12m 42s\n",
      "78:\tlearn: 0.7667169\ttotal: 1m 5s\tremaining: 12m 40s\n",
      "79:\tlearn: 0.7678397\ttotal: 1m 6s\tremaining: 12m 39s\n",
      "80:\tlearn: 0.7689406\ttotal: 1m 6s\tremaining: 12m 38s\n",
      "81:\tlearn: 0.7701001\ttotal: 1m 7s\tremaining: 12m 37s\n",
      "82:\tlearn: 0.7715634\ttotal: 1m 8s\tremaining: 12m 36s\n",
      "83:\tlearn: 0.7712754\ttotal: 1m 9s\tremaining: 12m 35s\n",
      "84:\tlearn: 0.7723023\ttotal: 1m 10s\tremaining: 12m 34s\n",
      "85:\tlearn: 0.7722577\ttotal: 1m 10s\tremaining: 12m 34s\n",
      "86:\tlearn: 0.7717098\ttotal: 1m 11s\tremaining: 12m 33s\n",
      "87:\tlearn: 0.7734480\ttotal: 1m 12s\tremaining: 12m 31s\n",
      "88:\tlearn: 0.7742726\ttotal: 1m 13s\tremaining: 12m 30s\n",
      "89:\tlearn: 0.7749451\ttotal: 1m 14s\tremaining: 12m 30s\n",
      "90:\tlearn: 0.7759939\ttotal: 1m 14s\tremaining: 12m 29s\n",
      "91:\tlearn: 0.7764708\ttotal: 1m 15s\tremaining: 12m 28s\n",
      "92:\tlearn: 0.7763330\ttotal: 1m 16s\tremaining: 12m 27s\n",
      "93:\tlearn: 0.7773824\ttotal: 1m 17s\tremaining: 12m 25s\n",
      "94:\tlearn: 0.7781458\ttotal: 1m 18s\tremaining: 12m 24s\n",
      "95:\tlearn: 0.7782120\ttotal: 1m 19s\tremaining: 12m 23s\n",
      "96:\tlearn: 0.7796563\ttotal: 1m 19s\tremaining: 12m 22s\n",
      "97:\tlearn: 0.7798169\ttotal: 1m 20s\tremaining: 12m 21s\n",
      "98:\tlearn: 0.7806883\ttotal: 1m 21s\tremaining: 12m 20s\n",
      "99:\tlearn: 0.7818807\ttotal: 1m 22s\tremaining: 12m 19s\n",
      "100:\tlearn: 0.7821642\ttotal: 1m 22s\tremaining: 12m 18s\n",
      "101:\tlearn: 0.7830511\ttotal: 1m 23s\tremaining: 12m 17s\n",
      "102:\tlearn: 0.7834957\ttotal: 1m 24s\tremaining: 12m 16s\n",
      "103:\tlearn: 0.7836188\ttotal: 1m 25s\tremaining: 12m 16s\n",
      "104:\tlearn: 0.7838889\ttotal: 1m 26s\tremaining: 12m 15s\n",
      "105:\tlearn: 0.7842307\ttotal: 1m 27s\tremaining: 12m 14s\n",
      "106:\tlearn: 0.7846771\ttotal: 1m 27s\tremaining: 12m 13s\n",
      "107:\tlearn: 0.7847461\ttotal: 1m 28s\tremaining: 12m 12s\n",
      "108:\tlearn: 0.7843938\ttotal: 1m 29s\tremaining: 12m 11s\n",
      "109:\tlearn: 0.7842200\ttotal: 1m 30s\tremaining: 12m 11s\n",
      "110:\tlearn: 0.7847471\ttotal: 1m 31s\tremaining: 12m 10s\n",
      "111:\tlearn: 0.7851612\ttotal: 1m 31s\tremaining: 12m 9s\n",
      "112:\tlearn: 0.7851903\ttotal: 1m 32s\tremaining: 12m 8s\n",
      "113:\tlearn: 0.7865516\ttotal: 1m 33s\tremaining: 12m 7s\n",
      "114:\tlearn: 0.7874425\ttotal: 1m 34s\tremaining: 12m 6s\n",
      "115:\tlearn: 0.7879875\ttotal: 1m 35s\tremaining: 12m 5s\n",
      "116:\tlearn: 0.7896264\ttotal: 1m 36s\tremaining: 12m 5s\n",
      "117:\tlearn: 0.7899807\ttotal: 1m 36s\tremaining: 12m 4s\n",
      "118:\tlearn: 0.7906444\ttotal: 1m 37s\tremaining: 12m 3s\n",
      "119:\tlearn: 0.7911769\ttotal: 1m 38s\tremaining: 12m 2s\n",
      "120:\tlearn: 0.7908953\ttotal: 1m 39s\tremaining: 12m 1s\n",
      "121:\tlearn: 0.7911085\ttotal: 1m 40s\tremaining: 12m\n",
      "122:\tlearn: 0.7916244\ttotal: 1m 40s\tremaining: 11m 59s\n",
      "123:\tlearn: 0.7914793\ttotal: 1m 41s\tremaining: 11m 58s\n",
      "124:\tlearn: 0.7914815\ttotal: 1m 42s\tremaining: 11m 57s\n",
      "125:\tlearn: 0.7919332\ttotal: 1m 43s\tremaining: 11m 56s\n",
      "126:\tlearn: 0.7923541\ttotal: 1m 44s\tremaining: 11m 56s\n",
      "127:\tlearn: 0.7925632\ttotal: 1m 44s\tremaining: 11m 55s\n",
      "128:\tlearn: 0.7935663\ttotal: 1m 45s\tremaining: 11m 54s\n",
      "129:\tlearn: 0.7938017\ttotal: 1m 46s\tremaining: 11m 53s\n",
      "130:\tlearn: 0.7944010\ttotal: 1m 47s\tremaining: 11m 52s\n",
      "131:\tlearn: 0.7944996\ttotal: 1m 48s\tremaining: 11m 51s\n",
      "132:\tlearn: 0.7940433\ttotal: 1m 49s\tremaining: 11m 50s\n",
      "133:\tlearn: 0.7946697\ttotal: 1m 49s\tremaining: 11m 50s\n",
      "134:\tlearn: 0.7947078\ttotal: 1m 50s\tremaining: 11m 49s\n",
      "135:\tlearn: 0.7953140\ttotal: 1m 51s\tremaining: 11m 48s\n",
      "136:\tlearn: 0.7960213\ttotal: 1m 52s\tremaining: 11m 48s\n",
      "137:\tlearn: 0.7968549\ttotal: 1m 53s\tremaining: 11m 47s\n",
      "138:\tlearn: 0.7975672\ttotal: 1m 54s\tremaining: 11m 46s\n",
      "139:\tlearn: 0.7982691\ttotal: 1m 54s\tremaining: 11m 45s\n",
      "140:\tlearn: 0.7991526\ttotal: 1m 55s\tremaining: 11m 45s\n",
      "141:\tlearn: 0.7993026\ttotal: 1m 56s\tremaining: 11m 44s\n",
      "142:\tlearn: 0.8000733\ttotal: 1m 57s\tremaining: 11m 43s\n",
      "143:\tlearn: 0.8006714\ttotal: 1m 58s\tremaining: 11m 42s\n",
      "144:\tlearn: 0.8012413\ttotal: 1m 59s\tremaining: 11m 41s\n",
      "145:\tlearn: 0.8008904\ttotal: 1m 59s\tremaining: 11m 41s\n",
      "146:\tlearn: 0.8008038\ttotal: 2m\tremaining: 11m 40s\n",
      "147:\tlearn: 0.8013999\ttotal: 2m 1s\tremaining: 11m 39s\n",
      "148:\tlearn: 0.8021832\ttotal: 2m 2s\tremaining: 11m 38s\n",
      "149:\tlearn: 0.8020841\ttotal: 2m 3s\tremaining: 11m 37s\n",
      "150:\tlearn: 0.8026719\ttotal: 2m 3s\tremaining: 11m 37s\n",
      "151:\tlearn: 0.8017657\ttotal: 2m 4s\tremaining: 11m 36s\n",
      "152:\tlearn: 0.8024399\ttotal: 2m 5s\tremaining: 11m 35s\n",
      "153:\tlearn: 0.8021993\ttotal: 2m 6s\tremaining: 11m 34s\n"
     ]
    },
    {
     "name": "stdout",
     "output_type": "stream",
     "text": [
      "154:\tlearn: 0.8022762\ttotal: 2m 7s\tremaining: 11m 34s\n",
      "155:\tlearn: 0.8025709\ttotal: 2m 8s\tremaining: 11m 33s\n",
      "156:\tlearn: 0.8031623\ttotal: 2m 8s\tremaining: 11m 32s\n",
      "157:\tlearn: 0.8033328\ttotal: 2m 9s\tremaining: 11m 31s\n",
      "158:\tlearn: 0.8038553\ttotal: 2m 10s\tremaining: 11m 30s\n",
      "159:\tlearn: 0.8041485\ttotal: 2m 11s\tremaining: 11m 29s\n",
      "160:\tlearn: 0.8044169\ttotal: 2m 12s\tremaining: 11m 28s\n",
      "161:\tlearn: 0.8052285\ttotal: 2m 12s\tremaining: 11m 27s\n",
      "162:\tlearn: 0.8059836\ttotal: 2m 13s\tremaining: 11m 27s\n",
      "163:\tlearn: 0.8066304\ttotal: 2m 14s\tremaining: 11m 26s\n",
      "164:\tlearn: 0.8068560\ttotal: 2m 15s\tremaining: 11m 25s\n",
      "165:\tlearn: 0.8072956\ttotal: 2m 16s\tremaining: 11m 24s\n",
      "166:\tlearn: 0.8069364\ttotal: 2m 17s\tremaining: 11m 23s\n",
      "167:\tlearn: 0.8073265\ttotal: 2m 17s\tremaining: 11m 23s\n",
      "168:\tlearn: 0.8076239\ttotal: 2m 18s\tremaining: 11m 22s\n",
      "169:\tlearn: 0.8083355\ttotal: 2m 19s\tremaining: 11m 21s\n",
      "170:\tlearn: 0.8090476\ttotal: 2m 20s\tremaining: 11m 20s\n",
      "171:\tlearn: 0.8087095\ttotal: 2m 21s\tremaining: 11m 19s\n",
      "172:\tlearn: 0.8090926\ttotal: 2m 21s\tremaining: 11m 18s\n",
      "173:\tlearn: 0.8093023\ttotal: 2m 22s\tremaining: 11m 17s\n",
      "174:\tlearn: 0.8089032\ttotal: 2m 23s\tremaining: 11m 16s\n",
      "175:\tlearn: 0.8088297\ttotal: 2m 24s\tremaining: 11m 15s\n",
      "176:\tlearn: 0.8094629\ttotal: 2m 25s\tremaining: 11m 14s\n",
      "177:\tlearn: 0.8089564\ttotal: 2m 25s\tremaining: 11m 13s\n",
      "178:\tlearn: 0.8089326\ttotal: 2m 26s\tremaining: 11m 12s\n",
      "179:\tlearn: 0.8096209\ttotal: 2m 27s\tremaining: 11m 11s\n",
      "180:\tlearn: 0.8092055\ttotal: 2m 28s\tremaining: 11m 10s\n",
      "181:\tlearn: 0.8105613\ttotal: 2m 28s\tremaining: 11m 9s\n",
      "182:\tlearn: 0.8107041\ttotal: 2m 29s\tremaining: 11m 8s\n",
      "183:\tlearn: 0.8112109\ttotal: 2m 30s\tremaining: 11m 7s\n",
      "184:\tlearn: 0.8115875\ttotal: 2m 31s\tremaining: 11m 6s\n",
      "185:\tlearn: 0.8121128\ttotal: 2m 32s\tremaining: 11m 6s\n",
      "186:\tlearn: 0.8122207\ttotal: 2m 32s\tremaining: 11m 5s\n",
      "187:\tlearn: 0.8123334\ttotal: 2m 33s\tremaining: 11m 4s\n",
      "188:\tlearn: 0.8131551\ttotal: 2m 34s\tremaining: 11m 3s\n",
      "189:\tlearn: 0.8134617\ttotal: 2m 35s\tremaining: 11m 2s\n",
      "190:\tlearn: 0.8136865\ttotal: 2m 36s\tremaining: 11m 1s\n",
      "191:\tlearn: 0.8141222\ttotal: 2m 37s\tremaining: 11m\n",
      "192:\tlearn: 0.8137553\ttotal: 2m 37s\tremaining: 10m 59s\n",
      "193:\tlearn: 0.8128501\ttotal: 2m 38s\tremaining: 10m 59s\n",
      "194:\tlearn: 0.8136616\ttotal: 2m 39s\tremaining: 10m 58s\n",
      "195:\tlearn: 0.8141009\ttotal: 2m 40s\tremaining: 10m 57s\n",
      "196:\tlearn: 0.8144355\ttotal: 2m 41s\tremaining: 10m 56s\n",
      "197:\tlearn: 0.8150007\ttotal: 2m 41s\tremaining: 10m 55s\n",
      "198:\tlearn: 0.8156780\ttotal: 2m 42s\tremaining: 10m 55s\n",
      "199:\tlearn: 0.8155506\ttotal: 2m 43s\tremaining: 10m 54s\n",
      "200:\tlearn: 0.8156381\ttotal: 2m 44s\tremaining: 10m 53s\n",
      "201:\tlearn: 0.8156126\ttotal: 2m 45s\tremaining: 10m 53s\n",
      "202:\tlearn: 0.8163584\ttotal: 2m 46s\tremaining: 10m 52s\n",
      "203:\tlearn: 0.8164861\ttotal: 2m 47s\tremaining: 10m 51s\n",
      "204:\tlearn: 0.8167435\ttotal: 2m 47s\tremaining: 10m 50s\n",
      "205:\tlearn: 0.8172553\ttotal: 2m 48s\tremaining: 10m 50s\n",
      "206:\tlearn: 0.8183800\ttotal: 2m 49s\tremaining: 10m 49s\n",
      "207:\tlearn: 0.8185846\ttotal: 2m 50s\tremaining: 10m 48s\n",
      "208:\tlearn: 0.8189511\ttotal: 2m 51s\tremaining: 10m 47s\n",
      "209:\tlearn: 0.8191653\ttotal: 2m 52s\tremaining: 10m 47s\n",
      "210:\tlearn: 0.8197854\ttotal: 2m 52s\tremaining: 10m 46s\n",
      "211:\tlearn: 0.8200788\ttotal: 2m 53s\tremaining: 10m 45s\n",
      "212:\tlearn: 0.8200584\ttotal: 2m 54s\tremaining: 10m 44s\n",
      "213:\tlearn: 0.8195370\ttotal: 2m 55s\tremaining: 10m 43s\n",
      "214:\tlearn: 0.8205138\ttotal: 2m 56s\tremaining: 10m 42s\n",
      "215:\tlearn: 0.8200877\ttotal: 2m 56s\tremaining: 10m 42s\n",
      "216:\tlearn: 0.8208427\ttotal: 2m 57s\tremaining: 10m 41s\n",
      "217:\tlearn: 0.8209113\ttotal: 2m 58s\tremaining: 10m 40s\n",
      "218:\tlearn: 0.8218524\ttotal: 2m 59s\tremaining: 10m 39s\n",
      "219:\tlearn: 0.8222813\ttotal: 3m\tremaining: 10m 39s\n",
      "220:\tlearn: 0.8226164\ttotal: 3m 1s\tremaining: 10m 38s\n",
      "221:\tlearn: 0.8229456\ttotal: 3m 1s\tremaining: 10m 37s\n",
      "222:\tlearn: 0.8225240\ttotal: 3m 2s\tremaining: 10m 36s\n",
      "223:\tlearn: 0.8228377\ttotal: 3m 3s\tremaining: 10m 35s\n",
      "224:\tlearn: 0.8229719\ttotal: 3m 4s\tremaining: 10m 34s\n",
      "225:\tlearn: 0.8232624\ttotal: 3m 5s\tremaining: 10m 33s\n",
      "226:\tlearn: 0.8238776\ttotal: 3m 5s\tremaining: 10m 32s\n",
      "227:\tlearn: 0.8246441\ttotal: 3m 6s\tremaining: 10m 32s\n",
      "228:\tlearn: 0.8248780\ttotal: 3m 7s\tremaining: 10m 31s\n",
      "229:\tlearn: 0.8246115\ttotal: 3m 8s\tremaining: 10m 30s\n",
      "230:\tlearn: 0.8253385\ttotal: 3m 9s\tremaining: 10m 29s\n",
      "231:\tlearn: 0.8258684\ttotal: 3m 10s\tremaining: 10m 28s\n",
      "232:\tlearn: 0.8267390\ttotal: 3m 10s\tremaining: 10m 28s\n",
      "233:\tlearn: 0.8269277\ttotal: 3m 11s\tremaining: 10m 27s\n",
      "234:\tlearn: 0.8272153\ttotal: 3m 12s\tremaining: 10m 28s\n",
      "235:\tlearn: 0.8280670\ttotal: 3m 13s\tremaining: 10m 27s\n",
      "236:\tlearn: 0.8283609\ttotal: 3m 15s\tremaining: 10m 27s\n",
      "237:\tlearn: 0.8291216\ttotal: 3m 15s\tremaining: 10m 27s\n",
      "238:\tlearn: 0.8297539\ttotal: 3m 16s\tremaining: 10m 26s\n",
      "239:\tlearn: 0.8296967\ttotal: 3m 17s\tremaining: 10m 26s\n",
      "240:\tlearn: 0.8297681\ttotal: 3m 18s\tremaining: 10m 25s\n",
      "241:\tlearn: 0.8297735\ttotal: 3m 19s\tremaining: 10m 25s\n",
      "242:\tlearn: 0.8298521\ttotal: 3m 20s\tremaining: 10m 24s\n",
      "243:\tlearn: 0.8300360\ttotal: 3m 21s\tremaining: 10m 24s\n",
      "244:\tlearn: 0.8304160\ttotal: 3m 22s\tremaining: 10m 23s\n",
      "245:\tlearn: 0.8307788\ttotal: 3m 23s\tremaining: 10m 23s\n",
      "246:\tlearn: 0.8311053\ttotal: 3m 24s\tremaining: 10m 22s\n",
      "247:\tlearn: 0.8298374\ttotal: 3m 24s\tremaining: 10m 21s\n",
      "248:\tlearn: 0.8307203\ttotal: 3m 25s\tremaining: 10m 20s\n",
      "249:\tlearn: 0.8307584\ttotal: 3m 26s\tremaining: 10m 19s\n",
      "250:\tlearn: 0.8308250\ttotal: 3m 27s\tremaining: 10m 18s\n",
      "251:\tlearn: 0.8312236\ttotal: 3m 28s\tremaining: 10m 18s\n",
      "252:\tlearn: 0.8301145\ttotal: 3m 29s\tremaining: 10m 17s\n",
      "253:\tlearn: 0.8311329\ttotal: 3m 29s\tremaining: 10m 16s\n",
      "254:\tlearn: 0.8314123\ttotal: 3m 30s\tremaining: 10m 15s\n",
      "255:\tlearn: 0.8320093\ttotal: 3m 31s\tremaining: 10m 14s\n",
      "256:\tlearn: 0.8316667\ttotal: 3m 32s\tremaining: 10m 13s\n",
      "257:\tlearn: 0.8321858\ttotal: 3m 33s\tremaining: 10m 12s\n",
      "258:\tlearn: 0.8323429\ttotal: 3m 33s\tremaining: 10m 12s\n",
      "259:\tlearn: 0.8324509\ttotal: 3m 34s\tremaining: 10m 11s\n",
      "260:\tlearn: 0.8330047\ttotal: 3m 35s\tremaining: 10m 10s\n",
      "261:\tlearn: 0.8331149\ttotal: 3m 36s\tremaining: 10m 9s\n",
      "262:\tlearn: 0.8336818\ttotal: 3m 37s\tremaining: 10m 8s\n",
      "263:\tlearn: 0.8331470\ttotal: 3m 38s\tremaining: 10m 7s\n",
      "264:\tlearn: 0.8333543\ttotal: 3m 38s\tremaining: 10m 7s\n",
      "265:\tlearn: 0.8335138\ttotal: 3m 39s\tremaining: 10m 6s\n",
      "266:\tlearn: 0.8336960\ttotal: 3m 40s\tremaining: 10m 5s\n",
      "267:\tlearn: 0.8336180\ttotal: 3m 41s\tremaining: 10m 4s\n",
      "268:\tlearn: 0.8343281\ttotal: 3m 42s\tremaining: 10m 4s\n",
      "269:\tlearn: 0.8345911\ttotal: 3m 43s\tremaining: 10m 3s\n",
      "270:\tlearn: 0.8348145\ttotal: 3m 44s\tremaining: 10m 2s\n",
      "271:\tlearn: 0.8352122\ttotal: 3m 44s\tremaining: 10m 1s\n",
      "272:\tlearn: 0.8352170\ttotal: 3m 45s\tremaining: 10m 1s\n",
      "273:\tlearn: 0.8353466\ttotal: 3m 46s\tremaining: 10m\n",
      "274:\tlearn: 0.8357442\ttotal: 3m 47s\tremaining: 9m 59s\n",
      "275:\tlearn: 0.8357862\ttotal: 3m 48s\tremaining: 9m 58s\n",
      "276:\tlearn: 0.8360132\ttotal: 3m 48s\tremaining: 9m 57s\n",
      "277:\tlearn: 0.8363677\ttotal: 3m 49s\tremaining: 9m 56s\n",
      "278:\tlearn: 0.8366202\ttotal: 3m 50s\tremaining: 9m 55s\n",
      "279:\tlearn: 0.8371308\ttotal: 3m 51s\tremaining: 9m 54s\n",
      "280:\tlearn: 0.8363930\ttotal: 3m 52s\tremaining: 9m 54s\n",
      "281:\tlearn: 0.8371458\ttotal: 3m 52s\tremaining: 9m 53s\n",
      "282:\tlearn: 0.8372634\ttotal: 3m 53s\tremaining: 9m 52s\n",
      "283:\tlearn: 0.8373405\ttotal: 3m 54s\tremaining: 9m 51s\n",
      "284:\tlearn: 0.8368132\ttotal: 3m 55s\tremaining: 9m 50s\n",
      "285:\tlearn: 0.8370390\ttotal: 3m 56s\tremaining: 9m 49s\n",
      "286:\tlearn: 0.8376630\ttotal: 3m 57s\tremaining: 9m 49s\n",
      "287:\tlearn: 0.8379094\ttotal: 3m 57s\tremaining: 9m 48s\n",
      "288:\tlearn: 0.8380347\ttotal: 3m 58s\tremaining: 9m 47s\n",
      "289:\tlearn: 0.8381989\ttotal: 3m 59s\tremaining: 9m 46s\n",
      "290:\tlearn: 0.8383508\ttotal: 4m\tremaining: 9m 45s\n",
      "291:\tlearn: 0.8393989\ttotal: 4m 1s\tremaining: 9m 44s\n",
      "292:\tlearn: 0.8398227\ttotal: 4m 1s\tremaining: 9m 43s\n",
      "293:\tlearn: 0.8401600\ttotal: 4m 2s\tremaining: 9m 42s\n",
      "294:\tlearn: 0.8401797\ttotal: 4m 3s\tremaining: 9m 42s\n",
      "295:\tlearn: 0.8404970\ttotal: 4m 4s\tremaining: 9m 41s\n",
      "296:\tlearn: 0.8408349\ttotal: 4m 5s\tremaining: 9m 40s\n",
      "297:\tlearn: 0.8409113\ttotal: 4m 6s\tremaining: 9m 39s\n",
      "298:\tlearn: 0.8410127\ttotal: 4m 6s\tremaining: 9m 38s\n",
      "299:\tlearn: 0.8408510\ttotal: 4m 7s\tremaining: 9m 38s\n",
      "300:\tlearn: 0.8411828\ttotal: 4m 8s\tremaining: 9m 37s\n",
      "301:\tlearn: 0.8414615\ttotal: 4m 9s\tremaining: 9m 36s\n",
      "302:\tlearn: 0.8413817\ttotal: 4m 10s\tremaining: 9m 35s\n",
      "303:\tlearn: 0.8415578\ttotal: 4m 10s\tremaining: 9m 34s\n",
      "304:\tlearn: 0.8418801\ttotal: 4m 11s\tremaining: 9m 33s\n"
     ]
    },
    {
     "name": "stdout",
     "output_type": "stream",
     "text": [
      "305:\tlearn: 0.8416489\ttotal: 4m 12s\tremaining: 9m 32s\n",
      "306:\tlearn: 0.8420803\ttotal: 4m 13s\tremaining: 9m 32s\n",
      "307:\tlearn: 0.8424165\ttotal: 4m 14s\tremaining: 9m 31s\n",
      "308:\tlearn: 0.8424122\ttotal: 4m 15s\tremaining: 9m 30s\n",
      "309:\tlearn: 0.8426585\ttotal: 4m 15s\tremaining: 9m 29s\n",
      "310:\tlearn: 0.8430347\ttotal: 4m 16s\tremaining: 9m 28s\n",
      "311:\tlearn: 0.8432212\ttotal: 4m 17s\tremaining: 9m 27s\n",
      "312:\tlearn: 0.8432569\ttotal: 4m 18s\tremaining: 9m 27s\n",
      "313:\tlearn: 0.8429178\ttotal: 4m 19s\tremaining: 9m 26s\n",
      "314:\tlearn: 0.8431782\ttotal: 4m 19s\tremaining: 9m 25s\n",
      "315:\tlearn: 0.8435037\ttotal: 4m 20s\tremaining: 9m 24s\n",
      "316:\tlearn: 0.8437410\ttotal: 4m 21s\tremaining: 9m 23s\n",
      "317:\tlearn: 0.8440451\ttotal: 4m 22s\tremaining: 9m 22s\n",
      "318:\tlearn: 0.8441408\ttotal: 4m 23s\tremaining: 9m 21s\n",
      "319:\tlearn: 0.8433955\ttotal: 4m 24s\tremaining: 9m 21s\n",
      "320:\tlearn: 0.8435256\ttotal: 4m 24s\tremaining: 9m 20s\n",
      "321:\tlearn: 0.8436403\ttotal: 4m 25s\tremaining: 9m 19s\n",
      "322:\tlearn: 0.8437084\ttotal: 4m 26s\tremaining: 9m 18s\n",
      "323:\tlearn: 0.8437893\ttotal: 4m 27s\tremaining: 9m 17s\n",
      "324:\tlearn: 0.8442152\ttotal: 4m 28s\tremaining: 9m 16s\n",
      "325:\tlearn: 0.8443539\ttotal: 4m 28s\tremaining: 9m 16s\n",
      "326:\tlearn: 0.8443450\ttotal: 4m 29s\tremaining: 9m 15s\n",
      "327:\tlearn: 0.8446005\ttotal: 4m 30s\tremaining: 9m 14s\n",
      "328:\tlearn: 0.8447013\ttotal: 4m 31s\tremaining: 9m 13s\n",
      "329:\tlearn: 0.8446376\ttotal: 4m 32s\tremaining: 9m 12s\n",
      "330:\tlearn: 0.8449404\ttotal: 4m 32s\tremaining: 9m 11s\n",
      "331:\tlearn: 0.8452751\ttotal: 4m 33s\tremaining: 9m 10s\n",
      "332:\tlearn: 0.8452560\ttotal: 4m 34s\tremaining: 9m 9s\n",
      "333:\tlearn: 0.8453584\ttotal: 4m 35s\tremaining: 9m 9s\n",
      "334:\tlearn: 0.8457735\ttotal: 4m 36s\tremaining: 9m 8s\n",
      "335:\tlearn: 0.8459074\ttotal: 4m 37s\tremaining: 9m 7s\n",
      "336:\tlearn: 0.8459740\ttotal: 4m 37s\tremaining: 9m 6s\n",
      "337:\tlearn: 0.8459884\ttotal: 4m 38s\tremaining: 9m 5s\n",
      "338:\tlearn: 0.8462055\ttotal: 4m 39s\tremaining: 9m 4s\n",
      "339:\tlearn: 0.8462251\ttotal: 4m 40s\tremaining: 9m 4s\n",
      "340:\tlearn: 0.8462482\ttotal: 4m 41s\tremaining: 9m 3s\n",
      "341:\tlearn: 0.8464073\ttotal: 4m 41s\tremaining: 9m 2s\n",
      "342:\tlearn: 0.8464863\ttotal: 4m 42s\tremaining: 9m 1s\n",
      "343:\tlearn: 0.8468060\ttotal: 4m 43s\tremaining: 9m\n",
      "344:\tlearn: 0.8471792\ttotal: 4m 44s\tremaining: 8m 59s\n",
      "345:\tlearn: 0.8471181\ttotal: 4m 45s\tremaining: 8m 59s\n",
      "346:\tlearn: 0.8474876\ttotal: 4m 45s\tremaining: 8m 58s\n",
      "347:\tlearn: 0.8475724\ttotal: 4m 46s\tremaining: 8m 57s\n",
      "348:\tlearn: 0.8469322\ttotal: 4m 47s\tremaining: 8m 56s\n",
      "349:\tlearn: 0.8471909\ttotal: 4m 48s\tremaining: 8m 55s\n",
      "350:\tlearn: 0.8475082\ttotal: 4m 49s\tremaining: 8m 54s\n",
      "351:\tlearn: 0.8474716\ttotal: 4m 50s\tremaining: 8m 54s\n",
      "352:\tlearn: 0.8475828\ttotal: 4m 50s\tremaining: 8m 53s\n",
      "353:\tlearn: 0.8483461\ttotal: 4m 51s\tremaining: 8m 52s\n",
      "354:\tlearn: 0.8480078\ttotal: 4m 52s\tremaining: 8m 51s\n",
      "355:\tlearn: 0.8478892\ttotal: 4m 53s\tremaining: 8m 50s\n",
      "356:\tlearn: 0.8479060\ttotal: 4m 54s\tremaining: 8m 49s\n",
      "357:\tlearn: 0.8478755\ttotal: 4m 54s\tremaining: 8m 48s\n",
      "358:\tlearn: 0.8476121\ttotal: 4m 55s\tremaining: 8m 48s\n",
      "359:\tlearn: 0.8478704\ttotal: 4m 56s\tremaining: 8m 47s\n",
      "360:\tlearn: 0.8479818\ttotal: 4m 57s\tremaining: 8m 46s\n",
      "361:\tlearn: 0.8485398\ttotal: 4m 58s\tremaining: 8m 45s\n",
      "362:\tlearn: 0.8485710\ttotal: 4m 59s\tremaining: 8m 45s\n",
      "363:\tlearn: 0.8485315\ttotal: 5m\tremaining: 8m 44s\n",
      "364:\tlearn: 0.8484947\ttotal: 5m\tremaining: 8m 43s\n",
      "365:\tlearn: 0.8481714\ttotal: 5m 1s\tremaining: 8m 42s\n",
      "366:\tlearn: 0.8482294\ttotal: 5m 2s\tremaining: 8m 41s\n",
      "367:\tlearn: 0.8481780\ttotal: 5m 3s\tremaining: 8m 40s\n",
      "368:\tlearn: 0.8489287\ttotal: 5m 4s\tremaining: 8m 40s\n",
      "369:\tlearn: 0.8493282\ttotal: 5m 4s\tremaining: 8m 39s\n",
      "370:\tlearn: 0.8492685\ttotal: 5m 5s\tremaining: 8m 38s\n",
      "371:\tlearn: 0.8493764\ttotal: 5m 6s\tremaining: 8m 37s\n",
      "372:\tlearn: 0.8498666\ttotal: 5m 7s\tremaining: 8m 36s\n",
      "373:\tlearn: 0.8499931\ttotal: 5m 8s\tremaining: 8m 35s\n",
      "374:\tlearn: 0.8502237\ttotal: 5m 8s\tremaining: 8m 34s\n",
      "375:\tlearn: 0.8510437\ttotal: 5m 9s\tremaining: 8m 34s\n",
      "376:\tlearn: 0.8509001\ttotal: 5m 10s\tremaining: 8m 33s\n",
      "377:\tlearn: 0.8509204\ttotal: 5m 11s\tremaining: 8m 32s\n",
      "378:\tlearn: 0.8507982\ttotal: 5m 12s\tremaining: 8m 31s\n",
      "379:\tlearn: 0.8514690\ttotal: 5m 13s\tremaining: 8m 30s\n",
      "380:\tlearn: 0.8515652\ttotal: 5m 13s\tremaining: 8m 29s\n",
      "381:\tlearn: 0.8516362\ttotal: 5m 14s\tremaining: 8m 29s\n",
      "382:\tlearn: 0.8519262\ttotal: 5m 15s\tremaining: 8m 28s\n",
      "383:\tlearn: 0.8519085\ttotal: 5m 16s\tremaining: 8m 27s\n",
      "384:\tlearn: 0.8519898\ttotal: 5m 17s\tremaining: 8m 26s\n",
      "385:\tlearn: 0.8520413\ttotal: 5m 17s\tremaining: 8m 25s\n",
      "386:\tlearn: 0.8520631\ttotal: 5m 18s\tremaining: 8m 24s\n",
      "387:\tlearn: 0.8524604\ttotal: 5m 19s\tremaining: 8m 23s\n",
      "388:\tlearn: 0.8525738\ttotal: 5m 20s\tremaining: 8m 23s\n",
      "389:\tlearn: 0.8523295\ttotal: 5m 21s\tremaining: 8m 22s\n",
      "390:\tlearn: 0.8525342\ttotal: 5m 21s\tremaining: 8m 21s\n",
      "391:\tlearn: 0.8526973\ttotal: 5m 22s\tremaining: 8m 20s\n",
      "392:\tlearn: 0.8526204\ttotal: 5m 23s\tremaining: 8m 19s\n",
      "393:\tlearn: 0.8525231\ttotal: 5m 24s\tremaining: 8m 18s\n",
      "394:\tlearn: 0.8531207\ttotal: 5m 25s\tremaining: 8m 18s\n",
      "395:\tlearn: 0.8530349\ttotal: 5m 25s\tremaining: 8m 17s\n",
      "396:\tlearn: 0.8530292\ttotal: 5m 26s\tremaining: 8m 16s\n",
      "397:\tlearn: 0.8540847\ttotal: 5m 27s\tremaining: 8m 15s\n",
      "398:\tlearn: 0.8538684\ttotal: 5m 28s\tremaining: 8m 14s\n",
      "399:\tlearn: 0.8543263\ttotal: 5m 29s\tremaining: 8m 13s\n",
      "400:\tlearn: 0.8546706\ttotal: 5m 30s\tremaining: 8m 13s\n",
      "401:\tlearn: 0.8547752\ttotal: 5m 30s\tremaining: 8m 12s\n",
      "402:\tlearn: 0.8547920\ttotal: 5m 31s\tremaining: 8m 11s\n",
      "403:\tlearn: 0.8550471\ttotal: 5m 32s\tremaining: 8m 10s\n",
      "404:\tlearn: 0.8554258\ttotal: 5m 33s\tremaining: 8m 9s\n",
      "405:\tlearn: 0.8551718\ttotal: 5m 34s\tremaining: 8m 8s\n",
      "406:\tlearn: 0.8548602\ttotal: 5m 34s\tremaining: 8m 7s\n",
      "407:\tlearn: 0.8550096\ttotal: 5m 35s\tremaining: 8m 6s\n",
      "408:\tlearn: 0.8552589\ttotal: 5m 36s\tremaining: 8m 6s\n",
      "409:\tlearn: 0.8556086\ttotal: 5m 37s\tremaining: 8m 5s\n",
      "410:\tlearn: 0.8557622\ttotal: 5m 38s\tremaining: 8m 4s\n",
      "411:\tlearn: 0.8558142\ttotal: 5m 38s\tremaining: 8m 3s\n",
      "412:\tlearn: 0.8560147\ttotal: 5m 39s\tremaining: 8m 2s\n",
      "413:\tlearn: 0.8551422\ttotal: 5m 40s\tremaining: 8m 2s\n",
      "414:\tlearn: 0.8556268\ttotal: 5m 41s\tremaining: 8m 1s\n",
      "415:\tlearn: 0.8560390\ttotal: 5m 42s\tremaining: 8m\n",
      "416:\tlearn: 0.8557849\ttotal: 5m 42s\tremaining: 7m 59s\n",
      "417:\tlearn: 0.8562274\ttotal: 5m 43s\tremaining: 7m 58s\n",
      "418:\tlearn: 0.8560399\ttotal: 5m 44s\tremaining: 7m 57s\n",
      "419:\tlearn: 0.8561384\ttotal: 5m 45s\tremaining: 7m 56s\n",
      "420:\tlearn: 0.8560199\ttotal: 5m 46s\tremaining: 7m 56s\n",
      "421:\tlearn: 0.8560734\ttotal: 5m 46s\tremaining: 7m 55s\n",
      "422:\tlearn: 0.8564929\ttotal: 5m 47s\tremaining: 7m 54s\n",
      "423:\tlearn: 0.8562402\ttotal: 5m 48s\tremaining: 7m 53s\n",
      "424:\tlearn: 0.8564321\ttotal: 5m 49s\tremaining: 7m 52s\n",
      "425:\tlearn: 0.8565724\ttotal: 5m 50s\tremaining: 7m 51s\n",
      "426:\tlearn: 0.8567228\ttotal: 5m 50s\tremaining: 7m 50s\n",
      "427:\tlearn: 0.8571532\ttotal: 5m 51s\tremaining: 7m 50s\n",
      "428:\tlearn: 0.8570691\ttotal: 5m 52s\tremaining: 7m 49s\n",
      "429:\tlearn: 0.8573992\ttotal: 5m 53s\tremaining: 7m 48s\n",
      "430:\tlearn: 0.8575682\ttotal: 5m 54s\tremaining: 7m 47s\n",
      "431:\tlearn: 0.8581944\ttotal: 5m 54s\tremaining: 7m 46s\n",
      "432:\tlearn: 0.8585762\ttotal: 5m 55s\tremaining: 7m 45s\n",
      "433:\tlearn: 0.8585979\ttotal: 5m 56s\tremaining: 7m 45s\n",
      "434:\tlearn: 0.8588703\ttotal: 5m 57s\tremaining: 7m 44s\n",
      "435:\tlearn: 0.8589608\ttotal: 5m 58s\tremaining: 7m 43s\n",
      "436:\tlearn: 0.8591311\ttotal: 5m 59s\tremaining: 7m 42s\n",
      "437:\tlearn: 0.8591118\ttotal: 5m 59s\tremaining: 7m 41s\n",
      "438:\tlearn: 0.8591781\ttotal: 6m\tremaining: 7m 40s\n",
      "439:\tlearn: 0.8593058\ttotal: 6m 1s\tremaining: 7m 40s\n",
      "440:\tlearn: 0.8594518\ttotal: 6m 2s\tremaining: 7m 39s\n",
      "441:\tlearn: 0.8594015\ttotal: 6m 3s\tremaining: 7m 38s\n",
      "442:\tlearn: 0.8595683\ttotal: 6m 3s\tremaining: 7m 37s\n",
      "443:\tlearn: 0.8596476\ttotal: 6m 4s\tremaining: 7m 36s\n",
      "444:\tlearn: 0.8594323\ttotal: 6m 5s\tremaining: 7m 35s\n",
      "445:\tlearn: 0.8596872\ttotal: 6m 6s\tremaining: 7m 35s\n",
      "446:\tlearn: 0.8597682\ttotal: 6m 7s\tremaining: 7m 34s\n",
      "447:\tlearn: 0.8599295\ttotal: 6m 7s\tremaining: 7m 33s\n",
      "448:\tlearn: 0.8598398\ttotal: 6m 8s\tremaining: 7m 32s\n",
      "449:\tlearn: 0.8598756\ttotal: 6m 9s\tremaining: 7m 31s\n",
      "450:\tlearn: 0.8598667\ttotal: 6m 10s\tremaining: 7m 30s\n",
      "451:\tlearn: 0.8603601\ttotal: 6m 11s\tremaining: 7m 30s\n",
      "452:\tlearn: 0.8606317\ttotal: 6m 11s\tremaining: 7m 29s\n",
      "453:\tlearn: 0.8606089\ttotal: 6m 12s\tremaining: 7m 28s\n",
      "454:\tlearn: 0.8608290\ttotal: 6m 13s\tremaining: 7m 27s\n",
      "455:\tlearn: 0.8607331\ttotal: 6m 14s\tremaining: 7m 26s\n",
      "456:\tlearn: 0.8609501\ttotal: 6m 15s\tremaining: 7m 25s\n",
      "457:\tlearn: 0.8609340\ttotal: 6m 15s\tremaining: 7m 24s\n"
     ]
    },
    {
     "name": "stdout",
     "output_type": "stream",
     "text": [
      "458:\tlearn: 0.8612018\ttotal: 6m 16s\tremaining: 7m 24s\n",
      "459:\tlearn: 0.8612843\ttotal: 6m 17s\tremaining: 7m 23s\n",
      "460:\tlearn: 0.8613729\ttotal: 6m 18s\tremaining: 7m 22s\n",
      "461:\tlearn: 0.8617546\ttotal: 6m 19s\tremaining: 7m 21s\n",
      "462:\tlearn: 0.8616771\ttotal: 6m 19s\tremaining: 7m 20s\n",
      "463:\tlearn: 0.8613648\ttotal: 6m 20s\tremaining: 7m 19s\n",
      "464:\tlearn: 0.8616243\ttotal: 6m 21s\tremaining: 7m 19s\n",
      "465:\tlearn: 0.8617632\ttotal: 6m 22s\tremaining: 7m 18s\n",
      "466:\tlearn: 0.8617603\ttotal: 6m 23s\tremaining: 7m 17s\n",
      "467:\tlearn: 0.8617775\ttotal: 6m 24s\tremaining: 7m 16s\n",
      "468:\tlearn: 0.8616772\ttotal: 6m 24s\tremaining: 7m 15s\n",
      "469:\tlearn: 0.8620528\ttotal: 6m 25s\tremaining: 7m 14s\n",
      "470:\tlearn: 0.8617049\ttotal: 6m 26s\tremaining: 7m 14s\n",
      "471:\tlearn: 0.8622615\ttotal: 6m 27s\tremaining: 7m 13s\n",
      "472:\tlearn: 0.8625204\ttotal: 6m 28s\tremaining: 7m 12s\n",
      "473:\tlearn: 0.8624179\ttotal: 6m 28s\tremaining: 7m 11s\n",
      "474:\tlearn: 0.8628119\ttotal: 6m 29s\tremaining: 7m 10s\n",
      "475:\tlearn: 0.8631274\ttotal: 6m 30s\tremaining: 7m 9s\n",
      "476:\tlearn: 0.8628744\ttotal: 6m 31s\tremaining: 7m 8s\n",
      "477:\tlearn: 0.8627632\ttotal: 6m 32s\tremaining: 7m 8s\n",
      "478:\tlearn: 0.8629666\ttotal: 6m 32s\tremaining: 7m 7s\n",
      "479:\tlearn: 0.8628963\ttotal: 6m 33s\tremaining: 7m 6s\n",
      "480:\tlearn: 0.8631964\ttotal: 6m 34s\tremaining: 7m 5s\n",
      "481:\tlearn: 0.8632037\ttotal: 6m 35s\tremaining: 7m 4s\n",
      "482:\tlearn: 0.8631471\ttotal: 6m 36s\tremaining: 7m 4s\n",
      "483:\tlearn: 0.8635666\ttotal: 6m 36s\tremaining: 7m 3s\n",
      "484:\tlearn: 0.8636094\ttotal: 6m 37s\tremaining: 7m 2s\n",
      "485:\tlearn: 0.8639643\ttotal: 6m 38s\tremaining: 7m 1s\n",
      "486:\tlearn: 0.8642925\ttotal: 6m 39s\tremaining: 7m\n",
      "487:\tlearn: 0.8643425\ttotal: 6m 40s\tremaining: 6m 59s\n",
      "488:\tlearn: 0.8642792\ttotal: 6m 40s\tremaining: 6m 58s\n",
      "489:\tlearn: 0.8644210\ttotal: 6m 41s\tremaining: 6m 58s\n",
      "490:\tlearn: 0.8642120\ttotal: 6m 42s\tremaining: 6m 57s\n",
      "491:\tlearn: 0.8640153\ttotal: 6m 43s\tremaining: 6m 56s\n",
      "492:\tlearn: 0.8644181\ttotal: 6m 44s\tremaining: 6m 55s\n",
      "493:\tlearn: 0.8647289\ttotal: 6m 44s\tremaining: 6m 54s\n",
      "494:\tlearn: 0.8650473\ttotal: 6m 45s\tremaining: 6m 53s\n",
      "495:\tlearn: 0.8647848\ttotal: 6m 46s\tremaining: 6m 53s\n",
      "496:\tlearn: 0.8648292\ttotal: 6m 47s\tremaining: 6m 52s\n",
      "497:\tlearn: 0.8654929\ttotal: 6m 48s\tremaining: 6m 51s\n",
      "498:\tlearn: 0.8656566\ttotal: 6m 48s\tremaining: 6m 50s\n",
      "499:\tlearn: 0.8658589\ttotal: 6m 49s\tremaining: 6m 49s\n",
      "500:\tlearn: 0.8657329\ttotal: 6m 50s\tremaining: 6m 48s\n",
      "501:\tlearn: 0.8656555\ttotal: 6m 51s\tremaining: 6m 48s\n",
      "502:\tlearn: 0.8659949\ttotal: 6m 52s\tremaining: 6m 47s\n",
      "503:\tlearn: 0.8659960\ttotal: 6m 52s\tremaining: 6m 46s\n",
      "504:\tlearn: 0.8662573\ttotal: 6m 53s\tremaining: 6m 45s\n",
      "505:\tlearn: 0.8663651\ttotal: 6m 54s\tremaining: 6m 44s\n",
      "506:\tlearn: 0.8664359\ttotal: 6m 55s\tremaining: 6m 43s\n",
      "507:\tlearn: 0.8667338\ttotal: 6m 56s\tremaining: 6m 43s\n",
      "508:\tlearn: 0.8666738\ttotal: 6m 56s\tremaining: 6m 42s\n",
      "509:\tlearn: 0.8667410\ttotal: 6m 57s\tremaining: 6m 41s\n",
      "510:\tlearn: 0.8666798\ttotal: 6m 58s\tremaining: 6m 40s\n",
      "511:\tlearn: 0.8668992\ttotal: 6m 59s\tremaining: 6m 39s\n",
      "512:\tlearn: 0.8667401\ttotal: 7m\tremaining: 6m 38s\n",
      "513:\tlearn: 0.8666892\ttotal: 7m\tremaining: 6m 38s\n",
      "514:\tlearn: 0.8669466\ttotal: 7m 1s\tremaining: 6m 37s\n",
      "515:\tlearn: 0.8670803\ttotal: 7m 2s\tremaining: 6m 36s\n",
      "516:\tlearn: 0.8671421\ttotal: 7m 3s\tremaining: 6m 35s\n",
      "517:\tlearn: 0.8667634\ttotal: 7m 4s\tremaining: 6m 34s\n",
      "518:\tlearn: 0.8666633\ttotal: 7m 5s\tremaining: 6m 33s\n",
      "519:\tlearn: 0.8673269\ttotal: 7m 5s\tremaining: 6m 33s\n",
      "520:\tlearn: 0.8673971\ttotal: 7m 6s\tremaining: 6m 32s\n",
      "521:\tlearn: 0.8669751\ttotal: 7m 7s\tremaining: 6m 31s\n",
      "522:\tlearn: 0.8671843\ttotal: 7m 8s\tremaining: 6m 30s\n",
      "523:\tlearn: 0.8672561\ttotal: 7m 9s\tremaining: 6m 30s\n",
      "524:\tlearn: 0.8675122\ttotal: 7m 10s\tremaining: 6m 29s\n",
      "525:\tlearn: 0.8674574\ttotal: 7m 11s\tremaining: 6m 28s\n",
      "526:\tlearn: 0.8677224\ttotal: 7m 11s\tremaining: 6m 27s\n",
      "527:\tlearn: 0.8679544\ttotal: 7m 12s\tremaining: 6m 26s\n",
      "528:\tlearn: 0.8679387\ttotal: 7m 13s\tremaining: 6m 25s\n",
      "529:\tlearn: 0.8679954\ttotal: 7m 14s\tremaining: 6m 25s\n",
      "530:\tlearn: 0.8680113\ttotal: 7m 15s\tremaining: 6m 24s\n",
      "531:\tlearn: 0.8684658\ttotal: 7m 15s\tremaining: 6m 23s\n",
      "532:\tlearn: 0.8679774\ttotal: 7m 16s\tremaining: 6m 22s\n",
      "533:\tlearn: 0.8682370\ttotal: 7m 17s\tremaining: 6m 21s\n",
      "534:\tlearn: 0.8682916\ttotal: 7m 18s\tremaining: 6m 20s\n",
      "535:\tlearn: 0.8682391\ttotal: 7m 19s\tremaining: 6m 20s\n",
      "536:\tlearn: 0.8684722\ttotal: 7m 19s\tremaining: 6m 19s\n",
      "537:\tlearn: 0.8686090\ttotal: 7m 20s\tremaining: 6m 18s\n",
      "538:\tlearn: 0.8687151\ttotal: 7m 21s\tremaining: 6m 17s\n",
      "539:\tlearn: 0.8687291\ttotal: 7m 22s\tremaining: 6m 16s\n",
      "540:\tlearn: 0.8688956\ttotal: 7m 23s\tremaining: 6m 15s\n",
      "541:\tlearn: 0.8691085\ttotal: 7m 23s\tremaining: 6m 15s\n",
      "542:\tlearn: 0.8694510\ttotal: 7m 24s\tremaining: 6m 14s\n",
      "543:\tlearn: 0.8694996\ttotal: 7m 25s\tremaining: 6m 13s\n",
      "544:\tlearn: 0.8695243\ttotal: 7m 26s\tremaining: 6m 12s\n",
      "545:\tlearn: 0.8693580\ttotal: 7m 27s\tremaining: 6m 11s\n",
      "546:\tlearn: 0.8695776\ttotal: 7m 27s\tremaining: 6m 10s\n",
      "547:\tlearn: 0.8695722\ttotal: 7m 28s\tremaining: 6m 10s\n",
      "548:\tlearn: 0.8698950\ttotal: 7m 29s\tremaining: 6m 9s\n",
      "549:\tlearn: 0.8697370\ttotal: 7m 30s\tremaining: 6m 8s\n",
      "550:\tlearn: 0.8696768\ttotal: 7m 31s\tremaining: 6m 7s\n",
      "551:\tlearn: 0.8698396\ttotal: 7m 31s\tremaining: 6m 6s\n",
      "552:\tlearn: 0.8701946\ttotal: 7m 32s\tremaining: 6m 5s\n",
      "553:\tlearn: 0.8701227\ttotal: 7m 33s\tremaining: 6m 5s\n",
      "554:\tlearn: 0.8700014\ttotal: 7m 34s\tremaining: 6m 4s\n",
      "555:\tlearn: 0.8699953\ttotal: 7m 35s\tremaining: 6m 3s\n",
      "556:\tlearn: 0.8698963\ttotal: 7m 35s\tremaining: 6m 2s\n",
      "557:\tlearn: 0.8699380\ttotal: 7m 36s\tremaining: 6m 1s\n",
      "558:\tlearn: 0.8699249\ttotal: 7m 37s\tremaining: 6m\n",
      "559:\tlearn: 0.8701353\ttotal: 7m 38s\tremaining: 6m\n",
      "560:\tlearn: 0.8703079\ttotal: 7m 39s\tremaining: 5m 59s\n",
      "561:\tlearn: 0.8704400\ttotal: 7m 39s\tremaining: 5m 58s\n",
      "562:\tlearn: 0.8703643\ttotal: 7m 40s\tremaining: 5m 57s\n",
      "563:\tlearn: 0.8702507\ttotal: 7m 41s\tremaining: 5m 56s\n",
      "564:\tlearn: 0.8704895\ttotal: 7m 42s\tremaining: 5m 55s\n",
      "565:\tlearn: 0.8703886\ttotal: 7m 43s\tremaining: 5m 55s\n",
      "566:\tlearn: 0.8706979\ttotal: 7m 43s\tremaining: 5m 54s\n",
      "567:\tlearn: 0.8708383\ttotal: 7m 44s\tremaining: 5m 53s\n",
      "568:\tlearn: 0.8709668\ttotal: 7m 45s\tremaining: 5m 52s\n",
      "569:\tlearn: 0.8711323\ttotal: 7m 46s\tremaining: 5m 51s\n",
      "570:\tlearn: 0.8711970\ttotal: 7m 47s\tremaining: 5m 50s\n",
      "571:\tlearn: 0.8713250\ttotal: 7m 47s\tremaining: 5m 50s\n",
      "572:\tlearn: 0.8712203\ttotal: 7m 48s\tremaining: 5m 49s\n",
      "573:\tlearn: 0.8712451\ttotal: 7m 49s\tremaining: 5m 48s\n",
      "574:\tlearn: 0.8711338\ttotal: 7m 50s\tremaining: 5m 47s\n",
      "575:\tlearn: 0.8709546\ttotal: 7m 51s\tremaining: 5m 46s\n",
      "576:\tlearn: 0.8702824\ttotal: 7m 51s\tremaining: 5m 45s\n",
      "577:\tlearn: 0.8701127\ttotal: 7m 52s\tremaining: 5m 45s\n",
      "578:\tlearn: 0.8705463\ttotal: 7m 53s\tremaining: 5m 44s\n",
      "579:\tlearn: 0.8707746\ttotal: 7m 54s\tremaining: 5m 43s\n",
      "580:\tlearn: 0.8711976\ttotal: 7m 55s\tremaining: 5m 42s\n",
      "581:\tlearn: 0.8712606\ttotal: 7m 56s\tremaining: 5m 41s\n",
      "582:\tlearn: 0.8713497\ttotal: 7m 56s\tremaining: 5m 41s\n",
      "583:\tlearn: 0.8714675\ttotal: 7m 57s\tremaining: 5m 40s\n",
      "584:\tlearn: 0.8716983\ttotal: 7m 58s\tremaining: 5m 39s\n",
      "585:\tlearn: 0.8715078\ttotal: 7m 59s\tremaining: 5m 38s\n",
      "586:\tlearn: 0.8714686\ttotal: 8m\tremaining: 5m 37s\n",
      "587:\tlearn: 0.8719204\ttotal: 8m\tremaining: 5m 36s\n",
      "588:\tlearn: 0.8719479\ttotal: 8m 1s\tremaining: 5m 36s\n",
      "589:\tlearn: 0.8721341\ttotal: 8m 2s\tremaining: 5m 35s\n",
      "590:\tlearn: 0.8724332\ttotal: 8m 3s\tremaining: 5m 34s\n",
      "591:\tlearn: 0.8717730\ttotal: 8m 4s\tremaining: 5m 33s\n",
      "592:\tlearn: 0.8717952\ttotal: 8m 4s\tremaining: 5m 32s\n",
      "593:\tlearn: 0.8722375\ttotal: 8m 5s\tremaining: 5m 31s\n",
      "594:\tlearn: 0.8723124\ttotal: 8m 6s\tremaining: 5m 31s\n",
      "595:\tlearn: 0.8721759\ttotal: 8m 7s\tremaining: 5m 30s\n",
      "596:\tlearn: 0.8713909\ttotal: 8m 8s\tremaining: 5m 29s\n",
      "597:\tlearn: 0.8716393\ttotal: 8m 8s\tremaining: 5m 28s\n",
      "598:\tlearn: 0.8713946\ttotal: 8m 9s\tremaining: 5m 27s\n",
      "599:\tlearn: 0.8719368\ttotal: 8m 10s\tremaining: 5m 26s\n",
      "600:\tlearn: 0.8717347\ttotal: 8m 11s\tremaining: 5m 26s\n",
      "601:\tlearn: 0.8719559\ttotal: 8m 12s\tremaining: 5m 25s\n",
      "602:\tlearn: 0.8723068\ttotal: 8m 12s\tremaining: 5m 24s\n",
      "603:\tlearn: 0.8726198\ttotal: 8m 13s\tremaining: 5m 23s\n",
      "604:\tlearn: 0.8727397\ttotal: 8m 14s\tremaining: 5m 22s\n",
      "605:\tlearn: 0.8730190\ttotal: 8m 15s\tremaining: 5m 22s\n",
      "606:\tlearn: 0.8730305\ttotal: 8m 16s\tremaining: 5m 21s\n",
      "607:\tlearn: 0.8731263\ttotal: 8m 16s\tremaining: 5m 20s\n",
      "608:\tlearn: 0.8730492\ttotal: 8m 17s\tremaining: 5m 19s\n",
      "609:\tlearn: 0.8731495\ttotal: 8m 18s\tremaining: 5m 18s\n",
      "610:\tlearn: 0.8731418\ttotal: 8m 19s\tremaining: 5m 17s\n",
      "611:\tlearn: 0.8732605\ttotal: 8m 20s\tremaining: 5m 17s\n"
     ]
    },
    {
     "name": "stdout",
     "output_type": "stream",
     "text": [
      "612:\tlearn: 0.8732010\ttotal: 8m 20s\tremaining: 5m 16s\n",
      "613:\tlearn: 0.8733363\ttotal: 8m 21s\tremaining: 5m 15s\n",
      "614:\tlearn: 0.8737697\ttotal: 8m 22s\tremaining: 5m 14s\n",
      "615:\tlearn: 0.8737217\ttotal: 8m 23s\tremaining: 5m 13s\n",
      "616:\tlearn: 0.8737900\ttotal: 8m 24s\tremaining: 5m 12s\n",
      "617:\tlearn: 0.8738723\ttotal: 8m 24s\tremaining: 5m 12s\n",
      "618:\tlearn: 0.8740066\ttotal: 8m 25s\tremaining: 5m 11s\n",
      "619:\tlearn: 0.8741422\ttotal: 8m 26s\tremaining: 5m 10s\n",
      "620:\tlearn: 0.8740373\ttotal: 8m 27s\tremaining: 5m 9s\n",
      "621:\tlearn: 0.8741993\ttotal: 8m 28s\tremaining: 5m 8s\n",
      "622:\tlearn: 0.8743696\ttotal: 8m 28s\tremaining: 5m 7s\n",
      "623:\tlearn: 0.8743325\ttotal: 8m 29s\tremaining: 5m 7s\n",
      "624:\tlearn: 0.8745319\ttotal: 8m 30s\tremaining: 5m 6s\n",
      "625:\tlearn: 0.8746060\ttotal: 8m 31s\tremaining: 5m 5s\n",
      "626:\tlearn: 0.8745110\ttotal: 8m 32s\tremaining: 5m 4s\n",
      "627:\tlearn: 0.8745183\ttotal: 8m 32s\tremaining: 5m 3s\n",
      "628:\tlearn: 0.8749282\ttotal: 8m 33s\tremaining: 5m 2s\n",
      "629:\tlearn: 0.8747895\ttotal: 8m 34s\tremaining: 5m 2s\n",
      "630:\tlearn: 0.8749248\ttotal: 8m 35s\tremaining: 5m 1s\n",
      "631:\tlearn: 0.8746512\ttotal: 8m 36s\tremaining: 5m\n",
      "632:\tlearn: 0.8744156\ttotal: 8m 36s\tremaining: 4m 59s\n",
      "633:\tlearn: 0.8747600\ttotal: 8m 37s\tremaining: 4m 58s\n",
      "634:\tlearn: 0.8747865\ttotal: 8m 38s\tremaining: 4m 58s\n",
      "635:\tlearn: 0.8747661\ttotal: 8m 39s\tremaining: 4m 57s\n",
      "636:\tlearn: 0.8748804\ttotal: 8m 40s\tremaining: 4m 56s\n",
      "637:\tlearn: 0.8752237\ttotal: 8m 40s\tremaining: 4m 55s\n",
      "638:\tlearn: 0.8754556\ttotal: 8m 41s\tremaining: 4m 54s\n",
      "639:\tlearn: 0.8755545\ttotal: 8m 42s\tremaining: 4m 53s\n",
      "640:\tlearn: 0.8754926\ttotal: 8m 43s\tremaining: 4m 53s\n",
      "641:\tlearn: 0.8755355\ttotal: 8m 44s\tremaining: 4m 52s\n",
      "642:\tlearn: 0.8760012\ttotal: 8m 44s\tremaining: 4m 51s\n",
      "643:\tlearn: 0.8754888\ttotal: 8m 45s\tremaining: 4m 50s\n",
      "644:\tlearn: 0.8755315\ttotal: 8m 46s\tremaining: 4m 49s\n",
      "645:\tlearn: 0.8754591\ttotal: 8m 47s\tremaining: 4m 48s\n",
      "646:\tlearn: 0.8758299\ttotal: 8m 48s\tremaining: 4m 48s\n",
      "647:\tlearn: 0.8762262\ttotal: 8m 49s\tremaining: 4m 47s\n",
      "648:\tlearn: 0.8761327\ttotal: 8m 49s\tremaining: 4m 46s\n",
      "649:\tlearn: 0.8759952\ttotal: 8m 50s\tremaining: 4m 45s\n",
      "650:\tlearn: 0.8761945\ttotal: 8m 51s\tremaining: 4m 44s\n",
      "651:\tlearn: 0.8760560\ttotal: 8m 52s\tremaining: 4m 44s\n",
      "652:\tlearn: 0.8761661\ttotal: 8m 53s\tremaining: 4m 43s\n",
      "653:\tlearn: 0.8761848\ttotal: 8m 54s\tremaining: 4m 42s\n",
      "654:\tlearn: 0.8762601\ttotal: 8m 54s\tremaining: 4m 41s\n",
      "655:\tlearn: 0.8761989\ttotal: 8m 55s\tremaining: 4m 40s\n",
      "656:\tlearn: 0.8762192\ttotal: 8m 56s\tremaining: 4m 40s\n",
      "657:\tlearn: 0.8764658\ttotal: 8m 57s\tremaining: 4m 39s\n",
      "658:\tlearn: 0.8767051\ttotal: 8m 58s\tremaining: 4m 38s\n",
      "659:\tlearn: 0.8765270\ttotal: 8m 59s\tremaining: 4m 37s\n",
      "660:\tlearn: 0.8767007\ttotal: 9m\tremaining: 4m 37s\n",
      "661:\tlearn: 0.8769635\ttotal: 9m\tremaining: 4m 36s\n",
      "662:\tlearn: 0.8774731\ttotal: 9m 1s\tremaining: 4m 35s\n",
      "663:\tlearn: 0.8773895\ttotal: 9m 2s\tremaining: 4m 34s\n",
      "664:\tlearn: 0.8775061\ttotal: 9m 3s\tremaining: 4m 33s\n",
      "665:\tlearn: 0.8771939\ttotal: 9m 4s\tremaining: 4m 32s\n",
      "666:\tlearn: 0.8773641\ttotal: 9m 5s\tremaining: 4m 32s\n",
      "667:\tlearn: 0.8776596\ttotal: 9m 5s\tremaining: 4m 31s\n",
      "668:\tlearn: 0.8778172\ttotal: 9m 6s\tremaining: 4m 30s\n",
      "669:\tlearn: 0.8775791\ttotal: 9m 7s\tremaining: 4m 29s\n",
      "670:\tlearn: 0.8777012\ttotal: 9m 8s\tremaining: 4m 28s\n",
      "671:\tlearn: 0.8776022\ttotal: 9m 9s\tremaining: 4m 28s\n",
      "672:\tlearn: 0.8775210\ttotal: 9m 9s\tremaining: 4m 27s\n",
      "673:\tlearn: 0.8773183\ttotal: 9m 10s\tremaining: 4m 26s\n",
      "674:\tlearn: 0.8774807\ttotal: 9m 11s\tremaining: 4m 25s\n",
      "675:\tlearn: 0.8775349\ttotal: 9m 12s\tremaining: 4m 24s\n",
      "676:\tlearn: 0.8775879\ttotal: 9m 13s\tremaining: 4m 23s\n",
      "677:\tlearn: 0.8776437\ttotal: 9m 13s\tremaining: 4m 23s\n",
      "678:\tlearn: 0.8780130\ttotal: 9m 14s\tremaining: 4m 22s\n",
      "679:\tlearn: 0.8780841\ttotal: 9m 15s\tremaining: 4m 21s\n",
      "680:\tlearn: 0.8784760\ttotal: 9m 16s\tremaining: 4m 20s\n",
      "681:\tlearn: 0.8784775\ttotal: 9m 17s\tremaining: 4m 19s\n",
      "682:\tlearn: 0.8785115\ttotal: 9m 17s\tremaining: 4m 18s\n",
      "683:\tlearn: 0.8784044\ttotal: 9m 18s\tremaining: 4m 18s\n",
      "684:\tlearn: 0.8782663\ttotal: 9m 19s\tremaining: 4m 17s\n",
      "685:\tlearn: 0.8784158\ttotal: 9m 20s\tremaining: 4m 16s\n",
      "686:\tlearn: 0.8787858\ttotal: 9m 21s\tremaining: 4m 15s\n",
      "687:\tlearn: 0.8789570\ttotal: 9m 21s\tremaining: 4m 14s\n",
      "688:\tlearn: 0.8788298\ttotal: 9m 22s\tremaining: 4m 14s\n",
      "689:\tlearn: 0.8791170\ttotal: 9m 23s\tremaining: 4m 13s\n",
      "690:\tlearn: 0.8791360\ttotal: 9m 24s\tremaining: 4m 12s\n",
      "691:\tlearn: 0.8784804\ttotal: 9m 25s\tremaining: 4m 11s\n",
      "692:\tlearn: 0.8787079\ttotal: 9m 25s\tremaining: 4m 10s\n",
      "693:\tlearn: 0.8789227\ttotal: 9m 26s\tremaining: 4m 9s\n",
      "694:\tlearn: 0.8791393\ttotal: 9m 27s\tremaining: 4m 9s\n",
      "695:\tlearn: 0.8794391\ttotal: 9m 28s\tremaining: 4m 8s\n",
      "696:\tlearn: 0.8794484\ttotal: 9m 29s\tremaining: 4m 7s\n",
      "697:\tlearn: 0.8794259\ttotal: 9m 29s\tremaining: 4m 6s\n",
      "698:\tlearn: 0.8790149\ttotal: 9m 30s\tremaining: 4m 5s\n",
      "699:\tlearn: 0.8792289\ttotal: 9m 31s\tremaining: 4m 4s\n",
      "700:\tlearn: 0.8794030\ttotal: 9m 32s\tremaining: 4m 4s\n",
      "701:\tlearn: 0.8794785\ttotal: 9m 33s\tremaining: 4m 3s\n",
      "702:\tlearn: 0.8794409\ttotal: 9m 34s\tremaining: 4m 2s\n",
      "703:\tlearn: 0.8792218\ttotal: 9m 34s\tremaining: 4m 1s\n",
      "704:\tlearn: 0.8793314\ttotal: 9m 35s\tremaining: 4m\n",
      "705:\tlearn: 0.8796022\ttotal: 9m 36s\tremaining: 4m\n",
      "706:\tlearn: 0.8790520\ttotal: 9m 37s\tremaining: 3m 59s\n",
      "707:\tlearn: 0.8791858\ttotal: 9m 38s\tremaining: 3m 58s\n",
      "708:\tlearn: 0.8793012\ttotal: 9m 38s\tremaining: 3m 57s\n",
      "709:\tlearn: 0.8797089\ttotal: 9m 39s\tremaining: 3m 56s\n",
      "710:\tlearn: 0.8794640\ttotal: 9m 40s\tremaining: 3m 55s\n",
      "711:\tlearn: 0.8791729\ttotal: 9m 41s\tremaining: 3m 55s\n",
      "712:\tlearn: 0.8795696\ttotal: 9m 42s\tremaining: 3m 54s\n",
      "713:\tlearn: 0.8798266\ttotal: 9m 42s\tremaining: 3m 53s\n",
      "714:\tlearn: 0.8797242\ttotal: 9m 43s\tremaining: 3m 52s\n",
      "715:\tlearn: 0.8801687\ttotal: 9m 44s\tremaining: 3m 51s\n",
      "716:\tlearn: 0.8802842\ttotal: 9m 45s\tremaining: 3m 51s\n",
      "717:\tlearn: 0.8798581\ttotal: 9m 46s\tremaining: 3m 50s\n",
      "718:\tlearn: 0.8800564\ttotal: 9m 46s\tremaining: 3m 49s\n",
      "719:\tlearn: 0.8803704\ttotal: 9m 47s\tremaining: 3m 48s\n",
      "720:\tlearn: 0.8805408\ttotal: 9m 48s\tremaining: 3m 47s\n",
      "721:\tlearn: 0.8804841\ttotal: 9m 49s\tremaining: 3m 46s\n",
      "722:\tlearn: 0.8799123\ttotal: 9m 50s\tremaining: 3m 46s\n",
      "723:\tlearn: 0.8798682\ttotal: 9m 51s\tremaining: 3m 45s\n",
      "724:\tlearn: 0.8798494\ttotal: 9m 51s\tremaining: 3m 44s\n",
      "725:\tlearn: 0.8800670\ttotal: 9m 52s\tremaining: 3m 43s\n",
      "726:\tlearn: 0.8799596\ttotal: 9m 53s\tremaining: 3m 42s\n",
      "727:\tlearn: 0.8800861\ttotal: 9m 54s\tremaining: 3m 42s\n",
      "728:\tlearn: 0.8801409\ttotal: 9m 55s\tremaining: 3m 41s\n",
      "729:\tlearn: 0.8802091\ttotal: 9m 55s\tremaining: 3m 40s\n",
      "730:\tlearn: 0.8803224\ttotal: 9m 56s\tremaining: 3m 39s\n",
      "731:\tlearn: 0.8803905\ttotal: 9m 57s\tremaining: 3m 38s\n",
      "732:\tlearn: 0.8803964\ttotal: 9m 58s\tremaining: 3m 37s\n",
      "733:\tlearn: 0.8807310\ttotal: 9m 59s\tremaining: 3m 37s\n",
      "734:\tlearn: 0.8803457\ttotal: 9m 59s\tremaining: 3m 36s\n",
      "735:\tlearn: 0.8800600\ttotal: 10m\tremaining: 3m 35s\n",
      "736:\tlearn: 0.8802210\ttotal: 10m 1s\tremaining: 3m 34s\n",
      "737:\tlearn: 0.8804092\ttotal: 10m 2s\tremaining: 3m 33s\n",
      "738:\tlearn: 0.8804502\ttotal: 10m 3s\tremaining: 3m 33s\n",
      "739:\tlearn: 0.8805473\ttotal: 10m 3s\tremaining: 3m 32s\n",
      "740:\tlearn: 0.8810598\ttotal: 10m 4s\tremaining: 3m 31s\n",
      "741:\tlearn: 0.8810350\ttotal: 10m 5s\tremaining: 3m 30s\n",
      "742:\tlearn: 0.8812572\ttotal: 10m 6s\tremaining: 3m 29s\n",
      "743:\tlearn: 0.8815779\ttotal: 10m 7s\tremaining: 3m 28s\n",
      "744:\tlearn: 0.8815509\ttotal: 10m 8s\tremaining: 3m 28s\n",
      "745:\tlearn: 0.8815586\ttotal: 10m 8s\tremaining: 3m 27s\n",
      "746:\tlearn: 0.8816700\ttotal: 10m 9s\tremaining: 3m 26s\n",
      "747:\tlearn: 0.8816356\ttotal: 10m 10s\tremaining: 3m 25s\n",
      "748:\tlearn: 0.8820169\ttotal: 10m 11s\tremaining: 3m 24s\n",
      "749:\tlearn: 0.8820766\ttotal: 10m 12s\tremaining: 3m 24s\n",
      "750:\tlearn: 0.8821755\ttotal: 10m 12s\tremaining: 3m 23s\n",
      "751:\tlearn: 0.8821645\ttotal: 10m 13s\tremaining: 3m 22s\n",
      "752:\tlearn: 0.8822484\ttotal: 10m 14s\tremaining: 3m 21s\n",
      "753:\tlearn: 0.8823551\ttotal: 10m 15s\tremaining: 3m 20s\n",
      "754:\tlearn: 0.8818023\ttotal: 10m 16s\tremaining: 3m 19s\n",
      "755:\tlearn: 0.8819108\ttotal: 10m 16s\tremaining: 3m 19s\n",
      "756:\tlearn: 0.8815615\ttotal: 10m 17s\tremaining: 3m 18s\n",
      "757:\tlearn: 0.8820621\ttotal: 10m 18s\tremaining: 3m 17s\n",
      "758:\tlearn: 0.8820691\ttotal: 10m 19s\tremaining: 3m 16s\n",
      "759:\tlearn: 0.8820080\ttotal: 10m 20s\tremaining: 3m 15s\n",
      "760:\tlearn: 0.8820003\ttotal: 10m 20s\tremaining: 3m 14s\n",
      "761:\tlearn: 0.8823314\ttotal: 10m 21s\tremaining: 3m 14s\n",
      "762:\tlearn: 0.8825380\ttotal: 10m 22s\tremaining: 3m 13s\n",
      "763:\tlearn: 0.8822492\ttotal: 10m 23s\tremaining: 3m 12s\n",
      "764:\tlearn: 0.8824992\ttotal: 10m 24s\tremaining: 3m 11s\n"
     ]
    },
    {
     "name": "stdout",
     "output_type": "stream",
     "text": [
      "765:\tlearn: 0.8826571\ttotal: 10m 24s\tremaining: 3m 10s\n",
      "766:\tlearn: 0.8821386\ttotal: 10m 25s\tremaining: 3m 10s\n",
      "767:\tlearn: 0.8823725\ttotal: 10m 26s\tremaining: 3m 9s\n",
      "768:\tlearn: 0.8826264\ttotal: 10m 27s\tremaining: 3m 8s\n",
      "769:\tlearn: 0.8829874\ttotal: 10m 28s\tremaining: 3m 7s\n",
      "770:\tlearn: 0.8832902\ttotal: 10m 28s\tremaining: 3m 6s\n",
      "771:\tlearn: 0.8832515\ttotal: 10m 29s\tremaining: 3m 5s\n",
      "772:\tlearn: 0.8832133\ttotal: 10m 30s\tremaining: 3m 5s\n",
      "773:\tlearn: 0.8824888\ttotal: 10m 31s\tremaining: 3m 4s\n",
      "774:\tlearn: 0.8826136\ttotal: 10m 32s\tremaining: 3m 3s\n",
      "775:\tlearn: 0.8826642\ttotal: 10m 32s\tremaining: 3m 2s\n",
      "776:\tlearn: 0.8830869\ttotal: 10m 33s\tremaining: 3m 1s\n",
      "777:\tlearn: 0.8829890\ttotal: 10m 34s\tremaining: 3m 1s\n",
      "778:\tlearn: 0.8830886\ttotal: 10m 35s\tremaining: 3m\n",
      "779:\tlearn: 0.8832961\ttotal: 10m 36s\tremaining: 2m 59s\n",
      "780:\tlearn: 0.8833185\ttotal: 10m 36s\tremaining: 2m 58s\n",
      "781:\tlearn: 0.8834236\ttotal: 10m 37s\tremaining: 2m 57s\n",
      "782:\tlearn: 0.8833315\ttotal: 10m 38s\tremaining: 2m 56s\n",
      "783:\tlearn: 0.8836452\ttotal: 10m 39s\tremaining: 2m 56s\n",
      "784:\tlearn: 0.8837062\ttotal: 10m 40s\tremaining: 2m 55s\n",
      "785:\tlearn: 0.8838982\ttotal: 10m 41s\tremaining: 2m 54s\n",
      "786:\tlearn: 0.8840752\ttotal: 10m 41s\tremaining: 2m 53s\n",
      "787:\tlearn: 0.8839110\ttotal: 10m 42s\tremaining: 2m 52s\n",
      "788:\tlearn: 0.8839303\ttotal: 10m 43s\tremaining: 2m 52s\n",
      "789:\tlearn: 0.8841887\ttotal: 10m 44s\tremaining: 2m 51s\n",
      "790:\tlearn: 0.8842356\ttotal: 10m 45s\tremaining: 2m 50s\n",
      "791:\tlearn: 0.8841514\ttotal: 10m 45s\tremaining: 2m 49s\n",
      "792:\tlearn: 0.8839462\ttotal: 10m 46s\tremaining: 2m 48s\n",
      "793:\tlearn: 0.8839151\ttotal: 10m 47s\tremaining: 2m 47s\n",
      "794:\tlearn: 0.8841764\ttotal: 10m 48s\tremaining: 2m 47s\n",
      "795:\tlearn: 0.8839778\ttotal: 10m 49s\tremaining: 2m 46s\n",
      "796:\tlearn: 0.8842445\ttotal: 10m 49s\tremaining: 2m 45s\n",
      "797:\tlearn: 0.8842721\ttotal: 10m 50s\tremaining: 2m 44s\n",
      "798:\tlearn: 0.8847505\ttotal: 10m 51s\tremaining: 2m 43s\n",
      "799:\tlearn: 0.8848203\ttotal: 10m 52s\tremaining: 2m 43s\n",
      "800:\tlearn: 0.8847071\ttotal: 10m 53s\tremaining: 2m 42s\n",
      "801:\tlearn: 0.8848834\ttotal: 10m 53s\tremaining: 2m 41s\n",
      "802:\tlearn: 0.8847493\ttotal: 10m 54s\tremaining: 2m 40s\n",
      "803:\tlearn: 0.8850423\ttotal: 10m 55s\tremaining: 2m 39s\n",
      "804:\tlearn: 0.8850086\ttotal: 10m 56s\tremaining: 2m 38s\n",
      "805:\tlearn: 0.8848651\ttotal: 10m 57s\tremaining: 2m 38s\n",
      "806:\tlearn: 0.8851834\ttotal: 10m 57s\tremaining: 2m 37s\n",
      "807:\tlearn: 0.8852156\ttotal: 10m 58s\tremaining: 2m 36s\n",
      "808:\tlearn: 0.8852759\ttotal: 10m 59s\tremaining: 2m 35s\n",
      "809:\tlearn: 0.8851835\ttotal: 11m\tremaining: 2m 34s\n",
      "810:\tlearn: 0.8854236\ttotal: 11m 1s\tremaining: 2m 34s\n",
      "811:\tlearn: 0.8852410\ttotal: 11m 2s\tremaining: 2m 33s\n",
      "812:\tlearn: 0.8856941\ttotal: 11m 3s\tremaining: 2m 32s\n",
      "813:\tlearn: 0.8856859\ttotal: 11m 4s\tremaining: 2m 31s\n",
      "814:\tlearn: 0.8857032\ttotal: 11m 5s\tremaining: 2m 31s\n",
      "815:\tlearn: 0.8857437\ttotal: 11m 6s\tremaining: 2m 30s\n",
      "816:\tlearn: 0.8858384\ttotal: 11m 7s\tremaining: 2m 29s\n",
      "817:\tlearn: 0.8861194\ttotal: 11m 8s\tremaining: 2m 28s\n",
      "818:\tlearn: 0.8859574\ttotal: 11m 8s\tremaining: 2m 27s\n",
      "819:\tlearn: 0.8860330\ttotal: 11m 9s\tremaining: 2m 27s\n",
      "820:\tlearn: 0.8859686\ttotal: 11m 10s\tremaining: 2m 26s\n",
      "821:\tlearn: 0.8859028\ttotal: 11m 11s\tremaining: 2m 25s\n",
      "822:\tlearn: 0.8861705\ttotal: 11m 12s\tremaining: 2m 24s\n",
      "823:\tlearn: 0.8865033\ttotal: 11m 13s\tremaining: 2m 23s\n",
      "824:\tlearn: 0.8865881\ttotal: 11m 14s\tremaining: 2m 23s\n",
      "825:\tlearn: 0.8866928\ttotal: 11m 15s\tremaining: 2m 22s\n",
      "826:\tlearn: 0.8869259\ttotal: 11m 16s\tremaining: 2m 21s\n",
      "827:\tlearn: 0.8869504\ttotal: 11m 16s\tremaining: 2m 20s\n",
      "828:\tlearn: 0.8870036\ttotal: 11m 17s\tremaining: 2m 19s\n",
      "829:\tlearn: 0.8871472\ttotal: 11m 18s\tremaining: 2m 19s\n",
      "830:\tlearn: 0.8871433\ttotal: 11m 19s\tremaining: 2m 18s\n",
      "831:\tlearn: 0.8874655\ttotal: 11m 20s\tremaining: 2m 17s\n",
      "832:\tlearn: 0.8873735\ttotal: 11m 21s\tremaining: 2m 16s\n",
      "833:\tlearn: 0.8873317\ttotal: 11m 22s\tremaining: 2m 15s\n",
      "834:\tlearn: 0.8874700\ttotal: 11m 22s\tremaining: 2m 14s\n",
      "835:\tlearn: 0.8874148\ttotal: 11m 23s\tremaining: 2m 14s\n",
      "836:\tlearn: 0.8876268\ttotal: 11m 24s\tremaining: 2m 13s\n",
      "837:\tlearn: 0.8874043\ttotal: 11m 25s\tremaining: 2m 12s\n",
      "838:\tlearn: 0.8873021\ttotal: 11m 26s\tremaining: 2m 11s\n",
      "839:\tlearn: 0.8874122\ttotal: 11m 26s\tremaining: 2m 10s\n",
      "840:\tlearn: 0.8874489\ttotal: 11m 27s\tremaining: 2m 10s\n",
      "841:\tlearn: 0.8878182\ttotal: 11m 28s\tremaining: 2m 9s\n",
      "842:\tlearn: 0.8876587\ttotal: 11m 29s\tremaining: 2m 8s\n",
      "843:\tlearn: 0.8877160\ttotal: 11m 30s\tremaining: 2m 7s\n",
      "844:\tlearn: 0.8874321\ttotal: 11m 31s\tremaining: 2m 6s\n",
      "845:\tlearn: 0.8875684\ttotal: 11m 31s\tremaining: 2m 5s\n",
      "846:\tlearn: 0.8875981\ttotal: 11m 32s\tremaining: 2m 5s\n",
      "847:\tlearn: 0.8877739\ttotal: 11m 33s\tremaining: 2m 4s\n",
      "848:\tlearn: 0.8876694\ttotal: 11m 34s\tremaining: 2m 3s\n",
      "849:\tlearn: 0.8879655\ttotal: 11m 35s\tremaining: 2m 2s\n",
      "850:\tlearn: 0.8877633\ttotal: 11m 35s\tremaining: 2m 1s\n",
      "851:\tlearn: 0.8877646\ttotal: 11m 36s\tremaining: 2m 1s\n",
      "852:\tlearn: 0.8877091\ttotal: 11m 37s\tremaining: 2m\n",
      "853:\tlearn: 0.8878588\ttotal: 11m 38s\tremaining: 1m 59s\n",
      "854:\tlearn: 0.8878337\ttotal: 11m 39s\tremaining: 1m 58s\n",
      "855:\tlearn: 0.8875251\ttotal: 11m 40s\tremaining: 1m 57s\n",
      "856:\tlearn: 0.8873959\ttotal: 11m 40s\tremaining: 1m 56s\n",
      "857:\tlearn: 0.8875698\ttotal: 11m 41s\tremaining: 1m 56s\n",
      "858:\tlearn: 0.8879405\ttotal: 11m 42s\tremaining: 1m 55s\n",
      "859:\tlearn: 0.8880450\ttotal: 11m 43s\tremaining: 1m 54s\n",
      "860:\tlearn: 0.8881486\ttotal: 11m 44s\tremaining: 1m 53s\n",
      "861:\tlearn: 0.8883045\ttotal: 11m 45s\tremaining: 1m 52s\n",
      "862:\tlearn: 0.8881872\ttotal: 11m 45s\tremaining: 1m 52s\n",
      "863:\tlearn: 0.8885164\ttotal: 11m 46s\tremaining: 1m 51s\n",
      "864:\tlearn: 0.8885728\ttotal: 11m 47s\tremaining: 1m 50s\n",
      "865:\tlearn: 0.8885586\ttotal: 11m 48s\tremaining: 1m 49s\n",
      "866:\tlearn: 0.8884046\ttotal: 11m 49s\tremaining: 1m 48s\n",
      "867:\tlearn: 0.8886427\ttotal: 11m 49s\tremaining: 1m 47s\n",
      "868:\tlearn: 0.8885848\ttotal: 11m 50s\tremaining: 1m 47s\n",
      "869:\tlearn: 0.8888993\ttotal: 11m 51s\tremaining: 1m 46s\n",
      "870:\tlearn: 0.8887900\ttotal: 11m 52s\tremaining: 1m 45s\n",
      "871:\tlearn: 0.8891374\ttotal: 11m 53s\tremaining: 1m 44s\n",
      "872:\tlearn: 0.8893486\ttotal: 11m 54s\tremaining: 1m 43s\n",
      "873:\tlearn: 0.8893365\ttotal: 11m 54s\tremaining: 1m 43s\n",
      "874:\tlearn: 0.8892996\ttotal: 11m 55s\tremaining: 1m 42s\n",
      "875:\tlearn: 0.8895329\ttotal: 11m 56s\tremaining: 1m 41s\n",
      "876:\tlearn: 0.8895932\ttotal: 11m 57s\tremaining: 1m 40s\n",
      "877:\tlearn: 0.8895804\ttotal: 11m 58s\tremaining: 1m 39s\n",
      "878:\tlearn: 0.8895715\ttotal: 11m 59s\tremaining: 1m 38s\n",
      "879:\tlearn: 0.8895384\ttotal: 11m 59s\tremaining: 1m 38s\n",
      "880:\tlearn: 0.8892102\ttotal: 12m\tremaining: 1m 37s\n",
      "881:\tlearn: 0.8891617\ttotal: 12m 1s\tremaining: 1m 36s\n",
      "882:\tlearn: 0.8890169\ttotal: 12m 2s\tremaining: 1m 35s\n",
      "883:\tlearn: 0.8896347\ttotal: 12m 3s\tremaining: 1m 34s\n",
      "884:\tlearn: 0.8898555\ttotal: 12m 3s\tremaining: 1m 34s\n",
      "885:\tlearn: 0.8898487\ttotal: 12m 4s\tremaining: 1m 33s\n",
      "886:\tlearn: 0.8897076\ttotal: 12m 5s\tremaining: 1m 32s\n",
      "887:\tlearn: 0.8898798\ttotal: 12m 6s\tremaining: 1m 31s\n",
      "888:\tlearn: 0.8900427\ttotal: 12m 7s\tremaining: 1m 30s\n",
      "889:\tlearn: 0.8899414\ttotal: 12m 7s\tremaining: 1m 29s\n",
      "890:\tlearn: 0.8900276\ttotal: 12m 8s\tremaining: 1m 29s\n",
      "891:\tlearn: 0.8902242\ttotal: 12m 9s\tremaining: 1m 28s\n",
      "892:\tlearn: 0.8903080\ttotal: 12m 10s\tremaining: 1m 27s\n",
      "893:\tlearn: 0.8902202\ttotal: 12m 11s\tremaining: 1m 26s\n",
      "894:\tlearn: 0.8897334\ttotal: 12m 12s\tremaining: 1m 25s\n",
      "895:\tlearn: 0.8898338\ttotal: 12m 12s\tremaining: 1m 25s\n",
      "896:\tlearn: 0.8901482\ttotal: 12m 13s\tremaining: 1m 24s\n",
      "897:\tlearn: 0.8899750\ttotal: 12m 14s\tremaining: 1m 23s\n",
      "898:\tlearn: 0.8900935\ttotal: 12m 15s\tremaining: 1m 22s\n",
      "899:\tlearn: 0.8902174\ttotal: 12m 16s\tremaining: 1m 21s\n",
      "900:\tlearn: 0.8902553\ttotal: 12m 16s\tremaining: 1m 20s\n",
      "901:\tlearn: 0.8904181\ttotal: 12m 17s\tremaining: 1m 20s\n",
      "902:\tlearn: 0.8905065\ttotal: 12m 18s\tremaining: 1m 19s\n",
      "903:\tlearn: 0.8905685\ttotal: 12m 19s\tremaining: 1m 18s\n",
      "904:\tlearn: 0.8904881\ttotal: 12m 20s\tremaining: 1m 17s\n",
      "905:\tlearn: 0.8904984\ttotal: 12m 20s\tremaining: 1m 16s\n",
      "906:\tlearn: 0.8905857\ttotal: 12m 21s\tremaining: 1m 16s\n",
      "907:\tlearn: 0.8903206\ttotal: 12m 22s\tremaining: 1m 15s\n",
      "908:\tlearn: 0.8905048\ttotal: 12m 23s\tremaining: 1m 14s\n",
      "909:\tlearn: 0.8902406\ttotal: 12m 24s\tremaining: 1m 13s\n",
      "910:\tlearn: 0.8905901\ttotal: 12m 25s\tremaining: 1m 12s\n",
      "911:\tlearn: 0.8908734\ttotal: 12m 25s\tremaining: 1m 11s\n",
      "912:\tlearn: 0.8901724\ttotal: 12m 26s\tremaining: 1m 11s\n",
      "913:\tlearn: 0.8902734\ttotal: 12m 27s\tremaining: 1m 10s\n",
      "914:\tlearn: 0.8903531\ttotal: 12m 28s\tremaining: 1m 9s\n",
      "915:\tlearn: 0.8900268\ttotal: 12m 29s\tremaining: 1m 8s\n"
     ]
    },
    {
     "name": "stdout",
     "output_type": "stream",
     "text": [
      "916:\tlearn: 0.8899165\ttotal: 12m 29s\tremaining: 1m 7s\n",
      "917:\tlearn: 0.8900677\ttotal: 12m 30s\tremaining: 1m 7s\n",
      "918:\tlearn: 0.8901493\ttotal: 12m 31s\tremaining: 1m 6s\n",
      "919:\tlearn: 0.8900989\ttotal: 12m 32s\tremaining: 1m 5s\n",
      "920:\tlearn: 0.8902171\ttotal: 12m 33s\tremaining: 1m 4s\n",
      "921:\tlearn: 0.8904298\ttotal: 12m 33s\tremaining: 1m 3s\n",
      "922:\tlearn: 0.8904907\ttotal: 12m 34s\tremaining: 1m 2s\n",
      "923:\tlearn: 0.8907760\ttotal: 12m 35s\tremaining: 1m 2s\n",
      "924:\tlearn: 0.8907418\ttotal: 12m 36s\tremaining: 1m 1s\n",
      "925:\tlearn: 0.8906797\ttotal: 12m 37s\tremaining: 1m\n",
      "926:\tlearn: 0.8906742\ttotal: 12m 37s\tremaining: 59.7s\n",
      "927:\tlearn: 0.8907388\ttotal: 12m 38s\tremaining: 58.9s\n",
      "928:\tlearn: 0.8906630\ttotal: 12m 39s\tremaining: 58s\n",
      "929:\tlearn: 0.8907482\ttotal: 12m 40s\tremaining: 57.2s\n",
      "930:\tlearn: 0.8913011\ttotal: 12m 41s\tremaining: 56.4s\n",
      "931:\tlearn: 0.8913098\ttotal: 12m 42s\tremaining: 55.6s\n",
      "932:\tlearn: 0.8912746\ttotal: 12m 43s\tremaining: 54.8s\n",
      "933:\tlearn: 0.8913375\ttotal: 12m 43s\tremaining: 54s\n",
      "934:\tlearn: 0.8913222\ttotal: 12m 44s\tremaining: 53.2s\n",
      "935:\tlearn: 0.8914224\ttotal: 12m 45s\tremaining: 52.4s\n",
      "936:\tlearn: 0.8913869\ttotal: 12m 46s\tremaining: 51.5s\n",
      "937:\tlearn: 0.8911634\ttotal: 12m 47s\tremaining: 50.7s\n",
      "938:\tlearn: 0.8915011\ttotal: 12m 48s\tremaining: 49.9s\n",
      "939:\tlearn: 0.8918313\ttotal: 12m 49s\tremaining: 49.1s\n",
      "940:\tlearn: 0.8917033\ttotal: 12m 50s\tremaining: 48.3s\n",
      "941:\tlearn: 0.8917279\ttotal: 12m 50s\tremaining: 47.5s\n",
      "942:\tlearn: 0.8919888\ttotal: 12m 51s\tremaining: 46.6s\n",
      "943:\tlearn: 0.8918936\ttotal: 12m 52s\tremaining: 45.8s\n",
      "944:\tlearn: 0.8920611\ttotal: 12m 53s\tremaining: 45s\n",
      "945:\tlearn: 0.8921650\ttotal: 12m 54s\tremaining: 44.2s\n",
      "946:\tlearn: 0.8921572\ttotal: 12m 55s\tremaining: 43.4s\n",
      "947:\tlearn: 0.8921325\ttotal: 12m 56s\tremaining: 42.6s\n",
      "948:\tlearn: 0.8923307\ttotal: 12m 56s\tremaining: 41.7s\n",
      "949:\tlearn: 0.8924486\ttotal: 12m 57s\tremaining: 40.9s\n",
      "950:\tlearn: 0.8926816\ttotal: 12m 58s\tremaining: 40.1s\n",
      "951:\tlearn: 0.8927661\ttotal: 12m 59s\tremaining: 39.3s\n",
      "952:\tlearn: 0.8927722\ttotal: 13m\tremaining: 38.5s\n",
      "953:\tlearn: 0.8926923\ttotal: 13m\tremaining: 37.6s\n",
      "954:\tlearn: 0.8926803\ttotal: 13m 1s\tremaining: 36.8s\n",
      "955:\tlearn: 0.8927849\ttotal: 13m 2s\tremaining: 36s\n",
      "956:\tlearn: 0.8928282\ttotal: 13m 3s\tremaining: 35.2s\n",
      "957:\tlearn: 0.8928996\ttotal: 13m 4s\tremaining: 34.4s\n",
      "958:\tlearn: 0.8929211\ttotal: 13m 4s\tremaining: 33.6s\n",
      "959:\tlearn: 0.8929269\ttotal: 13m 5s\tremaining: 32.7s\n",
      "960:\tlearn: 0.8929654\ttotal: 13m 6s\tremaining: 31.9s\n",
      "961:\tlearn: 0.8931842\ttotal: 13m 7s\tremaining: 31.1s\n",
      "962:\tlearn: 0.8932287\ttotal: 13m 8s\tremaining: 30.3s\n",
      "963:\tlearn: 0.8932043\ttotal: 13m 8s\tremaining: 29.5s\n",
      "964:\tlearn: 0.8933602\ttotal: 13m 9s\tremaining: 28.6s\n",
      "965:\tlearn: 0.8935293\ttotal: 13m 10s\tremaining: 27.8s\n",
      "966:\tlearn: 0.8934594\ttotal: 13m 11s\tremaining: 27s\n",
      "967:\tlearn: 0.8934292\ttotal: 13m 12s\tremaining: 26.2s\n",
      "968:\tlearn: 0.8934578\ttotal: 13m 12s\tremaining: 25.4s\n",
      "969:\tlearn: 0.8935530\ttotal: 13m 13s\tremaining: 24.5s\n",
      "970:\tlearn: 0.8935566\ttotal: 13m 14s\tremaining: 23.7s\n",
      "971:\tlearn: 0.8937800\ttotal: 13m 15s\tremaining: 22.9s\n",
      "972:\tlearn: 0.8934589\ttotal: 13m 16s\tremaining: 22.1s\n",
      "973:\tlearn: 0.8936334\ttotal: 13m 16s\tremaining: 21.3s\n",
      "974:\tlearn: 0.8936791\ttotal: 13m 17s\tremaining: 20.5s\n",
      "975:\tlearn: 0.8934282\ttotal: 13m 18s\tremaining: 19.6s\n",
      "976:\tlearn: 0.8935457\ttotal: 13m 19s\tremaining: 18.8s\n",
      "977:\tlearn: 0.8935146\ttotal: 13m 20s\tremaining: 18s\n",
      "978:\tlearn: 0.8937800\ttotal: 13m 20s\tremaining: 17.2s\n",
      "979:\tlearn: 0.8937309\ttotal: 13m 21s\tremaining: 16.4s\n",
      "980:\tlearn: 0.8938096\ttotal: 13m 22s\tremaining: 15.5s\n",
      "981:\tlearn: 0.8937570\ttotal: 13m 23s\tremaining: 14.7s\n",
      "982:\tlearn: 0.8937778\ttotal: 13m 24s\tremaining: 13.9s\n",
      "983:\tlearn: 0.8939310\ttotal: 13m 24s\tremaining: 13.1s\n",
      "984:\tlearn: 0.8940827\ttotal: 13m 25s\tremaining: 12.3s\n",
      "985:\tlearn: 0.8939669\ttotal: 13m 26s\tremaining: 11.5s\n",
      "986:\tlearn: 0.8939137\ttotal: 13m 27s\tremaining: 10.6s\n",
      "987:\tlearn: 0.8937407\ttotal: 13m 28s\tremaining: 9.82s\n",
      "988:\tlearn: 0.8934610\ttotal: 13m 29s\tremaining: 9s\n",
      "989:\tlearn: 0.8937894\ttotal: 13m 29s\tremaining: 8.18s\n",
      "990:\tlearn: 0.8939841\ttotal: 13m 30s\tremaining: 7.36s\n",
      "991:\tlearn: 0.8941427\ttotal: 13m 31s\tremaining: 6.54s\n",
      "992:\tlearn: 0.8941781\ttotal: 13m 32s\tremaining: 5.72s\n",
      "993:\tlearn: 0.8943541\ttotal: 13m 32s\tremaining: 4.91s\n",
      "994:\tlearn: 0.8944793\ttotal: 13m 33s\tremaining: 4.09s\n",
      "995:\tlearn: 0.8945521\ttotal: 13m 34s\tremaining: 3.27s\n",
      "996:\tlearn: 0.8944415\ttotal: 13m 35s\tremaining: 2.45s\n",
      "997:\tlearn: 0.8943667\ttotal: 13m 36s\tremaining: 1.64s\n",
      "998:\tlearn: 0.8947184\ttotal: 13m 37s\tremaining: 818ms\n",
      "999:\tlearn: 0.8947772\ttotal: 13m 37s\tremaining: 0us\n",
      "CPU times: user 48min 30s, sys: 2min 43s, total: 51min 13s\n",
      "Wall time: 13min 38s\n"
     ]
    },
    {
     "data": {
      "text/plain": [
       "<catboost.core.CatBoostClassifier at 0x7f9e3118de80>"
      ]
     },
     "execution_count": 208,
     "metadata": {},
     "output_type": "execute_result"
    }
   ],
   "source": [
    "%%time\n",
    "model = CatBoostClassifier(depth=6, learning_rate=0.5, thread_count=4, loss_function='MultiClass', custom_metric='TotalF1', eval_metric='TotalF1')\n",
    "model.fit(train_X, train_y)"
   ]
  },
  {
   "cell_type": "code",
   "execution_count": 209,
   "metadata": {},
   "outputs": [],
   "source": [
    "cat_id = model.predict(test_X[12])"
   ]
  },
  {
   "cell_type": "code",
   "execution_count": 210,
   "metadata": {},
   "outputs": [
    {
     "data": {
      "text/plain": [
       "True"
      ]
     },
     "execution_count": 210,
     "metadata": {},
     "output_type": "execute_result"
    }
   ],
   "source": [
    "cat_id[0] == test_y.iloc[12]"
   ]
  },
  {
   "cell_type": "markdown",
   "metadata": {
    "id": "WZ9RxyoZiu6N"
   },
   "source": [
    "## Проверка гипотизы: \"Правильное предсказание более высокого уровня поможет при предсказании нижнего\""
   ]
  },
  {
   "cell_type": "markdown",
   "metadata": {
    "id": "BtW7iRdSjaYh"
   },
   "source": [
    "Добавим категории второго уровня в признаки при предсказании третьего"
   ]
  },
  {
   "cell_type": "markdown",
   "metadata": {
    "id": "IotnLNkdQ4jO"
   },
   "source": [
    "# идеи"
   ]
  },
  {
   "cell_type": "markdown",
   "metadata": {
    "id": "I3NGP4uvQ7Ln"
   },
   "source": [
    "Можно попробовать\n",
    "\n",
    "\n",
    "*   Нагенерировать признаки трансформерными сетками (например Bertом), fasttextом и объеденить с признаками  w2v. \n",
    "\n",
    "*   Использовать разные классификаторы, но даже sgdclassifier дает неплохой результат без подбора гиперпараметров.\n",
    "\n",
    "*   Подобрать гиперпараметры\n",
    "*   Использовать полученные результаты предсказаний высоких уровней для предсказания более низких\n",
    "\n",
    "\n",
    "\n",
    "\n"
   ]
  },
  {
   "cell_type": "code",
   "execution_count": 217,
   "metadata": {
    "id": "OFzmE6MfQ6Z2"
   },
   "outputs": [],
   "source": [
    "from sklearn.pipeline import Pipeline"
   ]
  },
  {
   "cell_type": "code",
   "execution_count": 218,
   "metadata": {
    "id": "OFzmE6MfQ6Z2"
   },
   "outputs": [],
   "source": [
    "class Model():\n",
    "    def __init__(self, model, cat_df):\n",
    "        self.model = model\n",
    "        self.cat = cat_df\n",
    "        \n",
    "    def fit():\n",
    "        pass\n",
    "    \n",
    "    def predict(self, X):\n",
    "        category_id = self.model.predict(X)\n",
    "        print(self.cat[self.cat['category_2'] == category_id[0]]['category_title'].iloc[0])\n",
    "        category_title = self.cat[self.cat['category_2'] == category_id[0]]['category_title'].iloc[0]\n",
    "        return {'category_id' : category_id[0], 'category_title': category_title}"
   ]
  },
  {
   "cell_type": "code",
   "execution_count": 219,
   "metadata": {
    "id": "OFzmE6MfQ6Z2"
   },
   "outputs": [],
   "source": [
    "class Vectorizer():\n",
    "    def __init__(self, w2v_model):\n",
    "        self.w2v_model = w2v_model\n",
    "        \n",
    "    def preprocess_text(self, text):\n",
    "        stop_word_list = nltk.corpus.stopwords.words('russian')\n",
    "        tokeniser = RegexpTokenizer(\"[A-Za-zА-Яа-я]+\")\n",
    "        tokens = tokeniser.tokenize(text)\n",
    "        \n",
    "        tokens_lower = [t.lower() for t in tokens]\n",
    "        tokens_clean = [t for t in tokens_lower if t not in stop_word_list]\n",
    "        return ' '.join(tokens_clean)\n",
    "\n",
    "    def vectorize(self, text):\n",
    "        word_embs = [self.w2v_model.wv[w] for w in text.split() if w in self.w2v_model.wv]\n",
    "        if (len(word_embs) > 0):\n",
    "            return np.mean(word_embs, axis=0)\n",
    "        return np.zeros(input_size)\n",
    "    \n",
    "    def fit():\n",
    "        pass\n",
    "        \n",
    "    def transform(self, x):\n",
    "        preprocessed = self.preprocess_text(x)\n",
    "        features_x = self.vectorize(preprocessed)\n",
    "        return features_x"
   ]
  },
  {
   "cell_type": "code",
   "execution_count": 220,
   "metadata": {
    "id": "OFzmE6MfQ6Z2"
   },
   "outputs": [
    {
     "data": {
      "text/plain": [
       "Pipeline(steps=[('vectorizer', <__main__.Vectorizer object at 0x7f9e46daeaf0>),\n",
       "                ('model', <__main__.Model object at 0x7f9e33c9de80>)])"
      ]
     },
     "execution_count": 220,
     "metadata": {},
     "output_type": "execute_result"
    }
   ],
   "source": [
    "steps = [('vectorizer', Vectorizer(w2v_model)), ('model', Model(model, cat))]\n",
    "pipe = Pipeline(steps)\n",
    "pipe"
   ]
  },
  {
   "cell_type": "code",
   "execution_count": 221,
   "metadata": {
    "id": "OFzmE6MfQ6Z2"
   },
   "outputs": [
    {
     "name": "stdout",
     "output_type": "stream",
     "text": [
      "Фотобарабаны\n"
     ]
    },
    {
     "data": {
      "text/plain": [
       "{'category_id': '10073', 'category_title': 'Фотобарабаны'}"
      ]
     },
     "execution_count": 221,
     "metadata": {},
     "output_type": "execute_result"
    }
   ],
   "source": [
    "pipe.predict('беспроводного зарядного устройства')"
   ]
  },
  {
   "cell_type": "code",
   "execution_count": 222,
   "metadata": {
    "id": "OFzmE6MfQ6Z2"
   },
   "outputs": [
    {
     "data": {
      "text/plain": [
       "['model.joblib']"
      ]
     },
     "execution_count": 222,
     "metadata": {},
     "output_type": "execute_result"
    }
   ],
   "source": [
    "import joblib\n",
    "joblib.dump(pipe, 'model.joblib')"
   ]
  },
  {
   "cell_type": "code",
   "execution_count": null,
   "metadata": {},
   "outputs": [],
   "source": []
  }
 ],
 "metadata": {
  "accelerator": "GPU",
  "colab": {
   "collapsed_sections": [
    "NHbe3nBufPA4",
    "vNU8bUUvfc_l",
    "fE1DviJfgGrg",
    "wDB1pQd8P6Cx",
    "DktvQhP8hJ_Q",
    "GXEEXY_siQyJ",
    "WZ9RxyoZiu6N",
    "tcthuNDbEZ0R",
    "5MDlHsPbPi8Y",
    "IotnLNkdQ4jO"
   ],
   "name": "KE.ipynb",
   "provenance": []
  },
  "kernelspec": {
   "display_name": "Python 3",
   "language": "python",
   "name": "python3"
  },
  "language_info": {
   "codemirror_mode": {
    "name": "ipython",
    "version": 3
   },
   "file_extension": ".py",
   "mimetype": "text/x-python",
   "name": "python",
   "nbconvert_exporter": "python",
   "pygments_lexer": "ipython3",
   "version": "3.8.8"
  }
 },
 "nbformat": 4,
 "nbformat_minor": 1
}
