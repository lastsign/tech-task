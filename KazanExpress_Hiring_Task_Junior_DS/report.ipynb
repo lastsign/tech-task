{
 "cells": [
  {
   "cell_type": "code",
   "execution_count": 2,
   "metadata": {
    "colab": {
     "base_uri": "https://localhost:8080/"
    },
    "id": "TO6NrLzFZJ28",
    "outputId": "356d90d9-281a-4d7d-9e0f-64f15d799fa0"
   },
   "outputs": [
    {
     "name": "stderr",
     "output_type": "stream",
     "text": [
      "[nltk_data] Downloading package stopwords to\n",
      "[nltk_data]     /Users/dabannikov/nltk_data...\n",
      "[nltk_data]   Package stopwords is already up-to-date!\n"
     ]
    }
   ],
   "source": [
    "import pandas as pd\n",
    "import matplotlib.pyplot as plt\n",
    "import seaborn as sns\n",
    "import numpy as np\n",
    "from sklearn.linear_model import SGDClassifier\n",
    "from sklearn.model_selection import cross_validate, GridSearchCV\n",
    "from sklearn.ensemble import RandomForestClassifier\n",
    "from sklearn.preprocessing import StandardScaler\n",
    "from gensim.models import Word2Vec\n",
    "from catboost import CatBoostClassifier\n",
    "\n",
    "import nltk\n",
    "from nltk import word_tokenize\n",
    "nltk.download('stopwords')\n",
    "from nltk.tokenize import RegexpTokenizer\n",
    "from nltk.util import ngrams"
   ]
  },
  {
   "cell_type": "markdown",
   "metadata": {
    "id": "kL1j1RA9NT17"
   },
   "source": [
    "# Dataset"
   ]
  },
  {
   "cell_type": "code",
   "execution_count": 157,
   "metadata": {
    "id": "bY-VChKRZNii"
   },
   "outputs": [],
   "source": [
    "cat = pd.read_csv('./data/categories.csv')"
   ]
  },
  {
   "cell_type": "code",
   "execution_count": 158,
   "metadata": {
    "id": "7rrB_p3UNT19"
   },
   "outputs": [],
   "source": [
    "prod = pd.read_csv('./data/products.csv')"
   ]
  },
  {
   "cell_type": "markdown",
   "metadata": {
    "id": "4-HjQ7PWNT1-"
   },
   "source": [
    "## Validation"
   ]
  },
  {
   "cell_type": "code",
   "execution_count": 159,
   "metadata": {
    "colab": {
     "base_uri": "https://localhost:8080/",
     "height": 204
    },
    "id": "Dqy2TtfJNT1-",
    "outputId": "fe45eb51-eee8-4d78-88ae-a0acb7a819ed"
   },
   "outputs": [
    {
     "data": {
      "text/html": [
       "<div>\n",
       "<style scoped>\n",
       "    .dataframe tbody tr th:only-of-type {\n",
       "        vertical-align: middle;\n",
       "    }\n",
       "\n",
       "    .dataframe tbody tr th {\n",
       "        vertical-align: top;\n",
       "    }\n",
       "\n",
       "    .dataframe thead th {\n",
       "        text-align: right;\n",
       "    }\n",
       "</style>\n",
       "<table border=\"1\" class=\"dataframe\">\n",
       "  <thead>\n",
       "    <tr style=\"text-align: right;\">\n",
       "      <th></th>\n",
       "      <th>category_id</th>\n",
       "      <th>category_title</th>\n",
       "      <th>category_path</th>\n",
       "    </tr>\n",
       "  </thead>\n",
       "  <tbody>\n",
       "    <tr>\n",
       "      <th>0</th>\n",
       "      <td>13021</td>\n",
       "      <td>Базы и топы</td>\n",
       "      <td>1.10012.10113.13021</td>\n",
       "    </tr>\n",
       "    <tr>\n",
       "      <th>1</th>\n",
       "      <td>2740</td>\n",
       "      <td>Полки и подставки</td>\n",
       "      <td>1.10018.10110.12842.2740</td>\n",
       "    </tr>\n",
       "    <tr>\n",
       "      <th>2</th>\n",
       "      <td>13182</td>\n",
       "      <td>Салюты</td>\n",
       "      <td>1.10018.10118.10749.13182</td>\n",
       "    </tr>\n",
       "    <tr>\n",
       "      <th>3</th>\n",
       "      <td>2864</td>\n",
       "      <td>Ложки для обуви</td>\n",
       "      <td>1.10018.10110.12823.2864</td>\n",
       "    </tr>\n",
       "    <tr>\n",
       "      <th>4</th>\n",
       "      <td>14154</td>\n",
       "      <td>Аромабудильники и картриджи</td>\n",
       "      <td>1.10020.10227.14154</td>\n",
       "    </tr>\n",
       "  </tbody>\n",
       "</table>\n",
       "</div>"
      ],
      "text/plain": [
       "   category_id               category_title              category_path\n",
       "0        13021                  Базы и топы        1.10012.10113.13021\n",
       "1         2740            Полки и подставки   1.10018.10110.12842.2740\n",
       "2        13182                       Салюты  1.10018.10118.10749.13182\n",
       "3         2864              Ложки для обуви   1.10018.10110.12823.2864\n",
       "4        14154  Аромабудильники и картриджи        1.10020.10227.14154"
      ]
     },
     "execution_count": 159,
     "metadata": {},
     "output_type": "execute_result"
    }
   ],
   "source": [
    "cat.head()"
   ]
  },
  {
   "cell_type": "code",
   "execution_count": 160,
   "metadata": {
    "colab": {
     "base_uri": "https://localhost:8080/",
     "height": 204
    },
    "id": "QulaSdHwNT1-",
    "outputId": "56e37955-2c1c-4244-e357-0316b771fcbf"
   },
   "outputs": [
    {
     "data": {
      "text/html": [
       "<div>\n",
       "<style scoped>\n",
       "    .dataframe tbody tr th:only-of-type {\n",
       "        vertical-align: middle;\n",
       "    }\n",
       "\n",
       "    .dataframe tbody tr th {\n",
       "        vertical-align: top;\n",
       "    }\n",
       "\n",
       "    .dataframe thead th {\n",
       "        text-align: right;\n",
       "    }\n",
       "</style>\n",
       "<table border=\"1\" class=\"dataframe\">\n",
       "  <thead>\n",
       "    <tr style=\"text-align: right;\">\n",
       "      <th></th>\n",
       "      <th>row_number</th>\n",
       "      <th>product_title</th>\n",
       "      <th>category_id</th>\n",
       "    </tr>\n",
       "  </thead>\n",
       "  <tbody>\n",
       "    <tr>\n",
       "      <th>0</th>\n",
       "      <td>1</td>\n",
       "      <td>Термокружка с животными 350/500 мл</td>\n",
       "      <td>12407</td>\n",
       "    </tr>\n",
       "    <tr>\n",
       "      <th>1</th>\n",
       "      <td>2</td>\n",
       "      <td>Пластиковая емкость для хранения круп</td>\n",
       "      <td>12667</td>\n",
       "    </tr>\n",
       "    <tr>\n",
       "      <th>2</th>\n",
       "      <td>3</td>\n",
       "      <td>Контейнер с дозатором для хранения круп</td>\n",
       "      <td>13901</td>\n",
       "    </tr>\n",
       "    <tr>\n",
       "      <th>3</th>\n",
       "      <td>4</td>\n",
       "      <td>Контейнер для хранения яиц</td>\n",
       "      <td>13674</td>\n",
       "    </tr>\n",
       "    <tr>\n",
       "      <th>4</th>\n",
       "      <td>5</td>\n",
       "      <td>Губкодержатель</td>\n",
       "      <td>13254</td>\n",
       "    </tr>\n",
       "  </tbody>\n",
       "</table>\n",
       "</div>"
      ],
      "text/plain": [
       "   row_number                            product_title  category_id\n",
       "0           1       Термокружка с животными 350/500 мл        12407\n",
       "1           2    Пластиковая емкость для хранения круп        12667\n",
       "2           3  Контейнер с дозатором для хранения круп        13901\n",
       "3           4               Контейнер для хранения яиц        13674\n",
       "4           5                           Губкодержатель        13254"
      ]
     },
     "execution_count": 160,
     "metadata": {},
     "output_type": "execute_result"
    }
   ],
   "source": [
    "prod.head()"
   ]
  },
  {
   "cell_type": "code",
   "execution_count": 161,
   "metadata": {
    "colab": {
     "base_uri": "https://localhost:8080/"
    },
    "id": "PzWSu4EvNT1_",
    "outputId": "632ca8c0-aa71-4527-ab4f-7ae35fc81ccb"
   },
   "outputs": [
    {
     "data": {
      "text/plain": [
       "((959, 3), (144082, 3))"
      ]
     },
     "execution_count": 161,
     "metadata": {},
     "output_type": "execute_result"
    }
   ],
   "source": [
    "cat.shape, prod.shape"
   ]
  },
  {
   "cell_type": "code",
   "execution_count": 162,
   "metadata": {
    "colab": {
     "base_uri": "https://localhost:8080/"
    },
    "id": "z7dGW5F8NT1_",
    "outputId": "f42111ea-0418-47f4-e5fb-1bcc9dbe88cb"
   },
   "outputs": [
    {
     "data": {
      "text/plain": [
       "0"
      ]
     },
     "execution_count": 162,
     "metadata": {},
     "output_type": "execute_result"
    }
   ],
   "source": [
    "prod['row_number'].shape[0] - prod['row_number'].unique().shape[0]"
   ]
  },
  {
   "cell_type": "code",
   "execution_count": 163,
   "metadata": {
    "colab": {
     "base_uri": "https://localhost:8080/"
    },
    "id": "Sizr1ZPgNT2A",
    "outputId": "74153945-bca6-41f1-d348-9daf35e0846e"
   },
   "outputs": [
    {
     "data": {
      "text/plain": [
       "0"
      ]
     },
     "execution_count": 163,
     "metadata": {},
     "output_type": "execute_result"
    }
   ],
   "source": [
    "cat['category_id'].shape[0] - cat['category_id'].unique().shape[0]"
   ]
  },
  {
   "cell_type": "markdown",
   "metadata": {
    "id": "vNU8bUUvfc_l"
   },
   "source": [
    "## Feature Extraction"
   ]
  },
  {
   "cell_type": "markdown",
   "metadata": {
    "id": "2qhDSBUTfIQP"
   },
   "source": [
    "Количесво категорий - классов"
   ]
  },
  {
   "cell_type": "code",
   "execution_count": 164,
   "metadata": {
    "colab": {
     "base_uri": "https://localhost:8080/"
    },
    "id": "H0S88TK9IluG",
    "outputId": "8b97a8c7-b382-40c6-f7f2-285e2efe58a5"
   },
   "outputs": [
    {
     "data": {
      "text/plain": [
       "(787,)"
      ]
     },
     "execution_count": 164,
     "metadata": {},
     "output_type": "execute_result"
    }
   ],
   "source": [
    "prod.category_id.unique().shape"
   ]
  },
  {
   "cell_type": "code",
   "execution_count": 165,
   "metadata": {
    "id": "8i9hbgcZNT2B"
   },
   "outputs": [],
   "source": [
    "categories =  {row['category_id']:row['category_path'] for _, row in cat.iterrows()}"
   ]
  },
  {
   "cell_type": "code",
   "execution_count": 166,
   "metadata": {
    "id": "wkmdWAuHK9Cs"
   },
   "outputs": [],
   "source": [
    "prod['full_category'] = prod['category_id'].apply(lambda cat_id: categories[cat_id])"
   ]
  },
  {
   "cell_type": "code",
   "execution_count": 167,
   "metadata": {
    "id": "LcU1YTOTPMFd"
   },
   "outputs": [],
   "source": [
    "prod['category_0'] = prod['full_category'].apply(lambda full_cat: full_cat.split('.')[0])\n",
    "prod['category_1'] = prod['full_category'].apply(lambda full_cat: full_cat.split('.')[1])\n",
    "prod['category_2'] = prod['full_category'].apply(lambda full_cat: full_cat.split('.')[2])\n",
    "prod['category_3'] = prod['full_category'].apply(lambda full_cat: full_cat.split('.')[3])\n",
    "prod['category_4'] = prod['full_category'].apply(lambda full_cat: full_cat.split('.')[4] if len(full_cat.split('.')) > 4 else np.nan)"
   ]
  },
  {
   "cell_type": "code",
   "execution_count": 181,
   "metadata": {},
   "outputs": [],
   "source": [
    "cat['category_0'] = cat['category_path'].apply(lambda full_cat: full_cat.split('.')[0])\n",
    "cat['category_1'] = cat['category_path'].apply(lambda full_cat: full_cat.split('.')[1])\n",
    "cat['category_2'] = cat['category_path'].apply(lambda full_cat: full_cat.split('.')[2]  if len(full_cat.split('.')) > 2 else np.nan)"
   ]
  },
  {
   "cell_type": "code",
   "execution_count": 108,
   "metadata": {
    "colab": {
     "base_uri": "https://localhost:8080/"
    },
    "id": "LEqpkAoNNT2C",
    "outputId": "b02baa56-924c-4a96-e401-ddd8afaea7fc"
   },
   "outputs": [
    {
     "data": {
      "text/plain": [
       "((1,), (3,), (37,), (239,), (639,))"
      ]
     },
     "execution_count": 108,
     "metadata": {},
     "output_type": "execute_result"
    }
   ],
   "source": [
    "prod['category_0'].unique().shape, prod['category_1'].unique().shape, prod['category_2'].unique().shape, prod['category_3'].unique().shape, prod['category_4'].unique().shape"
   ]
  },
  {
   "cell_type": "code",
   "execution_count": 109,
   "metadata": {
    "colab": {
     "base_uri": "https://localhost:8080/",
     "height": 490
    },
    "id": "FPwiazK_NT2C",
    "outputId": "fb9b44c7-d592-497c-8ae8-256fa0ce8824"
   },
   "outputs": [
    {
     "data": {
      "text/html": [
       "<div>\n",
       "<style scoped>\n",
       "    .dataframe tbody tr th:only-of-type {\n",
       "        vertical-align: middle;\n",
       "    }\n",
       "\n",
       "    .dataframe tbody tr th {\n",
       "        vertical-align: top;\n",
       "    }\n",
       "\n",
       "    .dataframe thead th {\n",
       "        text-align: right;\n",
       "    }\n",
       "</style>\n",
       "<table border=\"1\" class=\"dataframe\">\n",
       "  <thead>\n",
       "    <tr style=\"text-align: right;\">\n",
       "      <th></th>\n",
       "      <th>row_number</th>\n",
       "      <th>product_title</th>\n",
       "      <th>category_id</th>\n",
       "      <th>full_category</th>\n",
       "      <th>category_0</th>\n",
       "      <th>category_1</th>\n",
       "      <th>category_2</th>\n",
       "      <th>category_3</th>\n",
       "      <th>category_4</th>\n",
       "    </tr>\n",
       "  </thead>\n",
       "  <tbody>\n",
       "    <tr>\n",
       "      <th>0</th>\n",
       "      <td>1</td>\n",
       "      <td>Термокружка с животными 350/500 мл</td>\n",
       "      <td>12407</td>\n",
       "      <td>1.10018.10115.10586.12407</td>\n",
       "      <td>1</td>\n",
       "      <td>10018</td>\n",
       "      <td>10115</td>\n",
       "      <td>10586</td>\n",
       "      <td>12407</td>\n",
       "    </tr>\n",
       "    <tr>\n",
       "      <th>1</th>\n",
       "      <td>2</td>\n",
       "      <td>Пластиковая емкость для хранения круп</td>\n",
       "      <td>12667</td>\n",
       "      <td>1.10018.10115.10992.12667</td>\n",
       "      <td>1</td>\n",
       "      <td>10018</td>\n",
       "      <td>10115</td>\n",
       "      <td>10992</td>\n",
       "      <td>12667</td>\n",
       "    </tr>\n",
       "    <tr>\n",
       "      <th>2</th>\n",
       "      <td>3</td>\n",
       "      <td>Контейнер с дозатором для хранения круп</td>\n",
       "      <td>13901</td>\n",
       "      <td>1.10018.10115.10992.13901</td>\n",
       "      <td>1</td>\n",
       "      <td>10018</td>\n",
       "      <td>10115</td>\n",
       "      <td>10992</td>\n",
       "      <td>13901</td>\n",
       "    </tr>\n",
       "    <tr>\n",
       "      <th>3</th>\n",
       "      <td>4</td>\n",
       "      <td>Контейнер для хранения яиц</td>\n",
       "      <td>13674</td>\n",
       "      <td>1.10018.10115.10992.13674</td>\n",
       "      <td>1</td>\n",
       "      <td>10018</td>\n",
       "      <td>10115</td>\n",
       "      <td>10992</td>\n",
       "      <td>13674</td>\n",
       "    </tr>\n",
       "    <tr>\n",
       "      <th>4</th>\n",
       "      <td>5</td>\n",
       "      <td>Губкодержатель</td>\n",
       "      <td>13254</td>\n",
       "      <td>1.10018.10115.10390.13254</td>\n",
       "      <td>1</td>\n",
       "      <td>10018</td>\n",
       "      <td>10115</td>\n",
       "      <td>10390</td>\n",
       "      <td>13254</td>\n",
       "    </tr>\n",
       "    <tr>\n",
       "      <th>5</th>\n",
       "      <td>6</td>\n",
       "      <td>Глубокая тарелка для овощей</td>\n",
       "      <td>11999</td>\n",
       "      <td>1.10018.10115.10377.11999</td>\n",
       "      <td>1</td>\n",
       "      <td>10018</td>\n",
       "      <td>10115</td>\n",
       "      <td>10377</td>\n",
       "      <td>11999</td>\n",
       "    </tr>\n",
       "    <tr>\n",
       "      <th>6</th>\n",
       "      <td>7</td>\n",
       "      <td>Держатель на кухонный гарнитур под отходы</td>\n",
       "      <td>14095</td>\n",
       "      <td>1.10018.10110.14095</td>\n",
       "      <td>1</td>\n",
       "      <td>10018</td>\n",
       "      <td>10110</td>\n",
       "      <td>14095</td>\n",
       "      <td>NaN</td>\n",
       "    </tr>\n",
       "  </tbody>\n",
       "</table>\n",
       "</div>"
      ],
      "text/plain": [
       "   row_number                              product_title  category_id  \\\n",
       "0           1         Термокружка с животными 350/500 мл        12407   \n",
       "1           2      Пластиковая емкость для хранения круп        12667   \n",
       "2           3    Контейнер с дозатором для хранения круп        13901   \n",
       "3           4                 Контейнер для хранения яиц        13674   \n",
       "4           5                             Губкодержатель        13254   \n",
       "5           6                Глубокая тарелка для овощей        11999   \n",
       "6           7  Держатель на кухонный гарнитур под отходы        14095   \n",
       "\n",
       "               full_category category_0 category_1 category_2 category_3  \\\n",
       "0  1.10018.10115.10586.12407          1      10018      10115      10586   \n",
       "1  1.10018.10115.10992.12667          1      10018      10115      10992   \n",
       "2  1.10018.10115.10992.13901          1      10018      10115      10992   \n",
       "3  1.10018.10115.10992.13674          1      10018      10115      10992   \n",
       "4  1.10018.10115.10390.13254          1      10018      10115      10390   \n",
       "5  1.10018.10115.10377.11999          1      10018      10115      10377   \n",
       "6        1.10018.10110.14095          1      10018      10110      14095   \n",
       "\n",
       "  category_4  \n",
       "0      12407  \n",
       "1      12667  \n",
       "2      13901  \n",
       "3      13674  \n",
       "4      13254  \n",
       "5      11999  \n",
       "6        NaN  "
      ]
     },
     "execution_count": 109,
     "metadata": {},
     "output_type": "execute_result"
    }
   ],
   "source": [
    "prod.head(7)"
   ]
  },
  {
   "cell_type": "code",
   "execution_count": 16,
   "metadata": {
    "colab": {
     "base_uri": "https://localhost:8080/"
    },
    "id": "DcXju-1gNT2C",
    "outputId": "25423d3e-511a-43fd-b7c3-3f2972e7e7ba"
   },
   "outputs": [
    {
     "name": "stdout",
     "output_type": "stream",
     "text": [
      "<class 'pandas.core.frame.DataFrame'>\n",
      "RangeIndex: 144082 entries, 0 to 144081\n",
      "Data columns (total 9 columns):\n",
      " #   Column         Non-Null Count   Dtype \n",
      "---  ------         --------------   ----- \n",
      " 0   row_number     144082 non-null  int64 \n",
      " 1   product_title  144082 non-null  object\n",
      " 2   category_id    144082 non-null  int64 \n",
      " 3   full_category  144082 non-null  object\n",
      " 4   category_0     144082 non-null  object\n",
      " 5   category_1     144082 non-null  object\n",
      " 6   category_2     144082 non-null  object\n",
      " 7   category_3     144082 non-null  object\n",
      " 8   category_4     116099 non-null  object\n",
      "dtypes: int64(2), object(7)\n",
      "memory usage: 9.9+ MB\n"
     ]
    }
   ],
   "source": [
    "prod.info()"
   ]
  },
  {
   "cell_type": "code",
   "execution_count": 17,
   "metadata": {
    "id": "Kr2KUyLMdMR4"
   },
   "outputs": [],
   "source": [
    "def tokenize(text):\n",
    "    stopwords_rus = nltk.corpus.stopwords.words('russian')\n",
    "    tokeniser = RegexpTokenizer(\"[A-Za-zА-Яа-я]+\")\n",
    "    tokens = tokeniser.tokenize(text)\n",
    "    \n",
    "    tokens_lower = [t.lower() for t in tokens]\n",
    "    tokens_clean = [t for t in tokens_lower if t not in stopwords_rus]\n",
    "    return ' '.join(tokens_clean)"
   ]
  },
  {
   "cell_type": "code",
   "execution_count": 18,
   "metadata": {
    "colab": {
     "base_uri": "https://localhost:8080/"
    },
    "id": "jiPJWU7mNT2D",
    "outputId": "384a72ef-8962-4e70-b61b-f658ffc4d9b8"
   },
   "outputs": [
    {
     "name": "stdout",
     "output_type": "stream",
     "text": [
      "CPU times: user 14.6 s, sys: 3.13 s, total: 17.8 s\n",
      "Wall time: 17.8 s\n"
     ]
    }
   ],
   "source": [
    "%%time\n",
    "prod['preproc'] = prod['product_title'].apply(tokenize)"
   ]
  },
  {
   "cell_type": "code",
   "execution_count": 19,
   "metadata": {
    "colab": {
     "base_uri": "https://localhost:8080/",
     "height": 343
    },
    "id": "FForgl8hfqic",
    "outputId": "a5be1f1f-6281-42b7-f4ab-e61aba01dfc2"
   },
   "outputs": [
    {
     "data": {
      "text/html": [
       "<div>\n",
       "<style scoped>\n",
       "    .dataframe tbody tr th:only-of-type {\n",
       "        vertical-align: middle;\n",
       "    }\n",
       "\n",
       "    .dataframe tbody tr th {\n",
       "        vertical-align: top;\n",
       "    }\n",
       "\n",
       "    .dataframe thead th {\n",
       "        text-align: right;\n",
       "    }\n",
       "</style>\n",
       "<table border=\"1\" class=\"dataframe\">\n",
       "  <thead>\n",
       "    <tr style=\"text-align: right;\">\n",
       "      <th></th>\n",
       "      <th>row_number</th>\n",
       "      <th>product_title</th>\n",
       "      <th>category_id</th>\n",
       "      <th>full_category</th>\n",
       "      <th>category_0</th>\n",
       "      <th>category_1</th>\n",
       "      <th>category_2</th>\n",
       "      <th>category_3</th>\n",
       "      <th>category_4</th>\n",
       "      <th>preproc</th>\n",
       "    </tr>\n",
       "  </thead>\n",
       "  <tbody>\n",
       "    <tr>\n",
       "      <th>0</th>\n",
       "      <td>1</td>\n",
       "      <td>Термокружка с животными 350/500 мл</td>\n",
       "      <td>12407</td>\n",
       "      <td>1.10018.10115.10586.12407</td>\n",
       "      <td>1</td>\n",
       "      <td>10018</td>\n",
       "      <td>10115</td>\n",
       "      <td>10586</td>\n",
       "      <td>12407</td>\n",
       "      <td>термокружка животными мл</td>\n",
       "    </tr>\n",
       "    <tr>\n",
       "      <th>1</th>\n",
       "      <td>2</td>\n",
       "      <td>Пластиковая емкость для хранения круп</td>\n",
       "      <td>12667</td>\n",
       "      <td>1.10018.10115.10992.12667</td>\n",
       "      <td>1</td>\n",
       "      <td>10018</td>\n",
       "      <td>10115</td>\n",
       "      <td>10992</td>\n",
       "      <td>12667</td>\n",
       "      <td>пластиковая емкость хранения круп</td>\n",
       "    </tr>\n",
       "    <tr>\n",
       "      <th>2</th>\n",
       "      <td>3</td>\n",
       "      <td>Контейнер с дозатором для хранения круп</td>\n",
       "      <td>13901</td>\n",
       "      <td>1.10018.10115.10992.13901</td>\n",
       "      <td>1</td>\n",
       "      <td>10018</td>\n",
       "      <td>10115</td>\n",
       "      <td>10992</td>\n",
       "      <td>13901</td>\n",
       "      <td>контейнер дозатором хранения круп</td>\n",
       "    </tr>\n",
       "    <tr>\n",
       "      <th>3</th>\n",
       "      <td>4</td>\n",
       "      <td>Контейнер для хранения яиц</td>\n",
       "      <td>13674</td>\n",
       "      <td>1.10018.10115.10992.13674</td>\n",
       "      <td>1</td>\n",
       "      <td>10018</td>\n",
       "      <td>10115</td>\n",
       "      <td>10992</td>\n",
       "      <td>13674</td>\n",
       "      <td>контейнер хранения яиц</td>\n",
       "    </tr>\n",
       "    <tr>\n",
       "      <th>4</th>\n",
       "      <td>5</td>\n",
       "      <td>Губкодержатель</td>\n",
       "      <td>13254</td>\n",
       "      <td>1.10018.10115.10390.13254</td>\n",
       "      <td>1</td>\n",
       "      <td>10018</td>\n",
       "      <td>10115</td>\n",
       "      <td>10390</td>\n",
       "      <td>13254</td>\n",
       "      <td>губкодержатель</td>\n",
       "    </tr>\n",
       "  </tbody>\n",
       "</table>\n",
       "</div>"
      ],
      "text/plain": [
       "   row_number                            product_title  category_id  \\\n",
       "0           1       Термокружка с животными 350/500 мл        12407   \n",
       "1           2    Пластиковая емкость для хранения круп        12667   \n",
       "2           3  Контейнер с дозатором для хранения круп        13901   \n",
       "3           4               Контейнер для хранения яиц        13674   \n",
       "4           5                           Губкодержатель        13254   \n",
       "\n",
       "               full_category category_0 category_1 category_2 category_3  \\\n",
       "0  1.10018.10115.10586.12407          1      10018      10115      10586   \n",
       "1  1.10018.10115.10992.12667          1      10018      10115      10992   \n",
       "2  1.10018.10115.10992.13901          1      10018      10115      10992   \n",
       "3  1.10018.10115.10992.13674          1      10018      10115      10992   \n",
       "4  1.10018.10115.10390.13254          1      10018      10115      10390   \n",
       "\n",
       "  category_4                            preproc  \n",
       "0      12407           термокружка животными мл  \n",
       "1      12667  пластиковая емкость хранения круп  \n",
       "2      13901  контейнер дозатором хранения круп  \n",
       "3      13674             контейнер хранения яиц  \n",
       "4      13254                     губкодержатель  "
      ]
     },
     "execution_count": 19,
     "metadata": {},
     "output_type": "execute_result"
    }
   ],
   "source": [
    "prod.head()"
   ]
  },
  {
   "cell_type": "markdown",
   "metadata": {
    "id": "_eeQCszjgQ6-"
   },
   "source": [
    "На больших трех категориях объекты расположились практически хорошо."
   ]
  },
  {
   "cell_type": "code",
   "execution_count": 20,
   "metadata": {
    "colab": {
     "base_uri": "https://localhost:8080/",
     "height": 298
    },
    "id": "tQGwImZ4NT2D",
    "outputId": "fb7e0e21-56e6-45d2-d4c9-5be4fdb86a16"
   },
   "outputs": [
    {
     "data": {
      "text/plain": [
       "<AxesSubplot:xlabel='category_1', ylabel='Count'>"
      ]
     },
     "execution_count": 20,
     "metadata": {},
     "output_type": "execute_result"
    },
    {
     "data": {
      "image/png": "[encoded data removed]",
      "text/plain": [
       "<Figure size 432x288 with 1 Axes>"
      ]
     },
     "metadata": {
      "needs_background": "light"
     },
     "output_type": "display_data"
    }
   ],
   "source": [
    "sns.histplot(prod['category_1'])"
   ]
  },
  {
   "cell_type": "markdown",
   "metadata": {
    "id": "7arek74Agipw"
   },
   "source": [
    "Вторая категория имеет больше трети малочисленных класса и один класс к которому относиться чуть меньше трети объектов."
   ]
  },
  {
   "cell_type": "code",
   "execution_count": 21,
   "metadata": {
    "colab": {
     "base_uri": "https://localhost:8080/",
     "height": 298
    },
    "id": "dtCbxc1Hc-3j",
    "outputId": "1ab07b71-45e9-436b-b1e8-4f14b7db8837"
   },
   "outputs": [
    {
     "data": {
      "text/plain": [
       "<AxesSubplot:xlabel='category_2', ylabel='Count'>"
      ]
     },
     "execution_count": 21,
     "metadata": {},
     "output_type": "execute_result"
    },
    {
     "data": {
      "image/png": "[encoded data removed]",
      "text/plain": [
       "<Figure size 432x288 with 1 Axes>"
      ]
     },
     "metadata": {
      "needs_background": "light"
     },
     "output_type": "display_data"
    }
   ],
   "source": [
    "sns.histplot(prod['category_2'])"
   ]
  },
  {
   "cell_type": "markdown",
   "metadata": {
    "id": "sNzNnteENT2E"
   },
   "source": [
    "Классы этой группы категорий практически сбалансированные"
   ]
  },
  {
   "cell_type": "markdown",
   "metadata": {
    "id": "OVK7004ugLhb"
   },
   "source": [
    "## Feature generagion"
   ]
  },
  {
   "cell_type": "code",
   "execution_count": 22,
   "metadata": {
    "colab": {
     "base_uri": "https://localhost:8080/"
    },
    "id": "7tXWcUHRXFqL",
    "outputId": "2bbf1c9d-57dd-49af-ebcd-092ccb212140",
    "scrolled": true
   },
   "outputs": [
    {
     "name": "stdout",
     "output_type": "stream",
     "text": [
      "CPU times: user 1min, sys: 319 ms, total: 1min 1s\n",
      "Wall time: 22.4 s\n"
     ]
    },
    {
     "data": {
      "text/plain": [
       "(26303998, 52935300)"
      ]
     },
     "execution_count": 22,
     "metadata": {},
     "output_type": "execute_result"
    }
   ],
   "source": [
    "%%time\n",
    "w2v = Word2Vec(min_count=5, window=2, vector_size=50, sample=6e-5, alpha=0.03, min_alpha=0.0007, negative=10, seed=17)\n",
    "w2v.build_vocab(prod['preproc'].apply(lambda x: x.split()), progress_per=1000)\n",
    "w2v.train(prod['preproc'].apply(lambda x: x.split()), total_examples=w2v.corpus_count, epochs=60, report_delay=1)"
   ]
  },
  {
   "cell_type": "markdown",
   "metadata": {
    "id": "5pSFZ1WhgZgL"
   },
   "source": [
    "Усредняем векторы word2veс и получаем вектор предожения"
   ]
  },
  {
   "cell_type": "code",
   "execution_count": 23,
   "metadata": {
    "colab": {
     "base_uri": "https://localhost:8080/"
    },
    "id": "qfQBS-8qXRUR",
    "outputId": "54a4276a-9acf-491f-c769-4d69ccd62ccc"
   },
   "outputs": [
    {
     "name": "stderr",
     "output_type": "stream",
     "text": [
      "/Users/dabannikov/opt/anaconda3/lib/python3.8/site-packages/numpy/core/fromnumeric.py:3419: RuntimeWarning: Mean of empty slice.\n",
      "  return _methods._mean(a, axis=axis, dtype=dtype,\n"
     ]
    },
    {
     "name": "stdout",
     "output_type": "stream",
     "text": [
      "CPU times: user 3.75 s, sys: 20.6 ms, total: 3.77 s\n",
      "Wall time: 3.77 s\n"
     ]
    }
   ],
   "source": [
    "%%time\n",
    "vect = prod['preproc'].apply(lambda text: np.mean([w2v.wv[w] for w in text.split() if w in w2v.wv], axis=0))"
   ]
  },
  {
   "cell_type": "code",
   "execution_count": 201,
   "metadata": {
    "id": "hXuHWg-YNT2F"
   },
   "outputs": [],
   "source": [
    "y = prod['category_1'][vect.notna()]\n",
    "y_cat_2 = prod['category_2'][vect.notna()]\n",
    "y_cat_3 = prod['category_3'][vect.notna()]\n",
    "X = vect[vect.notna()]\n",
    "X = np.stack(X)"
   ]
  },
  {
   "cell_type": "code",
   "execution_count": 202,
   "metadata": {
    "id": "2GxCK2kgjLYJ"
   },
   "outputs": [],
   "source": [
    "level1_categories = prod[vect.notna()]['category_1'].values"
   ]
  },
  {
   "cell_type": "code",
   "execution_count": 203,
   "metadata": {
    "id": "mTpgQpZqjhsE"
   },
   "outputs": [],
   "source": [
    "level1_categories = level1_categories.reshape(-1, 1)"
   ]
  },
  {
   "cell_type": "code",
   "execution_count": 204,
   "metadata": {
    "id": "KLDNsJiFi-rv"
   },
   "outputs": [],
   "source": [
    "extnd_X = np.hstack([X, level1_categories])"
   ]
  },
  {
   "cell_type": "code",
   "execution_count": 205,
   "metadata": {
    "colab": {
     "base_uri": "https://localhost:8080/"
    },
    "id": "uo6sxQkdNT2F",
    "outputId": "1570395a-91b3-45cb-ed41-881cb49247c0"
   },
   "outputs": [
    {
     "data": {
      "text/plain": [
       "array([[0.25680842995643616, 0.552771270275116, 0.5704972147941589, ...,\n",
       "        0.5262089371681213, 0.5139042735099792, '10018'],\n",
       "       [0.010040469467639923, -0.33369529247283936, -0.6273865103721619,\n",
       "        ..., 0.09674374014139175, 1.0678973197937012, '10018'],\n",
       "       [0.0063163116574287415, -0.6553321480751038, -0.7335885167121887,\n",
       "        ..., 0.0923047810792923, 0.5021090507507324, '10018'],\n",
       "       ...,\n",
       "       [-1.3494764566421509, 0.1847909390926361, -0.257911741733551, ...,\n",
       "        -0.16615377366542816, 0.4530147910118103, '10020'],\n",
       "       [-1.0240410566329956, -2.077448844909668, 0.2313496172428131, ...,\n",
       "        -1.2313446998596191, 0.40049099922180176, '10018'],\n",
       "       [-0.0413561575114727, 0.1419793963432312, 0.5433689951896667, ...,\n",
       "        0.31827646493911743, 0.7836732268333435, '10020']], dtype=object)"
      ]
     },
     "execution_count": 205,
     "metadata": {},
     "output_type": "execute_result"
    }
   ],
   "source": [
    "extnd_X"
   ]
  },
  {
   "cell_type": "code",
   "execution_count": 29,
   "metadata": {
    "colab": {
     "base_uri": "https://localhost:8080/"
    },
    "id": "_lSe62P7NT2G",
    "outputId": "cf3bef52-4178-4321-d06c-880f1c699218"
   },
   "outputs": [
    {
     "data": {
      "text/plain": [
       "37"
      ]
     },
     "execution_count": 29,
     "metadata": {},
     "output_type": "execute_result"
    }
   ],
   "source": [
    "len(prod['category_2'].unique())"
   ]
  },
  {
   "cell_type": "markdown",
   "metadata": {
    "id": "viKbzuFYdTfR"
   },
   "source": [
    "### Кросс валидация на таргете с 3 большими категориями. Mean accuracy ~ 0.98, mean f1_micro ~ 0.98, mean f1_macro ~ 0.979"
   ]
  },
  {
   "cell_type": "code",
   "execution_count": 55,
   "metadata": {
    "colab": {
     "base_uri": "https://localhost:8080/"
    },
    "id": "HgEekeY3NT2G",
    "outputId": "193a4693-01d5-4874-befe-9dd8135be1a7"
   },
   "outputs": [
    {
     "name": "stdout",
     "output_type": "stream",
     "text": [
      "CPU times: user 394 ms, sys: 143 ms, total: 537 ms\n",
      "Wall time: 1min 58s\n"
     ]
    }
   ],
   "source": [
    "%%time\n",
    "model = CatBoostClassifier(random_seed=17, depth=6, learning_rate=0.5, thread_count=4, loss_function='MultiClass', custom_metric='TotalF1', eval_metric='TotalF1')\n",
    "result = pd.DataFrame(cross_validate(model, X, y, cv=4, \n",
    "    scoring=['accuracy', 'f1_micro', 'f1_macro', 'f1_weighted'], n_jobs=-1))\n",
    "mean = result.mean().rename('{}_mean'.format)\n",
    "std = result.std().rename('{}_std'.format)\n",
    "results = pd.concat([mean[2:], std[2:]], axis=0)"
   ]
  },
  {
   "cell_type": "code",
   "execution_count": 56,
   "metadata": {
    "colab": {
     "base_uri": "https://localhost:8080/"
    },
    "id": "nE1EBTclNT2G",
    "outputId": "66e0e7dc-9a92-4ee4-dc5f-f6bae1d2613a"
   },
   "outputs": [
    {
     "data": {
      "text/plain": [
       "test_accuracy_mean       0.980402\n",
       "test_f1_micro_mean       0.980402\n",
       "test_f1_macro_mean       0.979770\n",
       "test_f1_weighted_mean    0.980409\n",
       "test_accuracy_std        0.002054\n",
       "test_f1_micro_std        0.002054\n",
       "test_f1_macro_std        0.002059\n",
       "test_f1_weighted_std     0.002053\n",
       "dtype: float64"
      ]
     },
     "execution_count": 56,
     "metadata": {},
     "output_type": "execute_result"
    }
   ],
   "source": [
    "results"
   ]
  },
  {
   "cell_type": "markdown",
   "metadata": {
    "id": "tcs1RvvEd_k4"
   },
   "source": [
    "### Кросс валидация на таргете с 37 категориями, без добавления в качестве признака таргет с прошлого уровня категорий (с 3 категориями). Mean accuracy ~ 0.826, mean f1_micro ~ 0.826, mean f1_macro ~ 0.618"
   ]
  },
  {
   "cell_type": "code",
   "execution_count": 57,
   "metadata": {
    "id": "t6rSMaZjNT2G"
   },
   "outputs": [
    {
     "name": "stdout",
     "output_type": "stream",
     "text": [
      "CPU times: user 495 ms, sys: 93.7 ms, total: 588 ms\n",
      "Wall time: 48min 32s\n"
     ]
    }
   ],
   "source": [
    "%%time\n",
    "model = CatBoostClassifier(random_seed=17, depth=6, learning_rate=0.5, thread_count=4, loss_function='MultiClass', custom_metric='TotalF1', eval_metric='TotalF1')\n",
    "result = pd.DataFrame(cross_validate(model, X, y_cat_2, cv=4, \n",
    "    scoring=['accuracy', 'f1_micro', 'f1_macro', 'f1_weighted'], n_jobs=-1))\n",
    "mean = result.mean().rename('{}_mean'.format)\n",
    "std = result.std().rename('{}_std'.format)\n",
    "results = pd.concat([mean[2:], std[2:]], axis=0)"
   ]
  },
  {
   "cell_type": "code",
   "execution_count": 58,
   "metadata": {
    "id": "FRK0h-hSNT2H"
   },
   "outputs": [
    {
     "data": {
      "text/plain": [
       "test_accuracy_mean       0.828590\n",
       "test_f1_micro_mean       0.828590\n",
       "test_f1_macro_mean       0.640206\n",
       "test_f1_weighted_mean    0.828450\n",
       "test_accuracy_std        0.007131\n",
       "test_f1_micro_std        0.007131\n",
       "test_f1_macro_std        0.021823\n",
       "test_f1_weighted_std     0.006176\n",
       "dtype: float64"
      ]
     },
     "execution_count": 58,
     "metadata": {},
     "output_type": "execute_result"
    }
   ],
   "source": [
    "results"
   ]
  },
  {
   "cell_type": "markdown",
   "metadata": {
    "id": "RGrFTYldfOmE"
   },
   "source": [
    "### Кросс валидация на таргете с 37 категориями, c добавления в качестве признака таргет с прошлого уровня категорий (с 3 категориями). Mean accuracy ~ 0.827, mean f1_micro ~ 0.827, mean f1_macro ~ 0.617"
   ]
  },
  {
   "cell_type": "code",
   "execution_count": 206,
   "metadata": {
    "id": "y_brvLsYNT2H"
   },
   "outputs": [
    {
     "name": "stdout",
     "output_type": "stream",
     "text": [
      "CPU times: user 971 ms, sys: 295 ms, total: 1.27 s\n",
      "Wall time: 55min 53s\n"
     ]
    }
   ],
   "source": [
    "%%time\n",
    "model = CatBoostClassifier(random_seed=17, depth=6, learning_rate=0.5, thread_count=4, loss_function='MultiClass', custom_metric='TotalF1', eval_metric='TotalF1')\n",
    "result = pd.DataFrame(cross_validate(model, StandardScaler().fit_transform(extnd_X), y_cat_2, cv=4, \n",
    "    scoring=['accuracy', 'f1_micro', 'f1_macro', 'f1_weighted'], n_jobs=-1))\n",
    "mean = result.mean().rename('{}_mean'.format)\n",
    "std = result.std().rename('{}_std'.format)\n",
    "results = pd.concat([mean[2:], std[2:]], axis=0)"
   ]
  },
  {
   "cell_type": "code",
   "execution_count": 207,
   "metadata": {
    "id": "_f-9LrZINT2H"
   },
   "outputs": [
    {
     "data": {
      "text/plain": [
       "test_accuracy_mean       0.839132\n",
       "test_f1_micro_mean       0.839132\n",
       "test_f1_macro_mean       0.657218\n",
       "test_f1_weighted_mean    0.838983\n",
       "test_accuracy_std        0.006315\n",
       "test_f1_micro_std        0.006315\n",
       "test_f1_macro_std        0.025047\n",
       "test_f1_weighted_std     0.005678\n",
       "dtype: float64"
      ]
     },
     "execution_count": 207,
     "metadata": {},
     "output_type": "execute_result"
    }
   ],
   "source": [
    "results"
   ]
  },
  {
   "cell_type": "code",
   "execution_count": 208,
   "metadata": {
    "id": "MSzqouMXNT2H"
   },
   "outputs": [],
   "source": [
    "# %%time\n",
    "# params = {'depth':[i for i in range(5, 10)],\n",
    "# 'learning_rate':np.linspace(0.01, 0.5, 10).tolist(),\n",
    "# 'l2_leaf_reg':[1, 3, 5, 7, 9]}\n",
    "# params\n",
    "# model = CatBoostClassifier(thread_count=4, loss_function='MultiClass', custom_metric='TotalF1', eval_metric='TotalF1')\n",
    "# result = model.grid_search(X=X, y=y, param_grid=params, cv=4, plot=True, partition_random_seed=17, calc_cv_statistics=True,\n",
    "#         search_by_train_test_split=True, refit=True, shuffle=True, stratified=None, train_size=0.8, verbose=True)"
   ]
  },
  {
   "cell_type": "markdown",
   "metadata": {},
   "source": [
    "### Кросс валидация на таргете с 239 категориями, без добавления в качестве признаков таргетов с прошлых уровней категорий (с 3 и 37 категориями). mean f1_macro ~ 0.26"
   ]
  },
  {
   "cell_type": "code",
   "execution_count": 209,
   "metadata": {
    "id": "I1XDR52liRox"
   },
   "outputs": [
    {
     "name": "stderr",
     "output_type": "stream",
     "text": [
      "/Users/dabannikov/opt/anaconda3/lib/python3.8/site-packages/sklearn/model_selection/_split.py:666: UserWarning: The least populated class in y has only 1 members, which is less than n_splits=4.\n",
      "  warnings.warn((\"The least populated class in y has only %d\"\n"
     ]
    },
    {
     "ename": "KeyboardInterrupt",
     "evalue": "",
     "output_type": "error",
     "traceback": [
      "\u001b[0;31m---------------------------------------------------------------------------\u001b[0m",
      "\u001b[0;31mKeyboardInterrupt\u001b[0m                         Traceback (most recent call last)",
      "\u001b[0;32m<timed exec>\u001b[0m in \u001b[0;36m<module>\u001b[0;34m\u001b[0m\n",
      "\u001b[0;32m~/opt/anaconda3/lib/python3.8/site-packages/sklearn/utils/validation.py\u001b[0m in \u001b[0;36minner_f\u001b[0;34m(*args, **kwargs)\u001b[0m\n\u001b[1;32m     61\u001b[0m             \u001b[0mextra_args\u001b[0m \u001b[0;34m=\u001b[0m \u001b[0mlen\u001b[0m\u001b[0;34m(\u001b[0m\u001b[0margs\u001b[0m\u001b[0;34m)\u001b[0m \u001b[0;34m-\u001b[0m \u001b[0mlen\u001b[0m\u001b[0;34m(\u001b[0m\u001b[0mall_args\u001b[0m\u001b[0;34m)\u001b[0m\u001b[0;34m\u001b[0m\u001b[0;34m\u001b[0m\u001b[0m\n\u001b[1;32m     62\u001b[0m             \u001b[0;32mif\u001b[0m \u001b[0mextra_args\u001b[0m \u001b[0;34m<=\u001b[0m \u001b[0;36m0\u001b[0m\u001b[0;34m:\u001b[0m\u001b[0;34m\u001b[0m\u001b[0;34m\u001b[0m\u001b[0m\n\u001b[0;32m---> 63\u001b[0;31m                 \u001b[0;32mreturn\u001b[0m \u001b[0mf\u001b[0m\u001b[0;34m(\u001b[0m\u001b[0;34m*\u001b[0m\u001b[0margs\u001b[0m\u001b[0;34m,\u001b[0m \u001b[0;34m**\u001b[0m\u001b[0mkwargs\u001b[0m\u001b[0;34m)\u001b[0m\u001b[0;34m\u001b[0m\u001b[0;34m\u001b[0m\u001b[0m\n\u001b[0m\u001b[1;32m     64\u001b[0m \u001b[0;34m\u001b[0m\u001b[0m\n\u001b[1;32m     65\u001b[0m             \u001b[0;31m# extra_args > 0\u001b[0m\u001b[0;34m\u001b[0m\u001b[0;34m\u001b[0m\u001b[0;34m\u001b[0m\u001b[0m\n",
      "\u001b[0;32m~/opt/anaconda3/lib/python3.8/site-packages/sklearn/model_selection/_validation.py\u001b[0m in \u001b[0;36mcross_validate\u001b[0;34m(estimator, X, y, groups, scoring, cv, n_jobs, verbose, fit_params, pre_dispatch, return_train_score, return_estimator, error_score)\u001b[0m\n\u001b[1;32m    244\u001b[0m     parallel = Parallel(n_jobs=n_jobs, verbose=verbose,\n\u001b[1;32m    245\u001b[0m                         pre_dispatch=pre_dispatch)\n\u001b[0;32m--> 246\u001b[0;31m     results = parallel(\n\u001b[0m\u001b[1;32m    247\u001b[0m         delayed(_fit_and_score)(\n\u001b[1;32m    248\u001b[0m             \u001b[0mclone\u001b[0m\u001b[0;34m(\u001b[0m\u001b[0mestimator\u001b[0m\u001b[0;34m)\u001b[0m\u001b[0;34m,\u001b[0m \u001b[0mX\u001b[0m\u001b[0;34m,\u001b[0m \u001b[0my\u001b[0m\u001b[0;34m,\u001b[0m \u001b[0mscorers\u001b[0m\u001b[0;34m,\u001b[0m \u001b[0mtrain\u001b[0m\u001b[0;34m,\u001b[0m \u001b[0mtest\u001b[0m\u001b[0;34m,\u001b[0m \u001b[0mverbose\u001b[0m\u001b[0;34m,\u001b[0m \u001b[0;32mNone\u001b[0m\u001b[0;34m,\u001b[0m\u001b[0;34m\u001b[0m\u001b[0;34m\u001b[0m\u001b[0m\n",
      "\u001b[0;32m~/opt/anaconda3/lib/python3.8/site-packages/joblib/parallel.py\u001b[0m in \u001b[0;36m__call__\u001b[0;34m(self, iterable)\u001b[0m\n\u001b[1;32m   1052\u001b[0m \u001b[0;34m\u001b[0m\u001b[0m\n\u001b[1;32m   1053\u001b[0m             \u001b[0;32mwith\u001b[0m \u001b[0mself\u001b[0m\u001b[0;34m.\u001b[0m\u001b[0m_backend\u001b[0m\u001b[0;34m.\u001b[0m\u001b[0mretrieval_context\u001b[0m\u001b[0;34m(\u001b[0m\u001b[0;34m)\u001b[0m\u001b[0;34m:\u001b[0m\u001b[0;34m\u001b[0m\u001b[0;34m\u001b[0m\u001b[0m\n\u001b[0;32m-> 1054\u001b[0;31m                 \u001b[0mself\u001b[0m\u001b[0;34m.\u001b[0m\u001b[0mretrieve\u001b[0m\u001b[0;34m(\u001b[0m\u001b[0;34m)\u001b[0m\u001b[0;34m\u001b[0m\u001b[0;34m\u001b[0m\u001b[0m\n\u001b[0m\u001b[1;32m   1055\u001b[0m             \u001b[0;31m# Make sure that we get a last message telling us we are done\u001b[0m\u001b[0;34m\u001b[0m\u001b[0;34m\u001b[0m\u001b[0;34m\u001b[0m\u001b[0m\n\u001b[1;32m   1056\u001b[0m             \u001b[0melapsed_time\u001b[0m \u001b[0;34m=\u001b[0m \u001b[0mtime\u001b[0m\u001b[0;34m.\u001b[0m\u001b[0mtime\u001b[0m\u001b[0;34m(\u001b[0m\u001b[0;34m)\u001b[0m \u001b[0;34m-\u001b[0m \u001b[0mself\u001b[0m\u001b[0;34m.\u001b[0m\u001b[0m_start_time\u001b[0m\u001b[0;34m\u001b[0m\u001b[0;34m\u001b[0m\u001b[0m\n",
      "\u001b[0;32m~/opt/anaconda3/lib/python3.8/site-packages/joblib/parallel.py\u001b[0m in \u001b[0;36mretrieve\u001b[0;34m(self)\u001b[0m\n\u001b[1;32m    931\u001b[0m             \u001b[0;32mtry\u001b[0m\u001b[0;34m:\u001b[0m\u001b[0;34m\u001b[0m\u001b[0;34m\u001b[0m\u001b[0m\n\u001b[1;32m    932\u001b[0m                 \u001b[0;32mif\u001b[0m \u001b[0mgetattr\u001b[0m\u001b[0;34m(\u001b[0m\u001b[0mself\u001b[0m\u001b[0;34m.\u001b[0m\u001b[0m_backend\u001b[0m\u001b[0;34m,\u001b[0m \u001b[0;34m'supports_timeout'\u001b[0m\u001b[0;34m,\u001b[0m \u001b[0;32mFalse\u001b[0m\u001b[0;34m)\u001b[0m\u001b[0;34m:\u001b[0m\u001b[0;34m\u001b[0m\u001b[0;34m\u001b[0m\u001b[0m\n\u001b[0;32m--> 933\u001b[0;31m                     \u001b[0mself\u001b[0m\u001b[0;34m.\u001b[0m\u001b[0m_output\u001b[0m\u001b[0;34m.\u001b[0m\u001b[0mextend\u001b[0m\u001b[0;34m(\u001b[0m\u001b[0mjob\u001b[0m\u001b[0;34m.\u001b[0m\u001b[0mget\u001b[0m\u001b[0;34m(\u001b[0m\u001b[0mtimeout\u001b[0m\u001b[0;34m=\u001b[0m\u001b[0mself\u001b[0m\u001b[0;34m.\u001b[0m\u001b[0mtimeout\u001b[0m\u001b[0;34m)\u001b[0m\u001b[0;34m)\u001b[0m\u001b[0;34m\u001b[0m\u001b[0;34m\u001b[0m\u001b[0m\n\u001b[0m\u001b[1;32m    934\u001b[0m                 \u001b[0;32melse\u001b[0m\u001b[0;34m:\u001b[0m\u001b[0;34m\u001b[0m\u001b[0;34m\u001b[0m\u001b[0m\n\u001b[1;32m    935\u001b[0m                     \u001b[0mself\u001b[0m\u001b[0;34m.\u001b[0m\u001b[0m_output\u001b[0m\u001b[0;34m.\u001b[0m\u001b[0mextend\u001b[0m\u001b[0;34m(\u001b[0m\u001b[0mjob\u001b[0m\u001b[0;34m.\u001b[0m\u001b[0mget\u001b[0m\u001b[0;34m(\u001b[0m\u001b[0;34m)\u001b[0m\u001b[0;34m)\u001b[0m\u001b[0;34m\u001b[0m\u001b[0;34m\u001b[0m\u001b[0m\n",
      "\u001b[0;32m~/opt/anaconda3/lib/python3.8/site-packages/joblib/_parallel_backends.py\u001b[0m in \u001b[0;36mwrap_future_result\u001b[0;34m(future, timeout)\u001b[0m\n\u001b[1;32m    540\u001b[0m         AsyncResults.get from multiprocessing.\"\"\"\n\u001b[1;32m    541\u001b[0m         \u001b[0;32mtry\u001b[0m\u001b[0;34m:\u001b[0m\u001b[0;34m\u001b[0m\u001b[0;34m\u001b[0m\u001b[0m\n\u001b[0;32m--> 542\u001b[0;31m             \u001b[0;32mreturn\u001b[0m \u001b[0mfuture\u001b[0m\u001b[0;34m.\u001b[0m\u001b[0mresult\u001b[0m\u001b[0;34m(\u001b[0m\u001b[0mtimeout\u001b[0m\u001b[0;34m=\u001b[0m\u001b[0mtimeout\u001b[0m\u001b[0;34m)\u001b[0m\u001b[0;34m\u001b[0m\u001b[0;34m\u001b[0m\u001b[0m\n\u001b[0m\u001b[1;32m    543\u001b[0m         \u001b[0;32mexcept\u001b[0m \u001b[0mCfTimeoutError\u001b[0m \u001b[0;32mas\u001b[0m \u001b[0me\u001b[0m\u001b[0;34m:\u001b[0m\u001b[0;34m\u001b[0m\u001b[0;34m\u001b[0m\u001b[0m\n\u001b[1;32m    544\u001b[0m             \u001b[0;32mraise\u001b[0m \u001b[0mTimeoutError\u001b[0m \u001b[0;32mfrom\u001b[0m \u001b[0me\u001b[0m\u001b[0;34m\u001b[0m\u001b[0;34m\u001b[0m\u001b[0m\n",
      "\u001b[0;32m~/opt/anaconda3/lib/python3.8/concurrent/futures/_base.py\u001b[0m in \u001b[0;36mresult\u001b[0;34m(self, timeout)\u001b[0m\n\u001b[1;32m    432\u001b[0m                 \u001b[0;32mreturn\u001b[0m \u001b[0mself\u001b[0m\u001b[0;34m.\u001b[0m\u001b[0m__get_result\u001b[0m\u001b[0;34m(\u001b[0m\u001b[0;34m)\u001b[0m\u001b[0;34m\u001b[0m\u001b[0;34m\u001b[0m\u001b[0m\n\u001b[1;32m    433\u001b[0m \u001b[0;34m\u001b[0m\u001b[0m\n\u001b[0;32m--> 434\u001b[0;31m             \u001b[0mself\u001b[0m\u001b[0;34m.\u001b[0m\u001b[0m_condition\u001b[0m\u001b[0;34m.\u001b[0m\u001b[0mwait\u001b[0m\u001b[0;34m(\u001b[0m\u001b[0mtimeout\u001b[0m\u001b[0;34m)\u001b[0m\u001b[0;34m\u001b[0m\u001b[0;34m\u001b[0m\u001b[0m\n\u001b[0m\u001b[1;32m    435\u001b[0m \u001b[0;34m\u001b[0m\u001b[0m\n\u001b[1;32m    436\u001b[0m             \u001b[0;32mif\u001b[0m \u001b[0mself\u001b[0m\u001b[0;34m.\u001b[0m\u001b[0m_state\u001b[0m \u001b[0;32min\u001b[0m \u001b[0;34m[\u001b[0m\u001b[0mCANCELLED\u001b[0m\u001b[0;34m,\u001b[0m \u001b[0mCANCELLED_AND_NOTIFIED\u001b[0m\u001b[0;34m]\u001b[0m\u001b[0;34m:\u001b[0m\u001b[0;34m\u001b[0m\u001b[0;34m\u001b[0m\u001b[0m\n",
      "\u001b[0;32m~/opt/anaconda3/lib/python3.8/threading.py\u001b[0m in \u001b[0;36mwait\u001b[0;34m(self, timeout)\u001b[0m\n\u001b[1;32m    300\u001b[0m         \u001b[0;32mtry\u001b[0m\u001b[0;34m:\u001b[0m    \u001b[0;31m# restore state no matter what (e.g., KeyboardInterrupt)\u001b[0m\u001b[0;34m\u001b[0m\u001b[0;34m\u001b[0m\u001b[0m\n\u001b[1;32m    301\u001b[0m             \u001b[0;32mif\u001b[0m \u001b[0mtimeout\u001b[0m \u001b[0;32mis\u001b[0m \u001b[0;32mNone\u001b[0m\u001b[0;34m:\u001b[0m\u001b[0;34m\u001b[0m\u001b[0;34m\u001b[0m\u001b[0m\n\u001b[0;32m--> 302\u001b[0;31m                 \u001b[0mwaiter\u001b[0m\u001b[0;34m.\u001b[0m\u001b[0macquire\u001b[0m\u001b[0;34m(\u001b[0m\u001b[0;34m)\u001b[0m\u001b[0;34m\u001b[0m\u001b[0;34m\u001b[0m\u001b[0m\n\u001b[0m\u001b[1;32m    303\u001b[0m                 \u001b[0mgotit\u001b[0m \u001b[0;34m=\u001b[0m \u001b[0;32mTrue\u001b[0m\u001b[0;34m\u001b[0m\u001b[0;34m\u001b[0m\u001b[0m\n\u001b[1;32m    304\u001b[0m             \u001b[0;32melse\u001b[0m\u001b[0;34m:\u001b[0m\u001b[0;34m\u001b[0m\u001b[0;34m\u001b[0m\u001b[0m\n",
      "\u001b[0;31mKeyboardInterrupt\u001b[0m: "
     ]
    }
   ],
   "source": [
    "%%time\n",
    "model = CatBoostClassifier(random_seed=17, depth=6, learning_rate=0.5, thread_count=4, loss_function='MultiClass', custom_metric='TotalF1', eval_metric='TotalF1')\n",
    "result = pd.DataFrame(cross_validate(model, X, y_cat_3, cv=4, \n",
    "    scoring=['accuracy', 'f1_micro', 'f1_macro', 'f1_weighted'], n_jobs=-1))\n",
    "mean = result.mean().rename('{}_mean'.format)\n",
    "std = result.std().rename('{}_std'.format)\n",
    "results = pd.concat([mean[2:], std[2:]], axis=0)"
   ]
  },
  {
   "cell_type": "code",
   "execution_count": 210,
   "metadata": {
    "id": "4qEdvLDriSSh"
   },
   "outputs": [
    {
     "data": {
      "text/plain": [
       "test_accuracy_mean       0.839132\n",
       "test_f1_micro_mean       0.839132\n",
       "test_f1_macro_mean       0.657218\n",
       "test_f1_weighted_mean    0.838983\n",
       "test_accuracy_std        0.006315\n",
       "test_f1_micro_std        0.006315\n",
       "test_f1_macro_std        0.025047\n",
       "test_f1_weighted_std     0.005678\n",
       "dtype: float64"
      ]
     },
     "execution_count": 210,
     "metadata": {},
     "output_type": "execute_result"
    }
   ],
   "source": [
    "results"
   ]
  },
  {
   "cell_type": "code",
   "execution_count": 59,
   "metadata": {
    "id": "h7dRssS0NT2J"
   },
   "outputs": [
    {
     "name": "stdout",
     "output_type": "stream",
     "text": [
      "0:\tlearn: 0.4482109\ttotal: 1.15s\tremaining: 19m 7s\n",
      "1:\tlearn: 0.1534236\ttotal: 2.18s\tremaining: 18m 10s\n",
      "2:\tlearn: 0.3661573\ttotal: 3.17s\tremaining: 17m 33s\n",
      "3:\tlearn: 0.2851727\ttotal: 4.17s\tremaining: 17m 17s\n",
      "4:\tlearn: 0.4329102\ttotal: 5.17s\tremaining: 17m 8s\n",
      "5:\tlearn: 0.4465954\ttotal: 6.17s\tremaining: 17m 1s\n",
      "6:\tlearn: 0.4578045\ttotal: 7.14s\tremaining: 16m 53s\n",
      "7:\tlearn: 0.4640782\ttotal: 8.1s\tremaining: 16m 43s\n",
      "8:\tlearn: 0.4401253\ttotal: 9.11s\tremaining: 16m 43s\n",
      "9:\tlearn: 0.4751715\ttotal: 10.2s\tremaining: 16m 50s\n",
      "10:\tlearn: 0.4729297\ttotal: 11.3s\tremaining: 16m 56s\n",
      "11:\tlearn: 0.5010406\ttotal: 12.6s\tremaining: 17m 14s\n",
      "12:\tlearn: 0.5155836\ttotal: 13.7s\tremaining: 17m 21s\n",
      "13:\tlearn: 0.5390526\ttotal: 14.8s\tremaining: 17m 25s\n",
      "14:\tlearn: 0.5548139\ttotal: 15.9s\tremaining: 17m 25s\n",
      "15:\tlearn: 0.5671936\ttotal: 17s\tremaining: 17m 28s\n",
      "16:\tlearn: 0.5850508\ttotal: 18.1s\tremaining: 17m 25s\n",
      "17:\tlearn: 0.5975582\ttotal: 19.1s\tremaining: 17m 23s\n",
      "18:\tlearn: 0.6061999\ttotal: 20.2s\tremaining: 17m 23s\n",
      "19:\tlearn: 0.6125199\ttotal: 21.3s\tremaining: 17m 22s\n",
      "20:\tlearn: 0.6244163\ttotal: 22.3s\tremaining: 17m 18s\n",
      "21:\tlearn: 0.6337628\ttotal: 23.3s\tremaining: 17m 16s\n",
      "22:\tlearn: 0.6350124\ttotal: 24.5s\tremaining: 17m 21s\n",
      "23:\tlearn: 0.6355315\ttotal: 25.6s\tremaining: 17m 20s\n",
      "24:\tlearn: 0.6359354\ttotal: 26.8s\tremaining: 17m 27s\n",
      "25:\tlearn: 0.6462854\ttotal: 28s\tremaining: 17m 27s\n",
      "26:\tlearn: 0.6510202\ttotal: 29.1s\tremaining: 17m 28s\n",
      "27:\tlearn: 0.6558591\ttotal: 30.2s\tremaining: 17m 28s\n",
      "28:\tlearn: 0.6630013\ttotal: 31.3s\tremaining: 17m 27s\n",
      "29:\tlearn: 0.6665668\ttotal: 32.3s\tremaining: 17m 25s\n",
      "30:\tlearn: 0.6693488\ttotal: 33.4s\tremaining: 17m 24s\n",
      "31:\tlearn: 0.6761883\ttotal: 34.5s\tremaining: 17m 24s\n",
      "32:\tlearn: 0.6820957\ttotal: 35.6s\tremaining: 17m 22s\n",
      "33:\tlearn: 0.6835778\ttotal: 36.7s\tremaining: 17m 21s\n",
      "34:\tlearn: 0.6878702\ttotal: 37.8s\tremaining: 17m 22s\n",
      "35:\tlearn: 0.6918357\ttotal: 39.1s\tremaining: 17m 25s\n",
      "36:\tlearn: 0.6920664\ttotal: 40.3s\tremaining: 17m 27s\n",
      "37:\tlearn: 0.6949111\ttotal: 41.4s\tremaining: 17m 28s\n",
      "38:\tlearn: 0.6985181\ttotal: 42.5s\tremaining: 17m 27s\n",
      "39:\tlearn: 0.7000729\ttotal: 43.6s\tremaining: 17m 25s\n",
      "40:\tlearn: 0.7046019\ttotal: 44.6s\tremaining: 17m 23s\n",
      "41:\tlearn: 0.7079226\ttotal: 45.7s\tremaining: 17m 22s\n",
      "42:\tlearn: 0.7120658\ttotal: 47s\tremaining: 17m 26s\n",
      "43:\tlearn: 0.7145393\ttotal: 48.3s\tremaining: 17m 28s\n",
      "44:\tlearn: 0.7151641\ttotal: 49.3s\tremaining: 17m 26s\n",
      "45:\tlearn: 0.7169786\ttotal: 50.4s\tremaining: 17m 26s\n",
      "46:\tlearn: 0.7208160\ttotal: 51.5s\tremaining: 17m 24s\n",
      "47:\tlearn: 0.7233823\ttotal: 52.6s\tremaining: 17m 22s\n",
      "48:\tlearn: 0.7239001\ttotal: 53.6s\tremaining: 17m 20s\n",
      "49:\tlearn: 0.7251233\ttotal: 54.7s\tremaining: 17m 18s\n",
      "50:\tlearn: 0.7267936\ttotal: 55.7s\tremaining: 17m 16s\n",
      "51:\tlearn: 0.7272495\ttotal: 56.7s\tremaining: 17m 14s\n",
      "52:\tlearn: 0.7281971\ttotal: 57.8s\tremaining: 17m 12s\n",
      "53:\tlearn: 0.7316000\ttotal: 58.8s\tremaining: 17m 10s\n",
      "54:\tlearn: 0.7321561\ttotal: 59.8s\tremaining: 17m 7s\n",
      "55:\tlearn: 0.7322023\ttotal: 1m\tremaining: 17m 5s\n",
      "56:\tlearn: 0.7322432\ttotal: 1m 1s\tremaining: 17m 4s\n",
      "57:\tlearn: 0.7329669\ttotal: 1m 2s\tremaining: 17m 2s\n",
      "58:\tlearn: 0.7337469\ttotal: 1m 4s\tremaining: 17m 1s\n",
      "59:\tlearn: 0.7342892\ttotal: 1m 5s\tremaining: 17m\n",
      "60:\tlearn: 0.7373054\ttotal: 1m 6s\tremaining: 16m 58s\n",
      "61:\tlearn: 0.7376312\ttotal: 1m 7s\tremaining: 16m 58s\n",
      "62:\tlearn: 0.7377495\ttotal: 1m 8s\tremaining: 16m 56s\n",
      "63:\tlearn: 0.7387697\ttotal: 1m 9s\tremaining: 16m 55s\n",
      "64:\tlearn: 0.7396432\ttotal: 1m 10s\tremaining: 16m 54s\n",
      "65:\tlearn: 0.7397540\ttotal: 1m 11s\tremaining: 16m 52s\n",
      "66:\tlearn: 0.7397967\ttotal: 1m 12s\tremaining: 16m 51s\n",
      "67:\tlearn: 0.7411647\ttotal: 1m 13s\tremaining: 16m 50s\n",
      "68:\tlearn: 0.7418029\ttotal: 1m 14s\tremaining: 16m 48s\n",
      "69:\tlearn: 0.7441272\ttotal: 1m 15s\tremaining: 16m 46s\n",
      "70:\tlearn: 0.7448242\ttotal: 1m 16s\tremaining: 16m 45s\n",
      "71:\tlearn: 0.7451219\ttotal: 1m 17s\tremaining: 16m 43s\n",
      "72:\tlearn: 0.7462546\ttotal: 1m 19s\tremaining: 16m 43s\n",
      "73:\tlearn: 0.7468793\ttotal: 1m 20s\tremaining: 16m 41s\n",
      "74:\tlearn: 0.7474718\ttotal: 1m 21s\tremaining: 16m 40s\n",
      "75:\tlearn: 0.7483023\ttotal: 1m 22s\tremaining: 16m 38s\n",
      "76:\tlearn: 0.7490782\ttotal: 1m 23s\tremaining: 16m 36s\n",
      "77:\tlearn: 0.7488169\ttotal: 1m 24s\tremaining: 16m 34s\n",
      "78:\tlearn: 0.7491689\ttotal: 1m 25s\tremaining: 16m 33s\n",
      "79:\tlearn: 0.7492484\ttotal: 1m 26s\tremaining: 16m 32s\n",
      "80:\tlearn: 0.7503043\ttotal: 1m 27s\tremaining: 16m 30s\n",
      "81:\tlearn: 0.7509941\ttotal: 1m 28s\tremaining: 16m 29s\n",
      "82:\tlearn: 0.7510417\ttotal: 1m 29s\tremaining: 16m 27s\n",
      "83:\tlearn: 0.7513637\ttotal: 1m 30s\tremaining: 16m 26s\n",
      "84:\tlearn: 0.7524232\ttotal: 1m 31s\tremaining: 16m 24s\n",
      "85:\tlearn: 0.7529368\ttotal: 1m 32s\tremaining: 16m 22s\n",
      "86:\tlearn: 0.7527865\ttotal: 1m 33s\tremaining: 16m 20s\n",
      "87:\tlearn: 0.7540553\ttotal: 1m 34s\tremaining: 16m 19s\n",
      "88:\tlearn: 0.7541205\ttotal: 1m 35s\tremaining: 16m 19s\n",
      "89:\tlearn: 0.7547425\ttotal: 1m 36s\tremaining: 16m 18s\n",
      "90:\tlearn: 0.7549799\ttotal: 1m 37s\tremaining: 16m 16s\n",
      "91:\tlearn: 0.7559538\ttotal: 1m 38s\tremaining: 16m 15s\n",
      "92:\tlearn: 0.7564511\ttotal: 1m 39s\tremaining: 16m 14s\n",
      "93:\tlearn: 0.7575684\ttotal: 1m 41s\tremaining: 16m 13s\n",
      "94:\tlearn: 0.7579092\ttotal: 1m 42s\tremaining: 16m 12s\n",
      "95:\tlearn: 0.7574068\ttotal: 1m 43s\tremaining: 16m 11s\n",
      "96:\tlearn: 0.7581809\ttotal: 1m 44s\tremaining: 16m 10s\n",
      "97:\tlearn: 0.7584654\ttotal: 1m 45s\tremaining: 16m 8s\n",
      "98:\tlearn: 0.7600224\ttotal: 1m 46s\tremaining: 16m 7s\n",
      "99:\tlearn: 0.7598190\ttotal: 1m 47s\tremaining: 16m 5s\n",
      "100:\tlearn: 0.7610451\ttotal: 1m 48s\tremaining: 16m 4s\n",
      "101:\tlearn: 0.7613286\ttotal: 1m 49s\tremaining: 16m 2s\n",
      "102:\tlearn: 0.7606943\ttotal: 1m 50s\tremaining: 16m 1s\n",
      "103:\tlearn: 0.7612508\ttotal: 1m 51s\tremaining: 16m\n",
      "104:\tlearn: 0.7616955\ttotal: 1m 52s\tremaining: 15m 59s\n",
      "105:\tlearn: 0.7614638\ttotal: 1m 53s\tremaining: 15m 59s\n",
      "106:\tlearn: 0.7614867\ttotal: 1m 54s\tremaining: 15m 58s\n",
      "107:\tlearn: 0.7613534\ttotal: 1m 55s\tremaining: 15m 57s\n",
      "108:\tlearn: 0.7618186\ttotal: 1m 57s\tremaining: 15m 56s\n",
      "109:\tlearn: 0.7620740\ttotal: 1m 58s\tremaining: 15m 55s\n",
      "110:\tlearn: 0.7621462\ttotal: 1m 59s\tremaining: 15m 53s\n",
      "111:\tlearn: 0.7628888\ttotal: 2m\tremaining: 15m 52s\n",
      "112:\tlearn: 0.7646157\ttotal: 2m 1s\tremaining: 15m 51s\n",
      "113:\tlearn: 0.7653179\ttotal: 2m 2s\tremaining: 15m 49s\n",
      "114:\tlearn: 0.7657107\ttotal: 2m 3s\tremaining: 15m 48s\n",
      "115:\tlearn: 0.7655394\ttotal: 2m 4s\tremaining: 15m 46s\n",
      "116:\tlearn: 0.7653041\ttotal: 2m 5s\tremaining: 15m 45s\n",
      "117:\tlearn: 0.7655819\ttotal: 2m 6s\tremaining: 15m 43s\n",
      "118:\tlearn: 0.7655107\ttotal: 2m 7s\tremaining: 15m 42s\n",
      "119:\tlearn: 0.7658836\ttotal: 2m 8s\tremaining: 15m 41s\n",
      "120:\tlearn: 0.7656841\ttotal: 2m 9s\tremaining: 15m 40s\n",
      "121:\tlearn: 0.7645433\ttotal: 2m 10s\tremaining: 15m 38s\n",
      "122:\tlearn: 0.7652539\ttotal: 2m 11s\tremaining: 15m 37s\n",
      "123:\tlearn: 0.7653158\ttotal: 2m 12s\tremaining: 15m 36s\n",
      "124:\tlearn: 0.7660304\ttotal: 2m 13s\tremaining: 15m 34s\n",
      "125:\tlearn: 0.7663626\ttotal: 2m 14s\tremaining: 15m 33s\n",
      "126:\tlearn: 0.7667035\ttotal: 2m 15s\tremaining: 15m 31s\n",
      "127:\tlearn: 0.7669020\ttotal: 2m 16s\tremaining: 15m 30s\n",
      "128:\tlearn: 0.7667987\ttotal: 2m 17s\tremaining: 15m 30s\n",
      "129:\tlearn: 0.7667984\ttotal: 2m 18s\tremaining: 15m 28s\n",
      "130:\tlearn: 0.7667706\ttotal: 2m 19s\tremaining: 15m 27s\n",
      "131:\tlearn: 0.7679156\ttotal: 2m 20s\tremaining: 15m 26s\n",
      "132:\tlearn: 0.7681598\ttotal: 2m 21s\tremaining: 15m 25s\n",
      "133:\tlearn: 0.7682738\ttotal: 2m 22s\tremaining: 15m 23s\n",
      "134:\tlearn: 0.7685963\ttotal: 2m 23s\tremaining: 15m 22s\n",
      "135:\tlearn: 0.7692165\ttotal: 2m 24s\tremaining: 15m 21s\n",
      "136:\tlearn: 0.7698271\ttotal: 2m 26s\tremaining: 15m 20s\n",
      "137:\tlearn: 0.7701965\ttotal: 2m 27s\tremaining: 15m 18s\n",
      "138:\tlearn: 0.7701682\ttotal: 2m 28s\tremaining: 15m 17s\n",
      "139:\tlearn: 0.7709290\ttotal: 2m 29s\tremaining: 15m 16s\n",
      "140:\tlearn: 0.7706997\ttotal: 2m 30s\tremaining: 15m 15s\n",
      "141:\tlearn: 0.7707919\ttotal: 2m 31s\tremaining: 15m 13s\n",
      "142:\tlearn: 0.7708097\ttotal: 2m 32s\tremaining: 15m 12s\n",
      "143:\tlearn: 0.7708674\ttotal: 2m 33s\tremaining: 15m 11s\n",
      "144:\tlearn: 0.7708283\ttotal: 2m 34s\tremaining: 15m 10s\n",
      "145:\tlearn: 0.7709374\ttotal: 2m 35s\tremaining: 15m 9s\n",
      "146:\tlearn: 0.7717549\ttotal: 2m 36s\tremaining: 15m 7s\n",
      "147:\tlearn: 0.7717079\ttotal: 2m 37s\tremaining: 15m 6s\n",
      "148:\tlearn: 0.7717585\ttotal: 2m 38s\tremaining: 15m 4s\n",
      "149:\tlearn: 0.7724680\ttotal: 2m 39s\tremaining: 15m 4s\n",
      "150:\tlearn: 0.7731271\ttotal: 2m 40s\tremaining: 15m 3s\n",
      "151:\tlearn: 0.7730485\ttotal: 2m 41s\tremaining: 15m 2s\n",
      "152:\tlearn: 0.7730395\ttotal: 2m 42s\tremaining: 15m 1s\n",
      "153:\tlearn: 0.7739591\ttotal: 2m 44s\tremaining: 15m\n"
     ]
    },
    {
     "name": "stdout",
     "output_type": "stream",
     "text": [
      "154:\tlearn: 0.7740217\ttotal: 2m 45s\tremaining: 14m 59s\n",
      "155:\tlearn: 0.7741598\ttotal: 2m 46s\tremaining: 14m 58s\n",
      "156:\tlearn: 0.7750891\ttotal: 2m 47s\tremaining: 14m 57s\n",
      "157:\tlearn: 0.7755645\ttotal: 2m 48s\tremaining: 14m 56s\n",
      "158:\tlearn: 0.7767946\ttotal: 2m 49s\tremaining: 14m 54s\n",
      "159:\tlearn: 0.7755374\ttotal: 2m 50s\tremaining: 14m 53s\n",
      "160:\tlearn: 0.7759500\ttotal: 2m 51s\tremaining: 14m 52s\n",
      "161:\tlearn: 0.7754888\ttotal: 2m 52s\tremaining: 14m 50s\n",
      "162:\tlearn: 0.7775551\ttotal: 2m 53s\tremaining: 14m 49s\n",
      "163:\tlearn: 0.7780044\ttotal: 2m 54s\tremaining: 14m 48s\n",
      "164:\tlearn: 0.7781914\ttotal: 2m 55s\tremaining: 14m 46s\n",
      "165:\tlearn: 0.7785815\ttotal: 2m 56s\tremaining: 14m 46s\n",
      "166:\tlearn: 0.7795927\ttotal: 2m 57s\tremaining: 14m 44s\n",
      "167:\tlearn: 0.7796922\ttotal: 2m 58s\tremaining: 14m 43s\n",
      "168:\tlearn: 0.7807462\ttotal: 2m 59s\tremaining: 14m 42s\n",
      "169:\tlearn: 0.7820972\ttotal: 3m\tremaining: 14m 41s\n",
      "170:\tlearn: 0.7826543\ttotal: 3m 1s\tremaining: 14m 40s\n",
      "171:\tlearn: 0.7831916\ttotal: 3m 2s\tremaining: 14m 39s\n",
      "172:\tlearn: 0.7834620\ttotal: 3m 3s\tremaining: 14m 38s\n",
      "173:\tlearn: 0.7840127\ttotal: 3m 4s\tremaining: 14m 37s\n",
      "174:\tlearn: 0.7845722\ttotal: 3m 5s\tremaining: 14m 36s\n",
      "175:\tlearn: 0.7856296\ttotal: 3m 6s\tremaining: 14m 35s\n",
      "176:\tlearn: 0.7855621\ttotal: 3m 7s\tremaining: 14m 34s\n",
      "177:\tlearn: 0.7855764\ttotal: 3m 9s\tremaining: 14m 32s\n",
      "178:\tlearn: 0.7862687\ttotal: 3m 10s\tremaining: 14m 33s\n",
      "179:\tlearn: 0.7860960\ttotal: 3m 11s\tremaining: 14m 33s\n",
      "180:\tlearn: 0.7861269\ttotal: 3m 13s\tremaining: 14m 34s\n",
      "181:\tlearn: 0.7864605\ttotal: 3m 14s\tremaining: 14m 33s\n",
      "182:\tlearn: 0.7867832\ttotal: 3m 15s\tremaining: 14m 33s\n",
      "183:\tlearn: 0.7867295\ttotal: 3m 16s\tremaining: 14m 32s\n",
      "184:\tlearn: 0.7879474\ttotal: 3m 17s\tremaining: 14m 31s\n",
      "185:\tlearn: 0.7882074\ttotal: 3m 18s\tremaining: 14m 29s\n",
      "186:\tlearn: 0.7882318\ttotal: 3m 19s\tremaining: 14m 28s\n",
      "187:\tlearn: 0.7883844\ttotal: 3m 20s\tremaining: 14m 27s\n",
      "188:\tlearn: 0.7885323\ttotal: 3m 21s\tremaining: 14m 26s\n",
      "189:\tlearn: 0.7885998\ttotal: 3m 22s\tremaining: 14m 25s\n",
      "190:\tlearn: 0.7896767\ttotal: 3m 24s\tremaining: 14m 24s\n",
      "191:\tlearn: 0.7907227\ttotal: 3m 25s\tremaining: 14m 23s\n",
      "192:\tlearn: 0.7894223\ttotal: 3m 26s\tremaining: 14m 21s\n",
      "193:\tlearn: 0.7895530\ttotal: 3m 27s\tremaining: 14m 20s\n",
      "194:\tlearn: 0.7892593\ttotal: 3m 28s\tremaining: 14m 19s\n",
      "195:\tlearn: 0.7908252\ttotal: 3m 29s\tremaining: 14m 18s\n",
      "196:\tlearn: 0.7922044\ttotal: 3m 30s\tremaining: 14m 16s\n",
      "197:\tlearn: 0.7923742\ttotal: 3m 31s\tremaining: 14m 15s\n",
      "198:\tlearn: 0.7916877\ttotal: 3m 32s\tremaining: 14m 14s\n",
      "199:\tlearn: 0.7924009\ttotal: 3m 33s\tremaining: 14m 13s\n",
      "200:\tlearn: 0.7920783\ttotal: 3m 34s\tremaining: 14m 12s\n",
      "201:\tlearn: 0.7927275\ttotal: 3m 35s\tremaining: 14m 11s\n",
      "202:\tlearn: 0.7933664\ttotal: 3m 36s\tremaining: 14m 10s\n",
      "203:\tlearn: 0.7939417\ttotal: 3m 37s\tremaining: 14m 8s\n",
      "204:\tlearn: 0.7942744\ttotal: 3m 38s\tremaining: 14m 7s\n",
      "205:\tlearn: 0.7947630\ttotal: 3m 39s\tremaining: 14m 6s\n",
      "206:\tlearn: 0.7952229\ttotal: 3m 40s\tremaining: 14m 5s\n",
      "207:\tlearn: 0.7955543\ttotal: 3m 41s\tremaining: 14m 3s\n",
      "208:\tlearn: 0.7959498\ttotal: 3m 42s\tremaining: 14m 2s\n",
      "209:\tlearn: 0.7962188\ttotal: 3m 43s\tremaining: 14m 1s\n",
      "210:\tlearn: 0.7966949\ttotal: 3m 44s\tremaining: 14m\n",
      "211:\tlearn: 0.7968004\ttotal: 3m 45s\tremaining: 13m 59s\n",
      "212:\tlearn: 0.7976165\ttotal: 3m 46s\tremaining: 13m 58s\n",
      "213:\tlearn: 0.7979033\ttotal: 3m 47s\tremaining: 13m 57s\n",
      "214:\tlearn: 0.7982112\ttotal: 3m 48s\tremaining: 13m 55s\n",
      "215:\tlearn: 0.7983787\ttotal: 3m 50s\tremaining: 13m 55s\n",
      "216:\tlearn: 0.7987266\ttotal: 3m 51s\tremaining: 13m 54s\n",
      "217:\tlearn: 0.7993869\ttotal: 3m 52s\tremaining: 13m 53s\n",
      "218:\tlearn: 0.7995980\ttotal: 3m 53s\tremaining: 13m 53s\n",
      "219:\tlearn: 0.8004701\ttotal: 3m 55s\tremaining: 13m 53s\n",
      "220:\tlearn: 0.8005010\ttotal: 3m 56s\tremaining: 13m 53s\n",
      "221:\tlearn: 0.8011207\ttotal: 3m 57s\tremaining: 13m 52s\n",
      "222:\tlearn: 0.8007803\ttotal: 3m 58s\tremaining: 13m 51s\n",
      "223:\tlearn: 0.8010225\ttotal: 3m 59s\tremaining: 13m 50s\n",
      "224:\tlearn: 0.8020713\ttotal: 4m\tremaining: 13m 49s\n",
      "225:\tlearn: 0.8033158\ttotal: 4m 1s\tremaining: 13m 48s\n",
      "226:\tlearn: 0.8044225\ttotal: 4m 2s\tremaining: 13m 47s\n",
      "227:\tlearn: 0.8049044\ttotal: 4m 3s\tremaining: 13m 45s\n",
      "228:\tlearn: 0.8052710\ttotal: 4m 4s\tremaining: 13m 44s\n",
      "229:\tlearn: 0.8053091\ttotal: 4m 5s\tremaining: 13m 43s\n",
      "230:\tlearn: 0.8054848\ttotal: 4m 6s\tremaining: 13m 42s\n",
      "231:\tlearn: 0.8055805\ttotal: 4m 8s\tremaining: 13m 40s\n",
      "232:\tlearn: 0.8063654\ttotal: 4m 9s\tremaining: 13m 39s\n",
      "233:\tlearn: 0.8071582\ttotal: 4m 10s\tremaining: 13m 38s\n",
      "234:\tlearn: 0.8075005\ttotal: 4m 11s\tremaining: 13m 37s\n",
      "235:\tlearn: 0.8074832\ttotal: 4m 12s\tremaining: 13m 36s\n",
      "236:\tlearn: 0.8073916\ttotal: 4m 13s\tremaining: 13m 35s\n",
      "237:\tlearn: 0.8076834\ttotal: 4m 14s\tremaining: 13m 33s\n",
      "238:\tlearn: 0.8085135\ttotal: 4m 15s\tremaining: 13m 32s\n",
      "239:\tlearn: 0.8092949\ttotal: 4m 16s\tremaining: 13m 31s\n",
      "240:\tlearn: 0.8089355\ttotal: 4m 17s\tremaining: 13m 30s\n",
      "241:\tlearn: 0.8100285\ttotal: 4m 18s\tremaining: 13m 29s\n",
      "242:\tlearn: 0.8106623\ttotal: 4m 19s\tremaining: 13m 28s\n",
      "243:\tlearn: 0.8120696\ttotal: 4m 20s\tremaining: 13m 27s\n",
      "244:\tlearn: 0.8129034\ttotal: 4m 21s\tremaining: 13m 26s\n",
      "245:\tlearn: 0.8128087\ttotal: 4m 22s\tremaining: 13m 25s\n",
      "246:\tlearn: 0.8130313\ttotal: 4m 23s\tremaining: 13m 24s\n",
      "247:\tlearn: 0.8136103\ttotal: 4m 24s\tremaining: 13m 23s\n",
      "248:\tlearn: 0.8137949\ttotal: 4m 25s\tremaining: 13m 22s\n",
      "249:\tlearn: 0.8145035\ttotal: 4m 26s\tremaining: 13m 20s\n",
      "250:\tlearn: 0.8145592\ttotal: 4m 27s\tremaining: 13m 19s\n",
      "251:\tlearn: 0.8150810\ttotal: 4m 29s\tremaining: 13m 18s\n",
      "252:\tlearn: 0.8151891\ttotal: 4m 30s\tremaining: 13m 17s\n",
      "253:\tlearn: 0.8154700\ttotal: 4m 31s\tremaining: 13m 16s\n",
      "254:\tlearn: 0.8150815\ttotal: 4m 32s\tremaining: 13m 16s\n",
      "255:\tlearn: 0.8157219\ttotal: 4m 33s\tremaining: 13m 16s\n",
      "256:\tlearn: 0.8154006\ttotal: 4m 35s\tremaining: 13m 15s\n",
      "257:\tlearn: 0.8159419\ttotal: 4m 36s\tremaining: 13m 14s\n",
      "258:\tlearn: 0.8159103\ttotal: 4m 37s\tremaining: 13m 13s\n",
      "259:\tlearn: 0.8165214\ttotal: 4m 38s\tremaining: 13m 12s\n",
      "260:\tlearn: 0.8172251\ttotal: 4m 39s\tremaining: 13m 11s\n",
      "261:\tlearn: 0.8179120\ttotal: 4m 40s\tremaining: 13m 10s\n",
      "262:\tlearn: 0.8187054\ttotal: 4m 41s\tremaining: 13m 9s\n",
      "263:\tlearn: 0.8194276\ttotal: 4m 42s\tremaining: 13m 8s\n",
      "264:\tlearn: 0.8199731\ttotal: 4m 43s\tremaining: 13m 6s\n",
      "265:\tlearn: 0.8208297\ttotal: 4m 44s\tremaining: 13m 5s\n",
      "266:\tlearn: 0.8215147\ttotal: 4m 45s\tremaining: 13m 4s\n",
      "267:\tlearn: 0.8217445\ttotal: 4m 46s\tremaining: 13m 3s\n",
      "268:\tlearn: 0.8223842\ttotal: 4m 47s\tremaining: 13m 2s\n",
      "269:\tlearn: 0.8230062\ttotal: 4m 49s\tremaining: 13m 1s\n",
      "270:\tlearn: 0.8228839\ttotal: 4m 50s\tremaining: 13m\n",
      "271:\tlearn: 0.8233557\ttotal: 4m 51s\tremaining: 12m 59s\n",
      "272:\tlearn: 0.8238407\ttotal: 4m 52s\tremaining: 12m 58s\n",
      "273:\tlearn: 0.8243683\ttotal: 4m 53s\tremaining: 12m 57s\n",
      "274:\tlearn: 0.8245484\ttotal: 4m 54s\tremaining: 12m 55s\n",
      "275:\tlearn: 0.8250660\ttotal: 4m 55s\tremaining: 12m 54s\n",
      "276:\tlearn: 0.8252123\ttotal: 4m 56s\tremaining: 12m 53s\n",
      "277:\tlearn: 0.8256921\ttotal: 4m 57s\tremaining: 12m 52s\n",
      "278:\tlearn: 0.8256773\ttotal: 4m 58s\tremaining: 12m 51s\n",
      "279:\tlearn: 0.8259287\ttotal: 4m 59s\tremaining: 12m 49s\n",
      "280:\tlearn: 0.8261824\ttotal: 5m\tremaining: 12m 48s\n",
      "281:\tlearn: 0.8266854\ttotal: 5m 1s\tremaining: 12m 47s\n",
      "282:\tlearn: 0.8259965\ttotal: 5m 2s\tremaining: 12m 46s\n",
      "283:\tlearn: 0.8265312\ttotal: 5m 3s\tremaining: 12m 45s\n",
      "284:\tlearn: 0.8265646\ttotal: 5m 4s\tremaining: 12m 44s\n",
      "285:\tlearn: 0.8273833\ttotal: 5m 5s\tremaining: 12m 43s\n",
      "286:\tlearn: 0.8277561\ttotal: 5m 6s\tremaining: 12m 42s\n",
      "287:\tlearn: 0.8280926\ttotal: 5m 7s\tremaining: 12m 40s\n",
      "288:\tlearn: 0.8274711\ttotal: 5m 8s\tremaining: 12m 39s\n",
      "289:\tlearn: 0.8280451\ttotal: 5m 9s\tremaining: 12m 38s\n",
      "290:\tlearn: 0.8281392\ttotal: 5m 10s\tremaining: 12m 37s\n",
      "291:\tlearn: 0.8289264\ttotal: 5m 12s\tremaining: 12m 36s\n",
      "292:\tlearn: 0.8287542\ttotal: 5m 13s\tremaining: 12m 35s\n",
      "293:\tlearn: 0.8292421\ttotal: 5m 14s\tremaining: 12m 34s\n",
      "294:\tlearn: 0.8307115\ttotal: 5m 15s\tremaining: 12m 33s\n",
      "295:\tlearn: 0.8311496\ttotal: 5m 16s\tremaining: 12m 32s\n",
      "296:\tlearn: 0.8309519\ttotal: 5m 17s\tremaining: 12m 31s\n",
      "297:\tlearn: 0.8311636\ttotal: 5m 18s\tremaining: 12m 30s\n",
      "298:\tlearn: 0.8315777\ttotal: 5m 19s\tremaining: 12m 29s\n",
      "299:\tlearn: 0.8319499\ttotal: 5m 20s\tremaining: 12m 28s\n",
      "300:\tlearn: 0.8319620\ttotal: 5m 21s\tremaining: 12m 27s\n",
      "301:\tlearn: 0.8327421\ttotal: 5m 23s\tremaining: 12m 26s\n",
      "302:\tlearn: 0.8331617\ttotal: 5m 24s\tremaining: 12m 25s\n",
      "303:\tlearn: 0.8336635\ttotal: 5m 25s\tremaining: 12m 24s\n",
      "304:\tlearn: 0.8336544\ttotal: 5m 26s\tremaining: 12m 23s\n"
     ]
    },
    {
     "name": "stdout",
     "output_type": "stream",
     "text": [
      "305:\tlearn: 0.8346077\ttotal: 5m 27s\tremaining: 12m 22s\n",
      "306:\tlearn: 0.8345977\ttotal: 5m 28s\tremaining: 12m 21s\n",
      "307:\tlearn: 0.8350378\ttotal: 5m 29s\tremaining: 12m 20s\n",
      "308:\tlearn: 0.8349094\ttotal: 5m 30s\tremaining: 12m 19s\n",
      "309:\tlearn: 0.8347600\ttotal: 5m 31s\tremaining: 12m 18s\n",
      "310:\tlearn: 0.8350568\ttotal: 5m 32s\tremaining: 12m 16s\n",
      "311:\tlearn: 0.8356306\ttotal: 5m 33s\tremaining: 12m 15s\n",
      "312:\tlearn: 0.8361695\ttotal: 5m 34s\tremaining: 12m 14s\n",
      "313:\tlearn: 0.8360760\ttotal: 5m 35s\tremaining: 12m 13s\n",
      "314:\tlearn: 0.8360063\ttotal: 5m 36s\tremaining: 12m 12s\n",
      "315:\tlearn: 0.8362565\ttotal: 5m 37s\tremaining: 12m 11s\n",
      "316:\tlearn: 0.8366757\ttotal: 5m 38s\tremaining: 12m 10s\n",
      "317:\tlearn: 0.8372971\ttotal: 5m 39s\tremaining: 12m 9s\n",
      "318:\tlearn: 0.8375890\ttotal: 5m 40s\tremaining: 12m 7s\n",
      "319:\tlearn: 0.8369550\ttotal: 5m 42s\tremaining: 12m 6s\n",
      "320:\tlearn: 0.8371444\ttotal: 5m 43s\tremaining: 12m 5s\n",
      "321:\tlearn: 0.8372206\ttotal: 5m 44s\tremaining: 12m 4s\n",
      "322:\tlearn: 0.8377438\ttotal: 5m 45s\tremaining: 12m 4s\n",
      "323:\tlearn: 0.8383002\ttotal: 5m 46s\tremaining: 12m 3s\n",
      "324:\tlearn: 0.8379566\ttotal: 5m 47s\tremaining: 12m 2s\n",
      "325:\tlearn: 0.8383826\ttotal: 5m 48s\tremaining: 12m 1s\n",
      "326:\tlearn: 0.8385389\ttotal: 5m 50s\tremaining: 12m 1s\n",
      "327:\tlearn: 0.8392532\ttotal: 5m 51s\tremaining: 12m\n",
      "328:\tlearn: 0.8393967\ttotal: 5m 53s\tremaining: 12m\n",
      "329:\tlearn: 0.8398982\ttotal: 5m 54s\tremaining: 11m 59s\n",
      "330:\tlearn: 0.8397945\ttotal: 5m 55s\tremaining: 11m 58s\n",
      "331:\tlearn: 0.8399505\ttotal: 5m 57s\tremaining: 11m 58s\n",
      "332:\tlearn: 0.8394452\ttotal: 5m 58s\tremaining: 11m 57s\n",
      "333:\tlearn: 0.8401738\ttotal: 5m 59s\tremaining: 11m 56s\n",
      "334:\tlearn: 0.8403032\ttotal: 6m\tremaining: 11m 56s\n",
      "335:\tlearn: 0.8405306\ttotal: 6m 2s\tremaining: 11m 55s\n",
      "336:\tlearn: 0.8406405\ttotal: 6m 3s\tremaining: 11m 54s\n",
      "337:\tlearn: 0.8409588\ttotal: 6m 4s\tremaining: 11m 54s\n",
      "338:\tlearn: 0.8410261\ttotal: 6m 6s\tremaining: 11m 53s\n",
      "339:\tlearn: 0.8410892\ttotal: 6m 7s\tremaining: 11m 52s\n",
      "340:\tlearn: 0.8411405\ttotal: 6m 8s\tremaining: 11m 52s\n",
      "341:\tlearn: 0.8413084\ttotal: 6m 9s\tremaining: 11m 51s\n",
      "342:\tlearn: 0.8415453\ttotal: 6m 11s\tremaining: 11m 50s\n",
      "343:\tlearn: 0.8418171\ttotal: 6m 12s\tremaining: 11m 50s\n",
      "344:\tlearn: 0.8421004\ttotal: 6m 13s\tremaining: 11m 49s\n",
      "345:\tlearn: 0.8427683\ttotal: 6m 14s\tremaining: 11m 48s\n",
      "346:\tlearn: 0.8433062\ttotal: 6m 16s\tremaining: 11m 47s\n",
      "347:\tlearn: 0.8435180\ttotal: 6m 17s\tremaining: 11m 46s\n",
      "348:\tlearn: 0.8436092\ttotal: 6m 18s\tremaining: 11m 45s\n",
      "349:\tlearn: 0.8436222\ttotal: 6m 19s\tremaining: 11m 44s\n",
      "350:\tlearn: 0.8436653\ttotal: 6m 20s\tremaining: 11m 43s\n",
      "351:\tlearn: 0.8439451\ttotal: 6m 21s\tremaining: 11m 42s\n",
      "352:\tlearn: 0.8444194\ttotal: 6m 22s\tremaining: 11m 41s\n",
      "353:\tlearn: 0.8446177\ttotal: 6m 23s\tremaining: 11m 40s\n",
      "354:\tlearn: 0.8447479\ttotal: 6m 24s\tremaining: 11m 39s\n",
      "355:\tlearn: 0.8451647\ttotal: 6m 26s\tremaining: 11m 38s\n",
      "356:\tlearn: 0.8451032\ttotal: 6m 27s\tremaining: 11m 37s\n",
      "357:\tlearn: 0.8455741\ttotal: 6m 28s\tremaining: 11m 35s\n",
      "358:\tlearn: 0.8455232\ttotal: 6m 29s\tremaining: 11m 34s\n",
      "359:\tlearn: 0.8457505\ttotal: 6m 30s\tremaining: 11m 33s\n",
      "360:\tlearn: 0.8457170\ttotal: 6m 31s\tremaining: 11m 32s\n",
      "361:\tlearn: 0.8460272\ttotal: 6m 32s\tremaining: 11m 31s\n",
      "362:\tlearn: 0.8461582\ttotal: 6m 33s\tremaining: 11m 30s\n",
      "363:\tlearn: 0.8460343\ttotal: 6m 34s\tremaining: 11m 28s\n",
      "364:\tlearn: 0.8465100\ttotal: 6m 35s\tremaining: 11m 27s\n",
      "365:\tlearn: 0.8464921\ttotal: 6m 36s\tremaining: 11m 26s\n",
      "366:\tlearn: 0.8471465\ttotal: 6m 37s\tremaining: 11m 25s\n",
      "367:\tlearn: 0.8474653\ttotal: 6m 38s\tremaining: 11m 24s\n",
      "368:\tlearn: 0.8471728\ttotal: 6m 39s\tremaining: 11m 23s\n",
      "369:\tlearn: 0.8473297\ttotal: 6m 40s\tremaining: 11m 22s\n",
      "370:\tlearn: 0.8471089\ttotal: 6m 41s\tremaining: 11m 21s\n",
      "371:\tlearn: 0.8464042\ttotal: 6m 42s\tremaining: 11m 19s\n",
      "372:\tlearn: 0.8467405\ttotal: 6m 43s\tremaining: 11m 18s\n",
      "373:\tlearn: 0.8469393\ttotal: 6m 44s\tremaining: 11m 17s\n",
      "374:\tlearn: 0.8498823\ttotal: 6m 45s\tremaining: 11m 16s\n",
      "375:\tlearn: 0.8500732\ttotal: 6m 47s\tremaining: 11m 15s\n",
      "376:\tlearn: 0.8502393\ttotal: 6m 48s\tremaining: 11m 14s\n",
      "377:\tlearn: 0.8504574\ttotal: 6m 49s\tremaining: 11m 13s\n",
      "378:\tlearn: 0.8505961\ttotal: 6m 50s\tremaining: 11m 12s\n",
      "379:\tlearn: 0.8506523\ttotal: 6m 51s\tremaining: 11m 10s\n",
      "380:\tlearn: 0.8504970\ttotal: 6m 52s\tremaining: 11m 9s\n",
      "381:\tlearn: 0.8510097\ttotal: 6m 53s\tremaining: 11m 8s\n",
      "382:\tlearn: 0.8511072\ttotal: 6m 54s\tremaining: 11m 7s\n",
      "383:\tlearn: 0.8508576\ttotal: 6m 55s\tremaining: 11m 6s\n",
      "384:\tlearn: 0.8512586\ttotal: 6m 56s\tremaining: 11m 5s\n",
      "385:\tlearn: 0.8515502\ttotal: 6m 57s\tremaining: 11m 4s\n",
      "386:\tlearn: 0.8517371\ttotal: 6m 58s\tremaining: 11m 3s\n",
      "387:\tlearn: 0.8519646\ttotal: 6m 59s\tremaining: 11m 2s\n",
      "388:\tlearn: 0.8517108\ttotal: 7m 1s\tremaining: 11m 1s\n",
      "389:\tlearn: 0.8520910\ttotal: 7m 2s\tremaining: 11m\n",
      "390:\tlearn: 0.8520562\ttotal: 7m 3s\tremaining: 10m 59s\n",
      "391:\tlearn: 0.8525353\ttotal: 7m 4s\tremaining: 10m 58s\n",
      "392:\tlearn: 0.8523672\ttotal: 7m 5s\tremaining: 10m 57s\n",
      "393:\tlearn: 0.8524394\ttotal: 7m 6s\tremaining: 10m 55s\n",
      "394:\tlearn: 0.8528192\ttotal: 7m 7s\tremaining: 10m 54s\n",
      "395:\tlearn: 0.8528188\ttotal: 7m 8s\tremaining: 10m 53s\n",
      "396:\tlearn: 0.8530586\ttotal: 7m 9s\tremaining: 10m 52s\n",
      "397:\tlearn: 0.8531222\ttotal: 7m 10s\tremaining: 10m 51s\n",
      "398:\tlearn: 0.8527666\ttotal: 7m 11s\tremaining: 10m 50s\n",
      "399:\tlearn: 0.8530389\ttotal: 7m 12s\tremaining: 10m 49s\n",
      "400:\tlearn: 0.8530604\ttotal: 7m 13s\tremaining: 10m 48s\n",
      "401:\tlearn: 0.8533489\ttotal: 7m 15s\tremaining: 10m 47s\n",
      "402:\tlearn: 0.8535403\ttotal: 7m 16s\tremaining: 10m 45s\n",
      "403:\tlearn: 0.8539883\ttotal: 7m 17s\tremaining: 10m 44s\n",
      "404:\tlearn: 0.8543639\ttotal: 7m 18s\tremaining: 10m 43s\n",
      "405:\tlearn: 0.8546093\ttotal: 7m 19s\tremaining: 10m 42s\n",
      "406:\tlearn: 0.8546276\ttotal: 7m 20s\tremaining: 10m 41s\n",
      "407:\tlearn: 0.8548999\ttotal: 7m 21s\tremaining: 10m 40s\n",
      "408:\tlearn: 0.8550333\ttotal: 7m 22s\tremaining: 10m 39s\n",
      "409:\tlearn: 0.8552898\ttotal: 7m 23s\tremaining: 10m 38s\n",
      "410:\tlearn: 0.8552428\ttotal: 7m 24s\tremaining: 10m 37s\n",
      "411:\tlearn: 0.8553143\ttotal: 7m 25s\tremaining: 10m 36s\n",
      "412:\tlearn: 0.8554264\ttotal: 7m 26s\tremaining: 10m 34s\n",
      "413:\tlearn: 0.8554460\ttotal: 7m 27s\tremaining: 10m 33s\n",
      "414:\tlearn: 0.8555625\ttotal: 7m 28s\tremaining: 10m 32s\n",
      "415:\tlearn: 0.8558312\ttotal: 7m 29s\tremaining: 10m 31s\n",
      "416:\tlearn: 0.8559169\ttotal: 7m 30s\tremaining: 10m 30s\n",
      "417:\tlearn: 0.8556316\ttotal: 7m 31s\tremaining: 10m 29s\n",
      "418:\tlearn: 0.8557866\ttotal: 7m 33s\tremaining: 10m 28s\n",
      "419:\tlearn: 0.8558943\ttotal: 7m 34s\tremaining: 10m 27s\n",
      "420:\tlearn: 0.8563223\ttotal: 7m 35s\tremaining: 10m 25s\n",
      "421:\tlearn: 0.8563829\ttotal: 7m 36s\tremaining: 10m 24s\n",
      "422:\tlearn: 0.8568462\ttotal: 7m 37s\tremaining: 10m 23s\n",
      "423:\tlearn: 0.8571117\ttotal: 7m 38s\tremaining: 10m 22s\n",
      "424:\tlearn: 0.8568702\ttotal: 7m 39s\tremaining: 10m 21s\n",
      "425:\tlearn: 0.8568113\ttotal: 7m 40s\tremaining: 10m 20s\n",
      "426:\tlearn: 0.8568061\ttotal: 7m 41s\tremaining: 10m 19s\n",
      "427:\tlearn: 0.8570104\ttotal: 7m 42s\tremaining: 10m 18s\n",
      "428:\tlearn: 0.8572881\ttotal: 7m 43s\tremaining: 10m 16s\n",
      "429:\tlearn: 0.8574052\ttotal: 7m 44s\tremaining: 10m 15s\n",
      "430:\tlearn: 0.8575201\ttotal: 7m 45s\tremaining: 10m 14s\n",
      "431:\tlearn: 0.8573353\ttotal: 7m 46s\tremaining: 10m 13s\n",
      "432:\tlearn: 0.8572457\ttotal: 7m 47s\tremaining: 10m 12s\n",
      "433:\tlearn: 0.8576068\ttotal: 7m 48s\tremaining: 10m 11s\n",
      "434:\tlearn: 0.8574419\ttotal: 7m 49s\tremaining: 10m 10s\n",
      "435:\tlearn: 0.8577392\ttotal: 7m 50s\tremaining: 10m 9s\n",
      "436:\tlearn: 0.8579492\ttotal: 7m 51s\tremaining: 10m 8s\n",
      "437:\tlearn: 0.8580459\ttotal: 7m 53s\tremaining: 10m 6s\n",
      "438:\tlearn: 0.8583506\ttotal: 7m 54s\tremaining: 10m 5s\n",
      "439:\tlearn: 0.8587486\ttotal: 7m 55s\tremaining: 10m 4s\n",
      "440:\tlearn: 0.8587234\ttotal: 7m 56s\tremaining: 10m 3s\n",
      "441:\tlearn: 0.8586940\ttotal: 7m 57s\tremaining: 10m 2s\n",
      "442:\tlearn: 0.8588895\ttotal: 7m 58s\tremaining: 10m 1s\n",
      "443:\tlearn: 0.8590029\ttotal: 7m 59s\tremaining: 10m\n",
      "444:\tlearn: 0.8592004\ttotal: 8m\tremaining: 9m 59s\n",
      "445:\tlearn: 0.8592625\ttotal: 8m 1s\tremaining: 9m 58s\n",
      "446:\tlearn: 0.8593895\ttotal: 8m 2s\tremaining: 9m 56s\n",
      "447:\tlearn: 0.8595086\ttotal: 8m 3s\tremaining: 9m 55s\n",
      "448:\tlearn: 0.8592928\ttotal: 8m 4s\tremaining: 9m 54s\n",
      "449:\tlearn: 0.8598685\ttotal: 8m 5s\tremaining: 9m 53s\n",
      "450:\tlearn: 0.8599158\ttotal: 8m 6s\tremaining: 9m 52s\n",
      "451:\tlearn: 0.8599751\ttotal: 8m 7s\tremaining: 9m 51s\n",
      "452:\tlearn: 0.8599752\ttotal: 8m 8s\tremaining: 9m 50s\n",
      "453:\tlearn: 0.8600846\ttotal: 8m 9s\tremaining: 9m 49s\n",
      "454:\tlearn: 0.8601341\ttotal: 8m 10s\tremaining: 9m 48s\n",
      "455:\tlearn: 0.8600419\ttotal: 8m 12s\tremaining: 9m 46s\n"
     ]
    },
    {
     "name": "stdout",
     "output_type": "stream",
     "text": [
      "456:\tlearn: 0.8602663\ttotal: 8m 13s\tremaining: 9m 45s\n",
      "457:\tlearn: 0.8603605\ttotal: 8m 14s\tremaining: 9m 44s\n",
      "458:\tlearn: 0.8605394\ttotal: 8m 15s\tremaining: 9m 43s\n",
      "459:\tlearn: 0.8606019\ttotal: 8m 16s\tremaining: 9m 42s\n",
      "460:\tlearn: 0.8608783\ttotal: 8m 17s\tremaining: 9m 41s\n",
      "461:\tlearn: 0.8604858\ttotal: 8m 18s\tremaining: 9m 40s\n",
      "462:\tlearn: 0.8602239\ttotal: 8m 19s\tremaining: 9m 39s\n",
      "463:\tlearn: 0.8605775\ttotal: 8m 20s\tremaining: 9m 38s\n",
      "464:\tlearn: 0.8603405\ttotal: 8m 21s\tremaining: 9m 37s\n",
      "465:\tlearn: 0.8605360\ttotal: 8m 22s\tremaining: 9m 36s\n",
      "466:\tlearn: 0.8606683\ttotal: 8m 23s\tremaining: 9m 35s\n",
      "467:\tlearn: 0.8606464\ttotal: 8m 24s\tremaining: 9m 34s\n",
      "468:\tlearn: 0.8609303\ttotal: 8m 26s\tremaining: 9m 32s\n",
      "469:\tlearn: 0.8608522\ttotal: 8m 27s\tremaining: 9m 31s\n",
      "470:\tlearn: 0.8607413\ttotal: 8m 28s\tremaining: 9m 30s\n",
      "471:\tlearn: 0.8609459\ttotal: 8m 29s\tremaining: 9m 29s\n",
      "472:\tlearn: 0.8610107\ttotal: 8m 30s\tremaining: 9m 28s\n",
      "473:\tlearn: 0.8611887\ttotal: 8m 31s\tremaining: 9m 27s\n",
      "474:\tlearn: 0.8612230\ttotal: 8m 32s\tremaining: 9m 26s\n",
      "475:\tlearn: 0.8612424\ttotal: 8m 33s\tremaining: 9m 25s\n",
      "476:\tlearn: 0.8612914\ttotal: 8m 34s\tremaining: 9m 24s\n",
      "477:\tlearn: 0.8615512\ttotal: 8m 35s\tremaining: 9m 23s\n",
      "478:\tlearn: 0.8616517\ttotal: 8m 36s\tremaining: 9m 22s\n",
      "479:\tlearn: 0.8618718\ttotal: 8m 37s\tremaining: 9m 20s\n",
      "480:\tlearn: 0.8620598\ttotal: 8m 38s\tremaining: 9m 19s\n",
      "481:\tlearn: 0.8620995\ttotal: 8m 39s\tremaining: 9m 18s\n",
      "482:\tlearn: 0.8623945\ttotal: 8m 41s\tremaining: 9m 17s\n",
      "483:\tlearn: 0.8626078\ttotal: 8m 42s\tremaining: 9m 16s\n",
      "484:\tlearn: 0.8627525\ttotal: 8m 43s\tremaining: 9m 15s\n",
      "485:\tlearn: 0.8627605\ttotal: 8m 44s\tremaining: 9m 14s\n",
      "486:\tlearn: 0.8628918\ttotal: 8m 45s\tremaining: 9m 13s\n",
      "487:\tlearn: 0.8628454\ttotal: 8m 46s\tremaining: 9m 12s\n",
      "488:\tlearn: 0.8629302\ttotal: 8m 47s\tremaining: 9m 11s\n",
      "489:\tlearn: 0.8625567\ttotal: 8m 48s\tremaining: 9m 10s\n",
      "490:\tlearn: 0.8626959\ttotal: 8m 49s\tremaining: 9m 8s\n",
      "491:\tlearn: 0.8630096\ttotal: 8m 50s\tremaining: 9m 7s\n",
      "492:\tlearn: 0.8628407\ttotal: 8m 51s\tremaining: 9m 6s\n",
      "493:\tlearn: 0.8630497\ttotal: 8m 52s\tremaining: 9m 5s\n",
      "494:\tlearn: 0.8636010\ttotal: 8m 53s\tremaining: 9m 4s\n",
      "495:\tlearn: 0.8632486\ttotal: 8m 54s\tremaining: 9m 3s\n",
      "496:\tlearn: 0.8634055\ttotal: 8m 55s\tremaining: 9m 2s\n",
      "497:\tlearn: 0.8635012\ttotal: 8m 56s\tremaining: 9m 1s\n",
      "498:\tlearn: 0.8638362\ttotal: 8m 58s\tremaining: 9m\n",
      "499:\tlearn: 0.8639505\ttotal: 8m 59s\tremaining: 8m 59s\n",
      "500:\tlearn: 0.8637765\ttotal: 9m\tremaining: 8m 57s\n",
      "501:\tlearn: 0.8640710\ttotal: 9m 1s\tremaining: 8m 56s\n",
      "502:\tlearn: 0.8644172\ttotal: 9m 2s\tremaining: 8m 55s\n",
      "503:\tlearn: 0.8644054\ttotal: 9m 3s\tremaining: 8m 54s\n",
      "504:\tlearn: 0.8642332\ttotal: 9m 4s\tremaining: 8m 53s\n",
      "505:\tlearn: 0.8649552\ttotal: 9m 5s\tremaining: 8m 52s\n",
      "506:\tlearn: 0.8649598\ttotal: 9m 6s\tremaining: 8m 51s\n",
      "507:\tlearn: 0.8647782\ttotal: 9m 7s\tremaining: 8m 50s\n",
      "508:\tlearn: 0.8648530\ttotal: 9m 8s\tremaining: 8m 49s\n",
      "509:\tlearn: 0.8648901\ttotal: 9m 9s\tremaining: 8m 48s\n",
      "510:\tlearn: 0.8647973\ttotal: 9m 10s\tremaining: 8m 46s\n",
      "511:\tlearn: 0.8650735\ttotal: 9m 11s\tremaining: 8m 45s\n",
      "512:\tlearn: 0.8652296\ttotal: 9m 12s\tremaining: 8m 44s\n",
      "513:\tlearn: 0.8652457\ttotal: 9m 13s\tremaining: 8m 43s\n",
      "514:\tlearn: 0.8656413\ttotal: 9m 14s\tremaining: 8m 42s\n",
      "515:\tlearn: 0.8654788\ttotal: 9m 15s\tremaining: 8m 41s\n",
      "516:\tlearn: 0.8654662\ttotal: 9m 16s\tremaining: 8m 40s\n",
      "517:\tlearn: 0.8656203\ttotal: 9m 17s\tremaining: 8m 39s\n",
      "518:\tlearn: 0.8656006\ttotal: 9m 18s\tremaining: 8m 38s\n",
      "519:\tlearn: 0.8655376\ttotal: 9m 19s\tremaining: 8m 36s\n",
      "520:\tlearn: 0.8655691\ttotal: 9m 21s\tremaining: 8m 35s\n",
      "521:\tlearn: 0.8659369\ttotal: 9m 22s\tremaining: 8m 34s\n",
      "522:\tlearn: 0.8660749\ttotal: 9m 23s\tremaining: 8m 33s\n",
      "523:\tlearn: 0.8661830\ttotal: 9m 24s\tremaining: 8m 32s\n",
      "524:\tlearn: 0.8662940\ttotal: 9m 25s\tremaining: 8m 31s\n",
      "525:\tlearn: 0.8663439\ttotal: 9m 26s\tremaining: 8m 30s\n",
      "526:\tlearn: 0.8663507\ttotal: 9m 27s\tremaining: 8m 29s\n",
      "527:\tlearn: 0.8664956\ttotal: 9m 28s\tremaining: 8m 28s\n",
      "528:\tlearn: 0.8669091\ttotal: 9m 29s\tremaining: 8m 26s\n",
      "529:\tlearn: 0.8668475\ttotal: 9m 30s\tremaining: 8m 25s\n",
      "530:\tlearn: 0.8669733\ttotal: 9m 31s\tremaining: 8m 24s\n",
      "531:\tlearn: 0.8669823\ttotal: 9m 32s\tremaining: 8m 23s\n",
      "532:\tlearn: 0.8670248\ttotal: 9m 33s\tremaining: 8m 22s\n",
      "533:\tlearn: 0.8674126\ttotal: 9m 34s\tremaining: 8m 21s\n",
      "534:\tlearn: 0.8672079\ttotal: 9m 35s\tremaining: 8m 20s\n",
      "535:\tlearn: 0.8672682\ttotal: 9m 36s\tremaining: 8m 19s\n",
      "536:\tlearn: 0.8672011\ttotal: 9m 37s\tremaining: 8m 18s\n",
      "537:\tlearn: 0.8673149\ttotal: 9m 38s\tremaining: 8m 17s\n",
      "538:\tlearn: 0.8672819\ttotal: 9m 39s\tremaining: 8m 16s\n",
      "539:\tlearn: 0.8674621\ttotal: 9m 41s\tremaining: 8m 14s\n",
      "540:\tlearn: 0.8677375\ttotal: 9m 42s\tremaining: 8m 13s\n",
      "541:\tlearn: 0.8678449\ttotal: 9m 43s\tremaining: 8m 12s\n",
      "542:\tlearn: 0.8677972\ttotal: 9m 44s\tremaining: 8m 11s\n",
      "543:\tlearn: 0.8680435\ttotal: 9m 45s\tremaining: 8m 10s\n",
      "544:\tlearn: 0.8680632\ttotal: 9m 46s\tremaining: 8m 9s\n",
      "545:\tlearn: 0.8682964\ttotal: 9m 47s\tremaining: 8m 8s\n",
      "546:\tlearn: 0.8684020\ttotal: 9m 48s\tremaining: 8m 7s\n",
      "547:\tlearn: 0.8682440\ttotal: 9m 49s\tremaining: 8m 6s\n",
      "548:\tlearn: 0.8682336\ttotal: 9m 50s\tremaining: 8m 5s\n",
      "549:\tlearn: 0.8684475\ttotal: 9m 51s\tremaining: 8m 4s\n",
      "550:\tlearn: 0.8686261\ttotal: 9m 52s\tremaining: 8m 3s\n",
      "551:\tlearn: 0.8688171\ttotal: 9m 54s\tremaining: 8m 2s\n",
      "552:\tlearn: 0.8689459\ttotal: 9m 55s\tremaining: 8m 1s\n",
      "553:\tlearn: 0.8691376\ttotal: 9m 56s\tremaining: 8m\n",
      "554:\tlearn: 0.8695060\ttotal: 9m 57s\tremaining: 7m 58s\n",
      "555:\tlearn: 0.8694498\ttotal: 9m 58s\tremaining: 7m 57s\n",
      "556:\tlearn: 0.8695116\ttotal: 9m 59s\tremaining: 7m 56s\n",
      "557:\tlearn: 0.8694452\ttotal: 10m\tremaining: 7m 55s\n",
      "558:\tlearn: 0.8696377\ttotal: 10m 1s\tremaining: 7m 54s\n",
      "559:\tlearn: 0.8696063\ttotal: 10m 2s\tremaining: 7m 53s\n",
      "560:\tlearn: 0.8697754\ttotal: 10m 4s\tremaining: 7m 52s\n",
      "561:\tlearn: 0.8698850\ttotal: 10m 5s\tremaining: 7m 51s\n",
      "562:\tlearn: 0.8698083\ttotal: 10m 6s\tremaining: 7m 50s\n",
      "563:\tlearn: 0.8699122\ttotal: 10m 7s\tremaining: 7m 49s\n",
      "564:\tlearn: 0.8697612\ttotal: 10m 8s\tremaining: 7m 48s\n",
      "565:\tlearn: 0.8698719\ttotal: 10m 9s\tremaining: 7m 47s\n",
      "566:\tlearn: 0.8699525\ttotal: 10m 10s\tremaining: 7m 46s\n",
      "567:\tlearn: 0.8700637\ttotal: 10m 11s\tremaining: 7m 45s\n",
      "568:\tlearn: 0.8698906\ttotal: 10m 12s\tremaining: 7m 44s\n",
      "569:\tlearn: 0.8702078\ttotal: 10m 14s\tremaining: 7m 43s\n",
      "570:\tlearn: 0.8700867\ttotal: 10m 15s\tremaining: 7m 42s\n",
      "571:\tlearn: 0.8705577\ttotal: 10m 16s\tremaining: 7m 41s\n",
      "572:\tlearn: 0.8704969\ttotal: 10m 17s\tremaining: 7m 39s\n",
      "573:\tlearn: 0.8705995\ttotal: 10m 18s\tremaining: 7m 38s\n",
      "574:\tlearn: 0.8709561\ttotal: 10m 19s\tremaining: 7m 37s\n",
      "575:\tlearn: 0.8709701\ttotal: 10m 20s\tremaining: 7m 36s\n",
      "576:\tlearn: 0.8712459\ttotal: 10m 21s\tremaining: 7m 35s\n",
      "577:\tlearn: 0.8708695\ttotal: 10m 22s\tremaining: 7m 34s\n",
      "578:\tlearn: 0.8709859\ttotal: 10m 23s\tremaining: 7m 33s\n",
      "579:\tlearn: 0.8709947\ttotal: 10m 24s\tremaining: 7m 32s\n",
      "580:\tlearn: 0.8709922\ttotal: 10m 25s\tremaining: 7m 31s\n",
      "581:\tlearn: 0.8710709\ttotal: 10m 27s\tremaining: 7m 30s\n",
      "582:\tlearn: 0.8710317\ttotal: 10m 28s\tremaining: 7m 29s\n",
      "583:\tlearn: 0.8704326\ttotal: 10m 29s\tremaining: 7m 28s\n",
      "584:\tlearn: 0.8704585\ttotal: 10m 30s\tremaining: 7m 27s\n",
      "585:\tlearn: 0.8707460\ttotal: 10m 31s\tremaining: 7m 26s\n",
      "586:\tlearn: 0.8704584\ttotal: 10m 32s\tremaining: 7m 25s\n",
      "587:\tlearn: 0.8706843\ttotal: 10m 34s\tremaining: 7m 24s\n",
      "588:\tlearn: 0.8708053\ttotal: 10m 35s\tremaining: 7m 23s\n",
      "589:\tlearn: 0.8710260\ttotal: 10m 36s\tremaining: 7m 22s\n",
      "590:\tlearn: 0.8715028\ttotal: 10m 37s\tremaining: 7m 21s\n",
      "591:\tlearn: 0.8714738\ttotal: 10m 39s\tremaining: 7m 20s\n",
      "592:\tlearn: 0.8716057\ttotal: 10m 40s\tremaining: 7m 19s\n",
      "593:\tlearn: 0.8716564\ttotal: 10m 41s\tremaining: 7m 18s\n",
      "594:\tlearn: 0.8716130\ttotal: 10m 42s\tremaining: 7m 17s\n",
      "595:\tlearn: 0.8719530\ttotal: 10m 43s\tremaining: 7m 16s\n",
      "596:\tlearn: 0.8719831\ttotal: 10m 44s\tremaining: 7m 15s\n",
      "597:\tlearn: 0.8717272\ttotal: 10m 45s\tremaining: 7m 14s\n",
      "598:\tlearn: 0.8722143\ttotal: 10m 46s\tremaining: 7m 13s\n",
      "599:\tlearn: 0.8721934\ttotal: 10m 48s\tremaining: 7m 12s\n",
      "600:\tlearn: 0.8721782\ttotal: 10m 49s\tremaining: 7m 10s\n",
      "601:\tlearn: 0.8720157\ttotal: 10m 50s\tremaining: 7m 9s\n",
      "602:\tlearn: 0.8720634\ttotal: 10m 51s\tremaining: 7m 8s\n",
      "603:\tlearn: 0.8720176\ttotal: 10m 52s\tremaining: 7m 7s\n",
      "604:\tlearn: 0.8721031\ttotal: 10m 53s\tremaining: 7m 6s\n",
      "605:\tlearn: 0.8722686\ttotal: 10m 54s\tremaining: 7m 5s\n",
      "606:\tlearn: 0.8723067\ttotal: 10m 55s\tremaining: 7m 4s\n",
      "607:\tlearn: 0.8725035\ttotal: 10m 56s\tremaining: 7m 3s\n"
     ]
    },
    {
     "name": "stdout",
     "output_type": "stream",
     "text": [
      "608:\tlearn: 0.8724182\ttotal: 10m 58s\tremaining: 7m 2s\n",
      "609:\tlearn: 0.8724306\ttotal: 10m 59s\tremaining: 7m 1s\n",
      "610:\tlearn: 0.8725954\ttotal: 11m\tremaining: 7m\n",
      "611:\tlearn: 0.8726774\ttotal: 11m 1s\tremaining: 6m 59s\n",
      "612:\tlearn: 0.8723949\ttotal: 11m 2s\tremaining: 6m 58s\n",
      "613:\tlearn: 0.8725391\ttotal: 11m 3s\tremaining: 6m 57s\n",
      "614:\tlearn: 0.8726455\ttotal: 11m 4s\tremaining: 6m 56s\n",
      "615:\tlearn: 0.8727891\ttotal: 11m 5s\tremaining: 6m 54s\n",
      "616:\tlearn: 0.8721186\ttotal: 11m 6s\tremaining: 6m 53s\n",
      "617:\tlearn: 0.8726132\ttotal: 11m 7s\tremaining: 6m 52s\n",
      "618:\tlearn: 0.8730548\ttotal: 11m 9s\tremaining: 6m 51s\n",
      "619:\tlearn: 0.8731574\ttotal: 11m 10s\tremaining: 6m 50s\n",
      "620:\tlearn: 0.8730662\ttotal: 11m 11s\tremaining: 6m 49s\n",
      "621:\tlearn: 0.8731922\ttotal: 11m 12s\tremaining: 6m 48s\n",
      "622:\tlearn: 0.8732130\ttotal: 11m 13s\tremaining: 6m 47s\n",
      "623:\tlearn: 0.8732559\ttotal: 11m 14s\tremaining: 6m 46s\n",
      "624:\tlearn: 0.8735815\ttotal: 11m 15s\tremaining: 6m 45s\n",
      "625:\tlearn: 0.8739472\ttotal: 11m 16s\tremaining: 6m 44s\n",
      "626:\tlearn: 0.8740878\ttotal: 11m 17s\tremaining: 6m 43s\n",
      "627:\tlearn: 0.8740214\ttotal: 11m 18s\tremaining: 6m 42s\n",
      "628:\tlearn: 0.8741326\ttotal: 11m 19s\tremaining: 6m 40s\n",
      "629:\tlearn: 0.8742288\ttotal: 11m 20s\tremaining: 6m 39s\n",
      "630:\tlearn: 0.8735805\ttotal: 11m 21s\tremaining: 6m 38s\n",
      "631:\tlearn: 0.8737766\ttotal: 11m 22s\tremaining: 6m 37s\n",
      "632:\tlearn: 0.8736859\ttotal: 11m 24s\tremaining: 6m 36s\n",
      "633:\tlearn: 0.8737479\ttotal: 11m 25s\tremaining: 6m 35s\n",
      "634:\tlearn: 0.8737561\ttotal: 11m 26s\tremaining: 6m 34s\n",
      "635:\tlearn: 0.8738546\ttotal: 11m 27s\tremaining: 6m 33s\n",
      "636:\tlearn: 0.8736993\ttotal: 11m 28s\tremaining: 6m 32s\n",
      "637:\tlearn: 0.8740213\ttotal: 11m 29s\tremaining: 6m 31s\n",
      "638:\tlearn: 0.8740277\ttotal: 11m 30s\tremaining: 6m 30s\n",
      "639:\tlearn: 0.8743455\ttotal: 11m 31s\tremaining: 6m 28s\n",
      "640:\tlearn: 0.8741900\ttotal: 11m 32s\tremaining: 6m 27s\n",
      "641:\tlearn: 0.8744772\ttotal: 11m 33s\tremaining: 6m 26s\n",
      "642:\tlearn: 0.8745061\ttotal: 11m 34s\tremaining: 6m 25s\n",
      "643:\tlearn: 0.8742878\ttotal: 11m 35s\tremaining: 6m 24s\n",
      "644:\tlearn: 0.8743921\ttotal: 11m 36s\tremaining: 6m 23s\n",
      "645:\tlearn: 0.8744702\ttotal: 11m 37s\tremaining: 6m 22s\n",
      "646:\tlearn: 0.8745987\ttotal: 11m 38s\tremaining: 6m 21s\n",
      "647:\tlearn: 0.8747056\ttotal: 11m 39s\tremaining: 6m 20s\n",
      "648:\tlearn: 0.8747643\ttotal: 11m 40s\tremaining: 6m 19s\n",
      "649:\tlearn: 0.8749219\ttotal: 11m 42s\tremaining: 6m 18s\n",
      "650:\tlearn: 0.8750947\ttotal: 11m 43s\tremaining: 6m 16s\n",
      "651:\tlearn: 0.8752051\ttotal: 11m 44s\tremaining: 6m 15s\n",
      "652:\tlearn: 0.8753911\ttotal: 11m 45s\tremaining: 6m 14s\n",
      "653:\tlearn: 0.8754217\ttotal: 11m 46s\tremaining: 6m 13s\n",
      "654:\tlearn: 0.8753646\ttotal: 11m 47s\tremaining: 6m 12s\n",
      "655:\tlearn: 0.8756750\ttotal: 11m 48s\tremaining: 6m 11s\n",
      "656:\tlearn: 0.8755966\ttotal: 11m 49s\tremaining: 6m 10s\n",
      "657:\tlearn: 0.8758843\ttotal: 11m 50s\tremaining: 6m 9s\n",
      "658:\tlearn: 0.8758747\ttotal: 11m 51s\tremaining: 6m 8s\n",
      "659:\tlearn: 0.8758747\ttotal: 11m 52s\tremaining: 6m 7s\n",
      "660:\tlearn: 0.8759072\ttotal: 11m 53s\tremaining: 6m 6s\n",
      "661:\tlearn: 0.8760946\ttotal: 11m 54s\tremaining: 6m 4s\n",
      "662:\tlearn: 0.8758952\ttotal: 11m 56s\tremaining: 6m 3s\n",
      "663:\tlearn: 0.8760629\ttotal: 11m 57s\tremaining: 6m 2s\n",
      "664:\tlearn: 0.8761148\ttotal: 11m 58s\tremaining: 6m 1s\n",
      "665:\tlearn: 0.8760216\ttotal: 11m 59s\tremaining: 6m\n",
      "666:\tlearn: 0.8762499\ttotal: 12m\tremaining: 5m 59s\n",
      "667:\tlearn: 0.8765246\ttotal: 12m 1s\tremaining: 5m 58s\n",
      "668:\tlearn: 0.8765547\ttotal: 12m 2s\tremaining: 5m 57s\n",
      "669:\tlearn: 0.8766170\ttotal: 12m 4s\tremaining: 5m 56s\n",
      "670:\tlearn: 0.8769270\ttotal: 12m 5s\tremaining: 5m 55s\n",
      "671:\tlearn: 0.8767743\ttotal: 12m 6s\tremaining: 5m 54s\n",
      "672:\tlearn: 0.8769222\ttotal: 12m 7s\tremaining: 5m 53s\n",
      "673:\tlearn: 0.8767471\ttotal: 12m 8s\tremaining: 5m 52s\n",
      "674:\tlearn: 0.8766933\ttotal: 12m 9s\tremaining: 5m 51s\n",
      "675:\tlearn: 0.8769065\ttotal: 12m 10s\tremaining: 5m 50s\n",
      "676:\tlearn: 0.8770218\ttotal: 12m 12s\tremaining: 5m 49s\n",
      "677:\tlearn: 0.8770962\ttotal: 12m 13s\tremaining: 5m 48s\n",
      "678:\tlearn: 0.8770929\ttotal: 12m 14s\tremaining: 5m 47s\n",
      "679:\tlearn: 0.8773153\ttotal: 12m 15s\tremaining: 5m 46s\n",
      "680:\tlearn: 0.8773352\ttotal: 12m 16s\tremaining: 5m 44s\n",
      "681:\tlearn: 0.8767913\ttotal: 12m 17s\tremaining: 5m 43s\n",
      "682:\tlearn: 0.8770460\ttotal: 12m 18s\tremaining: 5m 42s\n",
      "683:\tlearn: 0.8771901\ttotal: 12m 19s\tremaining: 5m 41s\n",
      "684:\tlearn: 0.8775891\ttotal: 12m 20s\tremaining: 5m 40s\n",
      "685:\tlearn: 0.8773534\ttotal: 12m 21s\tremaining: 5m 39s\n",
      "686:\tlearn: 0.8777653\ttotal: 12m 23s\tremaining: 5m 38s\n",
      "687:\tlearn: 0.8777651\ttotal: 12m 24s\tremaining: 5m 37s\n",
      "688:\tlearn: 0.8777374\ttotal: 12m 25s\tremaining: 5m 36s\n",
      "689:\tlearn: 0.8778518\ttotal: 12m 26s\tremaining: 5m 35s\n",
      "690:\tlearn: 0.8782011\ttotal: 12m 27s\tremaining: 5m 34s\n",
      "691:\tlearn: 0.8783355\ttotal: 12m 28s\tremaining: 5m 33s\n",
      "692:\tlearn: 0.8779482\ttotal: 12m 29s\tremaining: 5m 32s\n",
      "693:\tlearn: 0.8783139\ttotal: 12m 30s\tremaining: 5m 31s\n",
      "694:\tlearn: 0.8782766\ttotal: 12m 31s\tremaining: 5m 29s\n",
      "695:\tlearn: 0.8786893\ttotal: 12m 33s\tremaining: 5m 28s\n",
      "696:\tlearn: 0.8786069\ttotal: 12m 34s\tremaining: 5m 27s\n",
      "697:\tlearn: 0.8787889\ttotal: 12m 35s\tremaining: 5m 26s\n",
      "698:\tlearn: 0.8788055\ttotal: 12m 36s\tremaining: 5m 25s\n",
      "699:\tlearn: 0.8789560\ttotal: 12m 37s\tremaining: 5m 24s\n",
      "700:\tlearn: 0.8788347\ttotal: 12m 38s\tremaining: 5m 23s\n",
      "701:\tlearn: 0.8790963\ttotal: 12m 40s\tremaining: 5m 22s\n",
      "702:\tlearn: 0.8790692\ttotal: 12m 41s\tremaining: 5m 21s\n",
      "703:\tlearn: 0.8790848\ttotal: 12m 42s\tremaining: 5m 20s\n",
      "704:\tlearn: 0.8790915\ttotal: 12m 43s\tremaining: 5m 19s\n",
      "705:\tlearn: 0.8791318\ttotal: 12m 44s\tremaining: 5m 18s\n",
      "706:\tlearn: 0.8791521\ttotal: 12m 45s\tremaining: 5m 17s\n",
      "707:\tlearn: 0.8792494\ttotal: 12m 46s\tremaining: 5m 16s\n",
      "708:\tlearn: 0.8791144\ttotal: 12m 48s\tremaining: 5m 15s\n",
      "709:\tlearn: 0.8793061\ttotal: 12m 49s\tremaining: 5m 14s\n",
      "710:\tlearn: 0.8797700\ttotal: 12m 50s\tremaining: 5m 13s\n",
      "711:\tlearn: 0.8797657\ttotal: 12m 51s\tremaining: 5m 12s\n",
      "712:\tlearn: 0.8795537\ttotal: 12m 52s\tremaining: 5m 11s\n",
      "713:\tlearn: 0.8795197\ttotal: 12m 54s\tremaining: 5m 10s\n",
      "714:\tlearn: 0.8796020\ttotal: 12m 55s\tremaining: 5m 8s\n",
      "715:\tlearn: 0.8795784\ttotal: 12m 56s\tremaining: 5m 7s\n",
      "716:\tlearn: 0.8792881\ttotal: 12m 57s\tremaining: 5m 6s\n",
      "717:\tlearn: 0.8794039\ttotal: 12m 58s\tremaining: 5m 5s\n",
      "718:\tlearn: 0.8795633\ttotal: 12m 59s\tremaining: 5m 4s\n",
      "719:\tlearn: 0.8796477\ttotal: 13m 1s\tremaining: 5m 3s\n",
      "720:\tlearn: 0.8801111\ttotal: 13m 2s\tremaining: 5m 2s\n",
      "721:\tlearn: 0.8801210\ttotal: 13m 3s\tremaining: 5m 1s\n",
      "722:\tlearn: 0.8802348\ttotal: 13m 4s\tremaining: 5m\n",
      "723:\tlearn: 0.8803540\ttotal: 13m 5s\tremaining: 4m 59s\n",
      "724:\tlearn: 0.8802870\ttotal: 13m 6s\tremaining: 4m 58s\n",
      "725:\tlearn: 0.8803847\ttotal: 13m 7s\tremaining: 4m 57s\n",
      "726:\tlearn: 0.8803736\ttotal: 13m 8s\tremaining: 4m 56s\n",
      "727:\tlearn: 0.8805540\ttotal: 13m 9s\tremaining: 4m 55s\n",
      "728:\tlearn: 0.8805896\ttotal: 13m 10s\tremaining: 4m 54s\n",
      "729:\tlearn: 0.8808338\ttotal: 13m 12s\tremaining: 4m 52s\n",
      "730:\tlearn: 0.8809272\ttotal: 13m 13s\tremaining: 4m 51s\n",
      "731:\tlearn: 0.8809348\ttotal: 13m 14s\tremaining: 4m 50s\n",
      "732:\tlearn: 0.8813798\ttotal: 13m 15s\tremaining: 4m 49s\n",
      "733:\tlearn: 0.8811171\ttotal: 13m 16s\tremaining: 4m 48s\n",
      "734:\tlearn: 0.8813912\ttotal: 13m 17s\tremaining: 4m 47s\n",
      "735:\tlearn: 0.8815075\ttotal: 13m 18s\tremaining: 4m 46s\n",
      "736:\tlearn: 0.8814554\ttotal: 13m 19s\tremaining: 4m 45s\n",
      "737:\tlearn: 0.8818595\ttotal: 13m 20s\tremaining: 4m 44s\n",
      "738:\tlearn: 0.8820089\ttotal: 13m 21s\tremaining: 4m 43s\n",
      "739:\tlearn: 0.8817976\ttotal: 13m 23s\tremaining: 4m 42s\n",
      "740:\tlearn: 0.8816635\ttotal: 13m 24s\tremaining: 4m 41s\n",
      "741:\tlearn: 0.8814790\ttotal: 13m 25s\tremaining: 4m 39s\n",
      "742:\tlearn: 0.8818072\ttotal: 13m 26s\tremaining: 4m 38s\n",
      "743:\tlearn: 0.8820164\ttotal: 13m 27s\tremaining: 4m 37s\n",
      "744:\tlearn: 0.8820376\ttotal: 13m 28s\tremaining: 4m 36s\n",
      "745:\tlearn: 0.8818969\ttotal: 13m 29s\tremaining: 4m 35s\n",
      "746:\tlearn: 0.8819641\ttotal: 13m 30s\tremaining: 4m 34s\n",
      "747:\tlearn: 0.8823594\ttotal: 13m 31s\tremaining: 4m 33s\n",
      "748:\tlearn: 0.8821149\ttotal: 13m 32s\tremaining: 4m 32s\n",
      "749:\tlearn: 0.8819874\ttotal: 13m 33s\tremaining: 4m 31s\n",
      "750:\tlearn: 0.8823062\ttotal: 13m 35s\tremaining: 4m 30s\n",
      "751:\tlearn: 0.8826161\ttotal: 13m 36s\tremaining: 4m 29s\n",
      "752:\tlearn: 0.8817343\ttotal: 13m 37s\tremaining: 4m 28s\n",
      "753:\tlearn: 0.8817281\ttotal: 13m 38s\tremaining: 4m 26s\n",
      "754:\tlearn: 0.8818780\ttotal: 13m 39s\tremaining: 4m 25s\n",
      "755:\tlearn: 0.8820479\ttotal: 13m 40s\tremaining: 4m 24s\n",
      "756:\tlearn: 0.8822112\ttotal: 13m 41s\tremaining: 4m 23s\n",
      "757:\tlearn: 0.8823264\ttotal: 13m 42s\tremaining: 4m 22s\n",
      "758:\tlearn: 0.8825479\ttotal: 13m 43s\tremaining: 4m 21s\n"
     ]
    },
    {
     "name": "stdout",
     "output_type": "stream",
     "text": [
      "759:\tlearn: 0.8825368\ttotal: 13m 45s\tremaining: 4m 20s\n",
      "760:\tlearn: 0.8825059\ttotal: 13m 46s\tremaining: 4m 19s\n",
      "761:\tlearn: 0.8826135\ttotal: 13m 47s\tremaining: 4m 18s\n",
      "762:\tlearn: 0.8826407\ttotal: 13m 48s\tremaining: 4m 17s\n",
      "763:\tlearn: 0.8827439\ttotal: 13m 49s\tremaining: 4m 16s\n",
      "764:\tlearn: 0.8829689\ttotal: 13m 50s\tremaining: 4m 15s\n",
      "765:\tlearn: 0.8829739\ttotal: 13m 51s\tremaining: 4m 14s\n",
      "766:\tlearn: 0.8830272\ttotal: 13m 53s\tremaining: 4m 13s\n",
      "767:\tlearn: 0.8830178\ttotal: 13m 54s\tremaining: 4m 11s\n",
      "768:\tlearn: 0.8828471\ttotal: 13m 55s\tremaining: 4m 10s\n",
      "769:\tlearn: 0.8830643\ttotal: 13m 56s\tremaining: 4m 9s\n",
      "770:\tlearn: 0.8833489\ttotal: 13m 57s\tremaining: 4m 8s\n",
      "771:\tlearn: 0.8831566\ttotal: 13m 58s\tremaining: 4m 7s\n",
      "772:\tlearn: 0.8832646\ttotal: 13m 59s\tremaining: 4m 6s\n",
      "773:\tlearn: 0.8836018\ttotal: 14m 1s\tremaining: 4m 5s\n",
      "774:\tlearn: 0.8831964\ttotal: 14m 2s\tremaining: 4m 4s\n",
      "775:\tlearn: 0.8825765\ttotal: 14m 3s\tremaining: 4m 3s\n",
      "776:\tlearn: 0.8831569\ttotal: 14m 4s\tremaining: 4m 2s\n",
      "777:\tlearn: 0.8832184\ttotal: 14m 5s\tremaining: 4m 1s\n",
      "778:\tlearn: 0.8834069\ttotal: 14m 6s\tremaining: 4m\n",
      "779:\tlearn: 0.8838315\ttotal: 14m 7s\tremaining: 3m 59s\n",
      "780:\tlearn: 0.8838076\ttotal: 14m 8s\tremaining: 3m 58s\n",
      "781:\tlearn: 0.8837849\ttotal: 14m 9s\tremaining: 3m 56s\n",
      "782:\tlearn: 0.8842725\ttotal: 14m 11s\tremaining: 3m 55s\n",
      "783:\tlearn: 0.8844544\ttotal: 14m 12s\tremaining: 3m 54s\n",
      "784:\tlearn: 0.8845514\ttotal: 14m 13s\tremaining: 3m 53s\n",
      "785:\tlearn: 0.8847678\ttotal: 14m 14s\tremaining: 3m 52s\n",
      "786:\tlearn: 0.8848571\ttotal: 14m 15s\tremaining: 3m 51s\n",
      "787:\tlearn: 0.8847230\ttotal: 14m 16s\tremaining: 3m 50s\n",
      "788:\tlearn: 0.8848873\ttotal: 14m 17s\tremaining: 3m 49s\n",
      "789:\tlearn: 0.8848521\ttotal: 14m 18s\tremaining: 3m 48s\n",
      "790:\tlearn: 0.8852544\ttotal: 14m 19s\tremaining: 3m 47s\n",
      "791:\tlearn: 0.8852536\ttotal: 14m 20s\tremaining: 3m 46s\n",
      "792:\tlearn: 0.8855072\ttotal: 14m 21s\tremaining: 3m 44s\n",
      "793:\tlearn: 0.8855150\ttotal: 14m 22s\tremaining: 3m 43s\n",
      "794:\tlearn: 0.8854197\ttotal: 14m 23s\tremaining: 3m 42s\n",
      "795:\tlearn: 0.8853244\ttotal: 14m 25s\tremaining: 3m 41s\n",
      "796:\tlearn: 0.8853538\ttotal: 14m 26s\tremaining: 3m 40s\n",
      "797:\tlearn: 0.8856530\ttotal: 14m 27s\tremaining: 3m 39s\n",
      "798:\tlearn: 0.8855115\ttotal: 14m 28s\tremaining: 3m 38s\n",
      "799:\tlearn: 0.8857056\ttotal: 14m 29s\tremaining: 3m 37s\n",
      "800:\tlearn: 0.8860308\ttotal: 14m 30s\tremaining: 3m 36s\n",
      "801:\tlearn: 0.8861449\ttotal: 14m 31s\tremaining: 3m 35s\n",
      "802:\tlearn: 0.8861954\ttotal: 14m 32s\tremaining: 3m 34s\n",
      "803:\tlearn: 0.8862482\ttotal: 14m 33s\tremaining: 3m 32s\n",
      "804:\tlearn: 0.8863891\ttotal: 14m 34s\tremaining: 3m 31s\n",
      "805:\tlearn: 0.8864464\ttotal: 14m 35s\tremaining: 3m 30s\n",
      "806:\tlearn: 0.8865272\ttotal: 14m 36s\tremaining: 3m 29s\n",
      "807:\tlearn: 0.8864196\ttotal: 14m 38s\tremaining: 3m 28s\n",
      "808:\tlearn: 0.8864244\ttotal: 14m 39s\tremaining: 3m 27s\n",
      "809:\tlearn: 0.8865156\ttotal: 14m 40s\tremaining: 3m 26s\n",
      "810:\tlearn: 0.8866410\ttotal: 14m 41s\tremaining: 3m 25s\n",
      "811:\tlearn: 0.8867025\ttotal: 14m 42s\tremaining: 3m 24s\n",
      "812:\tlearn: 0.8867961\ttotal: 14m 43s\tremaining: 3m 23s\n",
      "813:\tlearn: 0.8869642\ttotal: 14m 44s\tremaining: 3m 22s\n",
      "814:\tlearn: 0.8870005\ttotal: 14m 45s\tremaining: 3m 21s\n",
      "815:\tlearn: 0.8867071\ttotal: 14m 46s\tremaining: 3m 19s\n",
      "816:\tlearn: 0.8867584\ttotal: 14m 47s\tremaining: 3m 18s\n",
      "817:\tlearn: 0.8872515\ttotal: 14m 48s\tremaining: 3m 17s\n",
      "818:\tlearn: 0.8870521\ttotal: 14m 50s\tremaining: 3m 16s\n",
      "819:\tlearn: 0.8871535\ttotal: 14m 51s\tremaining: 3m 15s\n",
      "820:\tlearn: 0.8871571\ttotal: 14m 52s\tremaining: 3m 14s\n",
      "821:\tlearn: 0.8872921\ttotal: 14m 53s\tremaining: 3m 13s\n",
      "822:\tlearn: 0.8873870\ttotal: 14m 54s\tremaining: 3m 12s\n",
      "823:\tlearn: 0.8873577\ttotal: 14m 55s\tremaining: 3m 11s\n",
      "824:\tlearn: 0.8873383\ttotal: 14m 56s\tremaining: 3m 10s\n",
      "825:\tlearn: 0.8872612\ttotal: 14m 57s\tremaining: 3m 9s\n",
      "826:\tlearn: 0.8875558\ttotal: 14m 58s\tremaining: 3m 7s\n",
      "827:\tlearn: 0.8874636\ttotal: 14m 59s\tremaining: 3m 6s\n",
      "828:\tlearn: 0.8877318\ttotal: 15m\tremaining: 3m 5s\n",
      "829:\tlearn: 0.8874403\ttotal: 15m 1s\tremaining: 3m 4s\n",
      "830:\tlearn: 0.8877911\ttotal: 15m 2s\tremaining: 3m 3s\n",
      "831:\tlearn: 0.8878174\ttotal: 15m 3s\tremaining: 3m 2s\n",
      "832:\tlearn: 0.8876555\ttotal: 15m 4s\tremaining: 3m 1s\n",
      "833:\tlearn: 0.8876271\ttotal: 15m 5s\tremaining: 3m\n",
      "834:\tlearn: 0.8878524\ttotal: 15m 6s\tremaining: 2m 59s\n",
      "835:\tlearn: 0.8882506\ttotal: 15m 7s\tremaining: 2m 58s\n",
      "836:\tlearn: 0.8883115\ttotal: 15m 8s\tremaining: 2m 57s\n",
      "837:\tlearn: 0.8881590\ttotal: 15m 10s\tremaining: 2m 55s\n",
      "838:\tlearn: 0.8880880\ttotal: 15m 11s\tremaining: 2m 54s\n",
      "839:\tlearn: 0.8882429\ttotal: 15m 12s\tremaining: 2m 53s\n",
      "840:\tlearn: 0.8882765\ttotal: 15m 13s\tremaining: 2m 52s\n",
      "841:\tlearn: 0.8883753\ttotal: 15m 14s\tremaining: 2m 51s\n",
      "842:\tlearn: 0.8884508\ttotal: 15m 15s\tremaining: 2m 50s\n",
      "843:\tlearn: 0.8884593\ttotal: 15m 16s\tremaining: 2m 49s\n",
      "844:\tlearn: 0.8885347\ttotal: 15m 17s\tremaining: 2m 48s\n",
      "845:\tlearn: 0.8885508\ttotal: 15m 18s\tremaining: 2m 47s\n",
      "846:\tlearn: 0.8885478\ttotal: 15m 19s\tremaining: 2m 46s\n",
      "847:\tlearn: 0.8885817\ttotal: 15m 20s\tremaining: 2m 45s\n",
      "848:\tlearn: 0.8886376\ttotal: 15m 21s\tremaining: 2m 43s\n",
      "849:\tlearn: 0.8887144\ttotal: 15m 22s\tremaining: 2m 42s\n",
      "850:\tlearn: 0.8887692\ttotal: 15m 23s\tremaining: 2m 41s\n",
      "851:\tlearn: 0.8887577\ttotal: 15m 24s\tremaining: 2m 40s\n",
      "852:\tlearn: 0.8888968\ttotal: 15m 25s\tremaining: 2m 39s\n",
      "853:\tlearn: 0.8889696\ttotal: 15m 26s\tremaining: 2m 38s\n",
      "854:\tlearn: 0.8889195\ttotal: 15m 27s\tremaining: 2m 37s\n",
      "855:\tlearn: 0.8888262\ttotal: 15m 28s\tremaining: 2m 36s\n",
      "856:\tlearn: 0.8888941\ttotal: 15m 29s\tremaining: 2m 35s\n",
      "857:\tlearn: 0.8887757\ttotal: 15m 31s\tremaining: 2m 34s\n",
      "858:\tlearn: 0.8890451\ttotal: 15m 32s\tremaining: 2m 32s\n",
      "859:\tlearn: 0.8892120\ttotal: 15m 33s\tremaining: 2m 31s\n",
      "860:\tlearn: 0.8891470\ttotal: 15m 34s\tremaining: 2m 30s\n",
      "861:\tlearn: 0.8892853\ttotal: 15m 35s\tremaining: 2m 29s\n",
      "862:\tlearn: 0.8892567\ttotal: 15m 36s\tremaining: 2m 28s\n",
      "863:\tlearn: 0.8894180\ttotal: 15m 37s\tremaining: 2m 27s\n",
      "864:\tlearn: 0.8895927\ttotal: 15m 38s\tremaining: 2m 26s\n",
      "865:\tlearn: 0.8894186\ttotal: 15m 39s\tremaining: 2m 25s\n",
      "866:\tlearn: 0.8893804\ttotal: 15m 40s\tremaining: 2m 24s\n",
      "867:\tlearn: 0.8894600\ttotal: 15m 41s\tremaining: 2m 23s\n",
      "868:\tlearn: 0.8897035\ttotal: 15m 42s\tremaining: 2m 22s\n",
      "869:\tlearn: 0.8900229\ttotal: 15m 44s\tremaining: 2m 21s\n",
      "870:\tlearn: 0.8900071\ttotal: 15m 45s\tremaining: 2m 20s\n",
      "871:\tlearn: 0.8900507\ttotal: 15m 46s\tremaining: 2m 18s\n",
      "872:\tlearn: 0.8901120\ttotal: 15m 47s\tremaining: 2m 17s\n",
      "873:\tlearn: 0.8902826\ttotal: 15m 48s\tremaining: 2m 16s\n",
      "874:\tlearn: 0.8901954\ttotal: 15m 49s\tremaining: 2m 15s\n",
      "875:\tlearn: 0.8898799\ttotal: 15m 50s\tremaining: 2m 14s\n",
      "876:\tlearn: 0.8900241\ttotal: 15m 52s\tremaining: 2m 13s\n",
      "877:\tlearn: 0.8902365\ttotal: 15m 53s\tremaining: 2m 12s\n",
      "878:\tlearn: 0.8901126\ttotal: 15m 54s\tremaining: 2m 11s\n",
      "879:\tlearn: 0.8901340\ttotal: 15m 55s\tremaining: 2m 10s\n",
      "880:\tlearn: 0.8902890\ttotal: 15m 56s\tremaining: 2m 9s\n",
      "881:\tlearn: 0.8903043\ttotal: 15m 57s\tremaining: 2m 8s\n",
      "882:\tlearn: 0.8902858\ttotal: 15m 58s\tremaining: 2m 7s\n",
      "883:\tlearn: 0.8905744\ttotal: 15m 59s\tremaining: 2m 5s\n",
      "884:\tlearn: 0.8904828\ttotal: 16m 1s\tremaining: 2m 4s\n",
      "885:\tlearn: 0.8904289\ttotal: 16m 2s\tremaining: 2m 3s\n",
      "886:\tlearn: 0.8903385\ttotal: 16m 3s\tremaining: 2m 2s\n",
      "887:\tlearn: 0.8905680\ttotal: 16m 4s\tremaining: 2m 1s\n",
      "888:\tlearn: 0.8907079\ttotal: 16m 6s\tremaining: 2m\n",
      "889:\tlearn: 0.8908736\ttotal: 16m 7s\tremaining: 1m 59s\n",
      "890:\tlearn: 0.8907771\ttotal: 16m 8s\tremaining: 1m 58s\n",
      "891:\tlearn: 0.8906630\ttotal: 16m 9s\tremaining: 1m 57s\n",
      "892:\tlearn: 0.8907316\ttotal: 16m 10s\tremaining: 1m 56s\n",
      "893:\tlearn: 0.8906101\ttotal: 16m 11s\tremaining: 1m 55s\n",
      "894:\tlearn: 0.8906615\ttotal: 16m 13s\tremaining: 1m 54s\n",
      "895:\tlearn: 0.8906399\ttotal: 16m 14s\tremaining: 1m 53s\n",
      "896:\tlearn: 0.8910494\ttotal: 16m 15s\tremaining: 1m 52s\n",
      "897:\tlearn: 0.8910918\ttotal: 16m 16s\tremaining: 1m 50s\n",
      "898:\tlearn: 0.8911348\ttotal: 16m 17s\tremaining: 1m 49s\n",
      "899:\tlearn: 0.8912160\ttotal: 16m 19s\tremaining: 1m 48s\n",
      "900:\tlearn: 0.8913747\ttotal: 16m 20s\tremaining: 1m 47s\n",
      "901:\tlearn: 0.8914154\ttotal: 16m 21s\tremaining: 1m 46s\n",
      "902:\tlearn: 0.8911776\ttotal: 16m 23s\tremaining: 1m 45s\n",
      "903:\tlearn: 0.8909716\ttotal: 16m 24s\tremaining: 1m 44s\n",
      "904:\tlearn: 0.8911307\ttotal: 16m 25s\tremaining: 1m 43s\n",
      "905:\tlearn: 0.8912650\ttotal: 16m 26s\tremaining: 1m 42s\n",
      "906:\tlearn: 0.8913675\ttotal: 16m 27s\tremaining: 1m 41s\n",
      "907:\tlearn: 0.8914242\ttotal: 16m 28s\tremaining: 1m 40s\n",
      "908:\tlearn: 0.8916449\ttotal: 16m 29s\tremaining: 1m 39s\n",
      "909:\tlearn: 0.8919209\ttotal: 16m 31s\tremaining: 1m 38s\n"
     ]
    },
    {
     "name": "stdout",
     "output_type": "stream",
     "text": [
      "910:\tlearn: 0.8915325\ttotal: 16m 32s\tremaining: 1m 36s\n",
      "911:\tlearn: 0.8914192\ttotal: 16m 33s\tremaining: 1m 35s\n",
      "912:\tlearn: 0.8915184\ttotal: 16m 34s\tremaining: 1m 34s\n",
      "913:\tlearn: 0.8918646\ttotal: 16m 35s\tremaining: 1m 33s\n",
      "914:\tlearn: 0.8910149\ttotal: 16m 36s\tremaining: 1m 32s\n",
      "915:\tlearn: 0.8910338\ttotal: 16m 37s\tremaining: 1m 31s\n",
      "916:\tlearn: 0.8912414\ttotal: 16m 38s\tremaining: 1m 30s\n",
      "917:\tlearn: 0.8914380\ttotal: 16m 40s\tremaining: 1m 29s\n",
      "918:\tlearn: 0.8916109\ttotal: 16m 41s\tremaining: 1m 28s\n",
      "919:\tlearn: 0.8911374\ttotal: 16m 42s\tremaining: 1m 27s\n",
      "920:\tlearn: 0.8911780\ttotal: 16m 43s\tremaining: 1m 26s\n",
      "921:\tlearn: 0.8913653\ttotal: 16m 44s\tremaining: 1m 24s\n",
      "922:\tlearn: 0.8913262\ttotal: 16m 45s\tremaining: 1m 23s\n",
      "923:\tlearn: 0.8914047\ttotal: 16m 46s\tremaining: 1m 22s\n",
      "924:\tlearn: 0.8915346\ttotal: 16m 47s\tremaining: 1m 21s\n",
      "925:\tlearn: 0.8916736\ttotal: 16m 48s\tremaining: 1m 20s\n",
      "926:\tlearn: 0.8917917\ttotal: 16m 49s\tremaining: 1m 19s\n",
      "927:\tlearn: 0.8917458\ttotal: 16m 50s\tremaining: 1m 18s\n",
      "928:\tlearn: 0.8918324\ttotal: 16m 51s\tremaining: 1m 17s\n",
      "929:\tlearn: 0.8919769\ttotal: 16m 52s\tremaining: 1m 16s\n",
      "930:\tlearn: 0.8920156\ttotal: 16m 54s\tremaining: 1m 15s\n",
      "931:\tlearn: 0.8920378\ttotal: 16m 55s\tremaining: 1m 14s\n",
      "932:\tlearn: 0.8918170\ttotal: 16m 56s\tremaining: 1m 12s\n",
      "933:\tlearn: 0.8919870\ttotal: 16m 57s\tremaining: 1m 11s\n",
      "934:\tlearn: 0.8920357\ttotal: 16m 58s\tremaining: 1m 10s\n",
      "935:\tlearn: 0.8922603\ttotal: 16m 59s\tremaining: 1m 9s\n",
      "936:\tlearn: 0.8920912\ttotal: 17m\tremaining: 1m 8s\n",
      "937:\tlearn: 0.8923065\ttotal: 17m 1s\tremaining: 1m 7s\n",
      "938:\tlearn: 0.8922779\ttotal: 17m 2s\tremaining: 1m 6s\n",
      "939:\tlearn: 0.8920997\ttotal: 17m 3s\tremaining: 1m 5s\n",
      "940:\tlearn: 0.8924848\ttotal: 17m 4s\tremaining: 1m 4s\n",
      "941:\tlearn: 0.8926280\ttotal: 17m 5s\tremaining: 1m 3s\n",
      "942:\tlearn: 0.8926991\ttotal: 17m 7s\tremaining: 1m 2s\n",
      "943:\tlearn: 0.8927495\ttotal: 17m 8s\tremaining: 1m\n",
      "944:\tlearn: 0.8927967\ttotal: 17m 9s\tremaining: 59.9s\n",
      "945:\tlearn: 0.8928219\ttotal: 17m 10s\tremaining: 58.8s\n",
      "946:\tlearn: 0.8927882\ttotal: 17m 11s\tremaining: 57.7s\n",
      "947:\tlearn: 0.8928596\ttotal: 17m 12s\tremaining: 56.6s\n",
      "948:\tlearn: 0.8928036\ttotal: 17m 13s\tremaining: 55.5s\n",
      "949:\tlearn: 0.8928445\ttotal: 17m 14s\tremaining: 54.5s\n",
      "950:\tlearn: 0.8928773\ttotal: 17m 15s\tremaining: 53.4s\n",
      "951:\tlearn: 0.8929984\ttotal: 17m 17s\tremaining: 52.3s\n",
      "952:\tlearn: 0.8929897\ttotal: 17m 18s\tremaining: 51.2s\n",
      "953:\tlearn: 0.8931428\ttotal: 17m 19s\tremaining: 50.1s\n",
      "954:\tlearn: 0.8931846\ttotal: 17m 21s\tremaining: 49.1s\n",
      "955:\tlearn: 0.8932799\ttotal: 17m 22s\tremaining: 48s\n",
      "956:\tlearn: 0.8932981\ttotal: 17m 24s\tremaining: 46.9s\n",
      "957:\tlearn: 0.8933153\ttotal: 17m 25s\tremaining: 45.8s\n",
      "958:\tlearn: 0.8932846\ttotal: 17m 26s\tremaining: 44.7s\n",
      "959:\tlearn: 0.8933565\ttotal: 17m 27s\tremaining: 43.6s\n",
      "960:\tlearn: 0.8933217\ttotal: 17m 28s\tremaining: 42.6s\n",
      "961:\tlearn: 0.8934407\ttotal: 17m 29s\tremaining: 41.5s\n",
      "962:\tlearn: 0.8933316\ttotal: 17m 30s\tremaining: 40.4s\n",
      "963:\tlearn: 0.8933715\ttotal: 17m 31s\tremaining: 39.3s\n",
      "964:\tlearn: 0.8936310\ttotal: 17m 33s\tremaining: 38.2s\n",
      "965:\tlearn: 0.8936434\ttotal: 17m 34s\tremaining: 37.1s\n",
      "966:\tlearn: 0.8936658\ttotal: 17m 35s\tremaining: 36s\n",
      "967:\tlearn: 0.8935700\ttotal: 17m 36s\tremaining: 34.9s\n",
      "968:\tlearn: 0.8936049\ttotal: 17m 37s\tremaining: 33.8s\n",
      "969:\tlearn: 0.8937449\ttotal: 17m 38s\tremaining: 32.7s\n",
      "970:\tlearn: 0.8936781\ttotal: 17m 39s\tremaining: 31.6s\n",
      "971:\tlearn: 0.8938822\ttotal: 17m 40s\tremaining: 30.6s\n",
      "972:\tlearn: 0.8938100\ttotal: 17m 41s\tremaining: 29.5s\n",
      "973:\tlearn: 0.8937118\ttotal: 17m 43s\tremaining: 28.4s\n",
      "974:\tlearn: 0.8938995\ttotal: 17m 44s\tremaining: 27.3s\n",
      "975:\tlearn: 0.8941017\ttotal: 17m 45s\tremaining: 26.2s\n",
      "976:\tlearn: 0.8941944\ttotal: 17m 46s\tremaining: 25.1s\n",
      "977:\tlearn: 0.8942582\ttotal: 17m 47s\tremaining: 24s\n",
      "978:\tlearn: 0.8943210\ttotal: 17m 48s\tremaining: 22.9s\n",
      "979:\tlearn: 0.8942739\ttotal: 17m 49s\tremaining: 21.8s\n",
      "980:\tlearn: 0.8943204\ttotal: 17m 50s\tremaining: 20.7s\n",
      "981:\tlearn: 0.8942061\ttotal: 17m 52s\tremaining: 19.6s\n",
      "982:\tlearn: 0.8943059\ttotal: 17m 53s\tremaining: 18.6s\n",
      "983:\tlearn: 0.8944504\ttotal: 17m 54s\tremaining: 17.5s\n",
      "984:\tlearn: 0.8944213\ttotal: 17m 55s\tremaining: 16.4s\n",
      "985:\tlearn: 0.8945288\ttotal: 17m 56s\tremaining: 15.3s\n",
      "986:\tlearn: 0.8943844\ttotal: 17m 57s\tremaining: 14.2s\n",
      "987:\tlearn: 0.8945260\ttotal: 17m 58s\tremaining: 13.1s\n",
      "988:\tlearn: 0.8946311\ttotal: 17m 59s\tremaining: 12s\n",
      "989:\tlearn: 0.8947691\ttotal: 18m 1s\tremaining: 10.9s\n",
      "990:\tlearn: 0.8947364\ttotal: 18m 2s\tremaining: 9.83s\n",
      "991:\tlearn: 0.8947824\ttotal: 18m 3s\tremaining: 8.74s\n",
      "992:\tlearn: 0.8944944\ttotal: 18m 4s\tremaining: 7.64s\n",
      "993:\tlearn: 0.8947225\ttotal: 18m 5s\tremaining: 6.55s\n",
      "994:\tlearn: 0.8945013\ttotal: 18m 6s\tremaining: 5.46s\n",
      "995:\tlearn: 0.8946667\ttotal: 18m 7s\tremaining: 4.37s\n",
      "996:\tlearn: 0.8946804\ttotal: 18m 8s\tremaining: 3.27s\n",
      "997:\tlearn: 0.8947446\ttotal: 18m 9s\tremaining: 2.18s\n",
      "998:\tlearn: 0.8949467\ttotal: 18m 10s\tremaining: 1.09s\n",
      "999:\tlearn: 0.8947656\ttotal: 18m 11s\tremaining: 0us\n",
      "CPU times: user 1h 5min 14s, sys: 3min 6s, total: 1h 8min 21s\n",
      "Wall time: 18min 13s\n"
     ]
    },
    {
     "data": {
      "text/plain": [
       "<catboost.core.CatBoostClassifier at 0x7faea2fa9f10>"
      ]
     },
     "execution_count": 59,
     "metadata": {},
     "output_type": "execute_result"
    }
   ],
   "source": [
    "%%time\n",
    "model = CatBoostClassifier(random_seed=17, depth=6, learning_rate=0.5, thread_count=4, loss_function='MultiClass', custom_metric='TotalF1', eval_metric='TotalF1')\n",
    "model.fit(StandardScaler().fit_transform(X), y_cat_2)"
   ]
  },
  {
   "cell_type": "markdown",
   "metadata": {
    "id": "u6jX8o1lg-St"
   },
   "source": [
    "Обучить после 2 уровня категорий классические модели машинного обучение очень затратно по времени и метрики получаются очень низкими. Даже SGD классификатор будет работать очень долго, потому что он строит для каждой пары двух категорий свой - бинарный классификатор и выполняется какого-то рода голосование."
   ]
  },
  {
   "cell_type": "markdown",
   "metadata": {
    "id": "I3NGP4uvQ7Ln"
   },
   "source": [
    "Можно попробовать\n",
    "\n",
    "\n",
    "1. Cгенерировать признаки например с помощью Bert или FastText и объеденить с признаками  Word2Vec. \n",
    "2. Использовать полученные результаты предсказаний высоких уровней для предсказания более низких, потому что это дает небольшой прирост к метрикам.\n",
    "3. Можно попробовать обратиться в глубокому обучению, где будет несколько слоев на каждый уровень категорий и теже самые метрики: accuracy, f1_micro, f1_macro, f1_weight\n",
    "ed.\n",
    "\n",
    "\n",
    "\n",
    "\n"
   ]
  },
  {
   "cell_type": "code",
   "execution_count": 119,
   "metadata": {
    "id": "OFzmE6MfQ6Z2"
   },
   "outputs": [],
   "source": [
    "from sklearn.pipeline import Pipeline"
   ]
  },
  {
   "cell_type": "code",
   "execution_count": 190,
   "metadata": {
    "id": "FbcVrKrqNT2K"
   },
   "outputs": [],
   "source": [
    "class Model():\n",
    "    def __init__(self, model, cat_df):\n",
    "        self.model = model\n",
    "        self.cat = cat_df\n",
    "        \n",
    "    def fit():\n",
    "        pass\n",
    "    \n",
    "    def predict(self, X):\n",
    "        category_id = self.model.predict(X)\n",
    "        category_title = self.cat[self.cat['category_2'] == category_id[0]]['category_title']\n",
    "        return {'category_id' : category_id[0], 'category_title': category_title}"
   ]
  },
  {
   "cell_type": "code",
   "execution_count": 191,
   "metadata": {
    "id": "Nm1bAo4NNT2L"
   },
   "outputs": [],
   "source": [
    "class NormolizeText():\n",
    "    def __init__(self, w2v):\n",
    "        self.w2v = w2v\n",
    "        \n",
    "    def preprocess_text(self, text):\n",
    "        stop_word_list = nltk.corpus.stopwords.words('russian')\n",
    "        tokeniser = RegexpTokenizer(\"[A-Za-zА-Яа-я]+\")\n",
    "        tokens = tokeniser.tokenize(text)\n",
    "        \n",
    "        tokens_lower = [t.lower() for t in tokens]\n",
    "        tokens_clean = [t for t in tokens_lower if t not in stop_word_list]\n",
    "        return ' '.join(tokens_clean)\n",
    "\n",
    "    def vectorize(self, text):\n",
    "        words = [self.w2v.wv[w] for w in text.split() if w in self.w2v.wv]\n",
    "        if len(words) > 0:\n",
    "            return np.mean(words, axis=0)\n",
    "        return np.zeros(50)\n",
    "\n",
    "    def fit():\n",
    "        pass\n",
    "        \n",
    "    def transform(self, x):\n",
    "        preprocessed = self.preprocess_text(x)\n",
    "        features_x = self.vectorize(preprocessed)\n",
    "        return features_x"
   ]
  },
  {
   "cell_type": "code",
   "execution_count": 192,
   "metadata": {
    "id": "c6Rn355wNT2L"
   },
   "outputs": [
    {
     "data": {
      "text/plain": [
       "Pipeline(steps=[('NormolizeText',\n",
       "                 <__main__.NormolizeText object at 0x7fae57ef5700>),\n",
       "                ('model', <__main__.Model object at 0x7fae57ef55b0>)])"
      ]
     },
     "execution_count": 192,
     "metadata": {},
     "output_type": "execute_result"
    }
   ],
   "source": [
    "steps = [('NormolizeText', NormolizeText(w2v)), ('model', Model(model, cat))]\n",
    "pipe = Pipeline(steps)\n",
    "pipe"
   ]
  },
  {
   "cell_type": "code",
   "execution_count": 193,
   "metadata": {
    "id": "g8HryMkNNT2L"
   },
   "outputs": [
    {
     "data": {
      "text/plain": [
       "{'category_id': '10044',\n",
       " 'category_title': 10                           Док-станции\n",
       " 35                Наклейки для телефонов\n",
       " 48               Запчасти для смартфонов\n",
       " 75                  Осветители и вспышки\n",
       " 82                    Проводные телефоны\n",
       " 124     Беспроводные зарядные устройства\n",
       " 159    Универсальные зарядные устройства\n",
       " 220                            Sim-карты\n",
       " 316          Очки виртуальной реальности\n",
       " 323                               Шнурки\n",
       " 396                        Стабилизаторы\n",
       " 441                   Кнопочные телефоны\n",
       " 563             Объективы для смартфонов\n",
       " 609                        DECT-телефоны\n",
       " 654                               Кабели\n",
       " 691                    Bluetooth-брелоки\n",
       " 738                   Чехлы-аккумуляторы\n",
       " 780                Стилусы для телефонов\n",
       " 817                  Портативные зарядки\n",
       " 844                Подставки и держатели\n",
       " 871          Сетевые зарядные устройства\n",
       " 919       Перчатки для сенсорных экранов\n",
       " 924                         Аккумуляторы\n",
       " 939                  Зарядные устройства\n",
       " 942             Защитные стекла и пленки\n",
       " 943                                Чехлы\n",
       " 958                            Смартфоны\n",
       " Name: category_title, dtype: object}"
      ]
     },
     "execution_count": 193,
     "metadata": {},
     "output_type": "execute_result"
    }
   ],
   "source": [
    "pipe.predict('Зарядка')"
   ]
  },
  {
   "cell_type": "code",
   "execution_count": 194,
   "metadata": {
    "id": "c7O1l8dUNT2M"
   },
   "outputs": [
    {
     "data": {
      "text/plain": [
       "['model.joblib']"
      ]
     },
     "execution_count": 194,
     "metadata": {},
     "output_type": "execute_result"
    }
   ],
   "source": [
    "import joblib\n",
    "joblib.dump(pipe, 'model.joblib')"
   ]
  },
  {
   "cell_type": "code",
   "execution_count": 195,
   "metadata": {},
   "outputs": [
    {
     "data": {
      "text/plain": [
       "{'category_id': '10070',\n",
       " 'category_title': 14                          Масло для ванны\n",
       " 15     Средства против целлюлита и растяжек\n",
       " 60                           Стики для тела\n",
       " 78                     Средства для солярия\n",
       " 166                Щетки для сухого массажа\n",
       " 192                           Маски для ног\n",
       " 225                    Увлажнение и питание\n",
       " 239                            Гели и муссы\n",
       " 311                           Уход за телом\n",
       " 320                 Солнцезащитные средства\n",
       " 376             Варежки для парафинотерапии\n",
       " 408                 Крем для ухода за кожей\n",
       " 412         Термальная вода, тоники и спреи\n",
       " 434                         Массажные масла\n",
       " 439                           Кремы для ног\n",
       " 467          Налокотники, перчатки, носочки\n",
       " 506                     Маски и обертывание\n",
       " 508                Загар и защита от солнца\n",
       " 517               Средства для душа и ванны\n",
       " 534                               Автозагар\n",
       " 536                           Гели для душа\n",
       " 555                    Средство от растяжек\n",
       " 604                              Аксессуары\n",
       " 610                                   Масла\n",
       " 624                          Соль для ванны\n",
       " 629                        Скрабы и пилинги\n",
       " 663                       Лосьоны и молочко\n",
       " 735                          Пена для ванны\n",
       " 746                  Концентраты и бальзамы\n",
       " 789                   Средства после загара\n",
       " 808                          Масло для душа\n",
       " 836                     Эмульсии и эликсиры\n",
       " 855                                 Мочалки\n",
       " 911                           Кремы для рук\n",
       " 934                    Временные татуировки\n",
       " 941                          Кремы для тела\n",
       " 952                Средство антицеллюлитное\n",
       " Name: category_title, dtype: object}"
      ]
     },
     "execution_count": 195,
     "metadata": {},
     "output_type": "execute_result"
    }
   ],
   "source": [
    "import joblib\n",
    "pipeline = joblib.load('model.joblib')\n",
    "pipeline.predict('Массажер для ног')"
   ]
  },
  {
   "cell_type": "code",
   "execution_count": null,
   "metadata": {},
   "outputs": [],
   "source": []
  },
  {
   "cell_type": "code",
   "execution_count": null,
   "metadata": {},
   "outputs": [],
   "source": []
  }
 ],
 "metadata": {
  "colab": {
   "collapsed_sections": [
    "NHbe3nBufPA4",
    "vNU8bUUvfc_l",
    "fE1DviJfgGrg",
    "wDB1pQd8P6Cx",
    "DktvQhP8hJ_Q",
    "GXEEXY_siQyJ",
    "WZ9RxyoZiu6N",
    "tcthuNDbEZ0R",
    "5MDlHsPbPi8Y",
    "IotnLNkdQ4jO"
   ],
   "name": "test.ipynb",
   "provenance": []
  },
  "kernelspec": {
   "display_name": "Python 3",
   "language": "python",
   "name": "python3"
  },
  "language_info": {
   "codemirror_mode": {
    "name": "ipython",
    "version": 3
   },
   "file_extension": ".py",
   "mimetype": "text/x-python",
   "name": "python",
   "nbconvert_exporter": "python",
   "pygments_lexer": "ipython3",
   "version": "3.8.8"
  }
 },
 "nbformat": 4,
 "nbformat_minor": 1
}
