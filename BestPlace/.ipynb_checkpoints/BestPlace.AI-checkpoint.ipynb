{
 "cells": [
  {
   "cell_type": "code",
   "execution_count": 128,
   "metadata": {},
   "outputs": [],
   "source": [
    "import pandas as pd\n",
    "import numpy as np\n",
    "import seaborn as sns\n",
    "\n",
    "%matplotlib inline\n",
    "from matplotlib import pyplot as plt\n",
    "\n",
    "plt.style.use(['seaborn-darkgrid'])\n",
    "plt.rcParams['figure.figsize'] = (12, 9)\n",
    "plt.rcParams['font.family'] = 'DejaVu Sans'"
   ]
  },
  {
   "cell_type": "code",
   "execution_count": 129,
   "metadata": {},
   "outputs": [],
   "source": [
    "data = pd.read_excel('OOO-VD.xlsx')"
   ]
  },
  {
   "cell_type": "code",
   "execution_count": 130,
   "metadata": {},
   "outputs": [],
   "source": [
    "proc = pd.read_excel('OOO-proceeds.xlsx')"
   ]
  },
  {
   "cell_type": "code",
   "execution_count": 184,
   "metadata": {},
   "outputs": [
    {
     "data": {
      "text/html": [
       "<div>\n",
       "<style scoped>\n",
       "    .dataframe tbody tr th:only-of-type {\n",
       "        vertical-align: middle;\n",
       "    }\n",
       "\n",
       "    .dataframe tbody tr th {\n",
       "        vertical-align: top;\n",
       "    }\n",
       "\n",
       "    .dataframe thead th {\n",
       "        text-align: right;\n",
       "    }\n",
       "</style>\n",
       "<table border=\"1\" class=\"dataframe\">\n",
       "  <thead>\n",
       "    <tr style=\"text-align: right;\">\n",
       "      <th></th>\n",
       "      <th>0</th>\n",
       "      <th>1</th>\n",
       "      <th>2</th>\n",
       "      <th>3</th>\n",
       "      <th>4</th>\n",
       "    </tr>\n",
       "  </thead>\n",
       "  <tbody>\n",
       "    <tr>\n",
       "      <th>id точки</th>\n",
       "      <td>8955</td>\n",
       "      <td>11007</td>\n",
       "      <td>11366</td>\n",
       "      <td>11810</td>\n",
       "      <td>15041</td>\n",
       "    </tr>\n",
       "    <tr>\n",
       "      <th>Адрес</th>\n",
       "      <td>Оренбургская обл, Оренбург г, Шарлыкское ш, д...</td>\n",
       "      <td>Алтайский край, г. Барнаул, ул. Малахова, дом ...</td>\n",
       "      <td>Амурская область, Благовещенск, улица Мухина, 114</td>\n",
       "      <td>Архангельская обл, г. Архангельск , Троицкий п...</td>\n",
       "      <td>Архангельская обл, г. Архангельск, Троицкий пр...</td>\n",
       "    </tr>\n",
       "    <tr>\n",
       "      <th>Широта</th>\n",
       "      <td>55.1183</td>\n",
       "      <td>83.6968</td>\n",
       "      <td>127.51</td>\n",
       "      <td>40.5282</td>\n",
       "      <td>40.5263</td>\n",
       "    </tr>\n",
       "    <tr>\n",
       "      <th>Долгота</th>\n",
       "      <td>51.8431</td>\n",
       "      <td>53.357</td>\n",
       "      <td>50.2804</td>\n",
       "      <td>64.5323</td>\n",
       "      <td>64.5343</td>\n",
       "    </tr>\n",
       "    <tr>\n",
       "      <th>Дата открытия</th>\n",
       "      <td>2016-11-09 00:00:00</td>\n",
       "      <td>2010-04-26 00:00:00</td>\n",
       "      <td>2017-08-25 00:00:00</td>\n",
       "      <td>2012-11-03 00:00:00</td>\n",
       "      <td>2006-12-09 00:00:00</td>\n",
       "    </tr>\n",
       "    <tr>\n",
       "      <th>Дата закрытия</th>\n",
       "      <td>NaT</td>\n",
       "      <td>NaT</td>\n",
       "      <td>NaT</td>\n",
       "      <td>NaT</td>\n",
       "      <td>NaT</td>\n",
       "    </tr>\n",
       "    <tr>\n",
       "      <th>Площадь магазина</th>\n",
       "      <td>478</td>\n",
       "      <td>332</td>\n",
       "      <td>356</td>\n",
       "      <td>317</td>\n",
       "      <td>176</td>\n",
       "    </tr>\n",
       "    <tr>\n",
       "      <th>Тип входа</th>\n",
       "      <td>без сквозного прохода</td>\n",
       "      <td>сквозной проход</td>\n",
       "      <td>без сквозного прохода</td>\n",
       "      <td>отдельный вход с улицы + сквозной проход</td>\n",
       "      <td>сквозной проход</td>\n",
       "    </tr>\n",
       "    <tr>\n",
       "      <th>Площадь ТЦ</th>\n",
       "      <td>130000</td>\n",
       "      <td>31500</td>\n",
       "      <td>36000</td>\n",
       "      <td>35000</td>\n",
       "      <td>15332</td>\n",
       "    </tr>\n",
       "    <tr>\n",
       "      <th>Формат магазина</th>\n",
       "      <td>ТЦ</td>\n",
       "      <td>ТЦ</td>\n",
       "      <td>ТЦ</td>\n",
       "      <td>ТЦ</td>\n",
       "      <td>ТЦ</td>\n",
       "    </tr>\n",
       "    <tr>\n",
       "      <th>Парковка</th>\n",
       "      <td>бесплатная парковка</td>\n",
       "      <td>бесплатная парковка</td>\n",
       "      <td>бесплатная парковка</td>\n",
       "      <td>бесплатная парковка</td>\n",
       "      <td>бесплатная парковка</td>\n",
       "    </tr>\n",
       "    <tr>\n",
       "      <th>Этаж</th>\n",
       "      <td>3</td>\n",
       "      <td>1</td>\n",
       "      <td>1</td>\n",
       "      <td>1</td>\n",
       "      <td>цоколь</td>\n",
       "    </tr>\n",
       "    <tr>\n",
       "      <th>Время работы</th>\n",
       "      <td>с 10:00 до 22:00</td>\n",
       "      <td>с 10:00 до 22:00</td>\n",
       "      <td>с 10:00 до 22:00</td>\n",
       "      <td>с 10:00 до 21:00</td>\n",
       "      <td>с 10:00 до 21:00</td>\n",
       "    </tr>\n",
       "    <tr>\n",
       "      <th>Заполненность ТЦ</th>\n",
       "      <td>NaN</td>\n",
       "      <td>NaN</td>\n",
       "      <td>3</td>\n",
       "      <td>3</td>\n",
       "      <td>3</td>\n",
       "    </tr>\n",
       "    <tr>\n",
       "      <th>Рядом с эскалатором</th>\n",
       "      <td>0</td>\n",
       "      <td>0</td>\n",
       "      <td>0</td>\n",
       "      <td>0</td>\n",
       "      <td>1</td>\n",
       "    </tr>\n",
       "    <tr>\n",
       "      <th>Рядом со входом</th>\n",
       "      <td>0</td>\n",
       "      <td>1</td>\n",
       "      <td>1</td>\n",
       "      <td>1</td>\n",
       "      <td>0</td>\n",
       "    </tr>\n",
       "    <tr>\n",
       "      <th>Конкуренты в ТЦ</th>\n",
       "      <td>1</td>\n",
       "      <td>NaN</td>\n",
       "      <td>1</td>\n",
       "      <td>0</td>\n",
       "      <td>NaN</td>\n",
       "    </tr>\n",
       "    <tr>\n",
       "      <th>Расположение в ТЦ</th>\n",
       "      <td>7</td>\n",
       "      <td>9</td>\n",
       "      <td>6</td>\n",
       "      <td>10</td>\n",
       "      <td>0</td>\n",
       "    </tr>\n",
       "    <tr>\n",
       "      <th>Толока</th>\n",
       "      <td>37.8576</td>\n",
       "      <td>57.8105</td>\n",
       "      <td>49.9598</td>\n",
       "      <td>128.459</td>\n",
       "      <td>103.2</td>\n",
       "    </tr>\n",
       "    <tr>\n",
       "      <th>Люкс</th>\n",
       "      <td>69.5</td>\n",
       "      <td>66.8966</td>\n",
       "      <td>68.7273</td>\n",
       "      <td>64.5172</td>\n",
       "      <td>78.2759</td>\n",
       "    </tr>\n",
       "    <tr>\n",
       "      <th>Выборка</th>\n",
       "      <td>Обучающая</td>\n",
       "      <td>Обучающая</td>\n",
       "      <td>Обучающая</td>\n",
       "      <td>Обучающая</td>\n",
       "      <td>Тестовая</td>\n",
       "    </tr>\n",
       "  </tbody>\n",
       "</table>\n",
       "</div>"
      ],
      "text/plain": [
       "                                                                     0  \\\n",
       "id точки                                                          8955   \n",
       "Адрес                 Оренбургская обл, Оренбург г, Шарлыкское ш, д...   \n",
       "Широта                                                         55.1183   \n",
       "Долгота                                                        51.8431   \n",
       "Дата открытия                                      2016-11-09 00:00:00   \n",
       "Дата закрытия                                                      NaT   \n",
       "Площадь магазина                                                   478   \n",
       "Тип входа                                        без сквозного прохода   \n",
       "Площадь ТЦ                                                      130000   \n",
       "Формат магазина                                                     ТЦ   \n",
       "Парковка                                           бесплатная парковка   \n",
       "Этаж                                                                 3   \n",
       "Время работы                                          с 10:00 до 22:00   \n",
       "Заполненность ТЦ                                                   NaN   \n",
       "Рядом с эскалатором                                                  0   \n",
       "Рядом со входом                                                      0   \n",
       "Конкуренты в ТЦ                                                      1   \n",
       "Расположение в ТЦ                                                    7   \n",
       "Толока                                                         37.8576   \n",
       "Люкс                                                              69.5   \n",
       "Выборка                                                      Обучающая   \n",
       "\n",
       "                                                                     1  \\\n",
       "id точки                                                         11007   \n",
       "Адрес                Алтайский край, г. Барнаул, ул. Малахова, дом ...   \n",
       "Широта                                                         83.6968   \n",
       "Долгота                                                         53.357   \n",
       "Дата открытия                                      2010-04-26 00:00:00   \n",
       "Дата закрытия                                                      NaT   \n",
       "Площадь магазина                                                   332   \n",
       "Тип входа                                              сквозной проход   \n",
       "Площадь ТЦ                                                       31500   \n",
       "Формат магазина                                                     ТЦ   \n",
       "Парковка                                           бесплатная парковка   \n",
       "Этаж                                                                 1   \n",
       "Время работы                                          с 10:00 до 22:00   \n",
       "Заполненность ТЦ                                                   NaN   \n",
       "Рядом с эскалатором                                                  0   \n",
       "Рядом со входом                                                      1   \n",
       "Конкуренты в ТЦ                                                    NaN   \n",
       "Расположение в ТЦ                                                    9   \n",
       "Толока                                                         57.8105   \n",
       "Люкс                                                           66.8966   \n",
       "Выборка                                                      Обучающая   \n",
       "\n",
       "                                                                     2  \\\n",
       "id точки                                                         11366   \n",
       "Адрес                Амурская область, Благовещенск, улица Мухина, 114   \n",
       "Широта                                                          127.51   \n",
       "Долгота                                                        50.2804   \n",
       "Дата открытия                                      2017-08-25 00:00:00   \n",
       "Дата закрытия                                                      NaT   \n",
       "Площадь магазина                                                   356   \n",
       "Тип входа                                        без сквозного прохода   \n",
       "Площадь ТЦ                                                       36000   \n",
       "Формат магазина                                                     ТЦ   \n",
       "Парковка                                           бесплатная парковка   \n",
       "Этаж                                                                 1   \n",
       "Время работы                                          с 10:00 до 22:00   \n",
       "Заполненность ТЦ                                                     3   \n",
       "Рядом с эскалатором                                                  0   \n",
       "Рядом со входом                                                      1   \n",
       "Конкуренты в ТЦ                                                      1   \n",
       "Расположение в ТЦ                                                    6   \n",
       "Толока                                                         49.9598   \n",
       "Люкс                                                           68.7273   \n",
       "Выборка                                                      Обучающая   \n",
       "\n",
       "                                                                     3  \\\n",
       "id точки                                                         11810   \n",
       "Адрес                Архангельская обл, г. Архангельск , Троицкий п...   \n",
       "Широта                                                         40.5282   \n",
       "Долгота                                                        64.5323   \n",
       "Дата открытия                                      2012-11-03 00:00:00   \n",
       "Дата закрытия                                                      NaT   \n",
       "Площадь магазина                                                   317   \n",
       "Тип входа                     отдельный вход с улицы + сквозной проход   \n",
       "Площадь ТЦ                                                       35000   \n",
       "Формат магазина                                                     ТЦ   \n",
       "Парковка                                           бесплатная парковка   \n",
       "Этаж                                                                 1   \n",
       "Время работы                                          с 10:00 до 21:00   \n",
       "Заполненность ТЦ                                                     3   \n",
       "Рядом с эскалатором                                                  0   \n",
       "Рядом со входом                                                      1   \n",
       "Конкуренты в ТЦ                                                      0   \n",
       "Расположение в ТЦ                                                   10   \n",
       "Толока                                                         128.459   \n",
       "Люкс                                                           64.5172   \n",
       "Выборка                                                      Обучающая   \n",
       "\n",
       "                                                                     4  \n",
       "id точки                                                         15041  \n",
       "Адрес                Архангельская обл, г. Архангельск, Троицкий пр...  \n",
       "Широта                                                         40.5263  \n",
       "Долгота                                                        64.5343  \n",
       "Дата открытия                                      2006-12-09 00:00:00  \n",
       "Дата закрытия                                                      NaT  \n",
       "Площадь магазина                                                   176  \n",
       "Тип входа                                              сквозной проход  \n",
       "Площадь ТЦ                                                       15332  \n",
       "Формат магазина                                                     ТЦ  \n",
       "Парковка                                           бесплатная парковка  \n",
       "Этаж                                                            цоколь  \n",
       "Время работы                                          с 10:00 до 21:00  \n",
       "Заполненность ТЦ                                                     3  \n",
       "Рядом с эскалатором                                                  1  \n",
       "Рядом со входом                                                      0  \n",
       "Конкуренты в ТЦ                                                    NaN  \n",
       "Расположение в ТЦ                                                    0  \n",
       "Толока                                                           103.2  \n",
       "Люкс                                                           78.2759  \n",
       "Выборка                                                       Тестовая  "
      ]
     },
     "execution_count": 184,
     "metadata": {},
     "output_type": "execute_result"
    }
   ],
   "source": [
    "data.head().T"
   ]
  },
  {
   "cell_type": "code",
   "execution_count": 185,
   "metadata": {},
   "outputs": [
    {
     "data": {
      "text/html": [
       "<div>\n",
       "<style scoped>\n",
       "    .dataframe tbody tr th:only-of-type {\n",
       "        vertical-align: middle;\n",
       "    }\n",
       "\n",
       "    .dataframe tbody tr th {\n",
       "        vertical-align: top;\n",
       "    }\n",
       "\n",
       "    .dataframe thead th {\n",
       "        text-align: right;\n",
       "    }\n",
       "</style>\n",
       "<table border=\"1\" class=\"dataframe\">\n",
       "  <thead>\n",
       "    <tr style=\"text-align: right;\">\n",
       "      <th></th>\n",
       "      <th>id точки</th>\n",
       "      <th>2015-01-01</th>\n",
       "      <th>2015-02-01</th>\n",
       "      <th>2015-03-01</th>\n",
       "      <th>2015-04-01</th>\n",
       "      <th>2015-05-01</th>\n",
       "      <th>2015-06-01</th>\n",
       "      <th>2015-07-01</th>\n",
       "      <th>2015-08-01</th>\n",
       "      <th>2015-09-01</th>\n",
       "      <th>...</th>\n",
       "      <th>2018-01-01</th>\n",
       "      <th>2018-02-01</th>\n",
       "      <th>2018-04-01</th>\n",
       "      <th>2018-05-01</th>\n",
       "      <th>2018-06-01</th>\n",
       "      <th>2018-07-01</th>\n",
       "      <th>2018-08-01</th>\n",
       "      <th>2018-09-01</th>\n",
       "      <th>2018-10-01</th>\n",
       "      <th>2018-11-01</th>\n",
       "    </tr>\n",
       "  </thead>\n",
       "  <tbody>\n",
       "    <tr>\n",
       "      <th>0</th>\n",
       "      <td>11366.0</td>\n",
       "      <td>245709.342667</td>\n",
       "      <td>301024.685000</td>\n",
       "      <td>406199.782258</td>\n",
       "      <td>295602.853000</td>\n",
       "      <td>268179.172258</td>\n",
       "      <td>266579.009667</td>\n",
       "      <td>202667.039355</td>\n",
       "      <td>207347.022581</td>\n",
       "      <td>237393.216667</td>\n",
       "      <td>...</td>\n",
       "      <td>271084.023513</td>\n",
       "      <td>298845.267500</td>\n",
       "      <td>277776.347333</td>\n",
       "      <td>270902.919677</td>\n",
       "      <td>280106.099000</td>\n",
       "      <td>243448.836129</td>\n",
       "      <td>236709.816452</td>\n",
       "      <td>248268.778333</td>\n",
       "      <td>296637.103226</td>\n",
       "      <td>314456.870000</td>\n",
       "    </tr>\n",
       "    <tr>\n",
       "      <th>1</th>\n",
       "      <td>11810.0</td>\n",
       "      <td>270245.842066</td>\n",
       "      <td>297964.820199</td>\n",
       "      <td>406198.175918</td>\n",
       "      <td>232433.263996</td>\n",
       "      <td>229317.708387</td>\n",
       "      <td>251403.308057</td>\n",
       "      <td>242000.555806</td>\n",
       "      <td>260407.109247</td>\n",
       "      <td>267051.162996</td>\n",
       "      <td>...</td>\n",
       "      <td>245402.383180</td>\n",
       "      <td>273515.012143</td>\n",
       "      <td>240088.292000</td>\n",
       "      <td>196260.466452</td>\n",
       "      <td>228920.589000</td>\n",
       "      <td>204058.825161</td>\n",
       "      <td>207104.013135</td>\n",
       "      <td>203499.409840</td>\n",
       "      <td>206013.017419</td>\n",
       "      <td>218636.436000</td>\n",
       "    </tr>\n",
       "    <tr>\n",
       "      <th>2</th>\n",
       "      <td>15041.0</td>\n",
       "      <td>171972.976000</td>\n",
       "      <td>198141.440000</td>\n",
       "      <td>260215.741935</td>\n",
       "      <td>205316.010644</td>\n",
       "      <td>187059.870968</td>\n",
       "      <td>198590.970667</td>\n",
       "      <td>178250.637781</td>\n",
       "      <td>187094.699355</td>\n",
       "      <td>211000.005517</td>\n",
       "      <td>...</td>\n",
       "      <td>174154.623627</td>\n",
       "      <td>173190.240000</td>\n",
       "      <td>240396.837333</td>\n",
       "      <td>241494.616774</td>\n",
       "      <td>264873.765333</td>\n",
       "      <td>227461.233548</td>\n",
       "      <td>249503.230968</td>\n",
       "      <td>251805.680000</td>\n",
       "      <td>263152.960000</td>\n",
       "      <td>269913.018667</td>\n",
       "    </tr>\n",
       "    <tr>\n",
       "      <th>3</th>\n",
       "      <td>15775.0</td>\n",
       "      <td>409032.989736</td>\n",
       "      <td>468816.460949</td>\n",
       "      <td>582717.510920</td>\n",
       "      <td>442807.529886</td>\n",
       "      <td>371689.316054</td>\n",
       "      <td>428430.990000</td>\n",
       "      <td>365894.971255</td>\n",
       "      <td>384266.496739</td>\n",
       "      <td>385515.509997</td>\n",
       "      <td>...</td>\n",
       "      <td>431909.251500</td>\n",
       "      <td>493571.089286</td>\n",
       "      <td>408575.490000</td>\n",
       "      <td>387081.406452</td>\n",
       "      <td>418398.840000</td>\n",
       "      <td>362395.248387</td>\n",
       "      <td>393423.329032</td>\n",
       "      <td>387866.910000</td>\n",
       "      <td>421387.374194</td>\n",
       "      <td>481330.143000</td>\n",
       "    </tr>\n",
       "    <tr>\n",
       "      <th>4</th>\n",
       "      <td>16102.0</td>\n",
       "      <td>437693.191667</td>\n",
       "      <td>510077.198214</td>\n",
       "      <td>602107.617742</td>\n",
       "      <td>465779.798333</td>\n",
       "      <td>423448.914516</td>\n",
       "      <td>414476.575000</td>\n",
       "      <td>370944.770968</td>\n",
       "      <td>392089.754839</td>\n",
       "      <td>416797.330000</td>\n",
       "      <td>...</td>\n",
       "      <td>378429.858867</td>\n",
       "      <td>453511.489286</td>\n",
       "      <td>388849.670000</td>\n",
       "      <td>369223.219355</td>\n",
       "      <td>392389.013333</td>\n",
       "      <td>328593.246774</td>\n",
       "      <td>350885.291935</td>\n",
       "      <td>369367.358333</td>\n",
       "      <td>427575.006452</td>\n",
       "      <td>472508.001667</td>\n",
       "    </tr>\n",
       "    <tr>\n",
       "      <th>...</th>\n",
       "      <td>...</td>\n",
       "      <td>...</td>\n",
       "      <td>...</td>\n",
       "      <td>...</td>\n",
       "      <td>...</td>\n",
       "      <td>...</td>\n",
       "      <td>...</td>\n",
       "      <td>...</td>\n",
       "      <td>...</td>\n",
       "      <td>...</td>\n",
       "      <td>...</td>\n",
       "      <td>...</td>\n",
       "      <td>...</td>\n",
       "      <td>...</td>\n",
       "      <td>...</td>\n",
       "      <td>...</td>\n",
       "      <td>...</td>\n",
       "      <td>...</td>\n",
       "      <td>...</td>\n",
       "      <td>...</td>\n",
       "      <td>...</td>\n",
       "    </tr>\n",
       "    <tr>\n",
       "      <th>150</th>\n",
       "      <td>2634000.0</td>\n",
       "      <td>341009.722000</td>\n",
       "      <td>413489.085501</td>\n",
       "      <td>518426.278387</td>\n",
       "      <td>376071.505667</td>\n",
       "      <td>357895.794516</td>\n",
       "      <td>505318.240505</td>\n",
       "      <td>458096.520286</td>\n",
       "      <td>516279.226774</td>\n",
       "      <td>486665.455265</td>\n",
       "      <td>...</td>\n",
       "      <td>513382.351353</td>\n",
       "      <td>590733.692857</td>\n",
       "      <td>480563.392000</td>\n",
       "      <td>457005.916452</td>\n",
       "      <td>541734.577000</td>\n",
       "      <td>444286.811935</td>\n",
       "      <td>574573.538710</td>\n",
       "      <td>538086.317000</td>\n",
       "      <td>530747.271290</td>\n",
       "      <td>565599.127667</td>\n",
       "    </tr>\n",
       "    <tr>\n",
       "      <th>151</th>\n",
       "      <td>2634008.0</td>\n",
       "      <td>270923.715000</td>\n",
       "      <td>404737.144643</td>\n",
       "      <td>470433.872222</td>\n",
       "      <td>401063.781000</td>\n",
       "      <td>318507.450000</td>\n",
       "      <td>385579.165000</td>\n",
       "      <td>375166.269677</td>\n",
       "      <td>382299.377093</td>\n",
       "      <td>413219.906524</td>\n",
       "      <td>...</td>\n",
       "      <td>162847.124247</td>\n",
       "      <td>202552.822857</td>\n",
       "      <td>185037.349333</td>\n",
       "      <td>167999.870323</td>\n",
       "      <td>186120.868667</td>\n",
       "      <td>175067.582903</td>\n",
       "      <td>174118.710968</td>\n",
       "      <td>174518.631333</td>\n",
       "      <td>189597.414516</td>\n",
       "      <td>226016.234333</td>\n",
       "    </tr>\n",
       "    <tr>\n",
       "      <th>152</th>\n",
       "      <td>2634011.0</td>\n",
       "      <td>378429.753517</td>\n",
       "      <td>350607.477988</td>\n",
       "      <td>482925.193552</td>\n",
       "      <td>367225.245935</td>\n",
       "      <td>349294.028363</td>\n",
       "      <td>388179.193333</td>\n",
       "      <td>400668.150126</td>\n",
       "      <td>421847.743068</td>\n",
       "      <td>345782.485333</td>\n",
       "      <td>...</td>\n",
       "      <td>461032.727239</td>\n",
       "      <td>443111.015436</td>\n",
       "      <td>410602.549333</td>\n",
       "      <td>379963.923226</td>\n",
       "      <td>457012.976000</td>\n",
       "      <td>431740.369032</td>\n",
       "      <td>491072.692000</td>\n",
       "      <td>461658.858000</td>\n",
       "      <td>421671.512258</td>\n",
       "      <td>489829.227333</td>\n",
       "    </tr>\n",
       "    <tr>\n",
       "      <th>153</th>\n",
       "      <td>2633936.0</td>\n",
       "      <td>NaN</td>\n",
       "      <td>NaN</td>\n",
       "      <td>NaN</td>\n",
       "      <td>NaN</td>\n",
       "      <td>420226.940000</td>\n",
       "      <td>311592.339222</td>\n",
       "      <td>255945.113890</td>\n",
       "      <td>234998.024826</td>\n",
       "      <td>234465.065333</td>\n",
       "      <td>...</td>\n",
       "      <td>360466.441020</td>\n",
       "      <td>372836.555000</td>\n",
       "      <td>299080.189333</td>\n",
       "      <td>286674.025806</td>\n",
       "      <td>327415.778667</td>\n",
       "      <td>305542.250323</td>\n",
       "      <td>345389.650968</td>\n",
       "      <td>349845.855333</td>\n",
       "      <td>361092.704994</td>\n",
       "      <td>363068.734000</td>\n",
       "    </tr>\n",
       "    <tr>\n",
       "      <th>154</th>\n",
       "      <td>NaN</td>\n",
       "      <td>NaN</td>\n",
       "      <td>NaN</td>\n",
       "      <td>NaN</td>\n",
       "      <td>NaN</td>\n",
       "      <td>NaN</td>\n",
       "      <td>NaN</td>\n",
       "      <td>NaN</td>\n",
       "      <td>NaN</td>\n",
       "      <td>NaN</td>\n",
       "      <td>...</td>\n",
       "      <td>502913.053140</td>\n",
       "      <td>594450.393471</td>\n",
       "      <td>560283.324000</td>\n",
       "      <td>514546.421768</td>\n",
       "      <td>644308.088000</td>\n",
       "      <td>533981.383006</td>\n",
       "      <td>562082.839742</td>\n",
       "      <td>575194.942000</td>\n",
       "      <td>724658.394194</td>\n",
       "      <td>726229.020000</td>\n",
       "    </tr>\n",
       "  </tbody>\n",
       "</table>\n",
       "<p>155 rows × 47 columns</p>\n",
       "</div>"
      ],
      "text/plain": [
       "      id точки     2015-01-01     2015-02-01     2015-03-01     2015-04-01  \\\n",
       "0      11366.0  245709.342667  301024.685000  406199.782258  295602.853000   \n",
       "1      11810.0  270245.842066  297964.820199  406198.175918  232433.263996   \n",
       "2      15041.0  171972.976000  198141.440000  260215.741935  205316.010644   \n",
       "3      15775.0  409032.989736  468816.460949  582717.510920  442807.529886   \n",
       "4      16102.0  437693.191667  510077.198214  602107.617742  465779.798333   \n",
       "..         ...            ...            ...            ...            ...   \n",
       "150  2634000.0  341009.722000  413489.085501  518426.278387  376071.505667   \n",
       "151  2634008.0  270923.715000  404737.144643  470433.872222  401063.781000   \n",
       "152  2634011.0  378429.753517  350607.477988  482925.193552  367225.245935   \n",
       "153  2633936.0            NaN            NaN            NaN            NaN   \n",
       "154        NaN            NaN            NaN            NaN            NaN   \n",
       "\n",
       "        2015-05-01     2015-06-01     2015-07-01     2015-08-01  \\\n",
       "0    268179.172258  266579.009667  202667.039355  207347.022581   \n",
       "1    229317.708387  251403.308057  242000.555806  260407.109247   \n",
       "2    187059.870968  198590.970667  178250.637781  187094.699355   \n",
       "3    371689.316054  428430.990000  365894.971255  384266.496739   \n",
       "4    423448.914516  414476.575000  370944.770968  392089.754839   \n",
       "..             ...            ...            ...            ...   \n",
       "150  357895.794516  505318.240505  458096.520286  516279.226774   \n",
       "151  318507.450000  385579.165000  375166.269677  382299.377093   \n",
       "152  349294.028363  388179.193333  400668.150126  421847.743068   \n",
       "153  420226.940000  311592.339222  255945.113890  234998.024826   \n",
       "154            NaN            NaN            NaN            NaN   \n",
       "\n",
       "        2015-09-01  ...     2018-01-01     2018-02-01     2018-04-01  \\\n",
       "0    237393.216667  ...  271084.023513  298845.267500  277776.347333   \n",
       "1    267051.162996  ...  245402.383180  273515.012143  240088.292000   \n",
       "2    211000.005517  ...  174154.623627  173190.240000  240396.837333   \n",
       "3    385515.509997  ...  431909.251500  493571.089286  408575.490000   \n",
       "4    416797.330000  ...  378429.858867  453511.489286  388849.670000   \n",
       "..             ...  ...            ...            ...            ...   \n",
       "150  486665.455265  ...  513382.351353  590733.692857  480563.392000   \n",
       "151  413219.906524  ...  162847.124247  202552.822857  185037.349333   \n",
       "152  345782.485333  ...  461032.727239  443111.015436  410602.549333   \n",
       "153  234465.065333  ...  360466.441020  372836.555000  299080.189333   \n",
       "154            NaN  ...  502913.053140  594450.393471  560283.324000   \n",
       "\n",
       "        2018-05-01     2018-06-01     2018-07-01     2018-08-01  \\\n",
       "0    270902.919677  280106.099000  243448.836129  236709.816452   \n",
       "1    196260.466452  228920.589000  204058.825161  207104.013135   \n",
       "2    241494.616774  264873.765333  227461.233548  249503.230968   \n",
       "3    387081.406452  418398.840000  362395.248387  393423.329032   \n",
       "4    369223.219355  392389.013333  328593.246774  350885.291935   \n",
       "..             ...            ...            ...            ...   \n",
       "150  457005.916452  541734.577000  444286.811935  574573.538710   \n",
       "151  167999.870323  186120.868667  175067.582903  174118.710968   \n",
       "152  379963.923226  457012.976000  431740.369032  491072.692000   \n",
       "153  286674.025806  327415.778667  305542.250323  345389.650968   \n",
       "154  514546.421768  644308.088000  533981.383006  562082.839742   \n",
       "\n",
       "        2018-09-01     2018-10-01     2018-11-01  \n",
       "0    248268.778333  296637.103226  314456.870000  \n",
       "1    203499.409840  206013.017419  218636.436000  \n",
       "2    251805.680000  263152.960000  269913.018667  \n",
       "3    387866.910000  421387.374194  481330.143000  \n",
       "4    369367.358333  427575.006452  472508.001667  \n",
       "..             ...            ...            ...  \n",
       "150  538086.317000  530747.271290  565599.127667  \n",
       "151  174518.631333  189597.414516  226016.234333  \n",
       "152  461658.858000  421671.512258  489829.227333  \n",
       "153  349845.855333  361092.704994  363068.734000  \n",
       "154  575194.942000  724658.394194  726229.020000  \n",
       "\n",
       "[155 rows x 47 columns]"
      ]
     },
     "execution_count": 185,
     "metadata": {},
     "output_type": "execute_result"
    }
   ],
   "source": [
    "proc"
   ]
  },
  {
   "cell_type": "code",
   "execution_count": 169,
   "metadata": {},
   "outputs": [
    {
     "data": {
      "text/plain": [
       "(246, 21)"
      ]
     },
     "execution_count": 169,
     "metadata": {},
     "output_type": "execute_result"
    }
   ],
   "source": [
    "data.shape"
   ]
  },
  {
   "cell_type": "code",
   "execution_count": 170,
   "metadata": {},
   "outputs": [
    {
     "name": "stdout",
     "output_type": "stream",
     "text": [
      "<class 'pandas.core.frame.DataFrame'>\n",
      "RangeIndex: 246 entries, 0 to 245\n",
      "Data columns (total 21 columns):\n",
      " #   Column               Non-Null Count  Dtype         \n",
      "---  ------               --------------  -----         \n",
      " 0   id точки             245 non-null    float64       \n",
      " 1   Адрес                246 non-null    object        \n",
      " 2   Широта               242 non-null    float64       \n",
      " 3   Долгота              242 non-null    float64       \n",
      " 4   Дата открытия        245 non-null    object        \n",
      " 5   Дата закрытия        9 non-null      datetime64[ns]\n",
      " 6   Площадь магазина     246 non-null    int64         \n",
      " 7   Тип входа            244 non-null    object        \n",
      " 8   Площадь ТЦ           204 non-null    float64       \n",
      " 9   Формат магазина      246 non-null    object        \n",
      " 10  Парковка             226 non-null    object        \n",
      " 11  Этаж                 241 non-null    object        \n",
      " 12  Время работы         232 non-null    object        \n",
      " 13  Заполненность ТЦ     182 non-null    float64       \n",
      " 14  Рядом с эскалатором  246 non-null    int64         \n",
      " 15  Рядом со входом      246 non-null    int64         \n",
      " 16  Конкуренты в ТЦ      94 non-null     float64       \n",
      " 17  Расположение в ТЦ    224 non-null    float64       \n",
      " 18  Толока               246 non-null    float64       \n",
      " 19  Люкс                 246 non-null    float64       \n",
      " 20  Выборка              245 non-null    object        \n",
      "dtypes: datetime64[ns](1), float64(9), int64(3), object(8)\n",
      "memory usage: 40.5+ KB\n"
     ]
    }
   ],
   "source": [
    "data.info()"
   ]
  },
  {
   "cell_type": "code",
   "execution_count": 132,
   "metadata": {},
   "outputs": [
    {
     "data": {
      "text/plain": [
       "<AxesSubplot:>"
      ]
     },
     "execution_count": 132,
     "metadata": {},
     "output_type": "execute_result"
    },
    {
     "data": {
      "image/png": "[encoded data removed]",
      "text/plain": [
       "<Figure size 864x648 with 2 Axes>"
      ]
     },
     "metadata": {},
     "output_type": "display_data"
    }
   ],
   "source": [
    "sns.heatmap(data.corr())"
   ]
  },
  {
   "cell_type": "markdown",
   "metadata": {},
   "source": [
    "Признаки почти не корреллируются с другими признаками, самое большая - 0.562568, что чуть-чуть выше половины."
   ]
  },
  {
   "cell_type": "code",
   "execution_count": 133,
   "metadata": {},
   "outputs": [
    {
     "data": {
      "text/plain": [
       "array([ 1., nan,  0.,  2.,  3.])"
      ]
     },
     "execution_count": 133,
     "metadata": {},
     "output_type": "execute_result"
    }
   ],
   "source": [
    "data['Конкуренты в ТЦ'].unique()"
   ]
  },
  {
   "cell_type": "markdown",
   "metadata": {},
   "source": [
    "Сколько магазинов формата стрит в тестовой выборке?"
   ]
  },
  {
   "cell_type": "code",
   "execution_count": 134,
   "metadata": {},
   "outputs": [
    {
     "data": {
      "text/plain": [
       "array([0, 1, 2])"
      ]
     },
     "execution_count": 134,
     "metadata": {},
     "output_type": "execute_result"
    }
   ],
   "source": [
    "data['Рядом с эскалатором'].unique()"
   ]
  },
  {
   "cell_type": "code",
   "execution_count": 135,
   "metadata": {},
   "outputs": [
    {
     "data": {
      "text/plain": [
       "array([0, 1, 2, 3])"
      ]
     },
     "execution_count": 135,
     "metadata": {},
     "output_type": "execute_result"
    }
   ],
   "source": [
    "data['Рядом со входом'].unique()"
   ]
  },
  {
   "cell_type": "code",
   "execution_count": 136,
   "metadata": {},
   "outputs": [],
   "source": [
    "mark_type = data['Формат магазина']"
   ]
  },
  {
   "cell_type": "code",
   "execution_count": 137,
   "metadata": {},
   "outputs": [
    {
     "data": {
      "text/plain": [
       "{'Street', 'Strееt', 'Мини ТЦ', 'Мини-ТЦ', 'Стрит', 'Стрт', 'ТЦ'}"
      ]
     },
     "execution_count": 137,
     "metadata": {},
     "output_type": "execute_result"
    }
   ],
   "source": [
    "set(mark_type)"
   ]
  },
  {
   "cell_type": "code",
   "execution_count": 138,
   "metadata": {},
   "outputs": [
    {
     "data": {
      "text/plain": [
       "72     Стрит\n",
       "74     Стрит\n",
       "98     Стрит\n",
       "155    Стрит\n",
       "Name: Формат магазина, dtype: object"
      ]
     },
     "execution_count": 138,
     "metadata": {},
     "output_type": "execute_result"
    }
   ],
   "source": [
    "mark_type[mark_type == 'Стрит']"
   ]
  },
  {
   "cell_type": "code",
   "execution_count": 139,
   "metadata": {},
   "outputs": [
    {
     "data": {
      "text/plain": [
       "228    Стрт\n",
       "Name: Формат магазина, dtype: object"
      ]
     },
     "execution_count": 139,
     "metadata": {},
     "output_type": "execute_result"
    }
   ],
   "source": [
    "mark_type[mark_type == 'Стрт']"
   ]
  },
  {
   "cell_type": "code",
   "execution_count": 140,
   "metadata": {},
   "outputs": [
    {
     "data": {
      "text/plain": [
       "16     Street\n",
       "32     Street\n",
       "59     Street\n",
       "69     Street\n",
       "70     Street\n",
       "80     Street\n",
       "84     Street\n",
       "87     Street\n",
       "97     Street\n",
       "119    Street\n",
       "159    Street\n",
       "164    Street\n",
       "166    Street\n",
       "207    Street\n",
       "221    Street\n",
       "224    Street\n",
       "226    Street\n",
       "239    Street\n",
       "Name: Формат магазина, dtype: object"
      ]
     },
     "execution_count": 140,
     "metadata": {},
     "output_type": "execute_result"
    }
   ],
   "source": [
    "mark_type[mark_type == 'Street']"
   ]
  },
  {
   "cell_type": "code",
   "execution_count": 141,
   "metadata": {},
   "outputs": [
    {
     "data": {
      "text/plain": [
       "130    Strееt\n",
       "Name: Формат магазина, dtype: object"
      ]
     },
     "execution_count": 141,
     "metadata": {},
     "output_type": "execute_result"
    }
   ],
   "source": [
    "mark_type[mark_type == 'Strееt']"
   ]
  },
  {
   "cell_type": "markdown",
   "metadata": {},
   "source": [
    "Сколько магазинов с бесплатной парковкой?"
   ]
  },
  {
   "cell_type": "code",
   "execution_count": 142,
   "metadata": {},
   "outputs": [
    {
     "data": {
      "text/plain": [
       "True"
      ]
     },
     "execution_count": 142,
     "metadata": {},
     "output_type": "execute_result"
    }
   ],
   "source": [
    "'Strееt' == 'Strееt'"
   ]
  },
  {
   "cell_type": "code",
   "execution_count": 143,
   "metadata": {},
   "outputs": [],
   "source": [
    "parking = data['Парковка']"
   ]
  },
  {
   "cell_type": "code",
   "execution_count": 144,
   "metadata": {},
   "outputs": [
    {
     "data": {
      "text/plain": [
       "{100,\n",
       " 1000,\n",
       " 700,\n",
       " nan,\n",
       " 'бесплатная паpковка',\n",
       " 'бесплатная парковка',\n",
       " 'нет парковки',\n",
       " 'платная парковка'}"
      ]
     },
     "execution_count": 144,
     "metadata": {},
     "output_type": "execute_result"
    }
   ],
   "source": [
    "set(parking)"
   ]
  },
  {
   "cell_type": "code",
   "execution_count": 145,
   "metadata": {},
   "outputs": [
    {
     "data": {
      "text/plain": [
       "240    бесплатная паpковка\n",
       "Name: Парковка, dtype: object"
      ]
     },
     "execution_count": 145,
     "metadata": {},
     "output_type": "execute_result"
    }
   ],
   "source": [
    "parking[parking == 'бесплатная паpковка']"
   ]
  },
  {
   "cell_type": "code",
   "execution_count": 146,
   "metadata": {},
   "outputs": [
    {
     "data": {
      "text/plain": [
       "0      бесплатная парковка\n",
       "1      бесплатная парковка\n",
       "2      бесплатная парковка\n",
       "3      бесплатная парковка\n",
       "4      бесплатная парковка\n",
       "              ...         \n",
       "238    бесплатная парковка\n",
       "241    бесплатная парковка\n",
       "242    бесплатная парковка\n",
       "243    бесплатная парковка\n",
       "245    бесплатная парковка\n",
       "Name: Парковка, Length: 156, dtype: object"
      ]
     },
     "execution_count": 146,
     "metadata": {},
     "output_type": "execute_result"
    }
   ],
   "source": [
    "parking[parking == 'бесплатная парковка']"
   ]
  },
  {
   "cell_type": "code",
   "execution_count": 147,
   "metadata": {},
   "outputs": [
    {
     "data": {
      "text/plain": [
       "False"
      ]
     },
     "execution_count": 147,
     "metadata": {},
     "output_type": "execute_result"
    }
   ],
   "source": [
    "'паpковка' == 'паpкoвка' "
   ]
  },
  {
   "cell_type": "code",
   "execution_count": 148,
   "metadata": {},
   "outputs": [
    {
     "data": {
      "text/plain": [
       "{nan,\n",
       " 'без сквозного прохода',\n",
       " 'единственный вход в ТК',\n",
       " 'отдельный вход с улицы',\n",
       " 'отдельный вход с улицы + сквозной проход',\n",
       " 'сквозной проход'}"
      ]
     },
     "execution_count": 148,
     "metadata": {},
     "output_type": "execute_result"
    }
   ],
   "source": [
    "set(data['Тип входа'])"
   ]
  },
  {
   "cell_type": "markdown",
   "metadata": {},
   "source": [
    "Какова средняя выручка магазинов формата мини ТЦ за 2016 год?"
   ]
  },
  {
   "cell_type": "code",
   "execution_count": 151,
   "metadata": {},
   "outputs": [],
   "source": [
    "index_mall = np.hstack([mark_type[mark_type == 'Мини ТЦ'].index, mark_type[mark_type == 'Мини-ТЦ'].index])"
   ]
  },
  {
   "cell_type": "code",
   "execution_count": 152,
   "metadata": {},
   "outputs": [],
   "source": [
    "index_mall.sort()"
   ]
  },
  {
   "cell_type": "code",
   "execution_count": 153,
   "metadata": {},
   "outputs": [
    {
     "data": {
      "text/plain": [
       "array([ 18,  24,  30,  47,  66,  73,  82,  94,  99, 105, 112, 117, 118,\n",
       "       131, 133, 136, 145, 152, 163, 165, 174, 181, 184, 186, 195, 204,\n",
       "       211, 227, 229, 238, 242])"
      ]
     },
     "execution_count": 153,
     "metadata": {},
     "output_type": "execute_result"
    }
   ],
   "source": [
    "index_mall"
   ]
  },
  {
   "cell_type": "code",
   "execution_count": 154,
   "metadata": {},
   "outputs": [
    {
     "data": {
      "text/plain": [
       "(31,)"
      ]
     },
     "execution_count": 154,
     "metadata": {},
     "output_type": "execute_result"
    }
   ],
   "source": [
    "index_mall.shape"
   ]
  },
  {
   "cell_type": "code",
   "execution_count": 155,
   "metadata": {},
   "outputs": [],
   "source": [
    "data_mall = data.iloc[index_mall]"
   ]
  },
  {
   "cell_type": "code",
   "execution_count": 156,
   "metadata": {},
   "outputs": [
    {
     "name": "stderr",
     "output_type": "stream",
     "text": [
      "<ipython-input-156-c68f11257105>:1: SettingWithCopyWarning: \n",
      "A value is trying to be set on a copy of a slice from a DataFrame\n",
      "\n",
      "See the caveats in the documentation: https://pandas.pydata.org/pandas-docs/stable/user_guide/indexing.html#returning-a-view-versus-a-copy\n",
      "  data_mall.dropna(subset=['id точки'], inplace=True)\n"
     ]
    }
   ],
   "source": [
    "data_mall.dropna(subset=['id точки'], inplace=True)"
   ]
  },
  {
   "cell_type": "code",
   "execution_count": 157,
   "metadata": {},
   "outputs": [],
   "source": [
    "procees = proc.loc[proc['id точки'].isin(data_mall['id точки'])]"
   ]
  },
  {
   "cell_type": "code",
   "execution_count": 158,
   "metadata": {},
   "outputs": [
    {
     "data": {
      "text/plain": [
       "Index(['id точки', '2015-01-01', '2015-02-01', '2015-03-01', '2015-04-01',\n",
       "       '2015-05-01', '2015-06-01', '2015-07-01', '2015-08-01', '2015-09-01',\n",
       "       '2015-10-01', '2015-11-01', '2015-12-01', '2016-01-01', '2016-02-01',\n",
       "       '2016-03-01', '2016-04-01', '2016-05-01', '2016-06-01', '2016-07-01',\n",
       "       '2016-08-01', '2016-09-01', '2016-10-01', '2016-11-01', '2016-12-01',\n",
       "       '2017-01-01', '2017-02-01', '2017-03-01', '2017-04-01', '2017-05-01',\n",
       "       '2017-06-01', '2017-07-01', '2017-08-01', '2017-09-01', '2017-10-01',\n",
       "       '2017-11-01', '2017-12-01', '2018-01-01', '2018-02-01', '2018-04-01',\n",
       "       '2018-05-01', '2018-06-01', '2018-07-01', '2018-08-01', '2018-09-01',\n",
       "       '2018-10-01', '2018-11-01'],\n",
       "      dtype='object')"
      ]
     },
     "execution_count": 158,
     "metadata": {},
     "output_type": "execute_result"
    }
   ],
   "source": [
    "procees.columns"
   ]
  },
  {
   "cell_type": "code",
   "execution_count": 159,
   "metadata": {},
   "outputs": [],
   "source": [
    "months = np.array(['2016-01-01', '2016-02-01',\n",
    "       '2016-03-01', '2016-04-01', '2016-05-01', '2016-06-01', '2016-07-01',\n",
    "       '2016-08-01', '2016-09-01', '2016-10-01', '2016-11-01', '2016-12-01'])"
   ]
  },
  {
   "cell_type": "code",
   "execution_count": 160,
   "metadata": {},
   "outputs": [],
   "source": [
    "count_prc = procees[months]"
   ]
  },
  {
   "cell_type": "code",
   "execution_count": 161,
   "metadata": {},
   "outputs": [
    {
     "name": "stderr",
     "output_type": "stream",
     "text": [
      "<ipython-input-161-77a92da9e0fe>:1: SettingWithCopyWarning: \n",
      "A value is trying to be set on a copy of a slice from a DataFrame\n",
      "\n",
      "See the caveats in the documentation: https://pandas.pydata.org/pandas-docs/stable/user_guide/indexing.html#returning-a-view-versus-a-copy\n",
      "  count_prc.dropna(inplace=True)\n"
     ]
    }
   ],
   "source": [
    "count_prc.dropna(inplace=True)"
   ]
  },
  {
   "cell_type": "code",
   "execution_count": 162,
   "metadata": {},
   "outputs": [
    {
     "data": {
      "text/html": [
       "<div>\n",
       "<style scoped>\n",
       "    .dataframe tbody tr th:only-of-type {\n",
       "        vertical-align: middle;\n",
       "    }\n",
       "\n",
       "    .dataframe tbody tr th {\n",
       "        vertical-align: top;\n",
       "    }\n",
       "\n",
       "    .dataframe thead th {\n",
       "        text-align: right;\n",
       "    }\n",
       "</style>\n",
       "<table border=\"1\" class=\"dataframe\">\n",
       "  <thead>\n",
       "    <tr style=\"text-align: right;\">\n",
       "      <th></th>\n",
       "      <th>2016-01-01</th>\n",
       "      <th>2016-02-01</th>\n",
       "      <th>2016-03-01</th>\n",
       "      <th>2016-04-01</th>\n",
       "      <th>2016-05-01</th>\n",
       "      <th>2016-06-01</th>\n",
       "      <th>2016-07-01</th>\n",
       "      <th>2016-08-01</th>\n",
       "      <th>2016-09-01</th>\n",
       "      <th>2016-10-01</th>\n",
       "      <th>2016-11-01</th>\n",
       "      <th>2016-12-01</th>\n",
       "    </tr>\n",
       "  </thead>\n",
       "  <tbody>\n",
       "    <tr>\n",
       "      <th>11</th>\n",
       "      <td>367035</td>\n",
       "      <td>518192</td>\n",
       "      <td>612575</td>\n",
       "      <td>462815</td>\n",
       "      <td>477768</td>\n",
       "      <td>451050.096000</td>\n",
       "      <td>401384.010323</td>\n",
       "      <td>383641.476129</td>\n",
       "      <td>422102.426667</td>\n",
       "      <td>422386.720000</td>\n",
       "      <td>405809</td>\n",
       "      <td>856555</td>\n",
       "    </tr>\n",
       "    <tr>\n",
       "      <th>14</th>\n",
       "      <td>288252</td>\n",
       "      <td>380477</td>\n",
       "      <td>409750</td>\n",
       "      <td>335297</td>\n",
       "      <td>341503</td>\n",
       "      <td>310039.590000</td>\n",
       "      <td>273176.738710</td>\n",
       "      <td>293777.854839</td>\n",
       "      <td>343191.180000</td>\n",
       "      <td>338595.300000</td>\n",
       "      <td>311295</td>\n",
       "      <td>588299</td>\n",
       "    </tr>\n",
       "    <tr>\n",
       "      <th>23</th>\n",
       "      <td>96125.5</td>\n",
       "      <td>131703</td>\n",
       "      <td>166441</td>\n",
       "      <td>103034</td>\n",
       "      <td>109411</td>\n",
       "      <td>107573.640000</td>\n",
       "      <td>98078.632258</td>\n",
       "      <td>115117.374194</td>\n",
       "      <td>104382.240000</td>\n",
       "      <td>132300.493548</td>\n",
       "      <td>102603</td>\n",
       "      <td>228666</td>\n",
       "    </tr>\n",
       "    <tr>\n",
       "      <th>42</th>\n",
       "      <td>618664</td>\n",
       "      <td>778686</td>\n",
       "      <td>948357</td>\n",
       "      <td>610125</td>\n",
       "      <td>648605</td>\n",
       "      <td>628196.226000</td>\n",
       "      <td>541807.499032</td>\n",
       "      <td>548504.053548</td>\n",
       "      <td>589191.498000</td>\n",
       "      <td>637511.713548</td>\n",
       "      <td>627180</td>\n",
       "      <td>1.42202e+06</td>\n",
       "    </tr>\n",
       "    <tr>\n",
       "      <th>56</th>\n",
       "      <td>157156</td>\n",
       "      <td>219536</td>\n",
       "      <td>263464</td>\n",
       "      <td>180751</td>\n",
       "      <td>174378</td>\n",
       "      <td>200850.477333</td>\n",
       "      <td>172807.401290</td>\n",
       "      <td>181212.264516</td>\n",
       "      <td>182401.356000</td>\n",
       "      <td>210517.014194</td>\n",
       "      <td>161834</td>\n",
       "      <td>288096</td>\n",
       "    </tr>\n",
       "    <tr>\n",
       "      <th>61</th>\n",
       "      <td>165362</td>\n",
       "      <td>183197</td>\n",
       "      <td>234129</td>\n",
       "      <td>181152</td>\n",
       "      <td>166159</td>\n",
       "      <td>173533.509333</td>\n",
       "      <td>162844.341333</td>\n",
       "      <td>169838.714839</td>\n",
       "      <td>173049.632000</td>\n",
       "      <td>200700.714667</td>\n",
       "      <td>179830</td>\n",
       "      <td>296884</td>\n",
       "    </tr>\n",
       "    <tr>\n",
       "      <th>66</th>\n",
       "      <td>262235</td>\n",
       "      <td>341500</td>\n",
       "      <td>413341</td>\n",
       "      <td>278217</td>\n",
       "      <td>253407</td>\n",
       "      <td>291884.933333</td>\n",
       "      <td>245933.264516</td>\n",
       "      <td>220819.148387</td>\n",
       "      <td>268867.520000</td>\n",
       "      <td>274188.619355</td>\n",
       "      <td>257092</td>\n",
       "      <td>560731</td>\n",
       "    </tr>\n",
       "    <tr>\n",
       "      <th>79</th>\n",
       "      <td>79599.7</td>\n",
       "      <td>99675.2</td>\n",
       "      <td>129199</td>\n",
       "      <td>83833</td>\n",
       "      <td>90507.8</td>\n",
       "      <td>143539.242667</td>\n",
       "      <td>204567.081290</td>\n",
       "      <td>239827.447742</td>\n",
       "      <td>194232.533333</td>\n",
       "      <td>130127.483871</td>\n",
       "      <td>89367</td>\n",
       "      <td>179 944.79</td>\n",
       "    </tr>\n",
       "    <tr>\n",
       "      <th>80</th>\n",
       "      <td>545935</td>\n",
       "      <td>646203</td>\n",
       "      <td>769326</td>\n",
       "      <td>567838</td>\n",
       "      <td>554051</td>\n",
       "      <td>655431.680000</td>\n",
       "      <td>596274.787097</td>\n",
       "      <td>670410.405161</td>\n",
       "      <td>650349.909333</td>\n",
       "      <td>694186.157419</td>\n",
       "      <td>614323</td>\n",
       "      <td>1.15111e+06</td>\n",
       "    </tr>\n",
       "    <tr>\n",
       "      <th>83</th>\n",
       "      <td>252934</td>\n",
       "      <td>315365</td>\n",
       "      <td>396360</td>\n",
       "      <td>268141</td>\n",
       "      <td>244010</td>\n",
       "      <td>254807.249667</td>\n",
       "      <td>268337.013226</td>\n",
       "      <td>266149.490645</td>\n",
       "      <td>292829.203333</td>\n",
       "      <td>298976.948065</td>\n",
       "      <td>263109</td>\n",
       "      <td>478169</td>\n",
       "    </tr>\n",
       "    <tr>\n",
       "      <th>84</th>\n",
       "      <td>432085</td>\n",
       "      <td>561410</td>\n",
       "      <td>669310</td>\n",
       "      <td>487761</td>\n",
       "      <td>485661</td>\n",
       "      <td>456049.373670</td>\n",
       "      <td>392559.430645</td>\n",
       "      <td>430120.350000</td>\n",
       "      <td>469779.123000</td>\n",
       "      <td>492347.534516</td>\n",
       "      <td>488088</td>\n",
       "      <td>966823</td>\n",
       "    </tr>\n",
       "    <tr>\n",
       "      <th>87</th>\n",
       "      <td>221053</td>\n",
       "      <td>236999</td>\n",
       "      <td>294686</td>\n",
       "      <td>186389</td>\n",
       "      <td>188043</td>\n",
       "      <td>227255.242667</td>\n",
       "      <td>228655.803871</td>\n",
       "      <td>246902.518710</td>\n",
       "      <td>184107.914667</td>\n",
       "      <td>239920.185806</td>\n",
       "      <td>220087</td>\n",
       "      <td>433697</td>\n",
       "    </tr>\n",
       "    <tr>\n",
       "      <th>92</th>\n",
       "      <td>247509</td>\n",
       "      <td>341838</td>\n",
       "      <td>403892</td>\n",
       "      <td>268721</td>\n",
       "      <td>263977</td>\n",
       "      <td>274547.460000</td>\n",
       "      <td>272024.925806</td>\n",
       "      <td>258007.483871</td>\n",
       "      <td>274683.676667</td>\n",
       "      <td>312697.887097</td>\n",
       "      <td>289972</td>\n",
       "      <td>558148</td>\n",
       "    </tr>\n",
       "    <tr>\n",
       "      <th>97</th>\n",
       "      <td>288340</td>\n",
       "      <td>373763</td>\n",
       "      <td>424794</td>\n",
       "      <td>247102</td>\n",
       "      <td>268195</td>\n",
       "      <td>288479.900000</td>\n",
       "      <td>269497.774194</td>\n",
       "      <td>282031.645161</td>\n",
       "      <td>268095.833333</td>\n",
       "      <td>283937.000000</td>\n",
       "      <td>281229</td>\n",
       "      <td>537106</td>\n",
       "    </tr>\n",
       "    <tr>\n",
       "      <th>99</th>\n",
       "      <td>208697</td>\n",
       "      <td>268137</td>\n",
       "      <td>331250</td>\n",
       "      <td>218518</td>\n",
       "      <td>207278</td>\n",
       "      <td>222148.099667</td>\n",
       "      <td>232665.450968</td>\n",
       "      <td>236915.669677</td>\n",
       "      <td>211914.458667</td>\n",
       "      <td>254999.308667</td>\n",
       "      <td>230982</td>\n",
       "      <td>420625</td>\n",
       "    </tr>\n",
       "    <tr>\n",
       "      <th>106</th>\n",
       "      <td>256810</td>\n",
       "      <td>299841</td>\n",
       "      <td>424252</td>\n",
       "      <td>269643</td>\n",
       "      <td>262585</td>\n",
       "      <td>274678.625000</td>\n",
       "      <td>252030.887097</td>\n",
       "      <td>319404.879032</td>\n",
       "      <td>344379.250000</td>\n",
       "      <td>402658.104839</td>\n",
       "      <td>377205</td>\n",
       "      <td>776856</td>\n",
       "    </tr>\n",
       "    <tr>\n",
       "      <th>121</th>\n",
       "      <td>112846</td>\n",
       "      <td>122103</td>\n",
       "      <td>169540</td>\n",
       "      <td>94366.6</td>\n",
       "      <td>100354</td>\n",
       "      <td>106509.617333</td>\n",
       "      <td>106632.150968</td>\n",
       "      <td>108016.763226</td>\n",
       "      <td>103707.372333</td>\n",
       "      <td>121351.532581</td>\n",
       "      <td>112169</td>\n",
       "      <td>293145</td>\n",
       "    </tr>\n",
       "  </tbody>\n",
       "</table>\n",
       "</div>"
      ],
      "text/plain": [
       "    2016-01-01 2016-02-01 2016-03-01 2016-04-01 2016-05-01     2016-06-01  \\\n",
       "11      367035     518192     612575     462815     477768  451050.096000   \n",
       "14      288252     380477     409750     335297     341503  310039.590000   \n",
       "23     96125.5     131703     166441     103034     109411  107573.640000   \n",
       "42      618664     778686     948357     610125     648605  628196.226000   \n",
       "56      157156     219536     263464     180751     174378  200850.477333   \n",
       "61      165362     183197     234129     181152     166159  173533.509333   \n",
       "66      262235     341500     413341     278217     253407  291884.933333   \n",
       "79     79599.7    99675.2     129199      83833    90507.8  143539.242667   \n",
       "80      545935     646203     769326     567838     554051  655431.680000   \n",
       "83      252934     315365     396360     268141     244010  254807.249667   \n",
       "84      432085     561410     669310     487761     485661  456049.373670   \n",
       "87      221053     236999     294686     186389     188043  227255.242667   \n",
       "92      247509     341838     403892     268721     263977  274547.460000   \n",
       "97      288340     373763     424794     247102     268195  288479.900000   \n",
       "99      208697     268137     331250     218518     207278  222148.099667   \n",
       "106     256810     299841     424252     269643     262585  274678.625000   \n",
       "121     112846     122103     169540    94366.6     100354  106509.617333   \n",
       "\n",
       "        2016-07-01     2016-08-01     2016-09-01     2016-10-01 2016-11-01  \\\n",
       "11   401384.010323  383641.476129  422102.426667  422386.720000     405809   \n",
       "14   273176.738710  293777.854839  343191.180000  338595.300000     311295   \n",
       "23    98078.632258  115117.374194  104382.240000  132300.493548     102603   \n",
       "42   541807.499032  548504.053548  589191.498000  637511.713548     627180   \n",
       "56   172807.401290  181212.264516  182401.356000  210517.014194     161834   \n",
       "61   162844.341333  169838.714839  173049.632000  200700.714667     179830   \n",
       "66   245933.264516  220819.148387  268867.520000  274188.619355     257092   \n",
       "79   204567.081290  239827.447742  194232.533333  130127.483871      89367   \n",
       "80   596274.787097  670410.405161  650349.909333  694186.157419     614323   \n",
       "83   268337.013226  266149.490645  292829.203333  298976.948065     263109   \n",
       "84   392559.430645  430120.350000  469779.123000  492347.534516     488088   \n",
       "87   228655.803871  246902.518710  184107.914667  239920.185806     220087   \n",
       "92   272024.925806  258007.483871  274683.676667  312697.887097     289972   \n",
       "97   269497.774194  282031.645161  268095.833333  283937.000000     281229   \n",
       "99   232665.450968  236915.669677  211914.458667  254999.308667     230982   \n",
       "106  252030.887097  319404.879032  344379.250000  402658.104839     377205   \n",
       "121  106632.150968  108016.763226  103707.372333  121351.532581     112169   \n",
       "\n",
       "      2016-12-01  \n",
       "11        856555  \n",
       "14        588299  \n",
       "23        228666  \n",
       "42   1.42202e+06  \n",
       "56        288096  \n",
       "61        296884  \n",
       "66        560731  \n",
       "79    179 944.79  \n",
       "80   1.15111e+06  \n",
       "83        478169  \n",
       "84        966823  \n",
       "87        433697  \n",
       "92        558148  \n",
       "97        537106  \n",
       "99        420625  \n",
       "106       776856  \n",
       "121       293145  "
      ]
     },
     "execution_count": 162,
     "metadata": {},
     "output_type": "execute_result"
    }
   ],
   "source": [
    "count_prc"
   ]
  },
  {
   "cell_type": "code",
   "execution_count": 163,
   "metadata": {},
   "outputs": [
    {
     "data": {
      "text/plain": [
       "(2016-01-01    270625.846326\n",
       " 2016-02-01    342272.048071\n",
       " 2016-03-01    415333.236366\n",
       " 2016-04-01    284923.785894\n",
       " 2016-05-01    284464.196869\n",
       " 2016-06-01    298033.821334\n",
       " 2016-07-01    277604.540743\n",
       " 2016-08-01    292393.972922\n",
       " 2016-09-01    298662.654549\n",
       " 2016-10-01    320435.454010\n",
       " 2016-11-01    294833.768770\n",
       " dtype: float64,\n",
       " 307234.8478048167)"
      ]
     },
     "execution_count": 163,
     "metadata": {},
     "output_type": "execute_result"
    }
   ],
   "source": [
    "count_prc.mean(), np.mean(count_prc.mean())"
   ]
  },
  {
   "cell_type": "code",
   "execution_count": 164,
   "metadata": {},
   "outputs": [
    {
     "data": {
      "text/plain": [
       "{nan,\n",
       " 'без сквозного прохода',\n",
       " 'единственный вход в ТК',\n",
       " 'отдельный вход с улицы',\n",
       " 'отдельный вход с улицы + сквозной проход',\n",
       " 'сквозной проход'}"
      ]
     },
     "execution_count": 164,
     "metadata": {},
     "output_type": "execute_result"
    }
   ],
   "source": [
    "set(data['Тип входа'])"
   ]
  },
  {
   "cell_type": "code",
   "execution_count": 165,
   "metadata": {},
   "outputs": [
    {
     "data": {
      "text/plain": [
       "{'-', nan, 'Обyчающая', 'Обучающая', 'Тест', 'Тестовая'}"
      ]
     },
     "execution_count": 165,
     "metadata": {},
     "output_type": "execute_result"
    }
   ],
   "source": [
    "set(data['Выборка'])"
   ]
  },
  {
   "cell_type": "code",
   "execution_count": 166,
   "metadata": {},
   "outputs": [
    {
     "data": {
      "text/plain": [
       "{1, 2, 20, datetime.datetime(2019, 5, 2, 0, 0), 3, 4.5, nan, 'цоколь'}"
      ]
     },
     "execution_count": 166,
     "metadata": {},
     "output_type": "execute_result"
    }
   ],
   "source": [
    "set(data['Этаж'])"
   ]
  },
  {
   "cell_type": "code",
   "execution_count": 167,
   "metadata": {},
   "outputs": [
    {
     "data": {
      "text/plain": [
       "{'c 10-00 до 21-00',\n",
       " 'c 10:00 до 24:00',\n",
       " 'c 9:00 до 21:00',\n",
       " nan,\n",
       " 'Вс-Чт c 10:00 до 21:00           Пт-Сб с 10:00 до 22:00',\n",
       " 'Вс-Чт c 10:00 до 21:00    Пт-Сб с 10:00 до 22:00',\n",
       " 'Вс-Чт c 10:00 до 22:00           Пт-Сб с 10:00 до 23:00',\n",
       " 'Вс-Чт c 10:00 до 23:00           Пт-Сб с 10:00 до 24:00',\n",
       " 'Вс-Чт с 10:00 до 21:00     Пт-Сб с  10:00 до 22:00',\n",
       " 'Вс-Чт с 10:00 до 22:00    Пт-Сб с 10:00 до 23:00',\n",
       " 'Вс-Чт с 10:00 до 22:00 Пт-Сб с 10:00 до 23:00',\n",
       " 'Вс-Чт с 10:00 до 23:00 Пт-Сб с 10:00 до 24:00',\n",
       " 'Пн-Пт с 9:00 до 20:00    Сб с 10:00 до 19:00         Вс с 10:00 до 18:00',\n",
       " 'Пн-Сб c 10:00 до 20:00 Вс с 10:00 до 19:00 ',\n",
       " 'Пн-Сб с 10:00 до 20:00 Вс с 10:00 до 19:00',\n",
       " 'Пн-Сб с 10:00 до 21:00  Вс с 11:00 до 21:00',\n",
       " 'Пн-Сб с 10:00 до 21:00 Вс с 10:00 до 20:00',\n",
       " 'с 10-00 до 22:00',\n",
       " 'с 10:00 до 20:00',\n",
       " 'с 10:00 до 21:00',\n",
       " 'с 10:00 до 22:00',\n",
       " 'с 10:00 до 22:00 ',\n",
       " 'с 10:00 до 23:00',\n",
       " 'с 11:00 до 21:00',\n",
       " 'с 9:00 до 21:00',\n",
       " 'с 9:00 до 23:00'}"
      ]
     },
     "execution_count": 167,
     "metadata": {},
     "output_type": "execute_result"
    }
   ],
   "source": [
    "set(data['Время работы'])"
   ]
  },
  {
   "cell_type": "markdown",
   "metadata": {},
   "source": [
    "Замечания: Много категориальных признаков, которые требуют предобработку перед залитием в систему.\n",
    "Есть признаки, интерпритация которых не понятна, например признаки 'Расположение в ТЦ', 'Конкуренты в ТЦ', 'Рядом с эскалатором' и 'Рядом со входом'. Для 'Рядом с эскалатором' и 'Рядом со входом' лучше подойдут не дискретные значения, а лучше вещественные и иметь представление что они значат. Так как эти дискретные значения могут означать номер этажа от входа или по какой-то шкале как далеко находиться магазин.\n",
    "Так же можно проверить какой импакт вносят эти признаки в обученной модели."
   ]
  },
  {
   "cell_type": "markdown",
   "metadata": {},
   "source": [
    "Признаки 'Формат магазина' и 'Парковка' в значениях имеют опечатки в значениях:\n",
    "{'Street', 'Strееt', 'Мини ТЦ', 'Мини-ТЦ', 'Стрит', 'Стрт', 'ТЦ'}\n",
    "{100,\n",
    " 1000,\n",
    " 700,\n",
    " nan,\n",
    " 'бесплатная паpковка',\n",
    " 'бесплатная парковка',\n",
    " 'нет парковки',\n",
    " 'платная парковка'}\n",
    "При этом визуально они написаны одинаково, хотя во втором Street обе ee являются русскими, похожая ситуация с бесплатная парковка в признаке 'Парковка'\n",
    "А так же не самые понятные значения 100, 1000, 700. Возможно это стоимость парковки, но не ясно за какое время и какая парковка."
   ]
  },
  {
   "cell_type": "markdown",
   "metadata": {},
   "source": [
    "Признак 'Время работы' в своих значениях имеет одинаковые промежутки работы магазина, но в них допущены опечатки и из-за этого появляются копии значений в которых нет необходимости"
   ]
  },
  {
   "cell_type": "code",
   "execution_count": 171,
   "metadata": {},
   "outputs": [],
   "source": [
    "sns.lineplot?"
   ]
  },
  {
   "cell_type": "code",
   "execution_count": 172,
   "metadata": {},
   "outputs": [
    {
     "data": {
      "text/plain": [
       "<AxesSubplot:xlabel='Широта', ylabel='Долгота'>"
      ]
     },
     "execution_count": 172,
     "metadata": {},
     "output_type": "execute_result"
    },
    {
     "data": {
      "image/png": "[encoded data removed]",
      "text/plain": [
       "<Figure size 864x648 with 1 Axes>"
      ]
     },
     "metadata": {},
     "output_type": "display_data"
    }
   ],
   "source": [
    "sns.lineplot(x=data['Широта'], y=data['Долгота'], marker=\"o\")"
   ]
  },
  {
   "cell_type": "markdown",
   "metadata": {},
   "source": [
    "Северная точка — 81°50′35″ с. ш. 59°14′22″ в. д.\n",
    "\n",
    "Южная точка — 41°11′07″ с. ш. 47°46′55″ в. д.\n",
    "\n",
    "Западная точка — 54°27′45″ с. ш. 19°38′19″ в. д.\n",
    "\n",
    "Восточная точка — 65°47′ с. ш. 169°01′ з. д.HG"
   ]
  },
  {
   "cell_type": "markdown",
   "metadata": {},
   "source": [
    "Широта и долгота расположенна почти в пределах России, но широта и долгота перепутаны места если сравнить данные из википедии о крайних точках России."
   ]
  },
  {
   "cell_type": "code",
   "execution_count": 173,
   "metadata": {},
   "outputs": [
    {
     "data": {
      "text/plain": [
       "91.75824899999999"
      ]
     },
     "execution_count": 173,
     "metadata": {},
     "output_type": "execute_result"
    }
   ],
   "source": [
    "max(data['Долгота'])"
   ]
  },
  {
   "cell_type": "markdown",
   "metadata": {},
   "source": [
    "Долгота == широте, соответственно, самый крайний по долготе магазин находиться за пределами полярного круга. Значение от экватора может равняться только от 0 до 90 градусов."
   ]
  },
  {
   "cell_type": "markdown",
   "metadata": {},
   "source": [
    "Из вышеизложенного предложения следует, что необходимо проверить адреса магазинов, возможно некоторых из них просто не существует, но для этого нужно написать скрип и не проверять руками."
   ]
  },
  {
   "cell_type": "code",
   "execution_count": 174,
   "metadata": {},
   "outputs": [
    {
     "data": {
      "text/plain": [
       "({NaT,\n",
       "  Timestamp('2017-04-10 00:00:00'),\n",
       "  Timestamp('2017-07-22 00:00:00'),\n",
       "  Timestamp('2017-08-01 00:00:00'),\n",
       "  Timestamp('2017-10-23 00:00:00'),\n",
       "  Timestamp('2017-12-31 00:00:00'),\n",
       "  Timestamp('2018-01-11 00:00:00'),\n",
       "  Timestamp('2018-03-09 00:00:00'),\n",
       "  Timestamp('2018-03-18 00:00:00'),\n",
       "  Timestamp('2018-04-07 00:00:00')},\n",
       " {'13.06.1899',\n",
       "  datetime.datetime(2001, 5, 7, 0, 0),\n",
       "  datetime.datetime(2001, 12, 2, 0, 0),\n",
       "  datetime.datetime(2002, 2, 9, 0, 0),\n",
       "  datetime.datetime(2002, 4, 6, 0, 0),\n",
       "  datetime.datetime(2002, 5, 21, 0, 0),\n",
       "  datetime.datetime(2003, 9, 16, 0, 0),\n",
       "  datetime.datetime(2003, 11, 9, 0, 0),\n",
       "  datetime.datetime(2004, 4, 26, 0, 0),\n",
       "  datetime.datetime(2004, 5, 18, 0, 0),\n",
       "  datetime.datetime(2004, 7, 2, 0, 0),\n",
       "  datetime.datetime(2004, 10, 7, 0, 0),\n",
       "  datetime.datetime(2004, 10, 27, 0, 0),\n",
       "  datetime.datetime(2004, 11, 24, 0, 0),\n",
       "  datetime.datetime(2005, 2, 26, 0, 0),\n",
       "  datetime.datetime(2005, 3, 3, 0, 0),\n",
       "  datetime.datetime(2005, 4, 24, 0, 0),\n",
       "  datetime.datetime(2005, 10, 5, 0, 0),\n",
       "  datetime.datetime(2005, 11, 5, 0, 0),\n",
       "  datetime.datetime(2005, 11, 15, 0, 0),\n",
       "  datetime.datetime(2005, 11, 29, 0, 0),\n",
       "  datetime.datetime(2005, 12, 5, 0, 0),\n",
       "  datetime.datetime(2006, 1, 12, 0, 0),\n",
       "  datetime.datetime(2006, 3, 30, 0, 0),\n",
       "  datetime.datetime(2006, 4, 16, 0, 0),\n",
       "  datetime.datetime(2006, 6, 1, 0, 0),\n",
       "  datetime.datetime(2006, 6, 18, 0, 0),\n",
       "  datetime.datetime(2006, 6, 19, 0, 0),\n",
       "  datetime.datetime(2006, 7, 26, 0, 0),\n",
       "  datetime.datetime(2006, 8, 1, 0, 0),\n",
       "  datetime.datetime(2006, 9, 24, 0, 0),\n",
       "  datetime.datetime(2006, 9, 25, 0, 0),\n",
       "  datetime.datetime(2006, 10, 30, 0, 0),\n",
       "  datetime.datetime(2006, 11, 21, 0, 0),\n",
       "  datetime.datetime(2006, 12, 9, 0, 0),\n",
       "  datetime.datetime(2006, 12, 12, 0, 0),\n",
       "  datetime.datetime(2006, 12, 17, 0, 0),\n",
       "  datetime.datetime(2007, 2, 11, 0, 0),\n",
       "  datetime.datetime(2007, 2, 21, 0, 0),\n",
       "  datetime.datetime(2007, 3, 9, 0, 0),\n",
       "  datetime.datetime(2007, 3, 28, 0, 0),\n",
       "  datetime.datetime(2007, 4, 3, 0, 0),\n",
       "  datetime.datetime(2007, 6, 20, 0, 0),\n",
       "  datetime.datetime(2007, 9, 27, 0, 0),\n",
       "  datetime.datetime(2007, 10, 19, 0, 0),\n",
       "  datetime.datetime(2008, 2, 11, 0, 0),\n",
       "  datetime.datetime(2008, 3, 3, 0, 0),\n",
       "  datetime.datetime(2008, 3, 5, 0, 0),\n",
       "  datetime.datetime(2008, 3, 14, 0, 0),\n",
       "  datetime.datetime(2008, 3, 17, 0, 0),\n",
       "  datetime.datetime(2008, 4, 4, 0, 0),\n",
       "  datetime.datetime(2008, 4, 12, 0, 0),\n",
       "  datetime.datetime(2008, 5, 7, 0, 0),\n",
       "  datetime.datetime(2008, 5, 9, 0, 0),\n",
       "  datetime.datetime(2008, 6, 27, 0, 0),\n",
       "  datetime.datetime(2008, 7, 28, 0, 0),\n",
       "  datetime.datetime(2008, 8, 2, 0, 0),\n",
       "  datetime.datetime(2008, 8, 18, 0, 0),\n",
       "  datetime.datetime(2008, 8, 28, 0, 0),\n",
       "  datetime.datetime(2008, 9, 10, 0, 0),\n",
       "  datetime.datetime(2008, 10, 30, 0, 0),\n",
       "  datetime.datetime(2008, 11, 8, 0, 0),\n",
       "  datetime.datetime(2008, 12, 8, 0, 0),\n",
       "  datetime.datetime(2009, 1, 27, 0, 0),\n",
       "  datetime.datetime(2009, 2, 20, 0, 0),\n",
       "  datetime.datetime(2009, 3, 5, 0, 0),\n",
       "  datetime.datetime(2009, 3, 8, 0, 0),\n",
       "  datetime.datetime(2009, 3, 17, 0, 0),\n",
       "  datetime.datetime(2009, 4, 1, 0, 0),\n",
       "  datetime.datetime(2009, 4, 6, 0, 0),\n",
       "  datetime.datetime(2009, 4, 15, 0, 0),\n",
       "  datetime.datetime(2009, 4, 25, 0, 0),\n",
       "  datetime.datetime(2009, 5, 13, 0, 0),\n",
       "  datetime.datetime(2009, 5, 15, 0, 0),\n",
       "  datetime.datetime(2009, 5, 30, 0, 0),\n",
       "  datetime.datetime(2009, 6, 14, 0, 0),\n",
       "  datetime.datetime(2009, 9, 10, 0, 0),\n",
       "  datetime.datetime(2009, 10, 9, 0, 0),\n",
       "  datetime.datetime(2009, 12, 4, 0, 0),\n",
       "  datetime.datetime(2009, 12, 10, 0, 0),\n",
       "  datetime.datetime(2010, 1, 17, 0, 0),\n",
       "  datetime.datetime(2010, 1, 18, 0, 0),\n",
       "  datetime.datetime(2010, 2, 14, 0, 0),\n",
       "  datetime.datetime(2010, 2, 25, 0, 0),\n",
       "  datetime.datetime(2010, 2, 26, 0, 0),\n",
       "  datetime.datetime(2010, 3, 14, 0, 0),\n",
       "  datetime.datetime(2010, 3, 16, 0, 0),\n",
       "  datetime.datetime(2010, 3, 23, 0, 0),\n",
       "  datetime.datetime(2010, 4, 26, 0, 0),\n",
       "  datetime.datetime(2010, 5, 10, 0, 0),\n",
       "  datetime.datetime(2010, 7, 4, 0, 0),\n",
       "  datetime.datetime(2010, 7, 5, 0, 0),\n",
       "  datetime.datetime(2010, 7, 7, 0, 0),\n",
       "  datetime.datetime(2010, 7, 12, 0, 0),\n",
       "  datetime.datetime(2010, 7, 13, 0, 0),\n",
       "  datetime.datetime(2010, 8, 19, 0, 0),\n",
       "  datetime.datetime(2010, 9, 25, 0, 0),\n",
       "  datetime.datetime(2010, 10, 29, 0, 0),\n",
       "  datetime.datetime(2010, 11, 4, 0, 0),\n",
       "  datetime.datetime(2010, 11, 25, 0, 0),\n",
       "  datetime.datetime(2011, 1, 2, 0, 0),\n",
       "  datetime.datetime(2011, 1, 31, 0, 0),\n",
       "  datetime.datetime(2011, 2, 14, 0, 0),\n",
       "  datetime.datetime(2011, 4, 11, 0, 0),\n",
       "  datetime.datetime(2011, 4, 14, 0, 0),\n",
       "  datetime.datetime(2011, 4, 18, 0, 0),\n",
       "  datetime.datetime(2011, 4, 29, 0, 0),\n",
       "  datetime.datetime(2011, 5, 7, 0, 0),\n",
       "  datetime.datetime(2011, 7, 15, 0, 0),\n",
       "  datetime.datetime(2011, 9, 12, 0, 0),\n",
       "  datetime.datetime(2011, 9, 24, 0, 0),\n",
       "  datetime.datetime(2011, 10, 5, 0, 0),\n",
       "  datetime.datetime(2011, 10, 13, 0, 0),\n",
       "  datetime.datetime(2011, 11, 2, 0, 0),\n",
       "  datetime.datetime(2011, 11, 4, 0, 0),\n",
       "  datetime.datetime(2011, 11, 23, 0, 0),\n",
       "  datetime.datetime(2011, 12, 16, 0, 0),\n",
       "  datetime.datetime(2011, 12, 30, 0, 0),\n",
       "  datetime.datetime(2012, 1, 23, 0, 0),\n",
       "  datetime.datetime(2012, 3, 15, 0, 0),\n",
       "  datetime.datetime(2012, 4, 4, 0, 0),\n",
       "  datetime.datetime(2012, 4, 27, 0, 0),\n",
       "  datetime.datetime(2012, 5, 12, 0, 0),\n",
       "  datetime.datetime(2012, 6, 5, 0, 0),\n",
       "  datetime.datetime(2012, 6, 16, 0, 0),\n",
       "  datetime.datetime(2012, 7, 3, 0, 0),\n",
       "  datetime.datetime(2012, 7, 15, 0, 0),\n",
       "  datetime.datetime(2012, 7, 16, 0, 0),\n",
       "  datetime.datetime(2012, 8, 11, 0, 0),\n",
       "  datetime.datetime(2012, 9, 19, 0, 0),\n",
       "  datetime.datetime(2012, 10, 19, 0, 0),\n",
       "  datetime.datetime(2012, 11, 3, 0, 0),\n",
       "  datetime.datetime(2012, 11, 9, 0, 0),\n",
       "  datetime.datetime(2012, 11, 23, 0, 0),\n",
       "  datetime.datetime(2012, 11, 25, 0, 0),\n",
       "  datetime.datetime(2012, 12, 23, 0, 0),\n",
       "  datetime.datetime(2013, 3, 6, 0, 0),\n",
       "  datetime.datetime(2013, 4, 29, 0, 0),\n",
       "  datetime.datetime(2013, 5, 8, 0, 0),\n",
       "  datetime.datetime(2013, 6, 15, 0, 0),\n",
       "  datetime.datetime(2013, 6, 18, 0, 0),\n",
       "  datetime.datetime(2013, 6, 25, 0, 0),\n",
       "  datetime.datetime(2013, 7, 9, 0, 0),\n",
       "  datetime.datetime(2013, 7, 15, 0, 0),\n",
       "  datetime.datetime(2013, 7, 27, 0, 0),\n",
       "  datetime.datetime(2013, 8, 2, 0, 0),\n",
       "  datetime.datetime(2013, 8, 12, 0, 0),\n",
       "  datetime.datetime(2013, 9, 3, 0, 0),\n",
       "  datetime.datetime(2013, 9, 14, 0, 0),\n",
       "  datetime.datetime(2013, 10, 4, 0, 0),\n",
       "  datetime.datetime(2013, 10, 27, 0, 0),\n",
       "  datetime.datetime(2013, 11, 11, 0, 0),\n",
       "  datetime.datetime(2013, 11, 14, 0, 0),\n",
       "  datetime.datetime(2013, 12, 1, 0, 0),\n",
       "  datetime.datetime(2013, 12, 15, 0, 0),\n",
       "  datetime.datetime(2013, 12, 22, 0, 0),\n",
       "  datetime.datetime(2013, 12, 24, 0, 0),\n",
       "  datetime.datetime(2013, 12, 26, 0, 0),\n",
       "  datetime.datetime(2013, 12, 27, 0, 0),\n",
       "  datetime.datetime(2014, 1, 3, 0, 0),\n",
       "  datetime.datetime(2014, 1, 4, 0, 0),\n",
       "  datetime.datetime(2014, 1, 13, 0, 0),\n",
       "  datetime.datetime(2014, 1, 28, 0, 0),\n",
       "  datetime.datetime(2014, 2, 4, 0, 0),\n",
       "  datetime.datetime(2014, 2, 5, 0, 0),\n",
       "  datetime.datetime(2014, 2, 18, 0, 0),\n",
       "  datetime.datetime(2014, 3, 6, 0, 0),\n",
       "  datetime.datetime(2014, 4, 11, 0, 0),\n",
       "  datetime.datetime(2014, 4, 16, 0, 0),\n",
       "  datetime.datetime(2014, 4, 23, 0, 0),\n",
       "  datetime.datetime(2014, 5, 22, 0, 0),\n",
       "  datetime.datetime(2014, 5, 30, 0, 0),\n",
       "  datetime.datetime(2014, 6, 9, 0, 0),\n",
       "  datetime.datetime(2014, 6, 12, 0, 0),\n",
       "  datetime.datetime(2014, 7, 29, 0, 0),\n",
       "  datetime.datetime(2014, 7, 31, 0, 0),\n",
       "  datetime.datetime(2014, 8, 1, 0, 0),\n",
       "  datetime.datetime(2014, 9, 9, 0, 0),\n",
       "  datetime.datetime(2014, 11, 8, 0, 0),\n",
       "  datetime.datetime(2014, 11, 20, 0, 0),\n",
       "  datetime.datetime(2014, 12, 12, 0, 0),\n",
       "  datetime.datetime(2014, 12, 23, 0, 0),\n",
       "  datetime.datetime(2015, 2, 17, 0, 0),\n",
       "  datetime.datetime(2015, 3, 26, 0, 0),\n",
       "  datetime.datetime(2015, 4, 1, 0, 0),\n",
       "  datetime.datetime(2015, 5, 9, 0, 0),\n",
       "  datetime.datetime(2015, 7, 15, 0, 0),\n",
       "  datetime.datetime(2015, 10, 22, 0, 0),\n",
       "  datetime.datetime(2015, 11, 11, 0, 0),\n",
       "  datetime.datetime(2015, 12, 3, 0, 0),\n",
       "  datetime.datetime(2015, 12, 6, 0, 0),\n",
       "  datetime.datetime(2015, 12, 15, 0, 0),\n",
       "  datetime.datetime(2015, 12, 18, 0, 0),\n",
       "  datetime.datetime(2015, 12, 21, 0, 0),\n",
       "  datetime.datetime(2016, 2, 8, 0, 0),\n",
       "  datetime.datetime(2016, 2, 22, 0, 0),\n",
       "  datetime.datetime(2016, 3, 16, 0, 0),\n",
       "  datetime.datetime(2016, 3, 23, 0, 0),\n",
       "  datetime.datetime(2016, 4, 2, 0, 0),\n",
       "  datetime.datetime(2016, 4, 3, 0, 0),\n",
       "  datetime.datetime(2016, 4, 13, 0, 0),\n",
       "  datetime.datetime(2016, 4, 16, 0, 0),\n",
       "  datetime.datetime(2016, 7, 7, 0, 0),\n",
       "  datetime.datetime(2016, 8, 11, 0, 0),\n",
       "  datetime.datetime(2016, 9, 5, 0, 0),\n",
       "  datetime.datetime(2016, 10, 3, 0, 0),\n",
       "  datetime.datetime(2016, 10, 31, 0, 0),\n",
       "  datetime.datetime(2016, 11, 9, 0, 0),\n",
       "  datetime.datetime(2016, 11, 16, 0, 0),\n",
       "  datetime.datetime(2016, 12, 6, 0, 0),\n",
       "  datetime.datetime(2016, 12, 23, 0, 0),\n",
       "  datetime.datetime(2017, 1, 4, 0, 0),\n",
       "  datetime.datetime(2017, 1, 6, 0, 0),\n",
       "  datetime.datetime(2017, 1, 28, 0, 0),\n",
       "  datetime.datetime(2017, 2, 27, 0, 0),\n",
       "  datetime.datetime(2017, 3, 25, 0, 0),\n",
       "  datetime.datetime(2017, 4, 21, 0, 0),\n",
       "  datetime.datetime(2017, 4, 22, 0, 0),\n",
       "  datetime.datetime(2017, 5, 2, 0, 0),\n",
       "  datetime.datetime(2017, 5, 23, 0, 0),\n",
       "  datetime.datetime(2017, 6, 7, 0, 0),\n",
       "  datetime.datetime(2017, 6, 13, 0, 0),\n",
       "  datetime.datetime(2017, 7, 26, 0, 0),\n",
       "  datetime.datetime(2017, 8, 18, 0, 0),\n",
       "  datetime.datetime(2017, 8, 25, 0, 0),\n",
       "  datetime.datetime(2017, 12, 7, 0, 0),\n",
       "  datetime.datetime(2018, 1, 29, 0, 0),\n",
       "  datetime.datetime(2018, 4, 10, 0, 0),\n",
       "  datetime.datetime(2018, 4, 18, 0, 0),\n",
       "  datetime.datetime(2018, 5, 23, 0, 0),\n",
       "  datetime.datetime(2018, 6, 16, 0, 0),\n",
       "  datetime.datetime(2018, 7, 7, 0, 0),\n",
       "  datetime.datetime(2018, 8, 18, 0, 0),\n",
       "  datetime.datetime(2018, 10, 27, 0, 0),\n",
       "  datetime.datetime(2018, 12, 23, 0, 0),\n",
       "  datetime.datetime(2019, 1, 23, 0, 0),\n",
       "  datetime.datetime(2019, 1, 26, 0, 0),\n",
       "  datetime.datetime(2019, 4, 2, 0, 0),\n",
       "  datetime.datetime(2019, 7, 19, 0, 0),\n",
       "  datetime.datetime(2019, 8, 20, 0, 0),\n",
       "  datetime.datetime(2098, 12, 21, 0, 0),\n",
       "  nan})"
      ]
     },
     "execution_count": 174,
     "metadata": {},
     "output_type": "execute_result"
    }
   ],
   "source": [
    "set(data['Дата закрытия']), set(data['Дата открытия'])"
   ]
  },
  {
   "cell_type": "markdown",
   "metadata": {},
   "source": [
    "Дата закрытия магазинов вполне валидная, но не понятно зачем для них нужно делать анализ о програзировании выручки."
   ]
  },
  {
   "cell_type": "markdown",
   "metadata": {},
   "source": [
    "Но дата открытия не удовлетворяет условию в письме, где было сказано, что данные о выручке с 2015 года. Потому что есть выбросы с датой открытия 2098 года, но скорее всего это опечатка.  "
   ]
  },
  {
   "cell_type": "code",
   "execution_count": 175,
   "metadata": {},
   "outputs": [
    {
     "data": {
      "text/plain": [
       "{91,\n",
       " 108,\n",
       " 110,\n",
       " 112,\n",
       " 121,\n",
       " 136,\n",
       " 138,\n",
       " 144,\n",
       " 148,\n",
       " 150,\n",
       " 155,\n",
       " 162,\n",
       " 172,\n",
       " 173,\n",
       " 176,\n",
       " 178,\n",
       " 179,\n",
       " 180,\n",
       " 186,\n",
       " 189,\n",
       " 190,\n",
       " 192,\n",
       " 193,\n",
       " 195,\n",
       " 196,\n",
       " 199,\n",
       " 204,\n",
       " 213,\n",
       " 215,\n",
       " 216,\n",
       " 218,\n",
       " 223,\n",
       " 227,\n",
       " 234,\n",
       " 236,\n",
       " 237,\n",
       " 239,\n",
       " 240,\n",
       " 241,\n",
       " 242,\n",
       " 243,\n",
       " 247,\n",
       " 248,\n",
       " 249,\n",
       " 250,\n",
       " 254,\n",
       " 255,\n",
       " 258,\n",
       " 259,\n",
       " 261,\n",
       " 263,\n",
       " 264,\n",
       " 265,\n",
       " 267,\n",
       " 270,\n",
       " 272,\n",
       " 276,\n",
       " 277,\n",
       " 283,\n",
       " 286,\n",
       " 287,\n",
       " 288,\n",
       " 290,\n",
       " 292,\n",
       " 293,\n",
       " 295,\n",
       " 297,\n",
       " 298,\n",
       " 300,\n",
       " 302,\n",
       " 304,\n",
       " 305,\n",
       " 307,\n",
       " 311,\n",
       " 313,\n",
       " 314,\n",
       " 315,\n",
       " 316,\n",
       " 317,\n",
       " 319,\n",
       " 320,\n",
       " 321,\n",
       " 323,\n",
       " 325,\n",
       " 326,\n",
       " 329,\n",
       " 331,\n",
       " 332,\n",
       " 337,\n",
       " 338,\n",
       " 339,\n",
       " 340,\n",
       " 341,\n",
       " 342,\n",
       " 346,\n",
       " 349,\n",
       " 351,\n",
       " 355,\n",
       " 356,\n",
       " 358,\n",
       " 360,\n",
       " 361,\n",
       " 363,\n",
       " 365,\n",
       " 369,\n",
       " 370,\n",
       " 374,\n",
       " 375,\n",
       " 377,\n",
       " 378,\n",
       " 379,\n",
       " 384,\n",
       " 386,\n",
       " 387,\n",
       " 388,\n",
       " 391,\n",
       " 397,\n",
       " 398,\n",
       " 400,\n",
       " 401,\n",
       " 404,\n",
       " 406,\n",
       " 413,\n",
       " 414,\n",
       " 416,\n",
       " 420,\n",
       " 422,\n",
       " 423,\n",
       " 424,\n",
       " 425,\n",
       " 429,\n",
       " 430,\n",
       " 437,\n",
       " 440,\n",
       " 443,\n",
       " 444,\n",
       " 446,\n",
       " 447,\n",
       " 449,\n",
       " 455,\n",
       " 456,\n",
       " 462,\n",
       " 464,\n",
       " 465,\n",
       " 478,\n",
       " 482,\n",
       " 489,\n",
       " 490,\n",
       " 492,\n",
       " 497,\n",
       " 499,\n",
       " 507,\n",
       " 521,\n",
       " 526,\n",
       " 527,\n",
       " 545,\n",
       " 548,\n",
       " 555,\n",
       " 556,\n",
       " 578,\n",
       " 580,\n",
       " 602,\n",
       " 611,\n",
       " 614,\n",
       " 616,\n",
       " 639,\n",
       " 640,\n",
       " 650,\n",
       " 661,\n",
       " 662,\n",
       " 692,\n",
       " 707,\n",
       " 715,\n",
       " 717,\n",
       " 752,\n",
       " 776,\n",
       " 821,\n",
       " 836,\n",
       " 843,\n",
       " 900,\n",
       " 905,\n",
       " 934,\n",
       " 984,\n",
       " 993,\n",
       " 1025,\n",
       " 1026,\n",
       " 1058,\n",
       " 1128,\n",
       " 1203,\n",
       " 1488}"
      ]
     },
     "execution_count": 175,
     "metadata": {},
     "output_type": "execute_result"
    }
   ],
   "source": [
    "set(data['Площадь магазина'])"
   ]
  },
  {
   "cell_type": "markdown",
   "metadata": {},
   "source": [
    "Признак 'Площадь магазина' имеет странные значения, которые вызывают вопросы. Наверяка есть магазины с такой большой площадь, но значение 1488 требует отдельного внимания. Есть факт, что магазин с такой площадью существует или это клиент сделал специально и через данные что-то хотел сказать?"
   ]
  },
  {
   "cell_type": "code",
   "execution_count": 176,
   "metadata": {},
   "outputs": [
    {
     "data": {
      "text/plain": [
       "{nan,\n",
       " nan,\n",
       " nan,\n",
       " nan,\n",
       " nan,\n",
       " nan,\n",
       " nan,\n",
       " nan,\n",
       " nan,\n",
       " nan,\n",
       " nan,\n",
       " nan,\n",
       " nan,\n",
       " nan,\n",
       " nan,\n",
       " nan,\n",
       " 1600.0,\n",
       " 3600.0,\n",
       " 5700.0,\n",
       " 18000.0,\n",
       " 19000.0,\n",
       " 20000.0,\n",
       " 32845.0,\n",
       " 34400.0,\n",
       " 42000.0,\n",
       " 63000.0,\n",
       " 103441.0,\n",
       " 113163.0,\n",
       " 127000.0,\n",
       " nan,\n",
       " nan,\n",
       " nan,\n",
       " nan,\n",
       " nan,\n",
       " nan,\n",
       " nan,\n",
       " nan,\n",
       " 700.0,\n",
       " 2887.0,\n",
       " 3400.0,\n",
       " 3800.0,\n",
       " 4100.0,\n",
       " 4848.0,\n",
       " 5400.0,\n",
       " 5410.0,\n",
       " 6400.0,\n",
       " 7000.0,\n",
       " 7200.0,\n",
       " 8000.0,\n",
       " 9000.0,\n",
       " 10000.0,\n",
       " 11100.0,\n",
       " 12000.0,\n",
       " 13000.0,\n",
       " 14500.0,\n",
       " 15000.0,\n",
       " 16000.0,\n",
       " 17700.0,\n",
       " 19200.0,\n",
       " 20720.0,\n",
       " 21000.0,\n",
       " 21800.0,\n",
       " 25300.0,\n",
       " 25340.0,\n",
       " 28280.0,\n",
       " 28324.0,\n",
       " 30000.0,\n",
       " 31500.0,\n",
       " 32000.0,\n",
       " 32500.0,\n",
       " 35000.0,\n",
       " 36000.0,\n",
       " 36500.0,\n",
       " 37000.0,\n",
       " 38150.0,\n",
       " 38700.0,\n",
       " 40000.0,\n",
       " 40500.0,\n",
       " 43000.0,\n",
       " 44270.0,\n",
       " 44750.0,\n",
       " 46400.0,\n",
       " 46800.0,\n",
       " 50375.0,\n",
       " 50380.0,\n",
       " 50890.0,\n",
       " 51000.0,\n",
       " 51200.0,\n",
       " 54500.0,\n",
       " 56000.0,\n",
       " 57000.0,\n",
       " 57430.0,\n",
       " 57470.0,\n",
       " 60000.0,\n",
       " 60007.0,\n",
       " 62000.0,\n",
       " 62711.0,\n",
       " 63750.0,\n",
       " 69320.0,\n",
       " 75000.0,\n",
       " 80000.0,\n",
       " 92000.0,\n",
       " 101000.0,\n",
       " 102000.0,\n",
       " 103500.0,\n",
       " 105000.0,\n",
       " 112279.0,\n",
       " 126000.0,\n",
       " 132730.0,\n",
       " 145000.0,\n",
       " nan,\n",
       " nan,\n",
       " nan,\n",
       " nan,\n",
       " 100000.0,\n",
       " nan,\n",
       " nan,\n",
       " nan,\n",
       " 120000.0,\n",
       " 127149.0,\n",
       " 140000.0,\n",
       " 141500.0,\n",
       " 167680.0,\n",
       " 179423.0,\n",
       " 209000.0,\n",
       " 210600.0,\n",
       " 225000.0,\n",
       " 227000.0,\n",
       " 396000.0,\n",
       " nan,\n",
       " nan,\n",
       " nan,\n",
       " 74000.0,\n",
       " nan,\n",
       " nan,\n",
       " 85840.0,\n",
       " 115000.0,\n",
       " 180500.0,\n",
       " nan,\n",
       " nan,\n",
       " 94000.0,\n",
       " 95000.0,\n",
       " 124700.0,\n",
       " 137000.0,\n",
       " 180000.0,\n",
       " nan,\n",
       " nan,\n",
       " nan,\n",
       " nan,\n",
       " 1532.0,\n",
       " 1917.0,\n",
       " 2000.0,\n",
       " 3500.0,\n",
       " 4000.0,\n",
       " 4500.0,\n",
       " 6000.0,\n",
       " 6500.0,\n",
       " 7600.0,\n",
       " 12700.0,\n",
       " 15332.0,\n",
       " 19834.0,\n",
       " 23000.0,\n",
       " 25000.0,\n",
       " 26000.0,\n",
       " 27000.0,\n",
       " 28000.0,\n",
       " 32200.0,\n",
       " 44000.0,\n",
       " 47600.0,\n",
       " 48000.0,\n",
       " 50530.0,\n",
       " 55755.0,\n",
       " 64000.0,\n",
       " 65000.0,\n",
       " 68000.0,\n",
       " 69560.0,\n",
       " 70000.0,\n",
       " 82394.0,\n",
       " 86000.0,\n",
       " 90000.0,\n",
       " 93000.0,\n",
       " 95600.0,\n",
       " 96651.0,\n",
       " 98800.0,\n",
       " 105350.0,\n",
       " 107000.0,\n",
       " 125300.0,\n",
       " 127850.0,\n",
       " 130000.0,\n",
       " 131000.0,\n",
       " 134000.0,\n",
       " 150000.0,\n",
       " 154000.0,\n",
       " 177000.0,\n",
       " 178000.0,\n",
       " 192000.0,\n",
       " 220000.0,\n",
       " 240000.0,\n",
       " 241000.0,\n",
       " 285000.0,\n",
       " 390000.0}"
      ]
     },
     "execution_count": 176,
     "metadata": {},
     "output_type": "execute_result"
    }
   ],
   "source": [
    "set(data['Площадь ТЦ'])"
   ]
  },
  {
   "cell_type": "markdown",
   "metadata": {},
   "source": [
    "Признак 'Площадь ТЦ' выглядит вполне нормально, кроме пропусков. Необходимо узнать у клиента есть ли возможность дополнить эту недостающую информацию."
   ]
  },
  {
   "cell_type": "code",
   "execution_count": 177,
   "metadata": {},
   "outputs": [
    {
     "data": {
      "text/plain": [
       "{1, 2, 20, datetime.datetime(2019, 5, 2, 0, 0), 3, 4.5, nan, 'цоколь'}"
      ]
     },
     "execution_count": 177,
     "metadata": {},
     "output_type": "execute_result"
    }
   ],
   "source": [
    "set(data['Этаж'])"
   ]
  },
  {
   "cell_type": "markdown",
   "metadata": {},
   "source": [
    "Признак 'Этаж' имеет некорректные значения в виде даты"
   ]
  },
  {
   "cell_type": "code",
   "execution_count": 178,
   "metadata": {},
   "outputs": [
    {
     "data": {
      "text/plain": [
       "64"
      ]
     },
     "execution_count": 178,
     "metadata": {},
     "output_type": "execute_result"
    }
   ],
   "source": [
    "data['Заполненность ТЦ'].shape[0] - 182"
   ]
  },
  {
   "cell_type": "code",
   "execution_count": 179,
   "metadata": {},
   "outputs": [
    {
     "data": {
      "text/plain": [
       "26.01626016260163"
      ]
     },
     "execution_count": 179,
     "metadata": {},
     "output_type": "execute_result"
    }
   ],
   "source": [
    "64/246*100"
   ]
  },
  {
   "cell_type": "markdown",
   "metadata": {},
   "source": [
    "Признак 'Заполненность ТЦ', имеет 26% пропущенных значений. Стоит спросить появиться ли информация о заполненности."
   ]
  },
  {
   "cell_type": "code",
   "execution_count": 180,
   "metadata": {},
   "outputs": [
    {
     "data": {
      "text/plain": [
       "<AxesSubplot:ylabel='Толока'>"
      ]
     },
     "execution_count": 180,
     "metadata": {},
     "output_type": "execute_result"
    },
    {
     "data": {
      "image/png": "[encoded data removed]",
      "text/plain": [
       "<Figure size 864x648 with 1 Axes>"
      ]
     },
     "metadata": {},
     "output_type": "display_data"
    }
   ],
   "source": [
    "sns.scatterplot(data=data['Толока'])"
   ]
  },
  {
   "cell_type": "code",
   "execution_count": 181,
   "metadata": {},
   "outputs": [
    {
     "name": "stderr",
     "output_type": "stream",
     "text": [
      "/opt/anaconda3/lib/python3.8/site-packages/seaborn/distributions.py:2551: FutureWarning: `distplot` is a deprecated function and will be removed in a future version. Please adapt your code to use either `displot` (a figure-level function with similar flexibility) or `histplot` (an axes-level function for histograms).\n",
      "  warnings.warn(msg, FutureWarning)\n"
     ]
    },
    {
     "data": {
      "text/plain": [
       "<AxesSubplot:xlabel='Толока', ylabel='Density'>"
      ]
     },
     "execution_count": 181,
     "metadata": {},
     "output_type": "execute_result"
    },
    {
     "data": {
      "image/png": "[encoded data removed]",
      "text/plain": [
       "<Figure size 864x648 with 1 Axes>"
      ]
     },
     "metadata": {},
     "output_type": "display_data"
    }
   ],
   "source": [
    "sns.distplot(data['Толока'])"
   ]
  },
  {
   "cell_type": "code",
   "execution_count": 182,
   "metadata": {},
   "outputs": [
    {
     "data": {
      "text/plain": [
       "<AxesSubplot:xlabel='Толока', ylabel='Count'>"
      ]
     },
     "execution_count": 182,
     "metadata": {},
     "output_type": "execute_result"
    },
    {
     "data": {
      "image/png": "[encoded data removed]",
      "text/plain": [
       "<Figure size 864x648 with 1 Axes>"
      ]
     },
     "metadata": {},
     "output_type": "display_data"
    }
   ],
   "source": [
    "sns.histplot(data=data['Толока'])"
   ]
  },
  {
   "cell_type": "markdown",
   "metadata": {},
   "source": [
    "Распределение признака 'Толока' похоже на Пуассоновское. Я не совсем понимаю, что может означать этот признак, возможно это коэффициент работников магазина, либо значение того как покупатели делают покупки. "
   ]
  },
  {
   "cell_type": "code",
   "execution_count": 183,
   "metadata": {},
   "outputs": [
    {
     "data": {
      "text/plain": [
       "<AxesSubplot:xlabel='Люкс', ylabel='Count'>"
      ]
     },
     "execution_count": 183,
     "metadata": {},
     "output_type": "execute_result"
    },
    {
     "data": {
      "image/png": "[encoded data removed]",
      "text/plain": [
       "<Figure size 864x648 with 1 Axes>"
      ]
     },
     "metadata": {},
     "output_type": "display_data"
    }
   ],
   "source": [
    "sns.histplot(data=data['Люкс'])"
   ]
  },
  {
   "cell_type": "markdown",
   "metadata": {},
   "source": [
    "Признак 'Люкс' выглядит вполне нормально. Но тоже сложно интерпретировать эти значения. Люкс - это значение насколько цены в магазине выше из-за наценки за бренды которые там продаются, либо наценки за качество."
   ]
  },
  {
   "cell_type": "markdown",
   "metadata": {},
   "source": [
    "Главный вопрос из-за количества объектов в выборке. Точно ли данной компании необходимо МЛ решение, потому что-то не похоже, что у них имеется достаточное количество данных для обучения моделей. Я понимаю, что этот датасет только для тестового задания)"
   ]
  }
 ],
 "metadata": {
  "kernelspec": {
   "display_name": "Python 3",
   "language": "python",
   "name": "python3"
  },
  "language_info": {
   "codemirror_mode": {
    "name": "ipython",
    "version": 3
   },
   "file_extension": ".py",
   "mimetype": "text/x-python",
   "name": "python",
   "nbconvert_exporter": "python",
   "pygments_lexer": "ipython3",
   "version": "3.8.5"
  }
 },
 "nbformat": 4,
 "nbformat_minor": 4
}
