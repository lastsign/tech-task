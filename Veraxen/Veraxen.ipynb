{
 "cells": [
  {
   "cell_type": "code",
   "execution_count": 1,
   "metadata": {},
   "outputs": [],
   "source": [
    "import pandas as pd\n",
    "import numpy as np"
   ]
  },
  {
   "cell_type": "code",
   "execution_count": 2,
   "metadata": {},
   "outputs": [],
   "source": [
    "ecpm = pd.read_csv('ecpm_aggr.csv')"
   ]
  },
  {
   "cell_type": "code",
   "execution_count": 3,
   "metadata": {},
   "outputs": [],
   "source": [
    "events = pd.read_csv('events_data.csv')"
   ]
  },
  {
   "cell_type": "code",
   "execution_count": 7,
   "metadata": {},
   "outputs": [
    {
     "data": {
      "text/html": [
       "<div>\n",
       "<style scoped>\n",
       "    .dataframe tbody tr th:only-of-type {\n",
       "        vertical-align: middle;\n",
       "    }\n",
       "\n",
       "    .dataframe tbody tr th {\n",
       "        vertical-align: top;\n",
       "    }\n",
       "\n",
       "    .dataframe thead th {\n",
       "        text-align: right;\n",
       "    }\n",
       "</style>\n",
       "<table border=\"1\" class=\"dataframe\">\n",
       "  <thead>\n",
       "    <tr style=\"text-align: right;\">\n",
       "      <th></th>\n",
       "      <th>0</th>\n",
       "      <th>1</th>\n",
       "      <th>2</th>\n",
       "      <th>3</th>\n",
       "      <th>4</th>\n",
       "    </tr>\n",
       "  </thead>\n",
       "  <tbody>\n",
       "    <tr>\n",
       "      <th>Unnamed: 0</th>\n",
       "      <td>0</td>\n",
       "      <td>1</td>\n",
       "      <td>2</td>\n",
       "      <td>3</td>\n",
       "      <td>4</td>\n",
       "    </tr>\n",
       "    <tr>\n",
       "      <th>ecpm_value</th>\n",
       "      <td>0.757282</td>\n",
       "      <td>0.788831</td>\n",
       "      <td>0.796442</td>\n",
       "      <td>0.807773</td>\n",
       "      <td>0.747525</td>\n",
       "    </tr>\n",
       "    <tr>\n",
       "      <th>date</th>\n",
       "      <td>2021-06-04 13:30:27.883259</td>\n",
       "      <td>2021-06-05 13:30:27.883259</td>\n",
       "      <td>2021-06-06 13:30:27.883259</td>\n",
       "      <td>2021-06-07 13:30:27.883259</td>\n",
       "      <td>2021-06-08 13:30:27.883259</td>\n",
       "    </tr>\n",
       "    <tr>\n",
       "      <th>app</th>\n",
       "      <td>awesome app A</td>\n",
       "      <td>awesome app A</td>\n",
       "      <td>awesome app A</td>\n",
       "      <td>awesome app A</td>\n",
       "      <td>awesome app A</td>\n",
       "    </tr>\n",
       "    <tr>\n",
       "      <th>country</th>\n",
       "      <td>US</td>\n",
       "      <td>US</td>\n",
       "      <td>US</td>\n",
       "      <td>US</td>\n",
       "      <td>US</td>\n",
       "    </tr>\n",
       "    <tr>\n",
       "      <th>ecpm_type</th>\n",
       "      <td>banner</td>\n",
       "      <td>banner</td>\n",
       "      <td>banner</td>\n",
       "      <td>banner</td>\n",
       "      <td>banner</td>\n",
       "    </tr>\n",
       "  </tbody>\n",
       "</table>\n",
       "</div>"
      ],
      "text/plain": [
       "                                     0                           1  \\\n",
       "Unnamed: 0                           0                           1   \n",
       "ecpm_value                    0.757282                    0.788831   \n",
       "date        2021-06-04 13:30:27.883259  2021-06-05 13:30:27.883259   \n",
       "app                      awesome app A               awesome app A   \n",
       "country                             US                          US   \n",
       "ecpm_type                       banner                      banner   \n",
       "\n",
       "                                     2                           3  \\\n",
       "Unnamed: 0                           2                           3   \n",
       "ecpm_value                    0.796442                    0.807773   \n",
       "date        2021-06-06 13:30:27.883259  2021-06-07 13:30:27.883259   \n",
       "app                      awesome app A               awesome app A   \n",
       "country                             US                          US   \n",
       "ecpm_type                       banner                      banner   \n",
       "\n",
       "                                     4  \n",
       "Unnamed: 0                           4  \n",
       "ecpm_value                    0.747525  \n",
       "date        2021-06-08 13:30:27.883259  \n",
       "app                      awesome app A  \n",
       "country                             US  \n",
       "ecpm_type                       banner  "
      ]
     },
     "execution_count": 7,
     "metadata": {},
     "output_type": "execute_result"
    }
   ],
   "source": [
    "ecpm.head().T"
   ]
  },
  {
   "cell_type": "code",
   "execution_count": 8,
   "metadata": {},
   "outputs": [
    {
     "data": {
      "text/plain": [
       "{'banner', 'interstitial'}"
      ]
     },
     "execution_count": 8,
     "metadata": {},
     "output_type": "execute_result"
    }
   ],
   "source": [
    "set(ecpm['ecpm_type'])"
   ]
  },
  {
   "cell_type": "code",
   "execution_count": 9,
   "metadata": {},
   "outputs": [
    {
     "data": {
      "text/plain": [
       "{'awesome app A', 'brilliant app B'}"
      ]
     },
     "execution_count": 9,
     "metadata": {},
     "output_type": "execute_result"
    }
   ],
   "source": [
    "set(ecpm['app'])"
   ]
  },
  {
   "cell_type": "code",
   "execution_count": 25,
   "metadata": {},
   "outputs": [
    {
     "data": {
      "text/plain": [
       "0       0.757282\n",
       "1       0.788831\n",
       "2       0.796442\n",
       "3       0.807773\n",
       "4       0.747525\n",
       "          ...   \n",
       "6115    9.126382\n",
       "6116    9.451709\n",
       "6117    8.875883\n",
       "6118    8.879324\n",
       "6119    9.064346\n",
       "Name: ecpm_value, Length: 6120, dtype: float64"
      ]
     },
     "execution_count": 25,
     "metadata": {},
     "output_type": "execute_result"
    }
   ],
   "source": [
    "ecpm['ecpm_value']"
   ]
  },
  {
   "cell_type": "code",
   "execution_count": null,
   "metadata": {},
   "outputs": [],
   "source": [
    "ecpm['ecpm_value'].mode"
   ]
  },
  {
   "cell_type": "code",
   "execution_count": null,
   "metadata": {},
   "outputs": [],
   "source": [
    "ecpm['ecpm_value'].mode"
   ]
  },
  {
   "cell_type": "code",
   "execution_count": null,
   "metadata": {},
   "outputs": [],
   "source": []
  },
  {
   "cell_type": "code",
   "execution_count": null,
   "metadata": {},
   "outputs": [],
   "source": []
  },
  {
   "cell_type": "code",
   "execution_count": null,
   "metadata": {},
   "outputs": [],
   "source": []
  },
  {
   "cell_type": "code",
   "execution_count": null,
   "metadata": {},
   "outputs": [],
   "source": []
  },
  {
   "cell_type": "code",
   "execution_count": 6,
   "metadata": {},
   "outputs": [
    {
     "data": {
      "text/html": [
       "<div>\n",
       "<style scoped>\n",
       "    .dataframe tbody tr th:only-of-type {\n",
       "        vertical-align: middle;\n",
       "    }\n",
       "\n",
       "    .dataframe tbody tr th {\n",
       "        vertical-align: top;\n",
       "    }\n",
       "\n",
       "    .dataframe thead th {\n",
       "        text-align: right;\n",
       "    }\n",
       "</style>\n",
       "<table border=\"1\" class=\"dataframe\">\n",
       "  <thead>\n",
       "    <tr style=\"text-align: right;\">\n",
       "      <th></th>\n",
       "      <th>0</th>\n",
       "      <th>1</th>\n",
       "      <th>2</th>\n",
       "      <th>3</th>\n",
       "      <th>4</th>\n",
       "    </tr>\n",
       "  </thead>\n",
       "  <tbody>\n",
       "    <tr>\n",
       "      <th>Unnamed: 0</th>\n",
       "      <td>0</td>\n",
       "      <td>1</td>\n",
       "      <td>2</td>\n",
       "      <td>3</td>\n",
       "      <td>4</td>\n",
       "    </tr>\n",
       "    <tr>\n",
       "      <th>date</th>\n",
       "      <td>2021-06-30 14:25:35.063117</td>\n",
       "      <td>2021-06-30 14:25:35.063117</td>\n",
       "      <td>2021-06-30 14:25:35.063117</td>\n",
       "      <td>2021-06-30 14:25:35.063117</td>\n",
       "      <td>2021-06-30 14:25:35.063117</td>\n",
       "    </tr>\n",
       "    <tr>\n",
       "      <th>app</th>\n",
       "      <td>awesome app A</td>\n",
       "      <td>awesome app A</td>\n",
       "      <td>awesome app A</td>\n",
       "      <td>awesome app A</td>\n",
       "      <td>awesome app A</td>\n",
       "    </tr>\n",
       "    <tr>\n",
       "      <th>version</th>\n",
       "      <td>1</td>\n",
       "      <td>1</td>\n",
       "      <td>1</td>\n",
       "      <td>1</td>\n",
       "      <td>1</td>\n",
       "    </tr>\n",
       "    <tr>\n",
       "      <th>network</th>\n",
       "      <td>AdNetwork P</td>\n",
       "      <td>AdNetwork P</td>\n",
       "      <td>AdNetwork P</td>\n",
       "      <td>AdNetwork P</td>\n",
       "      <td>AdNetwork P</td>\n",
       "    </tr>\n",
       "    <tr>\n",
       "      <th>event_type</th>\n",
       "      <td>interstitial</td>\n",
       "      <td>interstitial</td>\n",
       "      <td>interstitial</td>\n",
       "      <td>interstitial</td>\n",
       "      <td>interstitial</td>\n",
       "    </tr>\n",
       "    <tr>\n",
       "      <th>installs</th>\n",
       "      <td>95897</td>\n",
       "      <td>95897</td>\n",
       "      <td>95897</td>\n",
       "      <td>95897</td>\n",
       "      <td>95897</td>\n",
       "    </tr>\n",
       "    <tr>\n",
       "      <th>days_after_installs</th>\n",
       "      <td>0</td>\n",
       "      <td>1</td>\n",
       "      <td>2</td>\n",
       "      <td>3</td>\n",
       "      <td>4</td>\n",
       "    </tr>\n",
       "    <tr>\n",
       "      <th>country</th>\n",
       "      <td>US</td>\n",
       "      <td>US</td>\n",
       "      <td>US</td>\n",
       "      <td>US</td>\n",
       "      <td>US</td>\n",
       "    </tr>\n",
       "    <tr>\n",
       "      <th>events_amount</th>\n",
       "      <td>757128</td>\n",
       "      <td>799973</td>\n",
       "      <td>655098</td>\n",
       "      <td>713709</td>\n",
       "      <td>588658</td>\n",
       "    </tr>\n",
       "  </tbody>\n",
       "</table>\n",
       "</div>"
      ],
      "text/plain": [
       "                                              0                           1  \\\n",
       "Unnamed: 0                                    0                           1   \n",
       "date                 2021-06-30 14:25:35.063117  2021-06-30 14:25:35.063117   \n",
       "app                               awesome app A               awesome app A   \n",
       "version                                       1                           1   \n",
       "network                             AdNetwork P                 AdNetwork P   \n",
       "event_type                         interstitial                interstitial   \n",
       "installs                                  95897                       95897   \n",
       "days_after_installs                           0                           1   \n",
       "country                                      US                          US   \n",
       "events_amount                            757128                      799973   \n",
       "\n",
       "                                              2                           3  \\\n",
       "Unnamed: 0                                    2                           3   \n",
       "date                 2021-06-30 14:25:35.063117  2021-06-30 14:25:35.063117   \n",
       "app                               awesome app A               awesome app A   \n",
       "version                                       1                           1   \n",
       "network                             AdNetwork P                 AdNetwork P   \n",
       "event_type                         interstitial                interstitial   \n",
       "installs                                  95897                       95897   \n",
       "days_after_installs                           2                           3   \n",
       "country                                      US                          US   \n",
       "events_amount                            655098                      713709   \n",
       "\n",
       "                                              4  \n",
       "Unnamed: 0                                    4  \n",
       "date                 2021-06-30 14:25:35.063117  \n",
       "app                               awesome app A  \n",
       "version                                       1  \n",
       "network                             AdNetwork P  \n",
       "event_type                         interstitial  \n",
       "installs                                  95897  \n",
       "days_after_installs                           4  \n",
       "country                                      US  \n",
       "events_amount                            588658  "
      ]
     },
     "execution_count": 6,
     "metadata": {},
     "output_type": "execute_result"
    }
   ],
   "source": [
    "events.head().T"
   ]
  },
  {
   "cell_type": "code",
   "execution_count": 12,
   "metadata": {},
   "outputs": [
    {
     "data": {
      "text/plain": [
       "{'awesome app A', 'brilliant app B'}"
      ]
     },
     "execution_count": 12,
     "metadata": {},
     "output_type": "execute_result"
    }
   ],
   "source": [
    "set(events['app'])"
   ]
  },
  {
   "cell_type": "code",
   "execution_count": 13,
   "metadata": {},
   "outputs": [
    {
     "data": {
      "text/plain": [
       "{'AdNetwork P', 'AdNetwork Q', 'AdNetwork S'}"
      ]
     },
     "execution_count": 13,
     "metadata": {},
     "output_type": "execute_result"
    }
   ],
   "source": [
    "set(events['network'])"
   ]
  },
  {
   "cell_type": "code",
   "execution_count": 14,
   "metadata": {},
   "outputs": [
    {
     "data": {
      "text/plain": [
       "{'banner', 'interstitial'}"
      ]
     },
     "execution_count": 14,
     "metadata": {},
     "output_type": "execute_result"
    }
   ],
   "source": [
    "set(events['event_type'])"
   ]
  }
 ],
 "metadata": {
  "kernelspec": {
   "display_name": "Python 3",
   "language": "python",
   "name": "python3"
  },
  "language_info": {
   "codemirror_mode": {
    "name": "ipython",
    "version": 3
   },
   "file_extension": ".py",
   "mimetype": "text/x-python",
   "name": "python",
   "nbconvert_exporter": "python",
   "pygments_lexer": "ipython3",
   "version": "3.8.5"
  }
 },
 "nbformat": 4,
 "nbformat_minor": 4
}
